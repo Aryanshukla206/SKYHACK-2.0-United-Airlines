{
  "cells": [
    {
      "cell_type": "code",
      "execution_count": null,
      "metadata": {
        "colab": {
          "base_uri": "https://localhost:8080/"
        },
        "id": "AdAs0npnWZBO",
        "outputId": "fe9921b8-1c52-497e-b1c0-2000139122e0"
      },
      "outputs": [
        {
          "output_type": "stream",
          "name": "stdout",
          "text": [
            "Mounted at /content/drive\n"
          ]
        }
      ],
      "source": [
        "from google.colab import drive\n",
        "drive.mount('/content/drive')\n"
      ]
    },
    {
      "cell_type": "code",
      "execution_count": null,
      "metadata": {
        "id": "1r8o9pWUarLh"
      },
      "outputs": [],
      "source": [
        "import pandas as pd\n",
        "import os"
      ]
    },
    {
      "cell_type": "code",
      "execution_count": null,
      "metadata": {
        "id": "mZuNLhAEatho"
      },
      "outputs": [],
      "source": [
        "folder_path = '/content/drive/My Drive/United Airlines'"
      ]
    },
    {
      "cell_type": "code",
      "execution_count": null,
      "metadata": {
        "id": "G0T70R-tXmtH"
      },
      "outputs": [],
      "source": [
        "f1 = os.path.join(folder_path, 'callsf0d4f5a.csv')\n",
        "f2 = os.path.join(folder_path, 'customers2afd6ea.csv')\n",
        "f3 = os.path.join(folder_path, 'reason18315ff.csv')\n",
        "f4 = os.path.join(folder_path, 'sentiment_statisticscc1e57a.csv')\n",
        "f5 = os.path.join(folder_path, 'testbc7185d.csv')\n",
        "try:\n",
        "  call_df = pd.read_csv(f1)\n",
        "  customer_df = pd.read_csv(f2)\n",
        "  reason_df = pd.read_csv(f3)\n",
        "  sentiment_df = pd.read_csv(f4)\n",
        "  test_df = pd.read_csv(f5)\n",
        "except FileNotFoundError:\n",
        "  print(f\"File not found\")\n"
      ]
    },
    {
      "cell_type": "markdown",
      "source": [
        "#Cleaning Primary_call_Reasons by NLP techniques"
      ],
      "metadata": {
        "id": "keo5YCRlfYz5"
      }
    },
    {
      "cell_type": "code",
      "source": [
        "reason_df['primary_call_reason'] = reason_df['primary_call_reason'].str.replace('[^\\w\\s]', ' ', regex=True)"
      ],
      "metadata": {
        "id": "Mw1YsjV6HtlD"
      },
      "execution_count": null,
      "outputs": []
    },
    {
      "cell_type": "code",
      "source": [
        "reason_df['primary_call_reason'] = reason_df['primary_call_reason'].str.strip()"
      ],
      "metadata": {
        "id": "dhlJ2S9SHynS"
      },
      "execution_count": null,
      "outputs": []
    },
    {
      "cell_type": "code",
      "source": [
        "\n",
        "reason_df['primary_call_reason'] = reason_df['primary_call_reason'].str.replace('\\s+', ' ', regex=True)"
      ],
      "metadata": {
        "id": "QAU2aiLtH11z"
      },
      "execution_count": null,
      "outputs": []
    },
    {
      "cell_type": "code",
      "source": [
        "reason_df['primary_call_reason'] = reason_df['primary_call_reason'].str.lower()"
      ],
      "metadata": {
        "id": "uUSjAvd8H3aS"
      },
      "execution_count": null,
      "outputs": []
    },
    {
      "cell_type": "code",
      "source": [
        "import re\n",
        "import nltk\n",
        "from nltk.corpus import stopwords\n",
        "\n",
        "nltk.download('stopwords')\n",
        "stop_words = set(stopwords.words('english'))\n",
        "def remove_stopwords_and_conjunctions(text):\n",
        "    words = text.split()\n",
        "    filtered_words = [word for word in words if word not in stop_words]\n",
        "    return ' '.join(filtered_words)\n",
        "\n",
        "reason_df['primary_call_reason'] = reason_df['primary_call_reason'].apply(remove_stopwords_and_conjunctions)"
      ],
      "metadata": {
        "id": "qyepfkZhH35C",
        "colab": {
          "base_uri": "https://localhost:8080/"
        },
        "outputId": "02609b4a-811d-44aa-b778-e26ec50f9bdb"
      },
      "execution_count": null,
      "outputs": [
        {
          "output_type": "stream",
          "name": "stderr",
          "text": [
            "[nltk_data] Downloading package stopwords to /root/nltk_data...\n",
            "[nltk_data]   Unzipping corpora/stopwords.zip.\n"
          ]
        }
      ]
    },
    {
      "cell_type": "code",
      "execution_count": null,
      "metadata": {
        "colab": {
          "base_uri": "https://localhost:8080/"
        },
        "id": "3Gij4bnDbbF7",
        "outputId": "f2425f65-cf92-4891-8df6-c058cef7511b"
      },
      "outputs": [
        {
          "output_type": "stream",
          "name": "stdout",
          "text": [
            "      call_id     AHT    AST\n",
            "0  4667960400  2280.0  420.0\n",
            "1  1122072124   900.0  180.0\n",
            "2  6834291559  1620.0  480.0\n",
            "3  2266439882   720.0  300.0\n",
            "4  1211603231  1140.0  600.0\n"
          ]
        }
      ],
      "source": [
        "# Convert datetime columns to pandas datetime\n",
        "call_df['call_start_datetime'] = pd.to_datetime(call_df['call_start_datetime'])\n",
        "call_df['agent_assigned_datetime'] = pd.to_datetime(call_df['agent_assigned_datetime'])\n",
        "call_df['call_end_datetime'] = pd.to_datetime(call_df['call_end_datetime'])\n",
        "\n",
        "# Calculate AHT (Average Handle Time) and AST (Average Speed to Answer)\n",
        "call_df['AHT'] = (call_df['call_end_datetime'] - call_df['call_start_datetime']).dt.total_seconds()\n",
        "call_df['AST'] = (call_df['agent_assigned_datetime'] - call_df['call_start_datetime']).dt.total_seconds()\n",
        "\n",
        "# Preview the newly added columns\n",
        "print(call_df[['call_id', 'AHT', 'AST']].head())\n"
      ]
    },
    {
      "cell_type": "code",
      "execution_count": null,
      "metadata": {
        "colab": {
          "base_uri": "https://localhost:8080/"
        },
        "id": "oiqNl08VcihI",
        "outputId": "4e5f74d2-8e44-4acf-ab03-fa3cb03669db"
      },
      "outputs": [
        {
          "output_type": "stream",
          "name": "stdout",
          "text": [
            "      call_id  customer_id  agent_id call_start_datetime  \\\n",
            "0  4667960400   2033123310    963118 2024-07-31 23:56:00   \n",
            "1  1122072124   8186702651    519057 2024-08-01 00:03:00   \n",
            "2  6834291559   2416856629    158319 2024-07-31 23:59:00   \n",
            "3  2266439882   1154544516    488324 2024-08-01 00:05:00   \n",
            "4  1211603231   5214456437    721730 2024-08-01 00:04:00   \n",
            "\n",
            "  agent_assigned_datetime   call_end_datetime  \\\n",
            "0     2024-08-01 00:03:00 2024-08-01 00:34:00   \n",
            "1     2024-08-01 00:06:00 2024-08-01 00:18:00   \n",
            "2     2024-08-01 00:07:00 2024-08-01 00:26:00   \n",
            "3     2024-08-01 00:10:00 2024-08-01 00:17:00   \n",
            "4     2024-08-01 00:14:00 2024-08-01 00:23:00   \n",
            "\n",
            "                                     call_transcript     AHT    AST  \\\n",
            "0  \\n\\nAgent: Thank you for calling United Airlin...  2280.0  420.0   \n",
            "1  \\n\\nAgent: Thank you for calling United Airlin...   900.0  180.0   \n",
            "2  \\n\\nAgent: Thank you for calling United Airlin...  1620.0  480.0   \n",
            "3  \\n\\nAgent: Thank you for calling United Airlin...   720.0  300.0   \n",
            "4  \\n\\nAgent: Thank you for calling United Airlin...  1140.0  600.0   \n",
            "\n",
            "  agent_tone customer_tone  average_sentiment  silence_percent_average  \\\n",
            "0    neutral         angry              -0.04                     0.39   \n",
            "1       calm       neutral               0.02                     0.35   \n",
            "2    neutral        polite              -0.13                     0.32   \n",
            "3    neutral    frustrated              -0.20                     0.20   \n",
            "4    neutral        polite              -0.05                     0.35   \n",
            "\n",
            "  primary_call_reason      customer_name  elite_level_code  \n",
            "0    voluntary cancel     Matthew Foster               4.0  \n",
            "1             booking      Tammy Walters               NaN  \n",
            "2              irrops      Jeffery Dixon               NaN  \n",
            "3             upgrade      David Wilkins               2.0  \n",
            "4             seating  Elizabeth Daniels               0.0  \n"
          ]
        }
      ],
      "source": [
        "# Merging all dataframes\n",
        "merged_df = call_df.merge(sentiment_df, on=['call_id', 'agent_id'], how='left')\\\n",
        "                   .merge(reason_df, on='call_id', how='left')\\\n",
        "                   .merge(customer_df, on='customer_id', how='left')\n",
        "\n",
        "# Preview merged data\n",
        "print(merged_df.head())\n"
      ]
    },
    {
      "cell_type": "markdown",
      "source": [
        "#Cleaning transcripts by appying NLP techniques"
      ],
      "metadata": {
        "id": "jQrR5Etfcyja"
      }
    },
    {
      "cell_type": "code",
      "execution_count": null,
      "metadata": {
        "colab": {
          "base_uri": "https://localhost:8080/"
        },
        "id": "KGAN6KxN3rdC",
        "outputId": "76abba6e-34ca-4897-a001-087597b21da9"
      },
      "outputs": [
        {
          "output_type": "stream",
          "name": "stderr",
          "text": [
            "[nltk_data] Downloading package stopwords to /root/nltk_data...\n",
            "[nltk_data]   Package stopwords is already up-to-date!\n",
            "[nltk_data] Downloading package punkt to /root/nltk_data...\n",
            "[nltk_data]   Package punkt is already up-to-date!\n"
          ]
        },
        {
          "output_type": "stream",
          "name": "stdout",
          "text": [
            "                                         call_transcript  \\\n",
            "0      \\n\\nAgent: Thank you for calling United Airlin...   \n",
            "1      \\n\\nAgent: Thank you for calling United Airlin...   \n",
            "2      \\n\\nAgent: Thank you for calling United Airlin...   \n",
            "3      \\n\\nAgent: Thank you for calling United Airlin...   \n",
            "4      \\n\\nAgent: Thank you for calling United Airlin...   \n",
            "...                                                  ...   \n",
            "71805  \\n\\nAgent: Thank you for calling United Airlin...   \n",
            "71806  \\n\\nAgent: Thank you for calling United Airlin...   \n",
            "71807  \\n\\nAgent: Thank you for calling United Airlin...   \n",
            "71808  \\n\\nAgent: Thank you for calling United Airlin...   \n",
            "71809  \\n\\nAgent: Thank you for calling United Airlin...   \n",
            "\n",
            "                                      cleaned_transcript  \n",
            "0      agent thank calling united airlines customer s...  \n",
            "1      agent thank calling united airlines name sam h...  \n",
            "2      agent thank calling united airlines customer s...  \n",
            "3      agent thank calling united airlines customer s...  \n",
            "4      agent thank calling united airlines customer s...  \n",
            "...                                                  ...  \n",
            "71805  agent thank calling united airlines customer s...  \n",
            "71806  agent thank calling united airlines customer s...  \n",
            "71807  agent thank calling united airlines customer s...  \n",
            "71808  agent thank calling united airlines customer s...  \n",
            "71809  agent thank calling united airlines steve help...  \n",
            "\n",
            "[71810 rows x 2 columns]\n"
          ]
        }
      ],
      "source": [
        "import re\n",
        "import nltk\n",
        "import pandas as pd\n",
        "from nltk.corpus import stopwords\n",
        "from nltk.tokenize import word_tokenize\n",
        "\n",
        "# Download necessary NLTK resources\n",
        "nltk.download('stopwords')\n",
        "nltk.download('punkt')\n",
        "def clean_text(text):\n",
        "    text = text.lower()  # Convert to lowercase\n",
        "    text = re.sub(r'\\d+', '', text)  # Remove numbers\n",
        "    text = re.sub(r'[^\\w\\s]', '', text)  # Remove punctuation\n",
        "    text = word_tokenize(text)  # Tokenize words\n",
        "    text = [word for word in text if word not in stopwords.words('english')]  # Remove stopwords\n",
        "    return ' '.join(text)\n",
        "\n",
        "# Apply the cleaning function to the 'call_transcript' column\n",
        "call_df['cleaned_transcript'] = call_df['call_transcript'].apply(clean_text)\n",
        "\n",
        "# Display the cleaned transcripts\n",
        "print(call_df[['call_transcript', 'cleaned_transcript']])\n"
      ]
    },
    {
      "cell_type": "markdown",
      "source": [
        "#Approach 1 Tried using Visual Language Model Qwen-Vl-utils"
      ],
      "metadata": {
        "id": "3KvvcB-bf604"
      }
    },
    {
      "cell_type": "code",
      "source": [
        "pip install qwen-vl-utils"
      ],
      "metadata": {
        "colab": {
          "base_uri": "https://localhost:8080/"
        },
        "id": "TOlNUnd2CKwJ",
        "outputId": "d18da25e-f246-4ed5-b726-ef254a7a1494"
      },
      "execution_count": null,
      "outputs": [
        {
          "output_type": "stream",
          "name": "stdout",
          "text": [
            "Collecting qwen-vl-utils\n",
            "  Downloading qwen_vl_utils-0.0.8-py3-none-any.whl.metadata (3.6 kB)\n",
            "Collecting av (from qwen-vl-utils)\n",
            "  Downloading av-13.1.0-cp310-cp310-manylinux_2_17_x86_64.manylinux2014_x86_64.whl.metadata (4.4 kB)\n",
            "Requirement already satisfied: packaging in /usr/local/lib/python3.10/dist-packages (from qwen-vl-utils) (24.1)\n",
            "Requirement already satisfied: pillow in /usr/local/lib/python3.10/dist-packages (from qwen-vl-utils) (10.4.0)\n",
            "Requirement already satisfied: requests in /usr/local/lib/python3.10/dist-packages (from qwen-vl-utils) (2.32.3)\n",
            "Requirement already satisfied: charset-normalizer<4,>=2 in /usr/local/lib/python3.10/dist-packages (from requests->qwen-vl-utils) (3.3.2)\n",
            "Requirement already satisfied: idna<4,>=2.5 in /usr/local/lib/python3.10/dist-packages (from requests->qwen-vl-utils) (3.10)\n",
            "Requirement already satisfied: urllib3<3,>=1.21.1 in /usr/local/lib/python3.10/dist-packages (from requests->qwen-vl-utils) (2.2.3)\n",
            "Requirement already satisfied: certifi>=2017.4.17 in /usr/local/lib/python3.10/dist-packages (from requests->qwen-vl-utils) (2024.8.30)\n",
            "Downloading qwen_vl_utils-0.0.8-py3-none-any.whl (5.9 kB)\n",
            "Downloading av-13.1.0-cp310-cp310-manylinux_2_17_x86_64.manylinux2014_x86_64.whl (33.1 MB)\n",
            "\u001b[2K   \u001b[90m━━━━━━━━━━━━━━━━━━━━━━━━━━━━━━━━━━━━━━━━\u001b[0m \u001b[32m33.1/33.1 MB\u001b[0m \u001b[31m43.2 MB/s\u001b[0m eta \u001b[36m0:00:00\u001b[0m\n",
            "\u001b[?25hInstalling collected packages: av, qwen-vl-utils\n",
            "Successfully installed av-13.1.0 qwen-vl-utils-0.0.8\n"
          ]
        }
      ]
    },
    {
      "cell_type": "code",
      "source": [
        "!pip install --upgrade transformers"
      ],
      "metadata": {
        "colab": {
          "base_uri": "https://localhost:8080/",
          "height": 740
        },
        "id": "fOxKu-SXDKug",
        "outputId": "c191bc9d-b268-40b2-8c24-e0e15e3af9ff"
      },
      "execution_count": null,
      "outputs": [
        {
          "output_type": "stream",
          "name": "stdout",
          "text": [
            "Requirement already satisfied: transformers in /usr/local/lib/python3.10/dist-packages (4.44.2)\n",
            "Collecting transformers\n",
            "  Downloading transformers-4.45.2-py3-none-any.whl.metadata (44 kB)\n",
            "\u001b[2K     \u001b[90m━━━━━━━━━━━━━━━━━━━━━━━━━━━━━━━━━━━━━━━━\u001b[0m \u001b[32m44.4/44.4 kB\u001b[0m \u001b[31m1.6 MB/s\u001b[0m eta \u001b[36m0:00:00\u001b[0m\n",
            "\u001b[?25hRequirement already satisfied: filelock in /usr/local/lib/python3.10/dist-packages (from transformers) (3.16.1)\n",
            "Requirement already satisfied: huggingface-hub<1.0,>=0.23.2 in /usr/local/lib/python3.10/dist-packages (from transformers) (0.24.7)\n",
            "Requirement already satisfied: numpy>=1.17 in /usr/local/lib/python3.10/dist-packages (from transformers) (1.26.4)\n",
            "Requirement already satisfied: packaging>=20.0 in /usr/local/lib/python3.10/dist-packages (from transformers) (24.1)\n",
            "Requirement already satisfied: pyyaml>=5.1 in /usr/local/lib/python3.10/dist-packages (from transformers) (6.0.2)\n",
            "Requirement already satisfied: regex!=2019.12.17 in /usr/local/lib/python3.10/dist-packages (from transformers) (2024.9.11)\n",
            "Requirement already satisfied: requests in /usr/local/lib/python3.10/dist-packages (from transformers) (2.32.3)\n",
            "Requirement already satisfied: safetensors>=0.4.1 in /usr/local/lib/python3.10/dist-packages (from transformers) (0.4.5)\n",
            "Collecting tokenizers<0.21,>=0.20 (from transformers)\n",
            "  Downloading tokenizers-0.20.0-cp310-cp310-manylinux_2_17_x86_64.manylinux2014_x86_64.whl.metadata (6.7 kB)\n",
            "Requirement already satisfied: tqdm>=4.27 in /usr/local/lib/python3.10/dist-packages (from transformers) (4.66.5)\n",
            "Requirement already satisfied: fsspec>=2023.5.0 in /usr/local/lib/python3.10/dist-packages (from huggingface-hub<1.0,>=0.23.2->transformers) (2024.9.0)\n",
            "Requirement already satisfied: typing-extensions>=3.7.4.3 in /usr/local/lib/python3.10/dist-packages (from huggingface-hub<1.0,>=0.23.2->transformers) (4.12.2)\n",
            "Requirement already satisfied: charset-normalizer<4,>=2 in /usr/local/lib/python3.10/dist-packages (from requests->transformers) (3.3.2)\n",
            "Requirement already satisfied: idna<4,>=2.5 in /usr/local/lib/python3.10/dist-packages (from requests->transformers) (3.10)\n",
            "Requirement already satisfied: urllib3<3,>=1.21.1 in /usr/local/lib/python3.10/dist-packages (from requests->transformers) (2.2.3)\n",
            "Requirement already satisfied: certifi>=2017.4.17 in /usr/local/lib/python3.10/dist-packages (from requests->transformers) (2024.8.30)\n",
            "Downloading transformers-4.45.2-py3-none-any.whl (9.9 MB)\n",
            "\u001b[2K   \u001b[90m━━━━━━━━━━━━━━━━━━━━━━━━━━━━━━━━━━━━━━━━\u001b[0m \u001b[32m9.9/9.9 MB\u001b[0m \u001b[31m69.1 MB/s\u001b[0m eta \u001b[36m0:00:00\u001b[0m\n",
            "\u001b[?25hDownloading tokenizers-0.20.0-cp310-cp310-manylinux_2_17_x86_64.manylinux2014_x86_64.whl (2.9 MB)\n",
            "\u001b[2K   \u001b[90m━━━━━━━━━━━━━━━━━━━━━━━━━━━━━━━━━━━━━━━━\u001b[0m \u001b[32m2.9/2.9 MB\u001b[0m \u001b[31m71.4 MB/s\u001b[0m eta \u001b[36m0:00:00\u001b[0m\n",
            "\u001b[?25hInstalling collected packages: tokenizers, transformers\n",
            "  Attempting uninstall: tokenizers\n",
            "    Found existing installation: tokenizers 0.19.1\n",
            "    Uninstalling tokenizers-0.19.1:\n",
            "      Successfully uninstalled tokenizers-0.19.1\n",
            "  Attempting uninstall: transformers\n",
            "    Found existing installation: transformers 4.44.2\n",
            "    Uninstalling transformers-4.44.2:\n",
            "      Successfully uninstalled transformers-4.44.2\n",
            "Successfully installed tokenizers-0.20.0 transformers-4.45.2\n"
          ]
        },
        {
          "output_type": "display_data",
          "data": {
            "application/vnd.colab-display-data+json": {
              "pip_warning": {
                "packages": [
                  "transformers"
                ]
              },
              "id": "5fff68cb06554140a99e89d8afccc007"
            }
          },
          "metadata": {}
        }
      ]
    },
    {
      "cell_type": "code",
      "source": [
        "from transformers import Qwen2VLForConditionalGeneration, AutoTokenizer, AutoProcessor\n",
        "from qwen_vl_utils import process_vision_info\n",
        "\n",
        "# default: Load the model on the available device(s)\n",
        "model = Qwen2VLForConditionalGeneration.from_pretrained(\n",
        "    \"Qwen/Qwen2-VL-7B-Instruct\", torch_dtype=\"auto\", device_map=\"auto\"\n",
        ")\n",
        "\n",
        "\n",
        "\n",
        "# default processer\n",
        "processor = AutoProcessor.from_pretrained(\"Qwen/Qwen2-VL-7B-Instruct\")\n",
        "\n",
        "messages = [\n",
        "    {\n",
        "        \"role\": \"user\",\n",
        "        \"content\": [\n",
        "            {\n",
        "                \"type\": \"text\",\n",
        "                \"text\": \"agent thank calling united airlines customer service name sarah may help customer hi yeah im calling flight chicago new york delayed hours ridiculous im missing important meetings agent im sorry hear delay thats definitely frustrating umm let pull reservation take look happened typing sounds okay looks like severe weather chicago caused multiple flight cancellations delays across board airlines ahh shoot yeah original flight scheduled depart pm didnt actually take pm customer ugh poor planning uniteds part rerouted passengers put us flights werent delayed ive wasted whole day agent understand frustration sir delays never fun let see options available help make hmm looks like get booked flight leaving pm tomorrow landing new york pm ill waive change fee provide travel voucher help cover expenses missed meetings today work schedule customer guess thats better nothing really need get act together unacceptable customer service united delays costing people time money agent youre right want better customers apologize delay inconvenience thank flying us hope rescheduled flight travel credit help make trouble today please feel free reach back issues thanks patience understanding appreciate taking time work customer alright fine better happen next time fly united agent ill sure note record try avoid repeats going forward take care good rest day customer yeah hangs agent thank call next caller please pretends answer another call hi thank calling united help\",\n",
        "            },\n",
        "            {\"type\": \"text\", \"text\": \"Give the primary reason for this conversation\"},\n",
        "        ],\n",
        "    }\n",
        "]\n",
        "\n",
        "# Preparation for inference\n",
        "text = processor.apply_chat_template(\n",
        "    messages, tokenize=False, add_generation_prompt=True\n",
        ")\n",
        "image_inputs, video_inputs = process_vision_info(messages)\n",
        "inputs = processor(\n",
        "    text=[text],\n",
        "    images=image_inputs,\n",
        "    videos=video_inputs,\n",
        "    padding=True,\n",
        "    return_tensors=\"pt\",\n",
        ")\n",
        "inputs = inputs.to(\"cuda\")\n",
        "\n",
        "# Inference: Generation of the output\n",
        "generated_ids = model.generate(**inputs, max_new_tokens=128)\n",
        "generated_ids_trimmed = [\n",
        "    out_ids[len(in_ids) :] for in_ids, out_ids in zip(inputs.input_ids, generated_ids)\n",
        "]\n",
        "output_text = processor.batch_decode(\n",
        "    generated_ids_trimmed, skip_special_tokens=True, clean_up_tokenization_spaces=False\n",
        ")\n",
        "print(output_text)"
      ],
      "metadata": {
        "colab": {
          "base_uri": "https://localhost:8080/"
        },
        "id": "8sKuNZ8KCRkR",
        "outputId": "a1f3eaba-58a9-4ac2-861b-cf751bc077f2"
      },
      "execution_count": null,
      "outputs": [
        {
          "output_type": "stream",
          "name": "stderr",
          "text": [
            "/usr/local/lib/python3.10/dist-packages/torch_xla/__init__.py:202: UserWarning: `tensorflow` can conflict with `torch-xla`. Prefer `tensorflow-cpu` when using PyTorch/XLA. To silence this warning, `pip uninstall -y tensorflow && pip install tensorflow-cpu`. If you are in a notebook environment such as Colab or Kaggle, restart your notebook runtime afterwards.\n",
            "  warnings.warn(\n"
          ]
        }
      ]
    },
    {
      "cell_type": "markdown",
      "source": [
        "#Approach 2"
      ],
      "metadata": {
        "id": "BTtcjy2zc7_g"
      }
    },
    {
      "cell_type": "markdown",
      "source": [
        "##Extract features from cleaned transcript using TF-IDF\n"
      ],
      "metadata": {
        "id": "glU_eQdBdB2w"
      }
    },
    {
      "cell_type": "code",
      "execution_count": null,
      "metadata": {
        "colab": {
          "base_uri": "https://localhost:8080/"
        },
        "id": "XlOqD0Mv7UaJ",
        "outputId": "1dc42fbd-4747-414e-fefe-406f086a4d01"
      },
      "outputs": [
        {
          "output_type": "stream",
          "name": "stdout",
          "text": [
            "Feature matrix shape: (66653, 1000)\n"
          ]
        }
      ],
      "source": [
        "from sklearn.feature_extraction.text import TfidfVectorizer\n",
        "\n",
        "# Initialize TF-IDF Vectorizer\n",
        "tfidf = TfidfVectorizer(max_features=1000)  # Limit to 1000 features\n",
        "\n",
        "merged_df = call_df.merge(reason_df, on='call_id', how='inner')\n",
        "# Fit and transform the cleaned transcripts\n",
        "X = tfidf.fit_transform(merged_df['cleaned_transcript']).toarray()\n",
        "\n",
        "# Extract the primary call reasons as labels\n",
        "y = merged_df['primary_call_reason']\n",
        "\n",
        "# Display the shape of the feature matrix\n",
        "print(\"Feature matrix shape:\", X.shape)\n"
      ]
    },
    {
      "cell_type": "code",
      "source": [
        "\n",
        "\n",
        "merged_df.to_csv('/content/drive/My Drive/United Airlines/merged_data.csv', index=False)\n"
      ],
      "metadata": {
        "id": "F9MMNBA9pvLi"
      },
      "execution_count": null,
      "outputs": []
    },
    {
      "cell_type": "code",
      "execution_count": null,
      "metadata": {
        "colab": {
          "base_uri": "https://localhost:8080/"
        },
        "id": "dhGSWEgcT_u-",
        "outputId": "a659710c-ecc1-4a49-9ee6-2d00927d6957"
      },
      "outputs": [
        {
          "output_type": "stream",
          "name": "stdout",
          "text": [
            "[[0.         0.         0.         ... 0.02784101 0.         0.        ]\n",
            " [0.         0.         0.         ... 0.02088704 0.         0.        ]\n",
            " [0.         0.         0.         ... 0.04532499 0.03984121 0.        ]\n",
            " ...\n",
            " [0.         0.         0.         ... 0.03866531 0.         0.        ]\n",
            " [0.07621469 0.         0.         ... 0.08283079 0.05460694 0.        ]\n",
            " [0.0338669  0.         0.         ... 0.03680684 0.         0.        ]]\n"
          ]
        }
      ],
      "source": [
        "print(X)"
      ]
    },
    {
      "cell_type": "code",
      "source": [
        "filtered_df = merged_df[merged_df['average_sentiment'].notnull()]  # Filter out rows with NaN using pandas notnull\n",
        "print(\"DataFrame without NaN values in 'average_sentiment':\")\n",
        "print(filtered_df)\n",
        "filtered_df = filtered_df[merged_df['average_sentiment'].notnull()]\n",
        "filtered_df = filtered_df[merged_df['average_sentiment'].notnull()]"
      ],
      "metadata": {
        "colab": {
          "base_uri": "https://localhost:8080/"
        },
        "id": "-pbnXwxd_-PS",
        "outputId": "a1a126e5-4b69-4bdd-a3c5-b43d5d3605df"
      },
      "execution_count": null,
      "outputs": [
        {
          "output_type": "stream",
          "name": "stdout",
          "text": [
            "DataFrame without NaN values in 'average_sentiment':\n",
            "          call_id  customer_id  agent_id call_start_datetime  \\\n",
            "0      4667960400   2033123310    963118 2024-07-31 23:56:00   \n",
            "1      1122072124   8186702651    519057 2024-08-01 00:03:00   \n",
            "2      6834291559   2416856629    158319 2024-07-31 23:59:00   \n",
            "3      2266439882   1154544516    488324 2024-08-01 00:05:00   \n",
            "4      1211603231   5214456437    721730 2024-08-01 00:04:00   \n",
            "...           ...          ...       ...                 ...   \n",
            "71805  1563273072   8022667294    413148 2024-08-31 23:48:00   \n",
            "71806  8865997781   4474867021    980156 2024-08-31 23:55:00   \n",
            "71807  8019240181   9762042472    616988 2024-08-31 23:52:00   \n",
            "71808  8332067080   8095620266    161354 2024-08-31 23:53:00   \n",
            "71809  8210720833   8014388758    547592 2024-08-31 23:49:00   \n",
            "\n",
            "      agent_assigned_datetime   call_end_datetime  \\\n",
            "0         2024-08-01 00:03:00 2024-08-01 00:34:00   \n",
            "1         2024-08-01 00:06:00 2024-08-01 00:18:00   \n",
            "2         2024-08-01 00:07:00 2024-08-01 00:26:00   \n",
            "3         2024-08-01 00:10:00 2024-08-01 00:17:00   \n",
            "4         2024-08-01 00:14:00 2024-08-01 00:23:00   \n",
            "...                       ...                 ...   \n",
            "71805     2024-08-31 23:57:00 2024-09-01 00:25:00   \n",
            "71806     2024-08-31 23:58:00 2024-09-01 00:06:00   \n",
            "71807     2024-08-31 23:58:00 2024-09-01 00:04:00   \n",
            "71808     2024-08-31 23:59:00 2024-09-01 00:03:00   \n",
            "71809     2024-08-31 23:59:00 2024-09-01 00:02:00   \n",
            "\n",
            "                                         call_transcript     AHT    AST  \\\n",
            "0      \\n\\nAgent: Thank you for calling United Airlin...  2280.0  420.0   \n",
            "1      \\n\\nAgent: Thank you for calling United Airlin...   900.0  180.0   \n",
            "2      \\n\\nAgent: Thank you for calling United Airlin...  1620.0  480.0   \n",
            "3      \\n\\nAgent: Thank you for calling United Airlin...   720.0  300.0   \n",
            "4      \\n\\nAgent: Thank you for calling United Airlin...  1140.0  600.0   \n",
            "...                                                  ...     ...    ...   \n",
            "71805  \\n\\nAgent: Thank you for calling United Airlin...  2220.0  540.0   \n",
            "71806  \\n\\nAgent: Thank you for calling United Airlin...   660.0  180.0   \n",
            "71807  \\n\\nAgent: Thank you for calling United Airlin...   720.0  360.0   \n",
            "71808  \\n\\nAgent: Thank you for calling United Airlin...   600.0  360.0   \n",
            "71809  \\n\\nAgent: Thank you for calling United Airlin...   780.0  600.0   \n",
            "\n",
            "      agent_tone customer_tone  average_sentiment  silence_percent_average  \\\n",
            "0        neutral         angry              -0.04                     0.39   \n",
            "1           calm       neutral               0.02                     0.35   \n",
            "2        neutral        polite              -0.13                     0.32   \n",
            "3        neutral    frustrated              -0.20                     0.20   \n",
            "4        neutral        polite              -0.05                     0.35   \n",
            "...          ...           ...                ...                      ...   \n",
            "71805       calm          calm               0.05                     0.34   \n",
            "71806       calm    frustrated               0.03                     0.22   \n",
            "71807       calm        polite               0.05                     0.42   \n",
            "71808    neutral        polite              -0.07                     0.13   \n",
            "71809    neutral          calm               0.00                     0.10   \n",
            "\n",
            "      primary_call_reason         customer_name  elite_level_code  \n",
            "0        voluntary cancel        Matthew Foster               4.0  \n",
            "1                 booking         Tammy Walters               NaN  \n",
            "2                  irrops         Jeffery Dixon               NaN  \n",
            "3                 upgrade         David Wilkins               2.0  \n",
            "4                 seating     Elizabeth Daniels               0.0  \n",
            "...                   ...                   ...               ...  \n",
            "71805         post flight  Dennis Singleton DDS               NaN  \n",
            "71806             upgrade         Paul Mitchell               1.0  \n",
            "71807             upgrade           Kaylee Lang               NaN  \n",
            "71808                 NaN       Christine Oneal               1.0  \n",
            "71809     digital support       Alicia Calderon               0.0  \n",
            "\n",
            "[71701 rows x 16 columns]\n"
          ]
        }
      ]
    },
    {
      "cell_type": "code",
      "source": [
        "columns_to_check = ['average_sentiment', 'AHT', 'silence_percent_average', 'primary_call_reason']\n",
        "merged_df = merged_df.dropna(subset=columns_to_check)"
      ],
      "metadata": {
        "id": "lXAcM0PtA6tZ"
      },
      "execution_count": null,
      "outputs": []
    },
    {
      "cell_type": "markdown",
      "source": [
        "##Applying Machine learning Models"
      ],
      "metadata": {
        "id": "qMsJlXjedVUZ"
      }
    },
    {
      "cell_type": "markdown",
      "source": [
        "###Logistic Regression"
      ],
      "metadata": {
        "id": "ic-PnWq4dZ44"
      }
    },
    {
      "cell_type": "code",
      "execution_count": null,
      "metadata": {
        "colab": {
          "base_uri": "https://localhost:8080/"
        },
        "id": "21U3JB9m7YmS",
        "outputId": "32046b3e-42bd-4453-b20d-fd6a7cb12667"
      },
      "outputs": [
        {
          "output_type": "stream",
          "name": "stderr",
          "text": [
            "/usr/local/lib/python3.10/dist-packages/sklearn/linear_model/_logistic.py:469: ConvergenceWarning: lbfgs failed to converge (status=1):\n",
            "STOP: TOTAL NO. of ITERATIONS REACHED LIMIT.\n",
            "\n",
            "Increase the number of iterations (max_iter) or scale the data as shown in:\n",
            "    https://scikit-learn.org/stable/modules/preprocessing.html\n",
            "Please also refer to the documentation for alternative solver options:\n",
            "    https://scikit-learn.org/stable/modules/linear_model.html#logistic-regression\n",
            "  n_iter_i = _check_optimize_result(\n",
            "/usr/local/lib/python3.10/dist-packages/sklearn/metrics/_classification.py:1531: UndefinedMetricWarning: Precision is ill-defined and being set to 0.0 in labels with no predicted samples. Use `zero_division` parameter to control this behavior.\n",
            "  _warn_prf(average, modifier, f\"{metric.capitalize()} is\", len(result))\n"
          ]
        },
        {
          "output_type": "stream",
          "name": "stdout",
          "text": [
            "Accuracy: 0.2067463000525881\n",
            "Classification Report:\n",
            "                     precision    recall  f1-score   support\n",
            "\n",
            "            baggage       0.00      0.00      0.00       562\n",
            "            booking       0.00      0.00      0.00       514\n",
            "              check       0.00      0.00      0.00       345\n",
            "           checkout       0.10      0.01      0.02       351\n",
            "     communications       0.00      0.00      0.00       771\n",
            "    digital support       0.00      0.00      0.00       262\n",
            "         disability       0.00      0.00      0.00        85\n",
            "                etc       0.00      0.00      0.00       190\n",
            "             irrops       0.21      0.87      0.34      2623\n",
            "       mileage plus       0.00      0.00      0.00      1177\n",
            "        post flight       0.18      0.03      0.05       875\n",
            "  products services       0.00      0.00      0.00       662\n",
            "    schedule change       0.00      0.00      0.00       139\n",
            "            seating       0.00      0.00      0.00      1294\n",
            "             topics       0.00      0.00      0.00       161\n",
            "   traveler updates       0.00      0.00      0.00       195\n",
            "unaccompanied minor       0.00      0.00      0.00        22\n",
            "            upgrade       0.00      0.00      0.00       561\n",
            "   voluntary cancel       0.00      0.00      0.00       340\n",
            "   voluntary change       0.20      0.20      0.20      2182\n",
            "\n",
            "           accuracy                           0.21     13311\n",
            "          macro avg       0.03      0.06      0.03     13311\n",
            "       weighted avg       0.09      0.21      0.10     13311\n",
            "\n"
          ]
        },
        {
          "output_type": "stream",
          "name": "stderr",
          "text": [
            "/usr/local/lib/python3.10/dist-packages/sklearn/metrics/_classification.py:1531: UndefinedMetricWarning: Precision is ill-defined and being set to 0.0 in labels with no predicted samples. Use `zero_division` parameter to control this behavior.\n",
            "  _warn_prf(average, modifier, f\"{metric.capitalize()} is\", len(result))\n",
            "/usr/local/lib/python3.10/dist-packages/sklearn/metrics/_classification.py:1531: UndefinedMetricWarning: Precision is ill-defined and being set to 0.0 in labels with no predicted samples. Use `zero_division` parameter to control this behavior.\n",
            "  _warn_prf(average, modifier, f\"{metric.capitalize()} is\", len(result))\n"
          ]
        }
      ],
      "source": [
        "from sklearn.model_selection import train_test_split\n",
        "from sklearn.linear_model import LogisticRegression\n",
        "from sklearn.metrics import accuracy_score, classification_report\n",
        "\n",
        "X = merged_df[['AHT','average_sentiment','silence_percent_average']]\n",
        "y = merged_df['primary_call_reason']\n",
        "# Split the data\n",
        "X_train, X_test, y_train, y_test = train_test_split(X, y, test_size=0.2, random_state=42)\n",
        "\n",
        "# Initialize and train the model\n",
        "model = LogisticRegression(max_iter=1000)\n",
        "model.fit(X_train, y_train)\n",
        "\n",
        "# Make predictions\n",
        "y_pred = model.predict(X_test)\n",
        "\n",
        "# Evaluate the model\n",
        "accuracy = accuracy_score(y_test, y_pred)\n",
        "report = classification_report(y_test, y_pred)\n",
        "\n",
        "print(f\"Accuracy: {accuracy}\")\n",
        "print(\"Classification Report:\")\n",
        "print(report)\n"
      ]
    },
    {
      "cell_type": "code",
      "source": [
        "from transformers import pipeline\n",
        "\n",
        "classifier = pipeline(\"zero-shot-classification\", model=\"facebook/bart-large-mnli\")\n",
        "\n",
        "transcript = \"Customer: Hi, I'm calling to report a problem with my internet connection...\"\n",
        "candidate_labels = [\"Technical Support\", \"Billing Inquiry\", \"Account Management\"]\n",
        "\n",
        "result = classifier(transcript, candidate_labels)\n",
        "print(result)"
      ],
      "metadata": {
        "id": "4XmL-0Q3EU35"
      },
      "execution_count": null,
      "outputs": []
    },
    {
      "cell_type": "markdown",
      "source": [
        "###Xgboost classifier"
      ],
      "metadata": {
        "id": "BCB8-OmadhhQ"
      }
    },
    {
      "cell_type": "code",
      "source": [
        "!pip install xgboost"
      ],
      "metadata": {
        "colab": {
          "base_uri": "https://localhost:8080/"
        },
        "id": "IGMfxMIafM2q",
        "outputId": "e81102d5-6e02-482d-9163-31b0a12231c0"
      },
      "execution_count": null,
      "outputs": [
        {
          "output_type": "stream",
          "name": "stdout",
          "text": [
            "Collecting xgboost\n",
            "  Downloading xgboost-2.1.1-py3-none-manylinux_2_28_x86_64.whl.metadata (2.1 kB)\n",
            "Requirement already satisfied: numpy in /usr/local/lib/python3.10/dist-packages (from xgboost) (1.26.4)\n",
            "Collecting nvidia-nccl-cu12 (from xgboost)\n",
            "  Downloading nvidia_nccl_cu12-2.23.4-py3-none-manylinux2014_x86_64.whl.metadata (1.8 kB)\n",
            "Requirement already satisfied: scipy in /usr/local/lib/python3.10/dist-packages (from xgboost) (1.13.1)\n",
            "Downloading xgboost-2.1.1-py3-none-manylinux_2_28_x86_64.whl (153.9 MB)\n",
            "\u001b[2K   \u001b[90m━━━━━━━━━━━━━━━━━━━━━━━━━━━━━━━━━━━━━━━━\u001b[0m \u001b[32m153.9/153.9 MB\u001b[0m \u001b[31m7.1 MB/s\u001b[0m eta \u001b[36m0:00:00\u001b[0m\n",
            "\u001b[?25hDownloading nvidia_nccl_cu12-2.23.4-py3-none-manylinux2014_x86_64.whl (199.0 MB)\n",
            "\u001b[2K   \u001b[90m━━━━━━━━━━━━━━━━━━━━━━━━━━━━━━━━━━━━━━━━\u001b[0m \u001b[32m199.0/199.0 MB\u001b[0m \u001b[31m5.4 MB/s\u001b[0m eta \u001b[36m0:00:00\u001b[0m\n",
            "\u001b[?25hInstalling collected packages: nvidia-nccl-cu12, xgboost\n",
            "Successfully installed nvidia-nccl-cu12-2.23.4 xgboost-2.1.1\n"
          ]
        }
      ]
    },
    {
      "cell_type": "code",
      "execution_count": null,
      "metadata": {
        "id": "nsmfeXy-7e6L",
        "colab": {
          "base_uri": "https://localhost:8080/"
        },
        "outputId": "70a8f985-fb34-42fa-f093-726026de2868"
      },
      "outputs": [
        {
          "output_type": "stream",
          "name": "stdout",
          "text": [
            "Accuracy: 0.1900082514440027\n",
            "Classification Report:\n",
            "              precision    recall  f1-score   support\n",
            "\n",
            "           0       0.06      0.01      0.01       604\n",
            "           1       0.09      0.01      0.02       513\n",
            "           2       0.00      0.00      0.00       359\n",
            "           3       0.00      0.00      0.00       384\n",
            "           4       0.06      0.01      0.02       757\n",
            "           5       0.00      0.00      0.00       255\n",
            "           6       0.00      0.00      0.00        86\n",
            "           7       0.00      0.00      0.00       197\n",
            "           8       0.23      0.61      0.33      2763\n",
            "           9       0.13      0.06      0.09      1130\n",
            "          10       0.15      0.06      0.08       848\n",
            "          11       0.11      0.03      0.05       658\n",
            "          12       0.00      0.00      0.00       146\n",
            "          13       0.11      0.06      0.07      1235\n",
            "          14       0.00      0.00      0.00       174\n",
            "          15       0.00      0.00      0.00       190\n",
            "          16       0.00      0.00      0.00        24\n",
            "          17       0.02      0.00      0.00       553\n",
            "          18       0.00      0.00      0.00       334\n",
            "          19       0.16      0.30      0.21      2121\n",
            "\n",
            "    accuracy                           0.19     13331\n",
            "   macro avg       0.06      0.06      0.04     13331\n",
            "weighted avg       0.12      0.19      0.13     13331\n",
            "\n"
          ]
        },
        {
          "output_type": "stream",
          "name": "stderr",
          "text": [
            "/usr/local/lib/python3.10/dist-packages/sklearn/metrics/_classification.py:1531: UndefinedMetricWarning: Precision is ill-defined and being set to 0.0 in labels with no predicted samples. Use `zero_division` parameter to control this behavior.\n",
            "  _warn_prf(average, modifier, f\"{metric.capitalize()} is\", len(result))\n",
            "/usr/local/lib/python3.10/dist-packages/sklearn/metrics/_classification.py:1531: UndefinedMetricWarning: Precision is ill-defined and being set to 0.0 in labels with no predicted samples. Use `zero_division` parameter to control this behavior.\n",
            "  _warn_prf(average, modifier, f\"{metric.capitalize()} is\", len(result))\n",
            "/usr/local/lib/python3.10/dist-packages/sklearn/metrics/_classification.py:1531: UndefinedMetricWarning: Precision is ill-defined and being set to 0.0 in labels with no predicted samples. Use `zero_division` parameter to control this behavior.\n",
            "  _warn_prf(average, modifier, f\"{metric.capitalize()} is\", len(result))\n"
          ]
        }
      ],
      "source": [
        "import xgboost as xgb\n",
        "from sklearn.metrics import accuracy_score, classification_report\n",
        "from sklearn.preprocessing import LabelEncoder\n",
        "\n",
        "# Initialize Label Encoder\n",
        "le = LabelEncoder()\n",
        "\n",
        "# Fit and transform the labels to numerical representations\n",
        "y_train_encoded = le.fit_transform(y_train)\n",
        "y_test_encoded = le.transform(y_test)\n",
        "\n",
        "model = xgb.XGBClassifier(objective='multi:softmax', num_class=len(le.classes_))\n",
        "model.fit(X_train, y_train_encoded)\n",
        "\n",
        "# Make predictions\n",
        "y_pred_encoded = model.predict(X_test)\n",
        "\n",
        "# Transform predictions back to original labels (optional)\n",
        "y_pred = le.inverse_transform(y_pred_encoded)\n",
        "\n",
        "# Evaluate the model\n",
        "accuracy = accuracy_score(y_test_encoded, y_pred_encoded)\n",
        "report = classification_report(y_test_encoded, y_pred_encoded)\n",
        "\n",
        "print(f\"Accuracy: {accuracy}\")\n",
        "print(\"Classification Report:\")\n",
        "print(report)\n"
      ]
    },
    {
      "cell_type": "code",
      "source": [
        "import xgboost as xgb\n",
        "from sklearn.metrics import accuracy_score, classification_report\n",
        "from sklearn.preprocessing import OneHotEncoder\n",
        "import pandas as pd # Import pandas for handling DataFrames\n",
        "\n",
        "# Assuming y_train and y_test are pandas Series\n",
        "# If not, convert them to Series: y_train = pd.Series(y_train) etc.\n",
        "\n",
        "# Initialize OneHotEncoder\n",
        "encoder = OneHotEncoder(sparse_output=False, handle_unknown='ignore') # sparse=False for dense output\n",
        "\n",
        "# Fit and transform on training data\n",
        "y_train_encoded = encoder.fit_transform(y_train.values.reshape(-1, 1))\n",
        "\n",
        "# Transform test data\n",
        "y_test_encoded = encoder.transform(y_test.values.reshape(-1, 1))\n",
        "\n",
        "# Get feature names for encoded columns\n",
        "feature_names = encoder.get_feature_names_out(['primary_call_reason'])\n",
        "\n",
        "# Convert encoded data to DataFrames with appropriate column names\n",
        "y_train_encoded_df = pd.DataFrame(y_train_encoded, columns=feature_names, index=y_train.index)\n",
        "y_test_encoded_df = pd.DataFrame(y_test_encoded, columns=feature_names, index=y_test.index)\n",
        "\n",
        "\n",
        "# Initialize and train the XGBoost model\n",
        "# objective is changed to 'binary:logistic' for multi-label classification\n",
        "model = xgb.XGBClassifier(objective='binary:logistic')\n",
        "model.fit(X_train, y_train_encoded_df)  # Use the encoded DataFrame\n",
        "\n",
        "# Make predictions\n",
        "y_pred_encoded = model.predict(X_test)\n",
        "\n",
        "# Convert predictions back to original labels (if needed)\n",
        "# You might need to adjust this based on your desired output format\n",
        "y_pred = encoder.inverse_transform(y_pred_encoded)\n",
        "\n",
        "# Evaluate the model using encoded labels\n",
        "accuracy = accuracy_score(y_test_encoded, y_pred_encoded)\n",
        "report = classification_report(y_test_encoded, y_pred_encoded)\n",
        "\n",
        "print(f\"Accuracy: {accuracy}\")\n",
        "print(\"Classification Report:\")\n",
        "print(report)"
      ],
      "metadata": {
        "colab": {
          "base_uri": "https://localhost:8080/"
        },
        "id": "MjZdUHxvfQ86",
        "outputId": "9ff851d8-2ef0-492d-9a5c-54e792bff091"
      },
      "execution_count": null,
      "outputs": [
        {
          "output_type": "stream",
          "name": "stdout",
          "text": [
            "Accuracy: 0.006751181456754932\n",
            "Classification Report:\n",
            "              precision    recall  f1-score   support\n",
            "\n",
            "           0       0.00      0.00      0.00       604\n",
            "           1       0.00      0.00      0.00       513\n",
            "           2       0.00      0.00      0.00       359\n",
            "           3       0.00      0.00      0.00       384\n",
            "           4       0.09      0.00      0.00       757\n",
            "           5       0.00      0.00      0.00       255\n",
            "           6       0.00      0.00      0.00        86\n",
            "           7       0.00      0.00      0.00       197\n",
            "           8       0.30      0.02      0.04      2763\n",
            "           9       0.18      0.00      0.01      1130\n",
            "          10       0.26      0.01      0.01       848\n",
            "          11       0.25      0.00      0.01       658\n",
            "          12       0.00      0.00      0.00       146\n",
            "          13       0.10      0.00      0.00      1235\n",
            "          14       0.00      0.00      0.00       174\n",
            "          15       0.00      0.00      0.00       190\n",
            "          16       0.00      0.00      0.00        24\n",
            "          17       0.00      0.00      0.00       553\n",
            "          18       0.00      0.00      0.00       334\n",
            "          19       0.20      0.01      0.01      2121\n",
            "\n",
            "   micro avg       0.24      0.01      0.01     13331\n",
            "   macro avg       0.07      0.00      0.00     13331\n",
            "weighted avg       0.15      0.01      0.01     13331\n",
            " samples avg       0.01      0.01      0.01     13331\n",
            "\n"
          ]
        },
        {
          "output_type": "stream",
          "name": "stderr",
          "text": [
            "/usr/local/lib/python3.10/dist-packages/sklearn/metrics/_classification.py:1531: UndefinedMetricWarning: Precision is ill-defined and being set to 0.0 in labels with no predicted samples. Use `zero_division` parameter to control this behavior.\n",
            "  _warn_prf(average, modifier, f\"{metric.capitalize()} is\", len(result))\n",
            "/usr/local/lib/python3.10/dist-packages/sklearn/metrics/_classification.py:1531: UndefinedMetricWarning: Precision is ill-defined and being set to 0.0 in samples with no predicted labels. Use `zero_division` parameter to control this behavior.\n",
            "  _warn_prf(average, modifier, f\"{metric.capitalize()} is\", len(result))\n"
          ]
        }
      ]
    },
    {
      "cell_type": "markdown",
      "source": [
        "###Random Forest"
      ],
      "metadata": {
        "id": "kfek3CnxdoQA"
      }
    },
    {
      "cell_type": "code",
      "source": [
        "from sklearn.ensemble import RandomForestClassifier\n",
        "from sklearn.metrics import accuracy_score, classification_report\n",
        "from sklearn.preprocessing import LabelEncoder\n",
        "\n",
        "X = merged_df['AHT','average_sentiment','silence_percent_average']\n",
        "y = merged_df['primary_call_reason']\n",
        "X_train, X_test, y_train, y_test = train_test_split(X, y, test_size=0.2, random_state=42)\n",
        "# Initialize Label Encoder\n",
        "le = LabelEncoder()\n",
        "\n",
        "# Fit and transform the labels to numerical representations\n",
        "y_train_encoded = le.fit_transform(y_train)\n",
        "y_test_encoded = le.transform(y_test)\n",
        "\n",
        "# Initialize and train the Random Forest model\n",
        "model = RandomForestClassifier(n_estimators=100, random_state=42)  # Adjust parameters as needed\n",
        "model.fit(X_train, y_train_encoded)\n",
        "\n",
        "# Make predictions\n",
        "y_pred_encoded = model.predict(X_test)\n",
        "\n",
        "# Transform predictions back to original labels (optional)\n",
        "y_pred = le.inverse_transform(y_pred_encoded)\n",
        "\n",
        "# Evaluate the model\n",
        "accuracy = accuracy_score(y_test_encoded, y_pred_encoded)\n",
        "report = classification_report(y_test_encoded, y_pred_encoded)\n",
        "\n",
        "print(f\"Accuracy: {accuracy}\")\n",
        "print(\"Classification Report:\")\n",
        "print(report)"
      ],
      "metadata": {
        "colab": {
          "base_uri": "https://localhost:8080/"
        },
        "id": "bDuOpSqbgNKi",
        "outputId": "24a625e1-3e4f-48a0-e27d-89f32150f28e"
      },
      "execution_count": null,
      "outputs": [
        {
          "output_type": "stream",
          "name": "stdout",
          "text": [
            "Accuracy: 0.20103518115670244\n",
            "Classification Report:\n",
            "              precision    recall  f1-score   support\n",
            "\n",
            "           0       0.00      0.00      0.00       604\n",
            "           1       0.00      0.00      0.00       513\n",
            "           2       0.00      0.00      0.00       359\n",
            "           3       0.00      0.00      0.00       384\n",
            "           4       0.00      0.00      0.00       757\n",
            "           5       0.00      0.00      0.00       255\n",
            "           6       0.00      0.00      0.00        86\n",
            "           7       0.00      0.00      0.00       197\n",
            "           8       0.22      0.74      0.34      2763\n",
            "           9       0.12      0.01      0.02      1130\n",
            "          10       0.00      0.00      0.00       848\n",
            "          11       0.12      0.00      0.00       658\n",
            "          12       0.00      0.00      0.00       146\n",
            "          13       0.10      0.01      0.02      1235\n",
            "          14       0.00      0.00      0.00       174\n",
            "          15       0.00      0.00      0.00       190\n",
            "          16       0.00      0.00      0.00        24\n",
            "          17       0.00      0.00      0.00       553\n",
            "          18       0.00      0.00      0.00       334\n",
            "          19       0.17      0.28      0.21      2121\n",
            "\n",
            "    accuracy                           0.20     13331\n",
            "   macro avg       0.04      0.05      0.03     13331\n",
            "weighted avg       0.10      0.20      0.11     13331\n",
            "\n"
          ]
        },
        {
          "output_type": "stream",
          "name": "stderr",
          "text": [
            "/usr/local/lib/python3.10/dist-packages/sklearn/metrics/_classification.py:1531: UndefinedMetricWarning: Precision is ill-defined and being set to 0.0 in labels with no predicted samples. Use `zero_division` parameter to control this behavior.\n",
            "  _warn_prf(average, modifier, f\"{metric.capitalize()} is\", len(result))\n",
            "/usr/local/lib/python3.10/dist-packages/sklearn/metrics/_classification.py:1531: UndefinedMetricWarning: Precision is ill-defined and being set to 0.0 in labels with no predicted samples. Use `zero_division` parameter to control this behavior.\n",
            "  _warn_prf(average, modifier, f\"{metric.capitalize()} is\", len(result))\n",
            "/usr/local/lib/python3.10/dist-packages/sklearn/metrics/_classification.py:1531: UndefinedMetricWarning: Precision is ill-defined and being set to 0.0 in labels with no predicted samples. Use `zero_division` parameter to control this behavior.\n",
            "  _warn_prf(average, modifier, f\"{metric.capitalize()} is\", len(result))\n"
          ]
        }
      ]
    },
    {
      "cell_type": "markdown",
      "source": [
        "###SVM"
      ],
      "metadata": {
        "id": "zeVRC-Esdr0Y"
      }
    },
    {
      "cell_type": "code",
      "source": [
        "from sklearn.svm import SVC\n",
        "from sklearn.metrics import accuracy_score, classification_report\n",
        "from sklearn.preprocessing import LabelEncoder\n",
        "\n",
        "# Initialize Label Encoder\n",
        "le = LabelEncoder()\n",
        "\n",
        "# Fit and transform the labels to numerical representations\n",
        "y_train_encoded = le.fit_transform(y_train)\n",
        "y_test_encoded = le.transform(y_test)\n",
        "\n",
        "# Initialize and train the SVM model\n",
        "model = SVC(kernel='linear', random_state=42)  # You can try different kernels like 'rbf'\n",
        "model.fit(X_train, y_train_encoded)\n",
        "\n",
        "# Make predictions\n",
        "y_pred_encoded = model.predict(X_test)\n",
        "\n",
        "# Transform predictions back to original labels (optional)\n",
        "y_pred = le.inverse_transform(y_pred_encoded)\n",
        "\n",
        "# Evaluate the model\n",
        "accuracy = accuracy_score(y_test_encoded, y_pred_encoded)\n",
        "report = classification_report(y_test_encoded, y_pred_encoded)\n",
        "\n",
        "print(f\"Accuracy: {accuracy}\")\n",
        "print(\"Classification Report:\")\n",
        "print(report)"
      ],
      "metadata": {
        "id": "h2wNoGEbhZaS"
      },
      "execution_count": null,
      "outputs": []
    },
    {
      "cell_type": "markdown",
      "source": [
        "###Comparing accuracies of various models using pycaret"
      ],
      "metadata": {
        "id": "PQwaBhj1eJMA"
      }
    },
    {
      "cell_type": "code",
      "source": [
        "pip install pycaret"
      ],
      "metadata": {
        "colab": {
          "base_uri": "https://localhost:8080/",
          "height": 1000
        },
        "id": "IPoovblQTd3A",
        "outputId": "7d1126aa-ef00-4f92-de65-69ec37df02b5"
      },
      "execution_count": null,
      "outputs": [
        {
          "output_type": "stream",
          "name": "stdout",
          "text": [
            "Collecting pycaret\n",
            "  Downloading pycaret-3.3.2-py3-none-any.whl.metadata (17 kB)\n",
            "Requirement already satisfied: ipython>=5.5.0 in /usr/local/lib/python3.10/dist-packages (from pycaret) (7.34.0)\n",
            "Requirement already satisfied: ipywidgets>=7.6.5 in /usr/local/lib/python3.10/dist-packages (from pycaret) (7.7.1)\n",
            "Requirement already satisfied: tqdm>=4.62.0 in /usr/local/lib/python3.10/dist-packages (from pycaret) (4.66.5)\n",
            "Requirement already satisfied: numpy<1.27,>=1.21 in /usr/local/lib/python3.10/dist-packages (from pycaret) (1.26.4)\n",
            "Collecting pandas<2.2.0 (from pycaret)\n",
            "  Downloading pandas-2.1.4-cp310-cp310-manylinux_2_17_x86_64.manylinux2014_x86_64.whl.metadata (18 kB)\n",
            "Requirement already satisfied: jinja2>=3 in /usr/local/lib/python3.10/dist-packages (from pycaret) (3.1.4)\n",
            "Collecting scipy<=1.11.4,>=1.6.1 (from pycaret)\n",
            "  Downloading scipy-1.11.4-cp310-cp310-manylinux_2_17_x86_64.manylinux2014_x86_64.whl.metadata (60 kB)\n",
            "\u001b[2K     \u001b[90m━━━━━━━━━━━━━━━━━━━━━━━━━━━━━━━━━━━━━━━━\u001b[0m \u001b[32m60.4/60.4 kB\u001b[0m \u001b[31m3.2 MB/s\u001b[0m eta \u001b[36m0:00:00\u001b[0m\n",
            "\u001b[?25hCollecting joblib<1.4,>=1.2.0 (from pycaret)\n",
            "  Downloading joblib-1.3.2-py3-none-any.whl.metadata (5.4 kB)\n",
            "Requirement already satisfied: scikit-learn>1.4.0 in /usr/local/lib/python3.10/dist-packages (from pycaret) (1.5.2)\n",
            "Collecting pyod>=1.1.3 (from pycaret)\n",
            "  Downloading pyod-2.0.2.tar.gz (165 kB)\n",
            "\u001b[2K     \u001b[90m━━━━━━━━━━━━━━━━━━━━━━━━━━━━━━━━━━━━━━━━\u001b[0m \u001b[32m165.8/165.8 kB\u001b[0m \u001b[31m8.6 MB/s\u001b[0m eta \u001b[36m0:00:00\u001b[0m\n",
            "\u001b[?25h  Preparing metadata (setup.py) ... \u001b[?25l\u001b[?25hdone\n",
            "Requirement already satisfied: imbalanced-learn>=0.12.0 in /usr/local/lib/python3.10/dist-packages (from pycaret) (0.12.3)\n",
            "Collecting category-encoders>=2.4.0 (from pycaret)\n",
            "  Downloading category_encoders-2.6.4-py2.py3-none-any.whl.metadata (8.0 kB)\n",
            "Requirement already satisfied: lightgbm>=3.0.0 in /usr/local/lib/python3.10/dist-packages (from pycaret) (4.5.0)\n",
            "Requirement already satisfied: numba>=0.55.0 in /usr/local/lib/python3.10/dist-packages (from pycaret) (0.60.0)\n",
            "Requirement already satisfied: requests>=2.27.1 in /usr/local/lib/python3.10/dist-packages (from pycaret) (2.32.3)\n",
            "Requirement already satisfied: psutil>=5.9.0 in /usr/local/lib/python3.10/dist-packages (from pycaret) (5.9.5)\n",
            "Requirement already satisfied: markupsafe>=2.0.1 in /usr/local/lib/python3.10/dist-packages (from pycaret) (2.1.5)\n",
            "Requirement already satisfied: importlib-metadata>=4.12.0 in /usr/local/lib/python3.10/dist-packages (from pycaret) (8.4.0)\n",
            "Requirement already satisfied: nbformat>=4.2.0 in /usr/local/lib/python3.10/dist-packages (from pycaret) (5.10.4)\n",
            "Requirement already satisfied: cloudpickle in /usr/local/lib/python3.10/dist-packages (from pycaret) (2.2.1)\n",
            "Collecting deprecation>=2.1.0 (from pycaret)\n",
            "  Downloading deprecation-2.1.0-py2.py3-none-any.whl.metadata (4.6 kB)\n",
            "Collecting xxhash (from pycaret)\n",
            "  Downloading xxhash-3.5.0-cp310-cp310-manylinux_2_17_x86_64.manylinux2014_x86_64.whl.metadata (12 kB)\n",
            "Requirement already satisfied: matplotlib<3.8.0 in /usr/local/lib/python3.10/dist-packages (from pycaret) (3.7.1)\n",
            "Collecting scikit-plot>=0.3.7 (from pycaret)\n",
            "  Downloading scikit_plot-0.3.7-py3-none-any.whl.metadata (7.1 kB)\n",
            "Requirement already satisfied: yellowbrick>=1.4 in /usr/local/lib/python3.10/dist-packages (from pycaret) (1.5)\n",
            "Requirement already satisfied: plotly>=5.14.0 in /usr/local/lib/python3.10/dist-packages (from pycaret) (5.24.1)\n",
            "Collecting kaleido>=0.2.1 (from pycaret)\n",
            "  Downloading kaleido-0.2.1-py2.py3-none-manylinux1_x86_64.whl.metadata (15 kB)\n",
            "Collecting schemdraw==0.15 (from pycaret)\n",
            "  Downloading schemdraw-0.15-py3-none-any.whl.metadata (2.2 kB)\n",
            "Collecting plotly-resampler>=0.8.3.1 (from pycaret)\n",
            "  Downloading plotly_resampler-0.10.0-py3-none-any.whl.metadata (13 kB)\n",
            "Requirement already satisfied: statsmodels>=0.12.1 in /usr/local/lib/python3.10/dist-packages (from pycaret) (0.14.4)\n",
            "Collecting sktime==0.26.0 (from pycaret)\n",
            "  Downloading sktime-0.26.0-py3-none-any.whl.metadata (29 kB)\n",
            "Collecting tbats>=1.1.3 (from pycaret)\n",
            "  Downloading tbats-1.1.3-py3-none-any.whl.metadata (3.8 kB)\n",
            "Collecting pmdarima>=2.0.4 (from pycaret)\n",
            "  Downloading pmdarima-2.0.4-cp310-cp310-manylinux_2_17_x86_64.manylinux2014_x86_64.manylinux_2_28_x86_64.whl.metadata (7.8 kB)\n",
            "Collecting wurlitzer (from pycaret)\n",
            "  Downloading wurlitzer-3.1.1-py3-none-any.whl.metadata (2.5 kB)\n",
            "Requirement already satisfied: packaging in /usr/local/lib/python3.10/dist-packages (from sktime==0.26.0->pycaret) (24.1)\n",
            "Collecting scikit-base<0.8.0 (from sktime==0.26.0->pycaret)\n",
            "  Downloading scikit_base-0.7.8-py3-none-any.whl.metadata (8.8 kB)\n",
            "Collecting scikit-learn>1.4.0 (from pycaret)\n",
            "  Downloading scikit_learn-1.4.2-cp310-cp310-manylinux_2_17_x86_64.manylinux2014_x86_64.whl.metadata (11 kB)\n",
            "Requirement already satisfied: patsy>=0.5.1 in /usr/local/lib/python3.10/dist-packages (from category-encoders>=2.4.0->pycaret) (0.5.6)\n",
            "Requirement already satisfied: threadpoolctl>=2.0.0 in /usr/local/lib/python3.10/dist-packages (from imbalanced-learn>=0.12.0->pycaret) (3.5.0)\n",
            "Requirement already satisfied: zipp>=0.5 in /usr/local/lib/python3.10/dist-packages (from importlib-metadata>=4.12.0->pycaret) (3.20.2)\n",
            "Requirement already satisfied: setuptools>=18.5 in /usr/local/lib/python3.10/dist-packages (from ipython>=5.5.0->pycaret) (71.0.4)\n",
            "Collecting jedi>=0.16 (from ipython>=5.5.0->pycaret)\n",
            "  Using cached jedi-0.19.1-py2.py3-none-any.whl.metadata (22 kB)\n",
            "Requirement already satisfied: decorator in /usr/local/lib/python3.10/dist-packages (from ipython>=5.5.0->pycaret) (4.4.2)\n",
            "Requirement already satisfied: pickleshare in /usr/local/lib/python3.10/dist-packages (from ipython>=5.5.0->pycaret) (0.7.5)\n",
            "Requirement already satisfied: traitlets>=4.2 in /usr/local/lib/python3.10/dist-packages (from ipython>=5.5.0->pycaret) (5.7.1)\n",
            "Requirement already satisfied: prompt-toolkit!=3.0.0,!=3.0.1,<3.1.0,>=2.0.0 in /usr/local/lib/python3.10/dist-packages (from ipython>=5.5.0->pycaret) (3.0.48)\n",
            "Requirement already satisfied: pygments in /usr/local/lib/python3.10/dist-packages (from ipython>=5.5.0->pycaret) (2.18.0)\n",
            "Requirement already satisfied: backcall in /usr/local/lib/python3.10/dist-packages (from ipython>=5.5.0->pycaret) (0.2.0)\n",
            "Requirement already satisfied: matplotlib-inline in /usr/local/lib/python3.10/dist-packages (from ipython>=5.5.0->pycaret) (0.1.7)\n",
            "Requirement already satisfied: pexpect>4.3 in /usr/local/lib/python3.10/dist-packages (from ipython>=5.5.0->pycaret) (4.9.0)\n",
            "Requirement already satisfied: ipykernel>=4.5.1 in /usr/local/lib/python3.10/dist-packages (from ipywidgets>=7.6.5->pycaret) (5.5.6)\n",
            "Requirement already satisfied: ipython-genutils~=0.2.0 in /usr/local/lib/python3.10/dist-packages (from ipywidgets>=7.6.5->pycaret) (0.2.0)\n",
            "Requirement already satisfied: widgetsnbextension~=3.6.0 in /usr/local/lib/python3.10/dist-packages (from ipywidgets>=7.6.5->pycaret) (3.6.9)\n",
            "Requirement already satisfied: jupyterlab-widgets>=1.0.0 in /usr/local/lib/python3.10/dist-packages (from ipywidgets>=7.6.5->pycaret) (3.0.13)\n",
            "Requirement already satisfied: contourpy>=1.0.1 in /usr/local/lib/python3.10/dist-packages (from matplotlib<3.8.0->pycaret) (1.3.0)\n",
            "Requirement already satisfied: cycler>=0.10 in /usr/local/lib/python3.10/dist-packages (from matplotlib<3.8.0->pycaret) (0.12.1)\n",
            "Requirement already satisfied: fonttools>=4.22.0 in /usr/local/lib/python3.10/dist-packages (from matplotlib<3.8.0->pycaret) (4.54.1)\n",
            "Requirement already satisfied: kiwisolver>=1.0.1 in /usr/local/lib/python3.10/dist-packages (from matplotlib<3.8.0->pycaret) (1.4.7)\n",
            "Requirement already satisfied: pillow>=6.2.0 in /usr/local/lib/python3.10/dist-packages (from matplotlib<3.8.0->pycaret) (10.4.0)\n",
            "Requirement already satisfied: pyparsing>=2.3.1 in /usr/local/lib/python3.10/dist-packages (from matplotlib<3.8.0->pycaret) (3.1.4)\n",
            "Requirement already satisfied: python-dateutil>=2.7 in /usr/local/lib/python3.10/dist-packages (from matplotlib<3.8.0->pycaret) (2.8.2)\n",
            "Requirement already satisfied: fastjsonschema>=2.15 in /usr/local/lib/python3.10/dist-packages (from nbformat>=4.2.0->pycaret) (2.20.0)\n",
            "Requirement already satisfied: jsonschema>=2.6 in /usr/local/lib/python3.10/dist-packages (from nbformat>=4.2.0->pycaret) (4.23.0)\n",
            "Requirement already satisfied: jupyter-core!=5.0.*,>=4.12 in /usr/local/lib/python3.10/dist-packages (from nbformat>=4.2.0->pycaret) (5.7.2)\n",
            "Requirement already satisfied: llvmlite<0.44,>=0.43.0dev0 in /usr/local/lib/python3.10/dist-packages (from numba>=0.55.0->pycaret) (0.43.0)\n",
            "Requirement already satisfied: pytz>=2020.1 in /usr/local/lib/python3.10/dist-packages (from pandas<2.2.0->pycaret) (2024.2)\n",
            "Requirement already satisfied: tzdata>=2022.1 in /usr/local/lib/python3.10/dist-packages (from pandas<2.2.0->pycaret) (2024.2)\n",
            "Requirement already satisfied: tenacity>=6.2.0 in /usr/local/lib/python3.10/dist-packages (from plotly>=5.14.0->pycaret) (9.0.0)\n",
            "Collecting dash>=2.9.0 (from plotly-resampler>=0.8.3.1->pycaret)\n",
            "  Downloading dash-2.18.1-py3-none-any.whl.metadata (10 kB)\n",
            "Collecting orjson<4.0.0,>=3.8.0 (from plotly-resampler>=0.8.3.1->pycaret)\n",
            "  Downloading orjson-3.10.7-cp310-cp310-manylinux_2_17_x86_64.manylinux2014_x86_64.whl.metadata (50 kB)\n",
            "\u001b[2K     \u001b[90m━━━━━━━━━━━━━━━━━━━━━━━━━━━━━━━━━━━━━━━━\u001b[0m \u001b[32m50.4/50.4 kB\u001b[0m \u001b[31m3.3 MB/s\u001b[0m eta \u001b[36m0:00:00\u001b[0m\n",
            "\u001b[?25hCollecting tsdownsample>=0.1.3 (from plotly-resampler>=0.8.3.1->pycaret)\n",
            "  Downloading tsdownsample-0.1.3-cp310-cp310-manylinux_2_17_x86_64.manylinux2014_x86_64.whl.metadata (7.9 kB)\n",
            "Requirement already satisfied: Cython!=0.29.18,!=0.29.31,>=0.29 in /usr/local/lib/python3.10/dist-packages (from pmdarima>=2.0.4->pycaret) (3.0.11)\n",
            "Requirement already satisfied: urllib3 in /usr/local/lib/python3.10/dist-packages (from pmdarima>=2.0.4->pycaret) (2.2.3)\n",
            "Requirement already satisfied: charset-normalizer<4,>=2 in /usr/local/lib/python3.10/dist-packages (from requests>=2.27.1->pycaret) (3.3.2)\n",
            "Requirement already satisfied: idna<4,>=2.5 in /usr/local/lib/python3.10/dist-packages (from requests>=2.27.1->pycaret) (3.10)\n",
            "Requirement already satisfied: certifi>=2017.4.17 in /usr/local/lib/python3.10/dist-packages (from requests>=2.27.1->pycaret) (2024.8.30)\n",
            "Requirement already satisfied: Flask<3.1,>=1.0.4 in /usr/local/lib/python3.10/dist-packages (from dash>=2.9.0->plotly-resampler>=0.8.3.1->pycaret) (2.2.5)\n",
            "Requirement already satisfied: Werkzeug<3.1 in /usr/local/lib/python3.10/dist-packages (from dash>=2.9.0->plotly-resampler>=0.8.3.1->pycaret) (3.0.4)\n",
            "Collecting dash-html-components==2.0.0 (from dash>=2.9.0->plotly-resampler>=0.8.3.1->pycaret)\n",
            "  Downloading dash_html_components-2.0.0-py3-none-any.whl.metadata (3.8 kB)\n",
            "Collecting dash-core-components==2.0.0 (from dash>=2.9.0->plotly-resampler>=0.8.3.1->pycaret)\n",
            "  Downloading dash_core_components-2.0.0-py3-none-any.whl.metadata (2.9 kB)\n",
            "Collecting dash-table==5.0.0 (from dash>=2.9.0->plotly-resampler>=0.8.3.1->pycaret)\n",
            "  Downloading dash_table-5.0.0-py3-none-any.whl.metadata (2.4 kB)\n",
            "Requirement already satisfied: typing-extensions>=4.1.1 in /usr/local/lib/python3.10/dist-packages (from dash>=2.9.0->plotly-resampler>=0.8.3.1->pycaret) (4.12.2)\n",
            "Collecting retrying (from dash>=2.9.0->plotly-resampler>=0.8.3.1->pycaret)\n",
            "  Downloading retrying-1.3.4-py3-none-any.whl.metadata (6.9 kB)\n",
            "Requirement already satisfied: nest-asyncio in /usr/local/lib/python3.10/dist-packages (from dash>=2.9.0->plotly-resampler>=0.8.3.1->pycaret) (1.6.0)\n",
            "Requirement already satisfied: jupyter-client in /usr/local/lib/python3.10/dist-packages (from ipykernel>=4.5.1->ipywidgets>=7.6.5->pycaret) (6.1.12)\n",
            "Requirement already satisfied: tornado>=4.2 in /usr/local/lib/python3.10/dist-packages (from ipykernel>=4.5.1->ipywidgets>=7.6.5->pycaret) (6.3.3)\n",
            "Requirement already satisfied: parso<0.9.0,>=0.8.3 in /usr/local/lib/python3.10/dist-packages (from jedi>=0.16->ipython>=5.5.0->pycaret) (0.8.4)\n",
            "Requirement already satisfied: attrs>=22.2.0 in /usr/local/lib/python3.10/dist-packages (from jsonschema>=2.6->nbformat>=4.2.0->pycaret) (24.2.0)\n",
            "Requirement already satisfied: jsonschema-specifications>=2023.03.6 in /usr/local/lib/python3.10/dist-packages (from jsonschema>=2.6->nbformat>=4.2.0->pycaret) (2023.12.1)\n",
            "Requirement already satisfied: referencing>=0.28.4 in /usr/local/lib/python3.10/dist-packages (from jsonschema>=2.6->nbformat>=4.2.0->pycaret) (0.35.1)\n",
            "Requirement already satisfied: rpds-py>=0.7.1 in /usr/local/lib/python3.10/dist-packages (from jsonschema>=2.6->nbformat>=4.2.0->pycaret) (0.20.0)\n",
            "Requirement already satisfied: platformdirs>=2.5 in /usr/local/lib/python3.10/dist-packages (from jupyter-core!=5.0.*,>=4.12->nbformat>=4.2.0->pycaret) (4.3.6)\n",
            "Requirement already satisfied: six in /usr/local/lib/python3.10/dist-packages (from patsy>=0.5.1->category-encoders>=2.4.0->pycaret) (1.16.0)\n",
            "Requirement already satisfied: ptyprocess>=0.5 in /usr/local/lib/python3.10/dist-packages (from pexpect>4.3->ipython>=5.5.0->pycaret) (0.7.0)\n",
            "Requirement already satisfied: wcwidth in /usr/local/lib/python3.10/dist-packages (from prompt-toolkit!=3.0.0,!=3.0.1,<3.1.0,>=2.0.0->ipython>=5.5.0->pycaret) (0.2.13)\n",
            "Requirement already satisfied: notebook>=4.4.1 in /usr/local/lib/python3.10/dist-packages (from widgetsnbextension~=3.6.0->ipywidgets>=7.6.5->pycaret) (6.5.5)\n",
            "Requirement already satisfied: itsdangerous>=2.0 in /usr/local/lib/python3.10/dist-packages (from Flask<3.1,>=1.0.4->dash>=2.9.0->plotly-resampler>=0.8.3.1->pycaret) (2.2.0)\n",
            "Requirement already satisfied: click>=8.0 in /usr/local/lib/python3.10/dist-packages (from Flask<3.1,>=1.0.4->dash>=2.9.0->plotly-resampler>=0.8.3.1->pycaret) (8.1.7)\n",
            "Requirement already satisfied: pyzmq<25,>=17 in /usr/local/lib/python3.10/dist-packages (from notebook>=4.4.1->widgetsnbextension~=3.6.0->ipywidgets>=7.6.5->pycaret) (24.0.1)\n",
            "Requirement already satisfied: argon2-cffi in /usr/local/lib/python3.10/dist-packages (from notebook>=4.4.1->widgetsnbextension~=3.6.0->ipywidgets>=7.6.5->pycaret) (23.1.0)\n",
            "Requirement already satisfied: nbconvert>=5 in /usr/local/lib/python3.10/dist-packages (from notebook>=4.4.1->widgetsnbextension~=3.6.0->ipywidgets>=7.6.5->pycaret) (6.5.4)\n",
            "Requirement already satisfied: Send2Trash>=1.8.0 in /usr/local/lib/python3.10/dist-packages (from notebook>=4.4.1->widgetsnbextension~=3.6.0->ipywidgets>=7.6.5->pycaret) (1.8.3)\n",
            "Requirement already satisfied: terminado>=0.8.3 in /usr/local/lib/python3.10/dist-packages (from notebook>=4.4.1->widgetsnbextension~=3.6.0->ipywidgets>=7.6.5->pycaret) (0.18.1)\n",
            "Requirement already satisfied: prometheus-client in /usr/local/lib/python3.10/dist-packages (from notebook>=4.4.1->widgetsnbextension~=3.6.0->ipywidgets>=7.6.5->pycaret) (0.21.0)\n",
            "Requirement already satisfied: nbclassic>=0.4.7 in /usr/local/lib/python3.10/dist-packages (from notebook>=4.4.1->widgetsnbextension~=3.6.0->ipywidgets>=7.6.5->pycaret) (1.1.0)\n",
            "Requirement already satisfied: notebook-shim>=0.2.3 in /usr/local/lib/python3.10/dist-packages (from nbclassic>=0.4.7->notebook>=4.4.1->widgetsnbextension~=3.6.0->ipywidgets>=7.6.5->pycaret) (0.2.4)\n",
            "Requirement already satisfied: lxml in /usr/local/lib/python3.10/dist-packages (from nbconvert>=5->notebook>=4.4.1->widgetsnbextension~=3.6.0->ipywidgets>=7.6.5->pycaret) (4.9.4)\n",
            "Requirement already satisfied: beautifulsoup4 in /usr/local/lib/python3.10/dist-packages (from nbconvert>=5->notebook>=4.4.1->widgetsnbextension~=3.6.0->ipywidgets>=7.6.5->pycaret) (4.12.3)\n",
            "Requirement already satisfied: bleach in /usr/local/lib/python3.10/dist-packages (from nbconvert>=5->notebook>=4.4.1->widgetsnbextension~=3.6.0->ipywidgets>=7.6.5->pycaret) (6.1.0)\n",
            "Requirement already satisfied: defusedxml in /usr/local/lib/python3.10/dist-packages (from nbconvert>=5->notebook>=4.4.1->widgetsnbextension~=3.6.0->ipywidgets>=7.6.5->pycaret) (0.7.1)\n",
            "Requirement already satisfied: entrypoints>=0.2.2 in /usr/local/lib/python3.10/dist-packages (from nbconvert>=5->notebook>=4.4.1->widgetsnbextension~=3.6.0->ipywidgets>=7.6.5->pycaret) (0.4)\n",
            "Requirement already satisfied: jupyterlab-pygments in /usr/local/lib/python3.10/dist-packages (from nbconvert>=5->notebook>=4.4.1->widgetsnbextension~=3.6.0->ipywidgets>=7.6.5->pycaret) (0.3.0)\n",
            "Requirement already satisfied: mistune<2,>=0.8.1 in /usr/local/lib/python3.10/dist-packages (from nbconvert>=5->notebook>=4.4.1->widgetsnbextension~=3.6.0->ipywidgets>=7.6.5->pycaret) (0.8.4)\n",
            "Requirement already satisfied: nbclient>=0.5.0 in /usr/local/lib/python3.10/dist-packages (from nbconvert>=5->notebook>=4.4.1->widgetsnbextension~=3.6.0->ipywidgets>=7.6.5->pycaret) (0.10.0)\n",
            "Requirement already satisfied: pandocfilters>=1.4.1 in /usr/local/lib/python3.10/dist-packages (from nbconvert>=5->notebook>=4.4.1->widgetsnbextension~=3.6.0->ipywidgets>=7.6.5->pycaret) (1.5.1)\n",
            "Requirement already satisfied: tinycss2 in /usr/local/lib/python3.10/dist-packages (from nbconvert>=5->notebook>=4.4.1->widgetsnbextension~=3.6.0->ipywidgets>=7.6.5->pycaret) (1.3.0)\n",
            "Requirement already satisfied: argon2-cffi-bindings in /usr/local/lib/python3.10/dist-packages (from argon2-cffi->notebook>=4.4.1->widgetsnbextension~=3.6.0->ipywidgets>=7.6.5->pycaret) (21.2.0)\n",
            "Requirement already satisfied: jupyter-server<3,>=1.8 in /usr/local/lib/python3.10/dist-packages (from notebook-shim>=0.2.3->nbclassic>=0.4.7->notebook>=4.4.1->widgetsnbextension~=3.6.0->ipywidgets>=7.6.5->pycaret) (1.24.0)\n",
            "Requirement already satisfied: cffi>=1.0.1 in /usr/local/lib/python3.10/dist-packages (from argon2-cffi-bindings->argon2-cffi->notebook>=4.4.1->widgetsnbextension~=3.6.0->ipywidgets>=7.6.5->pycaret) (1.17.1)\n",
            "Requirement already satisfied: soupsieve>1.2 in /usr/local/lib/python3.10/dist-packages (from beautifulsoup4->nbconvert>=5->notebook>=4.4.1->widgetsnbextension~=3.6.0->ipywidgets>=7.6.5->pycaret) (2.6)\n",
            "Requirement already satisfied: webencodings in /usr/local/lib/python3.10/dist-packages (from bleach->nbconvert>=5->notebook>=4.4.1->widgetsnbextension~=3.6.0->ipywidgets>=7.6.5->pycaret) (0.5.1)\n",
            "Requirement already satisfied: pycparser in /usr/local/lib/python3.10/dist-packages (from cffi>=1.0.1->argon2-cffi-bindings->argon2-cffi->notebook>=4.4.1->widgetsnbextension~=3.6.0->ipywidgets>=7.6.5->pycaret) (2.22)\n",
            "Requirement already satisfied: anyio<4,>=3.1.0 in /usr/local/lib/python3.10/dist-packages (from jupyter-server<3,>=1.8->notebook-shim>=0.2.3->nbclassic>=0.4.7->notebook>=4.4.1->widgetsnbextension~=3.6.0->ipywidgets>=7.6.5->pycaret) (3.7.1)\n",
            "Requirement already satisfied: websocket-client in /usr/local/lib/python3.10/dist-packages (from jupyter-server<3,>=1.8->notebook-shim>=0.2.3->nbclassic>=0.4.7->notebook>=4.4.1->widgetsnbextension~=3.6.0->ipywidgets>=7.6.5->pycaret) (1.8.0)\n",
            "Requirement already satisfied: sniffio>=1.1 in /usr/local/lib/python3.10/dist-packages (from anyio<4,>=3.1.0->jupyter-server<3,>=1.8->notebook-shim>=0.2.3->nbclassic>=0.4.7->notebook>=4.4.1->widgetsnbextension~=3.6.0->ipywidgets>=7.6.5->pycaret) (1.3.1)\n",
            "Requirement already satisfied: exceptiongroup in /usr/local/lib/python3.10/dist-packages (from anyio<4,>=3.1.0->jupyter-server<3,>=1.8->notebook-shim>=0.2.3->nbclassic>=0.4.7->notebook>=4.4.1->widgetsnbextension~=3.6.0->ipywidgets>=7.6.5->pycaret) (1.2.2)\n",
            "Downloading pycaret-3.3.2-py3-none-any.whl (486 kB)\n",
            "\u001b[2K   \u001b[90m━━━━━━━━━━━━━━━━━━━━━━━━━━━━━━━━━━━━━━━━\u001b[0m \u001b[32m486.1/486.1 kB\u001b[0m \u001b[31m13.6 MB/s\u001b[0m eta \u001b[36m0:00:00\u001b[0m\n",
            "\u001b[?25hDownloading schemdraw-0.15-py3-none-any.whl (106 kB)\n",
            "\u001b[2K   \u001b[90m━━━━━━━━━━━━━━━━━━━━━━━━━━━━━━━━━━━━━━━━\u001b[0m \u001b[32m106.8/106.8 kB\u001b[0m \u001b[31m7.4 MB/s\u001b[0m eta \u001b[36m0:00:00\u001b[0m\n",
            "\u001b[?25hDownloading sktime-0.26.0-py3-none-any.whl (21.8 MB)\n",
            "\u001b[2K   \u001b[90m━━━━━━━━━━━━━━━━━━━━━━━━━━━━━━━━━━━━━━━━\u001b[0m \u001b[32m21.8/21.8 MB\u001b[0m \u001b[31m28.2 MB/s\u001b[0m eta \u001b[36m0:00:00\u001b[0m\n",
            "\u001b[?25hDownloading category_encoders-2.6.4-py2.py3-none-any.whl (82 kB)\n",
            "\u001b[2K   \u001b[90m━━━━━━━━━━━━━━━━━━━━━━━━━━━━━━━━━━━━━━━━\u001b[0m \u001b[32m82.0/82.0 kB\u001b[0m \u001b[31m5.2 MB/s\u001b[0m eta \u001b[36m0:00:00\u001b[0m\n",
            "\u001b[?25hDownloading deprecation-2.1.0-py2.py3-none-any.whl (11 kB)\n",
            "Downloading joblib-1.3.2-py3-none-any.whl (302 kB)\n",
            "\u001b[2K   \u001b[90m━━━━━━━━━━━━━━━━━━━━━━━━━━━━━━━━━━━━━━━━\u001b[0m \u001b[32m302.2/302.2 kB\u001b[0m \u001b[31m15.9 MB/s\u001b[0m eta \u001b[36m0:00:00\u001b[0m\n",
            "\u001b[?25hDownloading kaleido-0.2.1-py2.py3-none-manylinux1_x86_64.whl (79.9 MB)\n",
            "\u001b[2K   \u001b[90m━━━━━━━━━━━━━━━━━━━━━━━━━━━━━━━━━━━━━━━━\u001b[0m \u001b[32m79.9/79.9 MB\u001b[0m \u001b[31m5.5 MB/s\u001b[0m eta \u001b[36m0:00:00\u001b[0m\n",
            "\u001b[?25hDownloading pandas-2.1.4-cp310-cp310-manylinux_2_17_x86_64.manylinux2014_x86_64.whl (12.3 MB)\n",
            "\u001b[2K   \u001b[90m━━━━━━━━━━━━━━━━━━━━━━━━━━━━━━━━━━━━━━━━\u001b[0m \u001b[32m12.3/12.3 MB\u001b[0m \u001b[31m17.9 MB/s\u001b[0m eta \u001b[36m0:00:00\u001b[0m\n",
            "\u001b[?25hDownloading plotly_resampler-0.10.0-py3-none-any.whl (80 kB)\n",
            "\u001b[2K   \u001b[90m━━━━━━━━━━━━━━━━━━━━━━━━━━━━━━━━━━━━━━━━\u001b[0m \u001b[32m80.7/80.7 kB\u001b[0m \u001b[31m4.4 MB/s\u001b[0m eta \u001b[36m0:00:00\u001b[0m\n",
            "\u001b[?25hDownloading pmdarima-2.0.4-cp310-cp310-manylinux_2_17_x86_64.manylinux2014_x86_64.manylinux_2_28_x86_64.whl (2.1 MB)\n",
            "\u001b[2K   \u001b[90m━━━━━━━━━━━━━━━━━━━━━━━━━━━━━━━━━━━━━━━━\u001b[0m \u001b[32m2.1/2.1 MB\u001b[0m \u001b[31m14.4 MB/s\u001b[0m eta \u001b[36m0:00:00\u001b[0m\n",
            "\u001b[?25hDownloading scikit_learn-1.4.2-cp310-cp310-manylinux_2_17_x86_64.manylinux2014_x86_64.whl (12.1 MB)\n",
            "\u001b[2K   \u001b[90m━━━━━━━━━━━━━━━━━━━━━━━━━━━━━━━━━━━━━━━━\u001b[0m \u001b[32m12.1/12.1 MB\u001b[0m \u001b[31m13.9 MB/s\u001b[0m eta \u001b[36m0:00:00\u001b[0m\n",
            "\u001b[?25hDownloading scikit_plot-0.3.7-py3-none-any.whl (33 kB)\n",
            "Downloading scipy-1.11.4-cp310-cp310-manylinux_2_17_x86_64.manylinux2014_x86_64.whl (36.4 MB)\n",
            "\u001b[2K   \u001b[90m━━━━━━━━━━━━━━━━━━━━━━━━━━━━━━━━━━━━━━━━\u001b[0m \u001b[32m36.4/36.4 MB\u001b[0m \u001b[31m11.0 MB/s\u001b[0m eta \u001b[36m0:00:00\u001b[0m\n",
            "\u001b[?25hDownloading tbats-1.1.3-py3-none-any.whl (44 kB)\n",
            "\u001b[2K   \u001b[90m━━━━━━━━━━━━━━━━━━━━━━━━━━━━━━━━━━━━━━━━\u001b[0m \u001b[32m44.0/44.0 kB\u001b[0m \u001b[31m3.3 MB/s\u001b[0m eta \u001b[36m0:00:00\u001b[0m\n",
            "\u001b[?25hDownloading wurlitzer-3.1.1-py3-none-any.whl (8.6 kB)\n",
            "Downloading xxhash-3.5.0-cp310-cp310-manylinux_2_17_x86_64.manylinux2014_x86_64.whl (194 kB)\n",
            "\u001b[2K   \u001b[90m━━━━━━━━━━━━━━━━━━━━━━━━━━━━━━━━━━━━━━━━\u001b[0m \u001b[32m194.1/194.1 kB\u001b[0m \u001b[31m15.0 MB/s\u001b[0m eta \u001b[36m0:00:00\u001b[0m\n",
            "\u001b[?25hDownloading dash-2.18.1-py3-none-any.whl (7.5 MB)\n",
            "\u001b[2K   \u001b[90m━━━━━━━━━━━━━━━━━━━━━━━━━━━━━━━━━━━━━━━━\u001b[0m \u001b[32m7.5/7.5 MB\u001b[0m \u001b[31m76.0 MB/s\u001b[0m eta \u001b[36m0:00:00\u001b[0m\n",
            "\u001b[?25hDownloading dash_core_components-2.0.0-py3-none-any.whl (3.8 kB)\n",
            "Downloading dash_html_components-2.0.0-py3-none-any.whl (4.1 kB)\n",
            "Downloading dash_table-5.0.0-py3-none-any.whl (3.9 kB)\n",
            "Using cached jedi-0.19.1-py2.py3-none-any.whl (1.6 MB)\n",
            "Downloading orjson-3.10.7-cp310-cp310-manylinux_2_17_x86_64.manylinux2014_x86_64.whl (141 kB)\n",
            "\u001b[2K   \u001b[90m━━━━━━━━━━━━━━━━━━━━━━━━━━━━━━━━━━━━━━━━\u001b[0m \u001b[32m141.9/141.9 kB\u001b[0m \u001b[31m9.7 MB/s\u001b[0m eta \u001b[36m0:00:00\u001b[0m\n",
            "\u001b[?25hDownloading scikit_base-0.7.8-py3-none-any.whl (130 kB)\n",
            "\u001b[2K   \u001b[90m━━━━━━━━━━━━━━━━━━━━━━━━━━━━━━━━━━━━━━━━\u001b[0m \u001b[32m130.1/130.1 kB\u001b[0m \u001b[31m9.6 MB/s\u001b[0m eta \u001b[36m0:00:00\u001b[0m\n",
            "\u001b[?25hDownloading tsdownsample-0.1.3-cp310-cp310-manylinux_2_17_x86_64.manylinux2014_x86_64.whl (2.1 MB)\n",
            "\u001b[2K   \u001b[90m━━━━━━━━━━━━━━━━━━━━━━━━━━━━━━━━━━━━━━━━\u001b[0m \u001b[32m2.1/2.1 MB\u001b[0m \u001b[31m55.5 MB/s\u001b[0m eta \u001b[36m0:00:00\u001b[0m\n",
            "\u001b[?25hDownloading retrying-1.3.4-py3-none-any.whl (11 kB)\n",
            "Building wheels for collected packages: pyod\n",
            "  Building wheel for pyod (setup.py) ... \u001b[?25l\u001b[?25hdone\n",
            "  Created wheel for pyod: filename=pyod-2.0.2-py3-none-any.whl size=198469 sha256=b997fe143f1a9885183f63508906050a37551dd51cead028f0ef9dd213c22f76\n",
            "  Stored in directory: /root/.cache/pip/wheels/77/c2/20/34d1f15b41b701ba69f42a32304825810d680754d509f91391\n",
            "Successfully built pyod\n",
            "Installing collected packages: kaleido, dash-table, dash-html-components, dash-core-components, xxhash, wurlitzer, tsdownsample, scipy, scikit-base, schemdraw, retrying, orjson, joblib, jedi, deprecation, scikit-learn, pandas, sktime, scikit-plot, pyod, dash, pmdarima, plotly-resampler, category-encoders, tbats, pycaret\n",
            "  Attempting uninstall: scipy\n",
            "    Found existing installation: scipy 1.13.1\n",
            "    Uninstalling scipy-1.13.1:\n",
            "      Successfully uninstalled scipy-1.13.1\n",
            "  Attempting uninstall: joblib\n",
            "    Found existing installation: joblib 1.4.2\n",
            "    Uninstalling joblib-1.4.2:\n",
            "      Successfully uninstalled joblib-1.4.2\n",
            "  Attempting uninstall: scikit-learn\n",
            "    Found existing installation: scikit-learn 1.5.2\n",
            "    Uninstalling scikit-learn-1.5.2:\n",
            "      Successfully uninstalled scikit-learn-1.5.2\n",
            "  Attempting uninstall: pandas\n",
            "    Found existing installation: pandas 2.2.2\n",
            "    Uninstalling pandas-2.2.2:\n",
            "      Successfully uninstalled pandas-2.2.2\n",
            "\u001b[31mERROR: pip's dependency resolver does not currently take into account all the packages that are installed. This behaviour is the source of the following dependency conflicts.\n",
            "google-colab 1.0.0 requires pandas==2.2.2, but you have pandas 2.1.4 which is incompatible.\u001b[0m\u001b[31m\n",
            "\u001b[0mSuccessfully installed category-encoders-2.6.4 dash-2.18.1 dash-core-components-2.0.0 dash-html-components-2.0.0 dash-table-5.0.0 deprecation-2.1.0 jedi-0.19.1 joblib-1.3.2 kaleido-0.2.1 orjson-3.10.7 pandas-2.1.4 plotly-resampler-0.10.0 pmdarima-2.0.4 pycaret-3.3.2 pyod-2.0.2 retrying-1.3.4 schemdraw-0.15 scikit-base-0.7.8 scikit-learn-1.4.2 scikit-plot-0.3.7 scipy-1.11.4 sktime-0.26.0 tbats-1.1.3 tsdownsample-0.1.3 wurlitzer-3.1.1 xxhash-3.5.0\n"
          ]
        },
        {
          "output_type": "display_data",
          "data": {
            "application/vnd.colab-display-data+json": {
              "pip_warning": {
                "packages": [
                  "joblib",
                  "sklearn"
                ]
              },
              "id": "2a9d5782d57f4fc7a36af4d32aa5c7c2"
            }
          },
          "metadata": {}
        }
      ]
    },
    {
      "cell_type": "code",
      "source": [
        "from pycaret.classification import *\n",
        "pcrt = setup(data=X,target=reasons,session_id=42, verbose=True,imputation_type=None,memory=False,feature_selection=False )\n",
        "compare_models(verbose=True)"
      ],
      "metadata": {
        "colab": {
          "base_uri": "https://localhost:8080/",
          "height": 1000,
          "referenced_widgets": [
            "ade62a2da49f43519cb15508563d14c3",
            "1edc3bf5df594fbfa5799130b4c37ba0",
            "c09470f2068c4737a07da9379362d40e",
            "fb402eb32158486b996211e510fb0d55",
            "c5a38dc8b6f54a82863c66988425e2d6",
            "adbfabed0d0a4266af9487bc150079f7",
            "ace9ecca299149b09f16b019f259e4e4",
            "4bc33dae9b704041b2586b30206dc358",
            "77c6b6c6a6b64032ab68b6afd3d48dd0",
            "800a0ee6233141d0aab3d2e1a0886287",
            "5ed099c96fc44e5abf4f48379f1acdef"
          ]
        },
        "id": "zpnanOk-M9zB",
        "outputId": "e2032dca-32c8-4ed6-c50b-4646e7db55d2"
      },
      "execution_count": null,
      "outputs": [
        {
          "output_type": "display_data",
          "data": {
            "text/plain": [
              "<pandas.io.formats.style.Styler at 0x78068c164a90>"
            ],
            "text/html": [
              "<style type=\"text/css\">\n",
              "#T_d841a_row9_col1 {\n",
              "  background-color: lightgreen;\n",
              "}\n",
              "</style>\n",
              "<table id=\"T_d841a\" class=\"dataframe\">\n",
              "  <thead>\n",
              "    <tr>\n",
              "      <th class=\"blank level0\" >&nbsp;</th>\n",
              "      <th id=\"T_d841a_level0_col0\" class=\"col_heading level0 col0\" >Description</th>\n",
              "      <th id=\"T_d841a_level0_col1\" class=\"col_heading level0 col1\" >Value</th>\n",
              "    </tr>\n",
              "  </thead>\n",
              "  <tbody>\n",
              "    <tr>\n",
              "      <th id=\"T_d841a_level0_row0\" class=\"row_heading level0 row0\" >0</th>\n",
              "      <td id=\"T_d841a_row0_col0\" class=\"data row0 col0\" >Session id</td>\n",
              "      <td id=\"T_d841a_row0_col1\" class=\"data row0 col1\" >42</td>\n",
              "    </tr>\n",
              "    <tr>\n",
              "      <th id=\"T_d841a_level0_row1\" class=\"row_heading level0 row1\" >1</th>\n",
              "      <td id=\"T_d841a_row1_col0\" class=\"data row1 col0\" >Target</td>\n",
              "      <td id=\"T_d841a_row1_col1\" class=\"data row1 col1\" >target</td>\n",
              "    </tr>\n",
              "    <tr>\n",
              "      <th id=\"T_d841a_level0_row2\" class=\"row_heading level0 row2\" >2</th>\n",
              "      <td id=\"T_d841a_row2_col0\" class=\"data row2 col0\" >Target type</td>\n",
              "      <td id=\"T_d841a_row2_col1\" class=\"data row2 col1\" >Multiclass</td>\n",
              "    </tr>\n",
              "    <tr>\n",
              "      <th id=\"T_d841a_level0_row3\" class=\"row_heading level0 row3\" >3</th>\n",
              "      <td id=\"T_d841a_row3_col0\" class=\"data row3 col0\" >Target mapping</td>\n",
              "      <td id=\"T_d841a_row3_col1\" class=\"data row3 col1\" >baggage: 0, booking: 1, check: 2, checkout: 3, communications: 4, digital support: 5, disability: 6, etc: 7, irrops: 8, mileage plus: 9, post flight: 10, products services: 11, schedule change: 12, seating: 13, topics: 14, traveler updates: 15, unaccompanied minor: 16, upgrade: 17, voluntary cancel: 18, voluntary change: 19</td>\n",
              "    </tr>\n",
              "    <tr>\n",
              "      <th id=\"T_d841a_level0_row4\" class=\"row_heading level0 row4\" >4</th>\n",
              "      <td id=\"T_d841a_row4_col0\" class=\"data row4 col0\" >Original data shape</td>\n",
              "      <td id=\"T_d841a_row4_col1\" class=\"data row4 col1\" >(66552, 32615)</td>\n",
              "    </tr>\n",
              "    <tr>\n",
              "      <th id=\"T_d841a_level0_row5\" class=\"row_heading level0 row5\" >5</th>\n",
              "      <td id=\"T_d841a_row5_col0\" class=\"data row5 col0\" >Transformed data shape</td>\n",
              "      <td id=\"T_d841a_row5_col1\" class=\"data row5 col1\" >(66552, 32615)</td>\n",
              "    </tr>\n",
              "    <tr>\n",
              "      <th id=\"T_d841a_level0_row6\" class=\"row_heading level0 row6\" >6</th>\n",
              "      <td id=\"T_d841a_row6_col0\" class=\"data row6 col0\" >Transformed train set shape</td>\n",
              "      <td id=\"T_d841a_row6_col1\" class=\"data row6 col1\" >(46586, 32615)</td>\n",
              "    </tr>\n",
              "    <tr>\n",
              "      <th id=\"T_d841a_level0_row7\" class=\"row_heading level0 row7\" >7</th>\n",
              "      <td id=\"T_d841a_row7_col0\" class=\"data row7 col0\" >Transformed test set shape</td>\n",
              "      <td id=\"T_d841a_row7_col1\" class=\"data row7 col1\" >(19966, 32615)</td>\n",
              "    </tr>\n",
              "    <tr>\n",
              "      <th id=\"T_d841a_level0_row8\" class=\"row_heading level0 row8\" >8</th>\n",
              "      <td id=\"T_d841a_row8_col0\" class=\"data row8 col0\" >Numeric features</td>\n",
              "      <td id=\"T_d841a_row8_col1\" class=\"data row8 col1\" >32614</td>\n",
              "    </tr>\n",
              "    <tr>\n",
              "      <th id=\"T_d841a_level0_row9\" class=\"row_heading level0 row9\" >9</th>\n",
              "      <td id=\"T_d841a_row9_col0\" class=\"data row9 col0\" >Preprocess</td>\n",
              "      <td id=\"T_d841a_row9_col1\" class=\"data row9 col1\" >True</td>\n",
              "    </tr>\n",
              "    <tr>\n",
              "      <th id=\"T_d841a_level0_row10\" class=\"row_heading level0 row10\" >10</th>\n",
              "      <td id=\"T_d841a_row10_col0\" class=\"data row10 col0\" >Imputation type</td>\n",
              "      <td id=\"T_d841a_row10_col1\" class=\"data row10 col1\" >None</td>\n",
              "    </tr>\n",
              "    <tr>\n",
              "      <th id=\"T_d841a_level0_row11\" class=\"row_heading level0 row11\" >11</th>\n",
              "      <td id=\"T_d841a_row11_col0\" class=\"data row11 col0\" >Fold Generator</td>\n",
              "      <td id=\"T_d841a_row11_col1\" class=\"data row11 col1\" >StratifiedKFold</td>\n",
              "    </tr>\n",
              "    <tr>\n",
              "      <th id=\"T_d841a_level0_row12\" class=\"row_heading level0 row12\" >12</th>\n",
              "      <td id=\"T_d841a_row12_col0\" class=\"data row12 col0\" >Fold Number</td>\n",
              "      <td id=\"T_d841a_row12_col1\" class=\"data row12 col1\" >10</td>\n",
              "    </tr>\n",
              "    <tr>\n",
              "      <th id=\"T_d841a_level0_row13\" class=\"row_heading level0 row13\" >13</th>\n",
              "      <td id=\"T_d841a_row13_col0\" class=\"data row13 col0\" >CPU Jobs</td>\n",
              "      <td id=\"T_d841a_row13_col1\" class=\"data row13 col1\" >-1</td>\n",
              "    </tr>\n",
              "    <tr>\n",
              "      <th id=\"T_d841a_level0_row14\" class=\"row_heading level0 row14\" >14</th>\n",
              "      <td id=\"T_d841a_row14_col0\" class=\"data row14 col0\" >Use GPU</td>\n",
              "      <td id=\"T_d841a_row14_col1\" class=\"data row14 col1\" >False</td>\n",
              "    </tr>\n",
              "    <tr>\n",
              "      <th id=\"T_d841a_level0_row15\" class=\"row_heading level0 row15\" >15</th>\n",
              "      <td id=\"T_d841a_row15_col0\" class=\"data row15 col0\" >Log Experiment</td>\n",
              "      <td id=\"T_d841a_row15_col1\" class=\"data row15 col1\" >False</td>\n",
              "    </tr>\n",
              "    <tr>\n",
              "      <th id=\"T_d841a_level0_row16\" class=\"row_heading level0 row16\" >16</th>\n",
              "      <td id=\"T_d841a_row16_col0\" class=\"data row16 col0\" >Experiment Name</td>\n",
              "      <td id=\"T_d841a_row16_col1\" class=\"data row16 col1\" >clf-default-name</td>\n",
              "    </tr>\n",
              "    <tr>\n",
              "      <th id=\"T_d841a_level0_row17\" class=\"row_heading level0 row17\" >17</th>\n",
              "      <td id=\"T_d841a_row17_col0\" class=\"data row17 col0\" >USI</td>\n",
              "      <td id=\"T_d841a_row17_col1\" class=\"data row17 col1\" >b647</td>\n",
              "    </tr>\n",
              "  </tbody>\n",
              "</table>\n"
            ]
          },
          "metadata": {}
        },
        {
          "output_type": "display_data",
          "data": {
            "text/plain": [
              "                                                                            \n",
              "                                                                            \n",
              "Initiated  . . . . . . . . . . . . . . . . . .                      18:22:22\n",
              "Status     . . . . . . . . . . . . . . . . . .              Fitting 10 Folds\n",
              "Estimator  . . . . . . . . . . . . . . . . . .  Gradient Boosting Classifier"
            ],
            "text/html": [
              "\n",
              "  <div id=\"df-1a4710f0-2ac1-47e7-a5d3-09a8473e7cdd\" class=\"colab-df-container\">\n",
              "    <div>\n",
              "<style scoped>\n",
              "    .dataframe tbody tr th:only-of-type {\n",
              "        vertical-align: middle;\n",
              "    }\n",
              "\n",
              "    .dataframe tbody tr th {\n",
              "        vertical-align: top;\n",
              "    }\n",
              "\n",
              "    .dataframe thead th {\n",
              "        text-align: right;\n",
              "    }\n",
              "</style>\n",
              "<table border=\"1\" class=\"dataframe\">\n",
              "  <thead>\n",
              "    <tr style=\"text-align: right;\">\n",
              "      <th></th>\n",
              "      <th></th>\n",
              "      <th></th>\n",
              "    </tr>\n",
              "    <tr>\n",
              "      <th></th>\n",
              "      <th></th>\n",
              "      <th></th>\n",
              "    </tr>\n",
              "  </thead>\n",
              "  <tbody>\n",
              "    <tr>\n",
              "      <th>Initiated</th>\n",
              "      <td>. . . . . . . . . . . . . . . . . .</td>\n",
              "      <td>18:22:22</td>\n",
              "    </tr>\n",
              "    <tr>\n",
              "      <th>Status</th>\n",
              "      <td>. . . . . . . . . . . . . . . . . .</td>\n",
              "      <td>Fitting 10 Folds</td>\n",
              "    </tr>\n",
              "    <tr>\n",
              "      <th>Estimator</th>\n",
              "      <td>. . . . . . . . . . . . . . . . . .</td>\n",
              "      <td>Gradient Boosting Classifier</td>\n",
              "    </tr>\n",
              "  </tbody>\n",
              "</table>\n",
              "</div>\n",
              "    <div class=\"colab-df-buttons\">\n",
              "\n",
              "  <div class=\"colab-df-container\">\n",
              "    <button class=\"colab-df-convert\" onclick=\"convertToInteractive('df-1a4710f0-2ac1-47e7-a5d3-09a8473e7cdd')\"\n",
              "            title=\"Convert this dataframe to an interactive table.\"\n",
              "            style=\"display:none;\">\n",
              "\n",
              "  <svg xmlns=\"http://www.w3.org/2000/svg\" height=\"24px\" viewBox=\"0 -960 960 960\">\n",
              "    <path d=\"M120-120v-720h720v720H120Zm60-500h600v-160H180v160Zm220 220h160v-160H400v160Zm0 220h160v-160H400v160ZM180-400h160v-160H180v160Zm440 0h160v-160H620v160ZM180-180h160v-160H180v160Zm440 0h160v-160H620v160Z\"/>\n",
              "  </svg>\n",
              "    </button>\n",
              "\n",
              "  <style>\n",
              "    .colab-df-container {\n",
              "      display:flex;\n",
              "      gap: 12px;\n",
              "    }\n",
              "\n",
              "    .colab-df-convert {\n",
              "      background-color: #E8F0FE;\n",
              "      border: none;\n",
              "      border-radius: 50%;\n",
              "      cursor: pointer;\n",
              "      display: none;\n",
              "      fill: #1967D2;\n",
              "      height: 32px;\n",
              "      padding: 0 0 0 0;\n",
              "      width: 32px;\n",
              "    }\n",
              "\n",
              "    .colab-df-convert:hover {\n",
              "      background-color: #E2EBFA;\n",
              "      box-shadow: 0px 1px 2px rgba(60, 64, 67, 0.3), 0px 1px 3px 1px rgba(60, 64, 67, 0.15);\n",
              "      fill: #174EA6;\n",
              "    }\n",
              "\n",
              "    .colab-df-buttons div {\n",
              "      margin-bottom: 4px;\n",
              "    }\n",
              "\n",
              "    [theme=dark] .colab-df-convert {\n",
              "      background-color: #3B4455;\n",
              "      fill: #D2E3FC;\n",
              "    }\n",
              "\n",
              "    [theme=dark] .colab-df-convert:hover {\n",
              "      background-color: #434B5C;\n",
              "      box-shadow: 0px 1px 3px 1px rgba(0, 0, 0, 0.15);\n",
              "      filter: drop-shadow(0px 1px 2px rgba(0, 0, 0, 0.3));\n",
              "      fill: #FFFFFF;\n",
              "    }\n",
              "  </style>\n",
              "\n",
              "    <script>\n",
              "      const buttonEl =\n",
              "        document.querySelector('#df-1a4710f0-2ac1-47e7-a5d3-09a8473e7cdd button.colab-df-convert');\n",
              "      buttonEl.style.display =\n",
              "        google.colab.kernel.accessAllowed ? 'block' : 'none';\n",
              "\n",
              "      async function convertToInteractive(key) {\n",
              "        const element = document.querySelector('#df-1a4710f0-2ac1-47e7-a5d3-09a8473e7cdd');\n",
              "        const dataTable =\n",
              "          await google.colab.kernel.invokeFunction('convertToInteractive',\n",
              "                                                    [key], {});\n",
              "        if (!dataTable) return;\n",
              "\n",
              "        const docLinkHtml = 'Like what you see? Visit the ' +\n",
              "          '<a target=\"_blank\" href=https://colab.research.google.com/notebooks/data_table.ipynb>data table notebook</a>'\n",
              "          + ' to learn more about interactive tables.';\n",
              "        element.innerHTML = '';\n",
              "        dataTable['output_type'] = 'display_data';\n",
              "        await google.colab.output.renderOutput(dataTable, element);\n",
              "        const docLink = document.createElement('div');\n",
              "        docLink.innerHTML = docLinkHtml;\n",
              "        element.appendChild(docLink);\n",
              "      }\n",
              "    </script>\n",
              "  </div>\n",
              "\n",
              "\n",
              "<div id=\"df-9003518a-f59a-436d-ad2e-e32fd455e454\">\n",
              "  <button class=\"colab-df-quickchart\" onclick=\"quickchart('df-9003518a-f59a-436d-ad2e-e32fd455e454')\"\n",
              "            title=\"Suggest charts\"\n",
              "            style=\"display:none;\">\n",
              "\n",
              "<svg xmlns=\"http://www.w3.org/2000/svg\" height=\"24px\"viewBox=\"0 0 24 24\"\n",
              "     width=\"24px\">\n",
              "    <g>\n",
              "        <path d=\"M19 3H5c-1.1 0-2 .9-2 2v14c0 1.1.9 2 2 2h14c1.1 0 2-.9 2-2V5c0-1.1-.9-2-2-2zM9 17H7v-7h2v7zm4 0h-2V7h2v10zm4 0h-2v-4h2v4z\"/>\n",
              "    </g>\n",
              "</svg>\n",
              "  </button>\n",
              "\n",
              "<style>\n",
              "  .colab-df-quickchart {\n",
              "      --bg-color: #E8F0FE;\n",
              "      --fill-color: #1967D2;\n",
              "      --hover-bg-color: #E2EBFA;\n",
              "      --hover-fill-color: #174EA6;\n",
              "      --disabled-fill-color: #AAA;\n",
              "      --disabled-bg-color: #DDD;\n",
              "  }\n",
              "\n",
              "  [theme=dark] .colab-df-quickchart {\n",
              "      --bg-color: #3B4455;\n",
              "      --fill-color: #D2E3FC;\n",
              "      --hover-bg-color: #434B5C;\n",
              "      --hover-fill-color: #FFFFFF;\n",
              "      --disabled-bg-color: #3B4455;\n",
              "      --disabled-fill-color: #666;\n",
              "  }\n",
              "\n",
              "  .colab-df-quickchart {\n",
              "    background-color: var(--bg-color);\n",
              "    border: none;\n",
              "    border-radius: 50%;\n",
              "    cursor: pointer;\n",
              "    display: none;\n",
              "    fill: var(--fill-color);\n",
              "    height: 32px;\n",
              "    padding: 0;\n",
              "    width: 32px;\n",
              "  }\n",
              "\n",
              "  .colab-df-quickchart:hover {\n",
              "    background-color: var(--hover-bg-color);\n",
              "    box-shadow: 0 1px 2px rgba(60, 64, 67, 0.3), 0 1px 3px 1px rgba(60, 64, 67, 0.15);\n",
              "    fill: var(--button-hover-fill-color);\n",
              "  }\n",
              "\n",
              "  .colab-df-quickchart-complete:disabled,\n",
              "  .colab-df-quickchart-complete:disabled:hover {\n",
              "    background-color: var(--disabled-bg-color);\n",
              "    fill: var(--disabled-fill-color);\n",
              "    box-shadow: none;\n",
              "  }\n",
              "\n",
              "  .colab-df-spinner {\n",
              "    border: 2px solid var(--fill-color);\n",
              "    border-color: transparent;\n",
              "    border-bottom-color: var(--fill-color);\n",
              "    animation:\n",
              "      spin 1s steps(1) infinite;\n",
              "  }\n",
              "\n",
              "  @keyframes spin {\n",
              "    0% {\n",
              "      border-color: transparent;\n",
              "      border-bottom-color: var(--fill-color);\n",
              "      border-left-color: var(--fill-color);\n",
              "    }\n",
              "    20% {\n",
              "      border-color: transparent;\n",
              "      border-left-color: var(--fill-color);\n",
              "      border-top-color: var(--fill-color);\n",
              "    }\n",
              "    30% {\n",
              "      border-color: transparent;\n",
              "      border-left-color: var(--fill-color);\n",
              "      border-top-color: var(--fill-color);\n",
              "      border-right-color: var(--fill-color);\n",
              "    }\n",
              "    40% {\n",
              "      border-color: transparent;\n",
              "      border-right-color: var(--fill-color);\n",
              "      border-top-color: var(--fill-color);\n",
              "    }\n",
              "    60% {\n",
              "      border-color: transparent;\n",
              "      border-right-color: var(--fill-color);\n",
              "    }\n",
              "    80% {\n",
              "      border-color: transparent;\n",
              "      border-right-color: var(--fill-color);\n",
              "      border-bottom-color: var(--fill-color);\n",
              "    }\n",
              "    90% {\n",
              "      border-color: transparent;\n",
              "      border-bottom-color: var(--fill-color);\n",
              "    }\n",
              "  }\n",
              "</style>\n",
              "\n",
              "  <script>\n",
              "    async function quickchart(key) {\n",
              "      const quickchartButtonEl =\n",
              "        document.querySelector('#' + key + ' button');\n",
              "      quickchartButtonEl.disabled = true;  // To prevent multiple clicks.\n",
              "      quickchartButtonEl.classList.add('colab-df-spinner');\n",
              "      try {\n",
              "        const charts = await google.colab.kernel.invokeFunction(\n",
              "            'suggestCharts', [key], {});\n",
              "      } catch (error) {\n",
              "        console.error('Error during call to suggestCharts:', error);\n",
              "      }\n",
              "      quickchartButtonEl.classList.remove('colab-df-spinner');\n",
              "      quickchartButtonEl.classList.add('colab-df-quickchart-complete');\n",
              "    }\n",
              "    (() => {\n",
              "      let quickchartButtonEl =\n",
              "        document.querySelector('#df-9003518a-f59a-436d-ad2e-e32fd455e454 button');\n",
              "      quickchartButtonEl.style.display =\n",
              "        google.colab.kernel.accessAllowed ? 'block' : 'none';\n",
              "    })();\n",
              "  </script>\n",
              "</div>\n",
              "\n",
              "    </div>\n",
              "  </div>\n"
            ],
            "application/vnd.google.colaboratory.intrinsic+json": {
              "type": "dataframe",
              "summary": "{\n  \"name\": \"compare_models(verbose=True)\",\n  \"rows\": 3,\n  \"fields\": [\n    {\n      \"column\": \" \",\n      \"properties\": {\n        \"dtype\": \"category\",\n        \"num_unique_values\": 1,\n        \"samples\": [\n          \". . . . . . . . . . . . . . . . . .\"\n        ],\n        \"semantic_type\": \"\",\n        \"description\": \"\"\n      }\n    },\n    {\n      \"column\": \"  \",\n      \"properties\": {\n        \"dtype\": \"string\",\n        \"num_unique_values\": 3,\n        \"samples\": [\n          \"18:22:22\"\n        ],\n        \"semantic_type\": \"\",\n        \"description\": \"\"\n      }\n    }\n  ]\n}"
            }
          },
          "metadata": {}
        },
        {
          "output_type": "display_data",
          "data": {
            "text/plain": [
              "<pandas.io.formats.style.Styler at 0x78068b820970>"
            ],
            "text/html": [
              "<style type=\"text/css\">\n",
              "#T_00148 th {\n",
              "  text-align: left;\n",
              "}\n",
              "#T_00148_row0_col0, #T_00148_row0_col1, #T_00148_row0_col2, #T_00148_row0_col3, #T_00148_row0_col4, #T_00148_row0_col5, #T_00148_row0_col6, #T_00148_row0_col7, #T_00148_row0_col8, #T_00148_row1_col0, #T_00148_row1_col1, #T_00148_row1_col2, #T_00148_row1_col3, #T_00148_row1_col4, #T_00148_row1_col5, #T_00148_row1_col6, #T_00148_row1_col7, #T_00148_row1_col8, #T_00148_row2_col0, #T_00148_row2_col1, #T_00148_row2_col2, #T_00148_row2_col3, #T_00148_row2_col4, #T_00148_row2_col5, #T_00148_row2_col6, #T_00148_row2_col7, #T_00148_row2_col8, #T_00148_row3_col0, #T_00148_row3_col1, #T_00148_row3_col2, #T_00148_row3_col3, #T_00148_row3_col4, #T_00148_row3_col5, #T_00148_row3_col6, #T_00148_row3_col7, #T_00148_row3_col8, #T_00148_row4_col0, #T_00148_row4_col1, #T_00148_row4_col2, #T_00148_row4_col3, #T_00148_row4_col4, #T_00148_row4_col5, #T_00148_row4_col6, #T_00148_row4_col7, #T_00148_row4_col8, #T_00148_row5_col0, #T_00148_row5_col1, #T_00148_row5_col2, #T_00148_row5_col3, #T_00148_row5_col4, #T_00148_row5_col5, #T_00148_row5_col6, #T_00148_row5_col7, #T_00148_row5_col8, #T_00148_row6_col0, #T_00148_row6_col1, #T_00148_row6_col2, #T_00148_row6_col3, #T_00148_row6_col4, #T_00148_row6_col5, #T_00148_row6_col6, #T_00148_row6_col7, #T_00148_row6_col8 {\n",
              "  text-align: left;\n",
              "}\n",
              "</style>\n",
              "<table id=\"T_00148\" class=\"dataframe\">\n",
              "  <thead>\n",
              "    <tr>\n",
              "      <th class=\"blank level0\" >&nbsp;</th>\n",
              "      <th id=\"T_00148_level0_col0\" class=\"col_heading level0 col0\" >Model</th>\n",
              "      <th id=\"T_00148_level0_col1\" class=\"col_heading level0 col1\" >Accuracy</th>\n",
              "      <th id=\"T_00148_level0_col2\" class=\"col_heading level0 col2\" >AUC</th>\n",
              "      <th id=\"T_00148_level0_col3\" class=\"col_heading level0 col3\" >Recall</th>\n",
              "      <th id=\"T_00148_level0_col4\" class=\"col_heading level0 col4\" >Prec.</th>\n",
              "      <th id=\"T_00148_level0_col5\" class=\"col_heading level0 col5\" >F1</th>\n",
              "      <th id=\"T_00148_level0_col6\" class=\"col_heading level0 col6\" >Kappa</th>\n",
              "      <th id=\"T_00148_level0_col7\" class=\"col_heading level0 col7\" >MCC</th>\n",
              "      <th id=\"T_00148_level0_col8\" class=\"col_heading level0 col8\" >TT (Sec)</th>\n",
              "    </tr>\n",
              "  </thead>\n",
              "  <tbody>\n",
              "    <tr>\n",
              "      <th id=\"T_00148_level0_row0\" class=\"row_heading level0 row0\" >lr</th>\n",
              "      <td id=\"T_00148_row0_col0\" class=\"data row0 col0\" >Logistic Regression</td>\n",
              "      <td id=\"T_00148_row0_col1\" class=\"data row0 col1\" >0.2056</td>\n",
              "      <td id=\"T_00148_row0_col2\" class=\"data row0 col2\" >0.0000</td>\n",
              "      <td id=\"T_00148_row0_col3\" class=\"data row0 col3\" >0.2056</td>\n",
              "      <td id=\"T_00148_row0_col4\" class=\"data row0 col4\" >0.1197</td>\n",
              "      <td id=\"T_00148_row0_col5\" class=\"data row0 col5\" >0.1196</td>\n",
              "      <td id=\"T_00148_row0_col6\" class=\"data row0 col6\" >0.0307</td>\n",
              "      <td id=\"T_00148_row0_col7\" class=\"data row0 col7\" >0.0367</td>\n",
              "      <td id=\"T_00148_row0_col8\" class=\"data row0 col8\" >126.1520</td>\n",
              "    </tr>\n",
              "    <tr>\n",
              "      <th id=\"T_00148_level0_row1\" class=\"row_heading level0 row1\" >ada</th>\n",
              "      <td id=\"T_00148_row1_col0\" class=\"data row1 col0\" >Ada Boost Classifier</td>\n",
              "      <td id=\"T_00148_row1_col1\" class=\"data row1 col1\" >0.2037</td>\n",
              "      <td id=\"T_00148_row1_col2\" class=\"data row1 col2\" >0.0000</td>\n",
              "      <td id=\"T_00148_row1_col3\" class=\"data row1 col3\" >0.2037</td>\n",
              "      <td id=\"T_00148_row1_col4\" class=\"data row1 col4\" >0.0881</td>\n",
              "      <td id=\"T_00148_row1_col5\" class=\"data row1 col5\" >0.1082</td>\n",
              "      <td id=\"T_00148_row1_col6\" class=\"data row1 col6\" >0.0241</td>\n",
              "      <td id=\"T_00148_row1_col7\" class=\"data row1 col7\" >0.0298</td>\n",
              "      <td id=\"T_00148_row1_col8\" class=\"data row1 col8\" >233.7160</td>\n",
              "    </tr>\n",
              "    <tr>\n",
              "      <th id=\"T_00148_level0_row2\" class=\"row_heading level0 row2\" >rf</th>\n",
              "      <td id=\"T_00148_row2_col0\" class=\"data row2 col0\" >Random Forest Classifier</td>\n",
              "      <td id=\"T_00148_row2_col1\" class=\"data row2 col1\" >0.1983</td>\n",
              "      <td id=\"T_00148_row2_col2\" class=\"data row2 col2\" >0.5229</td>\n",
              "      <td id=\"T_00148_row2_col3\" class=\"data row2 col3\" >0.1983</td>\n",
              "      <td id=\"T_00148_row2_col4\" class=\"data row2 col4\" >0.0935</td>\n",
              "      <td id=\"T_00148_row2_col5\" class=\"data row2 col5\" >0.1025</td>\n",
              "      <td id=\"T_00148_row2_col6\" class=\"data row2 col6\" >0.0121</td>\n",
              "      <td id=\"T_00148_row2_col7\" class=\"data row2 col7\" >0.0163</td>\n",
              "      <td id=\"T_00148_row2_col8\" class=\"data row2 col8\" >310.8730</td>\n",
              "    </tr>\n",
              "    <tr>\n",
              "      <th id=\"T_00148_level0_row3\" class=\"row_heading level0 row3\" >ridge</th>\n",
              "      <td id=\"T_00148_row3_col0\" class=\"data row3 col0\" >Ridge Classifier</td>\n",
              "      <td id=\"T_00148_row3_col1\" class=\"data row3 col1\" >0.1926</td>\n",
              "      <td id=\"T_00148_row3_col2\" class=\"data row3 col2\" >0.0000</td>\n",
              "      <td id=\"T_00148_row3_col3\" class=\"data row3 col3\" >0.1926</td>\n",
              "      <td id=\"T_00148_row3_col4\" class=\"data row3 col4\" >0.1246</td>\n",
              "      <td id=\"T_00148_row3_col5\" class=\"data row3 col5\" >0.1287</td>\n",
              "      <td id=\"T_00148_row3_col6\" class=\"data row3 col6\" >0.0302</td>\n",
              "      <td id=\"T_00148_row3_col7\" class=\"data row3 col7\" >0.0335</td>\n",
              "      <td id=\"T_00148_row3_col8\" class=\"data row3 col8\" >93.1410</td>\n",
              "    </tr>\n",
              "    <tr>\n",
              "      <th id=\"T_00148_level0_row4\" class=\"row_heading level0 row4\" >svm</th>\n",
              "      <td id=\"T_00148_row4_col0\" class=\"data row4 col0\" >SVM - Linear Kernel</td>\n",
              "      <td id=\"T_00148_row4_col1\" class=\"data row4 col1\" >0.1222</td>\n",
              "      <td id=\"T_00148_row4_col2\" class=\"data row4 col2\" >0.0000</td>\n",
              "      <td id=\"T_00148_row4_col3\" class=\"data row4 col3\" >0.1222</td>\n",
              "      <td id=\"T_00148_row4_col4\" class=\"data row4 col4\" >0.1203</td>\n",
              "      <td id=\"T_00148_row4_col5\" class=\"data row4 col5\" >0.0975</td>\n",
              "      <td id=\"T_00148_row4_col6\" class=\"data row4 col6\" >0.0178</td>\n",
              "      <td id=\"T_00148_row4_col7\" class=\"data row4 col7\" >0.0191</td>\n",
              "      <td id=\"T_00148_row4_col8\" class=\"data row4 col8\" >55.9260</td>\n",
              "    </tr>\n",
              "    <tr>\n",
              "      <th id=\"T_00148_level0_row5\" class=\"row_heading level0 row5\" >knn</th>\n",
              "      <td id=\"T_00148_row5_col0\" class=\"data row5 col0\" >K Neighbors Classifier</td>\n",
              "      <td id=\"T_00148_row5_col1\" class=\"data row5 col1\" >0.1163</td>\n",
              "      <td id=\"T_00148_row5_col2\" class=\"data row5 col2\" >0.5071</td>\n",
              "      <td id=\"T_00148_row5_col3\" class=\"data row5 col3\" >0.1163</td>\n",
              "      <td id=\"T_00148_row5_col4\" class=\"data row5 col4\" >0.1073</td>\n",
              "      <td id=\"T_00148_row5_col5\" class=\"data row5 col5\" >0.1060</td>\n",
              "      <td id=\"T_00148_row5_col6\" class=\"data row5 col6\" >0.0068</td>\n",
              "      <td id=\"T_00148_row5_col7\" class=\"data row5 col7\" >0.0069</td>\n",
              "      <td id=\"T_00148_row5_col8\" class=\"data row5 col8\" >200.5040</td>\n",
              "    </tr>\n",
              "    <tr>\n",
              "      <th id=\"T_00148_level0_row6\" class=\"row_heading level0 row6\" >dt</th>\n",
              "      <td id=\"T_00148_row6_col0\" class=\"data row6 col0\" >Decision Tree Classifier</td>\n",
              "      <td id=\"T_00148_row6_col1\" class=\"data row6 col1\" >0.1085</td>\n",
              "      <td id=\"T_00148_row6_col2\" class=\"data row6 col2\" >0.5031</td>\n",
              "      <td id=\"T_00148_row6_col3\" class=\"data row6 col3\" >0.1085</td>\n",
              "      <td id=\"T_00148_row6_col4\" class=\"data row6 col4\" >0.1066</td>\n",
              "      <td id=\"T_00148_row6_col5\" class=\"data row6 col5\" >0.1075</td>\n",
              "      <td id=\"T_00148_row6_col6\" class=\"data row6 col6\" >0.0057</td>\n",
              "      <td id=\"T_00148_row6_col7\" class=\"data row6 col7\" >0.0057</td>\n",
              "      <td id=\"T_00148_row6_col8\" class=\"data row6 col8\" >237.6190</td>\n",
              "    </tr>\n",
              "  </tbody>\n",
              "</table>\n"
            ]
          },
          "metadata": {}
        },
        {
          "output_type": "display_data",
          "data": {
            "text/plain": [
              "Processing:   0%|          | 0/65 [00:00<?, ?it/s]"
            ],
            "application/vnd.jupyter.widget-view+json": {
              "version_major": 2,
              "version_minor": 0,
              "model_id": "ade62a2da49f43519cb15508563d14c3"
            }
          },
          "metadata": {
            "application/vnd.jupyter.widget-view+json": {
              "colab": {
                "custom_widget_manager": {
                  "url": "https://ssl.gstatic.com/colaboratory-static/widgets/colab-cdn-widget-manager/2b70e893a8ba7c0f/manager.min.js"
                }
              }
            }
          }
        }
      ]
    },
    {
      "cell_type": "markdown",
      "source": [
        "#Approach 3 Using LDA"
      ],
      "metadata": {
        "id": "oiXvToArd0qP"
      }
    },
    {
      "cell_type": "code",
      "source": [
        "!pip install nltk gensim scikit-learn"
      ],
      "metadata": {
        "id": "bm6VAAOQhjtr",
        "colab": {
          "base_uri": "https://localhost:8080/"
        },
        "outputId": "4719ef85-b079-4043-a775-86d781a9d4b2"
      },
      "execution_count": null,
      "outputs": [
        {
          "output_type": "stream",
          "name": "stdout",
          "text": [
            "Requirement already satisfied: nltk in /usr/local/lib/python3.10/dist-packages (3.8.1)\n",
            "Requirement already satisfied: gensim in /usr/local/lib/python3.10/dist-packages (4.3.3)\n",
            "Requirement already satisfied: scikit-learn in /usr/local/lib/python3.10/dist-packages (1.5.2)\n",
            "Requirement already satisfied: click in /usr/local/lib/python3.10/dist-packages (from nltk) (8.1.7)\n",
            "Requirement already satisfied: joblib in /usr/local/lib/python3.10/dist-packages (from nltk) (1.4.2)\n",
            "Requirement already satisfied: regex>=2021.8.3 in /usr/local/lib/python3.10/dist-packages (from nltk) (2024.9.11)\n",
            "Requirement already satisfied: tqdm in /usr/local/lib/python3.10/dist-packages (from nltk) (4.66.5)\n",
            "Requirement already satisfied: numpy<2.0,>=1.18.5 in /usr/local/lib/python3.10/dist-packages (from gensim) (1.26.4)\n",
            "Requirement already satisfied: scipy<1.14.0,>=1.7.0 in /usr/local/lib/python3.10/dist-packages (from gensim) (1.13.1)\n",
            "Requirement already satisfied: smart-open>=1.8.1 in /usr/local/lib/python3.10/dist-packages (from gensim) (7.0.4)\n",
            "Requirement already satisfied: threadpoolctl>=3.1.0 in /usr/local/lib/python3.10/dist-packages (from scikit-learn) (3.5.0)\n",
            "Requirement already satisfied: wrapt in /usr/local/lib/python3.10/dist-packages (from smart-open>=1.8.1->gensim) (1.14.1)\n"
          ]
        }
      ]
    },
    {
      "cell_type": "code",
      "source": [
        "import nltk\n",
        "from nltk.corpus import stopwords\n",
        "from nltk.stem import WordNetLemmatizer\n",
        "from gensim import corpora, models\n",
        "from sklearn.model_selection import train_test_split\n",
        "from sklearn.metrics import accuracy_score\n",
        "\n",
        "nltk.download('stopwords')\n",
        "nltk.download('wordnet')"
      ],
      "metadata": {
        "colab": {
          "base_uri": "https://localhost:8080/"
        },
        "id": "LCrmNsnYGVGR",
        "outputId": "f7019822-b4c7-4a82-835d-cfd789a95b6a"
      },
      "execution_count": null,
      "outputs": [
        {
          "output_type": "stream",
          "name": "stderr",
          "text": [
            "[nltk_data] Downloading package stopwords to /root/nltk_data...\n",
            "[nltk_data]   Package stopwords is already up-to-date!\n",
            "[nltk_data] Downloading package wordnet to /root/nltk_data...\n"
          ]
        },
        {
          "output_type": "execute_result",
          "data": {
            "text/plain": [
              "True"
            ]
          },
          "metadata": {},
          "execution_count": 18
        }
      ]
    },
    {
      "cell_type": "code",
      "source": [
        "transcripts = merged_df.iloc[0:40,:]['call_transcript'].to_list()"
      ],
      "metadata": {
        "id": "kh9dny0aHo7B"
      },
      "execution_count": null,
      "outputs": []
    },
    {
      "cell_type": "code",
      "source": [
        "print(transcripts)"
      ],
      "metadata": {
        "colab": {
          "base_uri": "https://localhost:8080/"
        },
        "id": "dYbovzwPHzzR",
        "outputId": "34a01039-6556-43e5-bb79-a2dbdabd0eee"
      },
      "execution_count": null,
      "outputs": [
        {
          "output_type": "stream",
          "name": "stdout",
          "text": [
            "[\"\\n\\nAgent: Thank you for calling United Airlines customer service, my name is Sarah how may I help you?\\n\\nCustomer: Hi, yeah I'm calling because my flight from Chicago to New York was delayed by over 3 hours! This is ridiculous, I'm missing important meetings because of this. \\n\\nAgent: I'm so sorry to hear about the delay, that's definitely frustrating. Umm, let me pull up your reservation and take a look at what happened. *typing sounds* Okay, it looks like there was severe weather in Chicago that caused multiple flight cancellations and delays across the board for all the airlines. Ahh shoot, yeah your original flight was scheduled to depart at 2pm but didn't actually take off until after 5pm.\\n\\nCustomer: Ugh this is such poor planning on United's part, you should have rerouted passengers or put us on other flights that weren't delayed. Now I've wasted a whole day. \\n\\nAgent: I understand your frustration sir, delays are never fun. Let me see what options I have available to help make this up to you. Hmm, it looks like I can get you booked on a flight leaving at 3pm tomorrow that will have you landing in New York by 5pm. I'll waive the change fee and provide you with a travel voucher for $200 to help cover expenses from the missed meetings today. Does that work for your schedule?\\n\\nCustomer: I guess that's better than nothing. But you really need to get your act together, this is unacceptable customer service from United. Your delays are costing people time and money. \\n\\nAgent: You're right, we want to do better for our customers. I apologize again for the delay and inconvenience. Thank you for flying with us and I hope the rescheduled flight and travel credit help make up for some of the trouble today. Please feel free to reach back out if you have any other issues. Thanks for your patience and for understanding - I appreciate you taking the time to work through this with me.\\n\\nCustomer: Alright fine. This better not happen again next time I fly United. \\n\\nAgent: I'll be sure to note your record so we can try and avoid any repeats going forward. Take care and have a good rest of your day.\\n\\nCustomer: Yeah, you too. *hangs up*\\n\\nAgent: Thank you for your call, next caller please. *pretends to answer another call* Hi there, thank you for calling United how can I help?\", \"\\n\\nAgent: Thank you for calling United Airlines, my name is Sam, how can I help you today?\\n\\nCustomer: Hi Sam, yeah I'm calling because I need to change the dates on my upcoming flight. My flight is booked for next Thursday but something came up and I need to fly out on Monday instead.\\n\\nAgent: No problem, let me pull up your reservation so I can take a look. Can I get your last name and confirmation number please? \\n\\nCustomer: Sure, last name is Smith, confirmation number is ASDF456. *makes noise in background* Sorry, the kids are being loud over here. \\n\\nAgent: No worries, let me see... Okay Mr. Smith, I've got your reservation here for flight UA128 next Thursday. Just giving the availability a check for Monday... Umm it looks like we do have seats available on a flight leaving earlier that day. The fare would be an additional $100 each way though. How does that work for you?\\n\\nCustomer: Ah man, an extra $100? That's more than I was hoping to pay. Is there any way to get on that flight for the same price as my original ticket? Money is a little tight right now. \\n\\nAgent: I understand, flight changes usually do incur a fee unfortunately. Let me take a look at some other options... Hmm it looks like the only flight on Monday that wouldn't have a fare increase leaves quite a bit later in the evening. Would a 9pm departure work instead of the original mid-day flight?\\n\\nCustomer: Ehh that's pretty late. I was trying to get an earlier flight so I have more time once I land. What if I moved my return date back instead of changing the departure? Would that avoid the extra cost?\\n\\nAgent: Good thinking, let me check return dates... *types silently for a few seconds* Okay, it looks like if you move your return date back by two days there would be no change fee. Your new return flight would then be Saturday instead of Thursday. How does that work for your schedule?\\n\\nCustomer: Saturday return works great actually, that'll give me more time there too which is nice. Alright, let's go ahead and switch it to depart on the original date but return on Saturday instead. I appreciate you looking into some options to avoid the extra fees.\\n\\nAgent: No problem, I'm glad we could find a solution that works with your schedule and budget. Okay, I've made those changes to your itinerary. Your new reservation is all set with a Monday departure and Saturday return. Is there anything else I can help with today?\\n\\nCustomer: No, I think that covers it. Thanks so much for your help, Sam!\\n\\nAgent: You're very welcome. Enjoy your trip and have a great rest of your day!\\n\\nCustomer: You too, thanks again! *hangs up*\\n\\nAgent: Thank you for calling United, have a good one! *hangs up*\", \"\\n\\nAgent: Thank you for calling United Airlines customer service, my name is Steve, how may I help you today?\\n\\nCustomer: Hi Steve, uh, I'm calling because I need to make a change to my upcoming flight. My flight is this coming Saturday and I need to change it to a later date.\\n\\nAgent: No problem, let me pull up your reservation. Can I get your last name and confirmation number please?\\n\\nCustomer: Sure, last name is Smith, confirmation number is HFG49821. \\n\\nAgent: Okay, let me take a look here...Smith, HFG49821...yep, I see your reservation for this Saturday. What date did you need to change your flight to? Let me check availability for those dates first.\\n\\nCustomer: Umm, ahh I was hoping to change it to maybe two or three weeks later, like the first or second week of June. Is there anything available then?\\n\\nAgent: *typing noises* Let me see...for the first week of June it looks like we only have a few seats left on certain days. How's Tuesday, June 4th? We have economy seats available leaving at 10am and arriving at 1pm.\\n\\nCustomer: June 4th could work, what would the change fee be for that date? I'm hoping it's not too expensive since it's still over two weeks away.\\n\\nAgent: Let me take a look at the fare rules for your ticket. *more typing* Okay, since you're changing your flight more than 14 days in advance, the change fee would be $150 plus any difference in fare. The fare for June 4th looks to be about $25 more than your original flight, so the total to change would be around $175. Does that work for you?\\n\\nCustomer: Hmm, $175 is a bit more than I was wanting to pay. Is there any way you could possibly waive the change fee since I'm a frequent flyer? I fly with United a few times a year for work.\\n\\nAgent: I understand, change fees can really add up. Let me take a look at your frequent flyer account really quickly...*typing* Okay, it looks like you do have Silver status with us based on the number of flights you took last year. In that case, as a one-time courtesy, I'd be happy to waive the change fee for you. So the total to change your flight to June 4th would just be the $25 difference in fare.\\n\\nCustomer: Oh wow, thank you so much Steve, I really appreciate you waiving the fee. June 4th will work perfectly then. How can I complete the change?\\n\\nAgent: You're very welcome, I'm glad I could help save you some money today. To complete the change, I just need to read back your new itinerary details and then I'll send a confirmation email with your new boarding pass. Your new flight will depart Chicago O'Hare on June 4th at 10am and arrive in Denver at 1pm. This will be on the same flight number as your original reservation. Does this all look correct?\\n\\nCustomer: Yes, that all sounds perfect. Thank you so much for your help, I really appreciate you taking the time to find me an available flight and waiving the fee. You've made this process really easy.\\n\\nAgent: You're very welcome, it was my pleasure. Thank you for being such a loyal United customer. I hope you have a great rest of your day and enjoy your flight in June!\\n\\nCustomer: Thanks Steve, you too! Goodbye.\\n\\nAgent: Goodbye!\", \"\\n\\nAgent: Thank you for calling United Airlines customer service, my name is James. How may I help you today?\\n\\nCustomer: Hi, yeah I'm calling because I'm having some issues with a flight I booked. *sighs* Ugh, this is so frustrating.\\n\\nAgent: I understand your frustration sir. Can you provide me with your confirmation number so I can pull up your reservation?\\n\\nCustomer: Yeah it's PX45T6789. I booked a flight from Chicago to LA for next Wednesday but now I need to change it.\\n\\nAgent: Okay, let me take a look here... *typing noises* Alright, I see your reservation. What type of change did you need to make?\\n\\nCustomer: Well the problem is, something came up at work and I need to fly out on Monday instead of Wednesday. But when I try to change it online, it's saying the Monday flight is full and it won't let me switch to it. \\n\\nAgent: I see. Monday is typically a busier travel day so those seats do fill up quickly. Let me take a look and see if there's any availability I can move you over to. *more typing* Hmm, it looks like the direct flight on Monday is unfortunately booked up. Would you consider an alternate routing with a connection?\\n\\nCustomer: Ugh really? I was hoping to avoid a layover. *sigh* Alright, what other options you got? This is so frustrating, I just want to get home on time for this meeting.\\n\\nAgent: I understand the frustration sir. Just give me one moment while I check a few otherflight options for you on Monday... *types rapidly* Okay, it looks like I may have found you a workable option. There's one flight that would get you into LAX Monday evening with only a one hour layover in Denver. Would that routing work for your travel needs?\\n\\nCustomer: *pause* Yeah I guess that'll have to do. What's the cost to change it to that flight? There better not be some crazy high change fee.\\n\\nAgent: Let me take a look at the rebooking fee for that itinerary. *more typing* It looks like with the fare differences and change fees assessed, the total to move you to that Monday flight would be an additional $150. I know that's not ideal, but hopefully it's doable given the last minute nature of the change.\\n\\nCustomer: Ugh $150? That's ridiculous. Isn't there any way you can waive that fee or give me a credit of some kind? This is really putting me out here.\\n\\nAgent: I understand your frustration sir. Unfortunately with how close to departure your travel date is, our policies don't allow me to waive change fees. However, let me check one other thing for you...*typing* It looks like I may be able to offer you a $75 travel voucher that could be used on your next United booking to offset the fee. Would that work for you?\\n\\nCustomer: *long sigh* Yeah I guess that'll have to do. Alright, go ahead and change it to that Monday flight then. And send over the details for the voucher too.\\n\\nAgent: No problem, I have you switched over to that Monday itinerary with the one hour layover in Denver now. The additional $150 charge plus $75 travel voucher have been applied to your reservation. Is there anything else I can help with today?\\n\\nCustomer: No, I think that's it. Thanks for your help, even if your change fees are ridiculous. *hangs up abruptly*\\n\\nAgent: You're very welcome, and thank you for flying United. We appreciate your business. *call disconnects*\", \"\\n\\nAgent: Thank you for calling United Airlines customer service, my name is Sarah how may I help you?\\n\\nCustomer: Hi Sarah, thanks for taking my call. I'm calling about a flight I have coming up next week from Chicago to Los Angeles. \\n\\nAgent: Okay, no problem. What would you like to know about your flight?\\n\\nCustomer: Well, umm I booked the flight a few months ago but I've had some changes in my schedule come up. Is there any way I can change the date of my flight to a few days later? \\n\\nAgent: Let me take a look at your reservation and see what options we have for changing the date. *typing can be heard* What's the name the reservation is under?\\n\\nCustomer: John Smith. The original flight was scheduled to leave O'Hare on March 15th.\\n\\nAgent: Okay, I've pulled up your reservation Mr. Smith. It looks like we do have some seats available on flights leaving a few days later. Would the 17th or 18th work better for your new travel plans?\\n\\nCustomer: Hmm let me think, the 17th might work better. What would the costs be to change it to that date? I'm hoping it wouldn't be too expensive since I'm only changing it by a couple days.\\n\\nAgent: Let me check the fare difference for changing it to the 17th. *more typing* It looks like there is a $100 change fee that would apply since you're within the refund/change window. But the fare itself hasn't increased too much, it's only a $50 difference from what you originally paid. So the total to change it would be $150. Does that work for your budget?\\n\\nCustomer: Ah man, $150 is a bit more than I was hoping to pay. Any chance you could waive any of those fees since I'm a loyal united customer? I fly with you guys a few times a year.\\n\\nAgent: I understand the change fees can be frustrating. Let me take a look at your account history really quickly to see if there's anything I can do. *typing for a bit* It looks like you do fly with us regularly and always check a bag, so you've built up some frequent flyer miles. I'm happy to waive the $100 change fee since you're a loyal customer. The fare difference of $50 would still apply but at least that saves you $100. Does that work?\\n\\nCustomer: Yeah, that would work! Thank you so much for being willing to help out, I really appreciate it. You just saved me a good chunk of money.\\n\\nAgent: You're very welcome, I'm glad I could help! I'll go ahead and process that change for you now to the March 17th flight. Is there anything else I can help with while we have you on the phone?\\n\\nCustomer: No, I think that covers everything I needed. Thanks again for your time and for being so helpful. Have a good rest of your day!\\n\\nAgent: You're so very welcome. Thanks for flying United and I hope you have a wonderful trip. Enjoy the rest of your day as well!\\n\\nCustomer: You too, goodbye!\\n\\nAgent: Goodbye!\\n\\n*the call disconnects*\", \"\\n\\nAgent: Thank you for calling United Airlines customer service, my name is Aaron. How can I help you today?\\n\\nCustomer: Hi Aaron, yeah I'm calling about a flight I have booked from Chicago to London next Monday. Umm, so I recently found out I'll be unable to travel due to a work thing coming up. I was hoping there was a way I could change or cancel my flight.\\n\\nAgent: No problem, let me pull up your reservation. *typing noises* Okay, I've got your flight here from O'Hare to Heathrow next Monday. Unfortunately that flight is non-refundable so your options for changing it would either be to switch to another travel date within the next year for a $150 change fee, or you could apply the value of your ticket as a travel credit that's good for future travel within the next 12 months. How does that sound?\\n\\nCustomer: *sighs* Yeah that's kinda what I was afraid of. Travel credits aren't super helpful for me since I don't know when I'll be able to go to London next. Would there be any way to maybe get a partial refund or anything instead? Money's a bit tight with this work thing coming up.\\n\\nAgent: I understand the frustration, travel changes are never ideal. Let me take a look here at any other options...hmm it doesn't look like we have any refund availability on this specific fare class. I could check with my colleagues in our refunds department to see if there's any leeway but I wouldn't want to promise anything. Would you like me to put in a request to see if a partial refund is possible? There may be a fee for processing it but it couldn't hurt to ask.\\n\\nCustomer: Ugh yeah, I guess it wouldn't hurt to ask them. This is kind of annoying...I know it's not your fault and all but these big airlines really gouge you on fees, you know? Makes it tough when unexpected life stuff comes up. But yeah, please go ahead and put in that refund request if you don't mind, and let me know what they say. I appreciate you taking a look!\\n\\nAgent: No problem, I completely understand the frustration. Airline policies can definitely be rigid. Let me go ahead and submit that refund request for you now. It may take a day or two for a response. In the meantime, just to reiterate your options - you're welcome to change flights for a $150 fee or accept a travel credit. But I'll cross my fingers that refunds comes back with something more helpful. Can I get your email so I can follow up once I hear back?\\n\\nCustomer: Yeah, fingers crossed! My email is jsmith@email.com. And if refunds can't do anything, I guess I'll probably just go with the travel credit for now since I don't want to lose the full value. Thanks so much for your help Aaron, I really appreciate you taking the time to look into this.\\n\\nAgent: You're very welcome, I'm happy I could help explore some options for you. I'll be sure to reach out to that email address within the next couple days once I have an answer from refunds. And don't hesitate to call back if you have any other questions. Safe travels and I hope your work stuff gets resolved smoothly. Have a great rest of your day!\\n\\nCustomer: You too, thanks again!\\n\\nAgent: You're very welcome. Have a good one!\\n\\n*phone call disconnects*\", \"\\n\\nAgent: Thank you for calling United Airlines customer service, my name is Sam how can I help you today?\\n\\nCustomer: Hi, yeah I'm calling because I'm having some issues with a flight I booked. *sigh* It's just been a nightmare.\\n\\nAgent: I'm sorry to hear you're having problems. What seems to be the issue with your flight?\\n\\nCustomer: Well umm, I booked a flight from New York to LA for next Wednesday but now when I log into my account, it's showing the flight as canceled. I never canceled it! \\n\\nAgent: Okay, let me pull up your reservation. *typing sounds* Hmm, it looks like that flight was unfortunately overbooked and had to be canceled. One moment while I take a look at alternative flights for you. *more typing* It seems there is still space on the 6pm flight that day, would moving to that one work for your travel plans?\\n\\nCustomer: 6pm? Ugh, that's so much later than I planned for. I was supposed to land at noon so I'd have the afternoon in LA. is there anything earlier you can put me on?\\n\\nAgent: I understand the frustration with the change, let me see what other options there might be. *more typing* Unfortunately the 6pm is the earliest flight I show with availability. All the morning and midday flights are fully booked. I could look at flying out the day before if you're able to change your travel dates. Would an overnight in LA before your original travel plans work? Or is there no flexibility there?\\n\\nCustomer: Are you kidding me? An overnight? That wasn't in the budget. This is ridiculous, you guys canceled my flight, the least you could do is get me on something earlier that day. What am I supposed to do for half a day in the airport? \\n\\nAgent: I apologize for the inconvenience. Let me check a few other things...*typing for a bit* It looks like we may have an option to get you there earlier after all. If you're open to flying into Burbank airport instead of LAX, there is a 10am flight with open seats. I could transfer your reservation to that routing at no additional cost. The Burbank airport is only about 20 minutes north of LAX so you'd still get in around midday. Would that work better for your travel plans?\\n\\nCustomer: *long sigh* I guess Burbank would have to do then. At least it's something. It's just so frustrating that I even have to change anything, this all your airlines fault for canceling my original flight. \\n\\nAgent: You're right to be annoyed about the change, it's certainly not ideal. I'm going to go ahead and transfer your reservation now to the 10am flight into Burbank. Please let me know once you receive the confirmation email and you've had a chance to review the new itinerary details. As an apology for the inconvenience, I'm also going to credit your account with a $75 travel voucher that can be used on a future United purchase. Thank you for your patience and for flying with us. Hopefully the earlier flight into Burbank will help make the rest of your trip go smoother.\\n\\nCustomer: Thanks I guess. Not like the voucher really makes up for this headache but whatever. At least I'll be there earlier. I'll keep an eye out for that email. \\n\\nAgent: You're very welcome, and I do hope the rest of your travel plans go well. Thank you for contacting us and please don't hesitate to reach back out if any other issues come up. You have a good rest of your day.\\n\\nCustomer: Yeah, thanks. You too. *call disconnects*\\n\\nAgent: Thank you for your call. *call ends*\", \"\\n\\nAgent: Thank you for calling United Airlines customer service, my name is Steve. How may I help you today?\\n\\nCustomer: Hi, yeah I'm calling because I have a flight booked from Chicago to LA next Thursday and I'm trying to change it.\\n\\nAgent: Okay, no problem. May I have your confirmation number so I can pull up your booking?\\n\\nCustomer: Uhh yeah, it's P4567891. *noise in background* Stupid thing, it's not working. \\n\\nAgent: No worries, give me just a second here...alright, I've got your booking. What change were you looking to make to the flight?\\n\\nCustomer: Well the thing is, something came up at work and they need me to stay in Chicago until the following Monday. So I need to move my flight to that day instead of Thursday. \\n\\nAgent: I understand, work trips changing last minute can definitely be frustrating. Let me take a look at our flight options for the following Monday... *typing noises* Unfortunately it looks like all the flights that day are completely full. The best I can offer is to put you on the Tuesday morning flight instead. How does that sound?\\n\\nCustomer: Are you kidding me? Tuesday? That doesn't really help me at all. This is ridiculous, I booked this flight months ago and now you're telling me you can't get me out any earlier? Come on man, there has to be something you can do. \\n\\nAgent: I apologize for the inconvenience, sir. I know changing travel plans last minute is never ideal. Let me check a few other airlines and see if any of them have availability on an earlier flight. *more typing* It looks like Delta has one seat left on their Sunday red-eye flight arriving in LA around 6am on Monday. I could switch your ticket over to that flight instead at the same fare, if that works a little better for you?\\n\\nCustomer: Ugh, a red-eye, are you serious? That's even worse. This is such bullshit. Why can't you guys ever get your shit together? I pay good money for these tickets and now you're going to make me be all jet lagged and exhausted at work on Monday. This is unacceptable.  \\n\\nAgent: I understand your frustration, sir. Dealing with travel changes is never ideal. Perhaps I could look into getting you rebooked on an alternative itinerary, like flying into a different California airport on Sunday or Monday instead? That might open up some additional flight options. It may take a little longer drive but could avoid the overnight flight. Let me pull up a few other routes and see what's available. *extended pause as agent searches other flight options* Okay, it looks like we have a few seats left on a flight departing O'Hare Sunday afternoon arriving in San Diego around 7pm. I could switch your ticket to land there instead, and then you'd have the full Monday in California before needing to travel further for work. Does that potentially work better for your schedule?\\n\\nCustomer: Ugghh, finally something that's not completely terrible I guess. Alright fine, switch me to that San Diego flight then. But you guys really dropped the ball on this one. I expect some sort of compensation for all this trouble. \\n\\nAgent: I understand, and I sincerely apologize again for the inconvenience. As a courtesy for having to change your plans at the last minute, I'd be happy to provide you with a $100 travel voucher to put towards future bookings with us. Does that sound fair to help make up for the disruption?\\n\\nCustomer: *long sigh* Yeah I guess $100 will have to do. Just don't let this happen again okay? You guys really lost a customer today. \\n\\nAgent: You have my word we'll work harder to avoid situations like this going forward. Thank you for your patience and for continuing to fly with us. I've gone ahead and processed the change to your new itinerary arriving in San Diego on Sunday. Your confirmation and travel voucher will be emailed over shortly. Please don't hesitate to reach back out if any other issues come up. Thanks again and have a good rest of your day.\\n\\nCustomer: Yeah whatever, thanks. \\n\\nAgent: You're very welcome. Take care!\\n\\n*click*\", \"\\n\\nAgent: Thank you for calling United Airlines customer service, this is Steve how can I help you?\\n\\nCustomer: Hi Steve, yeah I'm calling about a flight I have booked from Chicago to London next week. \\n\\nAgent: Okay, no problem. What would you like to know about that flight?\\n\\nCustomer: Well umm, I've been keeping an eye on the weather reports and it looks like there could be some storms coming through Chicago during my departure time. I'm a little worried the flight might get delayed or canceled. \\n\\nAgent: Ah I see, no that's a valid concern. Let me pull up your reservation and take a look at your flight details. *types on keyboard* Okay, so your flight is scheduled to depart O'Hare at 3:45pm next Thursday. The current forecast does show a chance of storms moving through the area that afternoon. Why don't I go ahead and get you set up with an alert for any updates to the status of that flight. Then if there are any delays or cancellations, we'll contact you right away to discuss your options. Does that sound good?\\n\\nCustomer: Yeah, that would be great. I'm just a little nervous about missing my connection in London. This is an important business trip and I really need to make that meeting on Friday. \\n\\nAgent: No I completely understand the importance. Missing an international connection can really throw a wrench in your plans. Let me see here...the flight from Chicago lands in London at 6:15am on Friday and your connecting flight to wherever you're heading next is at 10am. Even allowing some time for customs and getting to the next gate, that should still be plenty of time as long as the first flight isn't too delayed. But I'll make sure to note the tight connection in your file as well, so if there are any issues they'll know to get you rebooked promptly. How does that sound?\\n\\nCustomer: Yeah, that makes me feel a lot better. As long as you guys will rebook me right away if there are any major delays, I think I'll be okay. These storms can be pretty unpredictable though, so I just want to have a backup plan.\\n\\nAgent: Absolutely, that's a smart way to approach it. Let me go ahead and get you on a standby list for the same flight the next day just in case. That way if anything causes more than a 2 or 3 hour delay and it looks like you might miss that connection, we've already got an alternate routing in place for you. Just be sure to keep an eye on your phone and email in case we need to confirm getting you switched over. Other than that, is there anything else I can help with today?\\n\\nCustomer: No, I think you covered everything. I feel a lot better about my trip now. Thanks so much for taking the time to help me plan for potential issues, Steve. I really appreciate United having great customer service agents like you to help sort things out.\\n\\nAgent: You're very welcome, I'm always happy I could help put your mind at ease. Safe travels and I hope you have a smooth flight and productive business meeting. Thanks for flying United, you have a great rest of your day!\\n\\nCustomer: You too, thanks again! *hangs up*\\n\\nAgent: *hangs up*\\n\\nSo in summary - the call duration was around 12 minutes and 30 seconds which fits within the given call duration time of 797 seconds. I tried to make the conversation flow naturally between the agent and customer with pauses and filler words. The customer's question and concerns centered around the potential for flight delays due to weather. And the agent was able to rebook the customer on an alternate flight and set them up with alerts, making for a reasonably positive sentiment score of 0.06. Let me know if any part of the transcript needs adjustment or expansion to better fit the criteria.\", \"\\n\\nAgent: Thank you for calling United Airlines, this is Jake speaking. How may I help you today?\\n\\nCustomer: Hi, I'm calling to complain about my recent flight from Chicago to New York. The flight was delayed for over 3 hours with no explanation given. We were just left sitting on the plane! This is unacceptable. \\n\\nAgent: I understand your frustration with the long delay, sir. Umm, let me pull up the flight details. What was the date of your flight? \\n\\nCustomer: It was last Wednesday, the 15th. Flight number UA108. \\n\\nAgent: Okay, let me see... *typing noises* According to our records, that flight experienced significant weather delays in Chicago which caused a system-wide ripple effect across our network. I apologize for the lack of communication during the long wait on the plane. In situations like this where delays are within our control, passengers deserve more timely updates. \\n\\nCustomer: I don't really care about the reason for the delay - things happen. But three hours is ridiculous! And then being left in the dark the whole time just made it that much worse. You're darn right you should have communicated with us. \\n\\nAgent: You're absolutely right, sir. Ah, we failed to meet our customer service standards in this situation. Is there anything I can do to assist in making this up to you? I'd be happy to provide a refund for the cost of the ticket or offer you future travel credits if you plan to fly with us again.\\n\\nCustomer: Honestly, I'm not sure I want to fly United again after this experience. But I guess a travel credit would be better than nothing in case I don't have another option one day. How does 200 dollars sound?\\n\\nAgent: I'll be honest, I don't have the authority to offer a credit that large on my own. Let me check with my supervisor and see if we can offer $175, would that work for you? Just a moment please while I call them... *pretends to be on hold* Okay, they've approved $175, does that seem reasonable given the delay and lack of communication you experienced? \\n\\nCustomer: You know what, fine. $175 credit it is. But you guys really need to get your act together on customer service. People pay good money for these tickets and then you leave them hanging for hours - it's not okay. \\n\\nAgent: You're completely right, and I sincerely apologize again on behalf of United. Customer experience is a top priority for us, and incidents like this undermine the trust passengers place in us. Thank you for taking the time to share your feedback - it will be reported to the relevant teams to ensure we can improve. Is there anything else I can help with today?\\n\\nCustomer: No, I think that about covers it. Just don't let it happen again! \\n\\nAgent: You have my word we'll work hard to avoid similar situations going forward. Thank you for flying United, despite the delay, and enjoy the rest of your day.\\n\\nCustomer: Alright, goodbye. \\n\\nAgent: Thank you for your call. Have a good one! *pretend call ends*\"]\n"
          ]
        }
      ]
    },
    {
      "cell_type": "code",
      "source": [
        "reasons = merged_df.iloc[0:40,:]['primary_call_reason'].to_list()"
      ],
      "metadata": {
        "id": "H94QUp7OH4eB"
      },
      "execution_count": null,
      "outputs": []
    },
    {
      "cell_type": "code",
      "source": [
        "print(reasons)"
      ],
      "metadata": {
        "colab": {
          "base_uri": "https://localhost:8080/"
        },
        "id": "cd8iSvkWKHEB",
        "outputId": "e3475670-94f4-4302-d87b-11c0644e0ba6"
      },
      "execution_count": null,
      "outputs": [
        {
          "output_type": "stream",
          "name": "stdout",
          "text": [
            "['voluntary cancel', 'booking', 'irrops', 'upgrade', 'seating', 'mileage plus', 'checkout', 'mileage plus', 'mileage plus', 'irrops', 'irrops', 'voluntary change', 'post flight', 'seating', 'check', 'post flight', 'checkout', 'topics', 'check', 'post flight', 'irrops', 'seating', 'post flight', 'communications', 'check', 'voluntary change', 'schedule change', 'mileage plus', 'products services', 'seating', 'upgrade', 'products services', 'mileage plus', 'upgrade', 'seating', 'mileage plus', 'voluntary cancel', 'post flight', 'communications', 'seating']\n"
          ]
        }
      ]
    },
    {
      "cell_type": "code",
      "source": [
        "def preprocess_text(text):\n",
        "    tokens = nltk.word_tokenize(text.lower())\n",
        "    stop_words = set(stopwords.words('english'))\n",
        "    tokens = [token for token in tokens if token not in stop_words and token.isalnum()]\n",
        "    lemmatizer = WordNetLemmatizer()\n",
        "    tokens = [lemmatizer.lemmatize(token) for token in tokens]\n",
        "    return tokens\n",
        "\n",
        "# Preprocess all transcripts\n",
        "processed_transcripts = [preprocess_text(transcript) for transcript in transcripts]"
      ],
      "metadata": {
        "id": "N4pgm7KFGdMx"
      },
      "execution_count": null,
      "outputs": []
    },
    {
      "cell_type": "code",
      "source": [
        "len(processed_transcripts)"
      ],
      "metadata": {
        "colab": {
          "base_uri": "https://localhost:8080/"
        },
        "id": "1wCaSvmJKNx4",
        "outputId": "d9646f2f-4e43-41e4-f63f-ce5da28f4516"
      },
      "execution_count": null,
      "outputs": [
        {
          "output_type": "execute_result",
          "data": {
            "text/plain": [
              "40"
            ]
          },
          "metadata": {},
          "execution_count": 61
        }
      ]
    },
    {
      "cell_type": "code",
      "source": [
        "# Create a dictionary from the processed transcripts\n",
        "dictionary = corpora.Dictionary(processed_transcripts)\n",
        "\n",
        "# Create a corpus (document-term matrix)\n",
        "corpus = [dictionary.doc2bow(text) for text in processed_transcripts]"
      ],
      "metadata": {
        "id": "GxCnDnbIGfd5"
      },
      "execution_count": null,
      "outputs": []
    },
    {
      "cell_type": "code",
      "source": [
        "# num_topics = 10  # You can adjust this number based on your data\n",
        "lda_model = models.LdaModel(corpus,id2word=dictionary, passes=15)\n",
        "\n",
        "# Print the topics\n",
        "for topic in lda_model.print_topics():\n",
        "    print(topic)"
      ],
      "metadata": {
        "colab": {
          "base_uri": "https://localhost:8080/"
        },
        "id": "li3I1XEGGiMB",
        "outputId": "1ab63ccc-21ba-4a6e-f069-2b9131606270"
      },
      "execution_count": null,
      "outputs": [
        {
          "output_type": "stream",
          "name": "stdout",
          "text": [
            "(78, '0.001*\"change\" + 0.001*\"monday\" + 0.001*\"agent\" + 0.001*\"customer\" + 0.001*\"fee\" + 0.001*\"flight\" + 0.001*\"need\" + 0.001*\"would\" + 0.001*\"yeah\" + 0.001*\"travel\"')\n",
            "(90, '0.002*\"flight\" + 0.002*\"customer\" + 0.002*\"agent\" + 0.002*\"monday\" + 0.002*\"work\" + 0.002*\"instead\" + 0.002*\"let\" + 0.002*\"change\" + 0.002*\"like\" + 0.002*\"look\"')\n",
            "(98, '0.001*\"flight\" + 0.001*\"agent\" + 0.001*\"customer\" + 0.001*\"help\" + 0.001*\"let\" + 0.001*\"next\" + 0.001*\"time\" + 0.001*\"thanks\" + 0.001*\"delay\" + 0.001*\"make\"')\n",
            "(48, '0.001*\"value\" + 0.001*\"6pm\" + 0.001*\"specific\" + 0.001*\"stuff\" + 0.001*\"submit\" + 0.001*\"super\" + 0.001*\"tough\" + 0.001*\"unable\" + 0.001*\"unexpected\" + 0.001*\"say\"')\n",
            "(60, '0.002*\"change\" + 0.002*\"customer\" + 0.002*\"flight\" + 0.002*\"june\" + 0.002*\"agent\" + 0.002*\"fee\" + 0.002*\"let\" + 0.002*\"look\" + 0.002*\"really\" + 0.002*\"4th\"')\n",
            "(73, '0.025*\"flight\" + 0.024*\"change\" + 0.024*\"customer\" + 0.023*\"agent\" + 0.017*\"look\" + 0.016*\"travel\" + 0.016*\"let\" + 0.016*\"could\" + 0.015*\"fee\" + 0.013*\"refund\"')\n",
            "(95, '0.002*\"flight\" + 0.002*\"agent\" + 0.002*\"change\" + 0.002*\"look\" + 0.002*\"june\" + 0.002*\"customer\" + 0.002*\"4th\" + 0.002*\"fee\" + 0.002*\"let\" + 0.002*\"thank\"')\n",
            "(89, '0.002*\"change\" + 0.002*\"customer\" + 0.002*\"flight\" + 0.002*\"agent\" + 0.002*\"look\" + 0.002*\"monday\" + 0.001*\"fee\" + 0.001*\"would\" + 0.001*\"let\" + 0.001*\"work\"')\n",
            "(41, '0.001*\"value\" + 0.001*\"6pm\" + 0.001*\"specific\" + 0.001*\"stuff\" + 0.001*\"submit\" + 0.001*\"super\" + 0.001*\"tough\" + 0.001*\"unable\" + 0.001*\"unexpected\" + 0.001*\"say\"')\n",
            "(45, '0.002*\"flight\" + 0.002*\"customer\" + 0.002*\"agent\" + 0.002*\"travel\" + 0.002*\"earlier\" + 0.002*\"day\" + 0.002*\"burbank\" + 0.002*\"typing\" + 0.002*\"change\" + 0.002*\"would\"')\n",
            "(62, '0.001*\"value\" + 0.001*\"6pm\" + 0.001*\"specific\" + 0.001*\"stuff\" + 0.001*\"submit\" + 0.001*\"super\" + 0.001*\"tough\" + 0.001*\"unable\" + 0.001*\"unexpected\" + 0.001*\"say\"')\n",
            "(91, '0.001*\"value\" + 0.001*\"6pm\" + 0.001*\"specific\" + 0.001*\"stuff\" + 0.001*\"submit\" + 0.001*\"super\" + 0.001*\"tough\" + 0.001*\"unable\" + 0.001*\"unexpected\" + 0.001*\"say\"')\n",
            "(70, '0.001*\"flight\" + 0.001*\"agent\" + 0.001*\"customer\" + 0.001*\"travel\" + 0.001*\"earlier\" + 0.001*\"burbank\" + 0.001*\"thank\" + 0.001*\"plan\" + 0.001*\"typing\" + 0.001*\"canceled\"')\n",
            "(36, '0.002*\"change\" + 0.002*\"monday\" + 0.002*\"customer\" + 0.002*\"agent\" + 0.002*\"look\" + 0.002*\"flight\" + 0.002*\"fee\" + 0.002*\"would\" + 0.002*\"typing\" + 0.002*\"like\"')\n",
            "(24, '0.002*\"customer\" + 0.002*\"flight\" + 0.002*\"agent\" + 0.002*\"look\" + 0.002*\"change\" + 0.002*\"work\" + 0.001*\"day\" + 0.001*\"let\" + 0.001*\"help\" + 0.001*\"like\"')\n",
            "(55, '0.002*\"flight\" + 0.002*\"customer\" + 0.002*\"agent\" + 0.002*\"would\" + 0.002*\"let\" + 0.002*\"look\" + 0.002*\"travel\" + 0.001*\"go\" + 0.001*\"day\" + 0.001*\"next\"')\n",
            "(56, '0.002*\"customer\" + 0.002*\"agent\" + 0.002*\"help\" + 0.002*\"delay\" + 0.002*\"thank\" + 0.002*\"united\" + 0.002*\"flight\" + 0.002*\"better\" + 0.002*\"look\" + 0.002*\"take\"')\n",
            "(26, '0.001*\"value\" + 0.001*\"6pm\" + 0.001*\"specific\" + 0.001*\"stuff\" + 0.001*\"submit\" + 0.001*\"super\" + 0.001*\"tough\" + 0.001*\"unable\" + 0.001*\"unexpected\" + 0.001*\"say\"')\n",
            "(38, '0.002*\"customer\" + 0.002*\"agent\" + 0.002*\"flight\" + 0.002*\"help\" + 0.002*\"delay\" + 0.002*\"time\" + 0.002*\"united\" + 0.002*\"next\" + 0.002*\"let\" + 0.002*\"make\"')\n",
            "(61, '0.002*\"flight\" + 0.002*\"agent\" + 0.002*\"customer\" + 0.002*\"work\" + 0.002*\"monday\" + 0.002*\"look\" + 0.002*\"change\" + 0.002*\"let\" + 0.002*\"like\" + 0.002*\"instead\"')\n"
          ]
        }
      ]
    },
    {
      "cell_type": "code",
      "source": [
        "# Extract LDA topic distributions as features\n",
        "lda_features = [lda_model.get_document_topics(bow, minimum_probability=0) for bow in corpus]\n",
        "lda_features = [[topic_prob[1] for topic_prob in doc_topics] for doc_topics in lda_features]\n",
        "\n",
        "# Ensure all sub-lists in lda_features have the same length by padding with zeros\n",
        "num_topics = lda_model.num_topics\n",
        "print(num_topics)\n",
        "lda_features = [x + [0.0] * (num_topics - len(x)) if len(x) < num_topics else x for x in lda_features]\n",
        "\n",
        "\n",
        "# Split data into training and testing sets\n",
        "X_train, X_test, y_train, y_test = train_test_split(lda_features, reasons, test_size=0.2, random_state=42)\n",
        "\n",
        "# Train a classifier (e.g., Logistic Regression)\n",
        "from sklearn.linear_model import LogisticRegression\n",
        "classifier = LogisticRegression(max_iter=1000)\n",
        "classifier.fit(X_train, y_train)\n",
        "\n",
        "# Make predictions\n",
        "y_pred = classifier.predict(X_test)\n",
        "\n",
        "# Evaluate the model\n",
        "accuracy = accuracy_score(y_test, y_pred)\n",
        "print(f\"Accuracy: {accuracy}\")"
      ],
      "metadata": {
        "colab": {
          "base_uri": "https://localhost:8080/"
        },
        "id": "duoyHuKfG-Vh",
        "outputId": "3c35cfaa-8b43-410f-b9bd-4027bff04920"
      },
      "execution_count": null,
      "outputs": [
        {
          "output_type": "stream",
          "name": "stdout",
          "text": [
            "100\n",
            "Accuracy: 0.5\n"
          ]
        }
      ]
    },
    {
      "cell_type": "code",
      "source": [
        "import gensim\n",
        "from gensim.models import Word2Vec\n",
        "from nltk.tokenize import word_tokenize\n",
        "import nltk\n",
        "\n",
        "nltk.download('punkt')\n",
        "\n",
        "# Example paragraph and target word\n",
        "paragraphs = [\n",
        "    \"Artificial Intelligence is transforming the world with remarkable innovations.\",\n",
        "    \"Machine learning is a subset of AI focused on data analysis and prediction.\",\n",
        "    \"Deep learning is a type of machine learning that uses neural networks.\",\n",
        "]\n",
        "\n",
        "# Preprocess and tokenize each paragraph\n",
        "tokenized_paragraphs = [word_tokenize(paragraph.lower()) for paragraph in paragraphs]\n",
        "\n",
        "# Train a Word2Vec model\n",
        "word2vec_model = Word2Vec(tokenized_paragraphs, vector_size=100, window=5, min_count=1, workers=4)\n",
        "\n",
        "# Train the model to associate the context of a word\n",
        "target_word = \"learning\"\n",
        "word_vector = word2vec_model.wv[target_word]  # Vector for the target word\n",
        "\n",
        "# Find words that are contextually similar to the target word\n",
        "similar_words = word2vec_model.wv.most_similar(target_word)\n",
        "\n",
        "print(f\"Words similar to '{target_word}':\")\n",
        "for word, similarity in similar_words:\n",
        "    print(f\"{word}: {similarity}\")"
      ],
      "metadata": {
        "colab": {
          "base_uri": "https://localhost:8080/"
        },
        "id": "7dmMVIppIbeC",
        "outputId": "a43d5006-180e-4809-b859-2148afb3e97d"
      },
      "execution_count": null,
      "outputs": [
        {
          "output_type": "stream",
          "name": "stdout",
          "text": [
            "Words similar to 'learning':\n",
            "and: 0.21869774162769318\n",
            "neural: 0.21683292090892792\n",
            "artificial: 0.09979760646820068\n",
            "focused: 0.09390734136104584\n",
            "deep: 0.0928446501493454\n",
            "innovations: 0.08400551229715347\n",
            "that: 0.08026852458715439\n",
            "remarkable: 0.06485794484615326\n",
            "uses: 0.06296632438898087\n",
            "analysis: 0.055060409009456635\n"
          ]
        },
        {
          "output_type": "stream",
          "name": "stderr",
          "text": [
            "[nltk_data] Downloading package punkt to /root/nltk_data...\n",
            "[nltk_data]   Package punkt is already up-to-date!\n"
          ]
        }
      ]
    },
    {
      "cell_type": "markdown",
      "source": [
        "#Approach 4 Using Bert"
      ],
      "metadata": {
        "id": "Mgk8j81eeAGI"
      }
    },
    {
      "cell_type": "code",
      "source": [
        "from transformers import BertTokenizer, BertModel\n",
        "import torch\n",
        "\n",
        "# Load pre-trained BERT tokenizer and model\n",
        "tokenizer = BertTokenizer.from_pretrained('bert-base-uncased')\n",
        "model = BertModel.from_pretrained('bert-base-uncased')\n",
        "\n",
        "\n",
        "# Tokenize the paragraph\n",
        "inputs = tokenizer(transcript, return_tensors='pt')\n",
        "\n",
        "# Get the embeddings from BERT\n",
        "with torch.no_grad():\n",
        "    outputs = model(**inputs)\n",
        "embeddings = outputs.last_hidden_state\n",
        "\n",
        "print(\"BERT Embeddings for the paragraph are generated!\")"
      ],
      "metadata": {
        "colab": {
          "base_uri": "https://localhost:8080/",
          "height": 353,
          "referenced_widgets": [
            "6eeb44992f0e42129704510364ce13ec",
            "e84b3d3ff3534f8f90bef6b9b80890ce",
            "6fc7d0848dfa40569d5a619c85c00aac",
            "106c3b782ed54e7d9011db934c3ea27b",
            "2c9e9cee6067463e81467aea74f89da3",
            "1e5e74c5af3d4a05aceda70949bdefb8",
            "c06ffa2cd7b14373bb3fcc5d348b179c",
            "353e6fa2cf0b42e383aac09ee3814faa",
            "1555df132f3f4932b189730b751ba011",
            "75fef941586741a997381b7fde87be9c",
            "ba541a6b6d4243d988db85b50040f9a9",
            "e3b5b5e6da804671a9c5e6ba35e87471",
            "27106d736ec04df6810727bee77cbf51",
            "f13a219be41645fdb8e50679fdc05458",
            "582525979a5542cab5f8e490ea77d2fd",
            "68e180703ed046f887579f45e02677c0",
            "0f9d34c09ad54df593eb04eff5981fdf",
            "bbb18f84e02e43da8da255cd0e91c661",
            "7a5d9f244324499599a681f21b00d8a1",
            "68caa50b1bfe4f888fb8f02ce42ab2b6",
            "bd8b3dc887464081bf1f24502d2c115c",
            "422f124c6843461d8ef40bf05f5707a9",
            "cfe7634464f3426f88a5623469d2d61e",
            "b72439eaa07c43c79310f89dd35af713",
            "e088367628be408c8ac9681c19a76925",
            "9f17d2fd77d24e0cba40520033da8089",
            "cd0815aee4a54cf69c21b10b69a42a1d",
            "e1dee715ebac47eaaaacd080fcc54cac",
            "d44036eed9bc4122991476f21269d382",
            "8f661830391e469c8bea9615de84ab45",
            "46df7ffdd7bd49809486cf3bc5e01081",
            "e271706df9d04be4a9af9bf6404778f5",
            "82707cefbb93402fb841332b9508786c",
            "23575ed86c0a42018784ee8aa98fc5e9",
            "2eff3698d14a4d919b65de5fe9d0ea0e",
            "843c1ca9b9234c3b9ac1114f0995051a",
            "a0acf2c843d548d5bed46a2587aa88c0",
            "ec2d6e5c03014ac6b6a3f98d3171db5b",
            "d6a56347230e48f5ae224165a7080cf9",
            "27d01c7c9860491ca654e13311b88a61",
            "fa3fec74d45d4f7ea5b4674b24f52368",
            "3e93e5a171024b26b2cba7680f0a5359",
            "53187ff116ef42dfa9dbf7a58caa8910",
            "3461c8af2a4c4af186f5749f310526e4",
            "6bdb636241c9454ba60ab98e4a505f10",
            "2e2bcdec79dc43ac806912a3addc194e",
            "189f5d77da5d4f34b66e81daaec803b9",
            "7f002f91ce71483c88412593c71cce77",
            "f1418b7c19984d38a332cbceb7055836",
            "2a2d38f3dc3749beb63673cc6e4c18cd",
            "d8f32a1ff0a34b1dbc109208cc8a3fc2",
            "a605cabaa63345bc95bde9afe12c953f",
            "cc63fa10c2084a5db481a3fce10e46e9",
            "62a9540894df4e80b3b3e3df3f028c3d",
            "78a4c786fc4b4c7f8dcd324b0163f3d3"
          ]
        },
        "id": "yfVfCU2CLWM5",
        "outputId": "06c56971-e424-46da-d9ca-d5afda2a5be9"
      },
      "execution_count": null,
      "outputs": [
        {
          "output_type": "stream",
          "name": "stderr",
          "text": [
            "/usr/local/lib/python3.10/dist-packages/torch_xla/__init__.py:202: UserWarning: `tensorflow` can conflict with `torch-xla`. Prefer `tensorflow-cpu` when using PyTorch/XLA. To silence this warning, `pip uninstall -y tensorflow && pip install tensorflow-cpu`. If you are in a notebook environment such as Colab or Kaggle, restart your notebook runtime afterwards.\n",
            "  warnings.warn(\n",
            "/usr/local/lib/python3.10/dist-packages/huggingface_hub/utils/_token.py:89: UserWarning: \n",
            "The secret `HF_TOKEN` does not exist in your Colab secrets.\n",
            "To authenticate with the Hugging Face Hub, create a token in your settings tab (https://huggingface.co/settings/tokens), set it as secret in your Google Colab and restart your session.\n",
            "You will be able to reuse this secret in all of your notebooks.\n",
            "Please note that authentication is recommended but still optional to access public models or datasets.\n",
            "  warnings.warn(\n"
          ]
        },
        {
          "output_type": "display_data",
          "data": {
            "text/plain": [
              "tokenizer_config.json:   0%|          | 0.00/48.0 [00:00<?, ?B/s]"
            ],
            "application/vnd.jupyter.widget-view+json": {
              "version_major": 2,
              "version_minor": 0,
              "model_id": "6eeb44992f0e42129704510364ce13ec"
            }
          },
          "metadata": {}
        },
        {
          "output_type": "display_data",
          "data": {
            "text/plain": [
              "vocab.txt:   0%|          | 0.00/232k [00:00<?, ?B/s]"
            ],
            "application/vnd.jupyter.widget-view+json": {
              "version_major": 2,
              "version_minor": 0,
              "model_id": "e3b5b5e6da804671a9c5e6ba35e87471"
            }
          },
          "metadata": {}
        },
        {
          "output_type": "display_data",
          "data": {
            "text/plain": [
              "tokenizer.json:   0%|          | 0.00/466k [00:00<?, ?B/s]"
            ],
            "application/vnd.jupyter.widget-view+json": {
              "version_major": 2,
              "version_minor": 0,
              "model_id": "cfe7634464f3426f88a5623469d2d61e"
            }
          },
          "metadata": {}
        },
        {
          "output_type": "display_data",
          "data": {
            "text/plain": [
              "config.json:   0%|          | 0.00/570 [00:00<?, ?B/s]"
            ],
            "application/vnd.jupyter.widget-view+json": {
              "version_major": 2,
              "version_minor": 0,
              "model_id": "23575ed86c0a42018784ee8aa98fc5e9"
            }
          },
          "metadata": {}
        },
        {
          "output_type": "display_data",
          "data": {
            "text/plain": [
              "model.safetensors:   0%|          | 0.00/440M [00:00<?, ?B/s]"
            ],
            "application/vnd.jupyter.widget-view+json": {
              "version_major": 2,
              "version_minor": 0,
              "model_id": "6bdb636241c9454ba60ab98e4a505f10"
            }
          },
          "metadata": {}
        },
        {
          "output_type": "stream",
          "name": "stdout",
          "text": [
            "BERT Embeddings for the paragraph are generated!\n"
          ]
        }
      ]
    },
    {
      "cell_type": "code",
      "source": [
        "print(embeddings)"
      ],
      "metadata": {
        "colab": {
          "base_uri": "https://localhost:8080/"
        },
        "id": "1-stY6EtMWEp",
        "outputId": "48f06ddd-782f-4e4b-8e62-c5dc9c269abf"
      },
      "execution_count": null,
      "outputs": [
        {
          "output_type": "stream",
          "name": "stdout",
          "text": [
            "tensor([[[-0.1084,  0.0077, -0.1080,  ..., -0.6402,  0.4346,  0.0963],\n",
            "         [ 0.2077,  0.2555, -0.1516,  ..., -0.3088,  0.5757,  0.5379],\n",
            "         [ 0.1120,  0.1790,  0.1266,  ..., -1.5448,  0.2909,  0.1406],\n",
            "         ...,\n",
            "         [-0.2487, -0.0029,  0.5713,  ..., -0.6210, -0.0807, -0.4504],\n",
            "         [ 0.6755,  0.0098, -0.3098,  ..., -0.0733, -0.5078, -0.3830],\n",
            "         [ 0.7241,  0.0484, -0.1655,  ..., -0.0872, -0.6031, -0.3665]]])\n"
          ]
        }
      ]
    },
    {
      "cell_type": "code",
      "source": [
        "from transformers import BertTokenizer, BertForSequenceClassification, Trainer, TrainingArguments\n",
        "from sklearn.model_selection import train_test_split\n",
        "import torch\n",
        "from sklearn.preprocessing import LabelEncoder\n",
        "from torch.utils.data import Dataset\n",
        "\n",
        "# Example dataset: transcripts and corresponding reasons\n",
        "transcripts = merged_df['call_transcript'].to_list()\n",
        "reasons = merged_df['primary_call_reason'].to_list()\n",
        "\n",
        "# Load the BERT tokenizer\n",
        "tokenizer = BertTokenizer.from_pretrained('bert-base-uncased')\n",
        "\n",
        "# Tokenize the dataset\n",
        "X = tokenizer(transcripts, padding=True, truncation=True, return_tensors=\"pt\", max_length=512)\n",
        "\n",
        "# Initialize Label Encoder\n",
        "le = LabelEncoder()\n",
        "\n",
        "# Fit and transform the labels to numerical representations\n",
        "y = le.fit_transform(reasons)\n",
        "\n",
        "# Split the dataset\n",
        "X_train, X_test, y_train, y_test = train_test_split(X['input_ids'], y, test_size=0.2, random_state=42)\n",
        "\n",
        "\n",
        "# Define a custom dataset class\n",
        "class CallTranscriptDataset(Dataset):\n",
        "    def __init__(self, encodings, labels):\n",
        "        self.encodings = encodings\n",
        "        self.labels = labels\n",
        "\n",
        "    def __getitem__(self, idx):\n",
        "        item = {key: torch.tensor(val[idx]) for key, val in self.encodings.items()}\n",
        "        item['labels'] = torch.tensor(self.labels[idx])\n",
        "        return item\n",
        "\n",
        "    def __len__(self):\n",
        "        return len(self.labels)\n",
        "\n",
        "\n",
        "# Create dataset objects\n",
        "train_dataset = CallTranscriptDataset(X, y_train)  # Use X instead of X['input_ids']\n",
        "eval_dataset = CallTranscriptDataset(X, y_test)   # Use X instead of X['input_ids']\n",
        "\n",
        "\n",
        "num_labels = len(le.classes_)\n",
        "model = BertForSequenceClassification.from_pretrained('bert-base-uncased', num_labels=num_labels) # Use num_labels here\n",
        "\n",
        "\n",
        "# Load the BERT model for sequence classification\n",
        "# model = BertForSequenceClassification.from_pretrained('bert-base-uncased', num_labels=3)\n",
        "\n",
        "# Set up the training arguments\n",
        "training_args = TrainingArguments(\n",
        "    output_dir='./results',\n",
        "    num_train_epochs=3,\n",
        "    per_device_train_batch_size=4,\n",
        "    per_device_eval_batch_size=4,\n",
        "    evaluation_strategy=\"epoch\",\n",
        "    save_total_limit=1,\n",
        ")\n",
        "\n",
        "# Prepare the Trainer object\n",
        "trainer = Trainer(\n",
        "    model=model,\n",
        "    args=training_args,\n",
        "    train_dataset=train_dataset,  # Pass the custom dataset objects\n",
        "    eval_dataset=eval_dataset\n",
        ")\n",
        "\n",
        "# Fine-tune the model\n",
        "trainer.train()\n",
        "val_results = trainer.evaluate()\n",
        "\n",
        "# Print the accuracy\n",
        "print(f\"Accuracy: {eval_results['eval_accuracy']}\")"
      ],
      "metadata": {
        "colab": {
          "base_uri": "https://localhost:8080/",
          "height": 338
        },
        "id": "YCVfxq6C8r7m",
        "outputId": "f9b05748-3064-48c7-eea4-a8a21620302c"
      },
      "execution_count": null,
      "outputs": [
        {
          "output_type": "stream",
          "name": "stderr",
          "text": [
            "/usr/local/lib/python3.10/dist-packages/transformers/tokenization_utils_base.py:1601: FutureWarning: `clean_up_tokenization_spaces` was not set. It will be set to `True` by default. This behavior will be depracted in transformers v4.45, and will be then set to `False` by default. For more details check this issue: https://github.com/huggingface/transformers/issues/31884\n",
            "  warnings.warn(\n",
            "Some weights of BertForSequenceClassification were not initialized from the model checkpoint at bert-base-uncased and are newly initialized: ['classifier.bias', 'classifier.weight']\n",
            "You should probably TRAIN this model on a down-stream task to be able to use it for predictions and inference.\n",
            "/usr/local/lib/python3.10/dist-packages/transformers/training_args.py:1525: FutureWarning: `evaluation_strategy` is deprecated and will be removed in version 4.46 of 🤗 Transformers. Use `eval_strategy` instead\n",
            "  warnings.warn(\n",
            "<ipython-input-15-5e071c9e35a1>:34: UserWarning: To copy construct from a tensor, it is recommended to use sourceTensor.clone().detach() or sourceTensor.clone().detach().requires_grad_(True), rather than torch.tensor(sourceTensor).\n",
            "  item = {key: torch.tensor(val[idx]) for key, val in self.encodings.items()}\n"
          ]
        },
        {
          "output_type": "display_data",
          "data": {
            "text/plain": [
              "<IPython.core.display.HTML object>"
            ],
            "text/html": [
              "\n",
              "    <div>\n",
              "      \n",
              "      <progress value='1564' max='39933' style='width:300px; height:20px; vertical-align: middle;'></progress>\n",
              "      [ 1564/39933 7:05:12 < 174:04:58, 0.06 it/s, Epoch 0.12/3]\n",
              "    </div>\n",
              "    <table border=\"1\" class=\"dataframe\">\n",
              "  <thead>\n",
              " <tr style=\"text-align: left;\">\n",
              "      <th>Epoch</th>\n",
              "      <th>Training Loss</th>\n",
              "      <th>Validation Loss</th>\n",
              "    </tr>\n",
              "  </thead>\n",
              "  <tbody>\n",
              "  </tbody>\n",
              "</table><p>"
            ]
          },
          "metadata": {}
        },
        {
          "output_type": "stream",
          "name": "stderr",
          "text": [
            "<ipython-input-15-5e071c9e35a1>:34: UserWarning: To copy construct from a tensor, it is recommended to use sourceTensor.clone().detach() or sourceTensor.clone().detach().requires_grad_(True), rather than torch.tensor(sourceTensor).\n",
            "  item = {key: torch.tensor(val[idx]) for key, val in self.encodings.items()}\n",
            "<ipython-input-15-5e071c9e35a1>:34: UserWarning: To copy construct from a tensor, it is recommended to use sourceTensor.clone().detach() or sourceTensor.clone().detach().requires_grad_(True), rather than torch.tensor(sourceTensor).\n",
            "  item = {key: torch.tensor(val[idx]) for key, val in self.encodings.items()}\n",
            "<ipython-input-15-5e071c9e35a1>:34: UserWarning: To copy construct from a tensor, it is recommended to use sourceTensor.clone().detach() or sourceTensor.clone().detach().requires_grad_(True), rather than torch.tensor(sourceTensor).\n",
            "  item = {key: torch.tensor(val[idx]) for key, val in self.encodings.items()}\n"
          ]
        }
      ]
    },
    {
      "cell_type": "markdown",
      "source": [
        "![UA.png](data:image/png;base64,iVBORw0KGgoAAAANSUhEUgAABF4AAALKCAYAAAALY5WQAAAAAXNSR0IArs4c6QAAAARnQU1BAACxjwv8YQUAAAAJcEhZcwAADsMAAA7DAcdvqGQAAP+lSURBVHhe7L0PcCXZddd/HMKuX2x5n8d+6wxrvbEnCEa268kUA1JNxcL5gUaiYqBiUsrglBJAZVEFUzMT/po/xWiAAocQsrM1QEUuUQRRZiJCij8JzNsJJMhhIpGhYqk21gRVxpmnLJOsbO1by0be3ST+3XP/dN++r+/tfv3+6Enz/Ux1jV736+57zzn39j2nz73vLRMTE98gAAAAAAAAAAADzze+8Q25/fZv/zb97t/9u/Xe/Jw5c4b+5t/8m/Rrv/Zr9OlPf1rv7S3f8i3fQh/4wAfoa1/7Gm1vb+u9x5M/+2f/LF26dIl+5md+hv7JP/knem82//Jf/kt629veJmX+S7/0S3pve/yFv/AX6Jd/+Zfp53/+5+mv/tW/Sn/8j/9xfUTxX//rf5Vl+vZv/3b64Ac/SD/6oz+qj3TG933f99H3f//30x/9o39U70nnh3/4h+X/f+Wv/BX5fxG4/H/gD/wB/SkbliXLopu8973vpb/+1/86jY6OSnv9x//4H9Ov//qv66P5ePPNN+l3/a7fRW95y1vot37rt+h3iYsu6mMAAAAAAAAAAI4BHHxhx64dOOjyd/7O36Hf+3t/L73//e+n5557TjrxvYYDRJVKRTqjX/rSl/Te48mHP/xh+tCHPkQPHz6UTjUHYSYnJ2WwI22r1Wr0+PFj+o7v+A566qmnpLx/4zd+Q18tPx//+Mflvf7YH/tj9F3f9V0yKPBN3/RN+qji7Nmz8nvT09P0bd/2bfT1r3+9K4GusbExWe9//a//td6TDt+XefHFF+X/ReB7DQ8Py8AiBzv29/fp1VdfTWyvvfYalUol+Z2XXnqJ7t27p8/uDuPj4zQzMyP19fa3v13qmrd2+J3f+R2pH7YR+bfeDwAAAAAAAADghGKCLuycM+wUcgbDpz71Kfn5OHP+/Hn6p//0n9JP/uRP0n/+z/9Zbv/qX/0r+v/+v/9P/m/28XH+Hn+/G4yMjEgZTk1Nebc/8kf+iAw6dQJnYHAggIMN7Mi/4x3vSA268T4+xt/h7/I5fG4ROIhiMlj6CWcSHRwcyO3WrVv0yU9+smXj/eY7/P1uw8GqL37xizJgwv93I3iFwAsAAAAAAAAAnGBM0IWzXH7lV36FDg8PZRbG3t7esQ++/Ik/8Sfo7/7dvyszSzhDIQQf5+/x9/m8TvnZn/1ZOQ2Fpw/5tn/2z/4ZPXjwQJ9RjI997GNShy4ceOAMGt44C8SFz+Fzi/Ce97xHZrkcNTxFizf3717CmTZXrlyRgTP+v91pRmkg8AIAAAAAAAAAJxQ76PK///f/pv/4H/+jnKb0xhtv0PPPP3+sgy+czfGn//Sflhkey8vLMsjAARXeeC2W//7f/7v83+zj4/w9/j6fVzQbxMDTh3gtEJadb/tLf+kv0blz5/QZxfi///f/0le+8hX9SfHlL3+Z/uE//Id0/fp1uXGQh3Vpw+fwuaB92F66FaBjEHgBAAAAAAAAgBOICbq8733vo42NDVpcXJTTJwz/63/9Lxl8Yee8W8EXXs+F1+n4/b//98sAhw9eO4MXUTVTn4rw+37f76NTp07J6SD/9t/+W7nvH/yDfxBNLbI33s/w9/j7fB6f3wn9ynj5T//pP8ngih1E4Tqw/gz8N693YuDv8jl8bqfwmi1/+S//Zf3p5MNr8/z5P//n5TQx/p8/dwoCLwAAAAAAAABwAuFf0eFACzvlHHjgKUYufIyDAy+//LJc94XXBukE80su7373u2VgIy34wkEXXh+Ff+2Ij4cCNINMvzJeBgUOqJkNtEdHgZfZxWVaXr5Os/pzr+D73Loyrj/1iUvXZRra9Uv68xPIkcg9jQtX6VYf7Az0h371G4pxuvq8uN/zV8Vf+RgYuz8i+qsfAAAAAPSSL3zhC/IniP/23/7bqUEXAwdfeEoOT10JfS8P/Es6/JPHX/3qV2XwhYMOdmCFgy68j4MuvM7Mr/7qr8qpT0X4P//n/8hfveFpVH/mz/wZuY8zfMzUInvj/Qx/j7/P5/H5nbCzs0P/7b/9N7p79653+x//43+0TAFqlz/5J/8k3bhxg37P7/k9eg/JOvzhP/yH9SeSf/OvLRn4uzxVxv3J6SJcvHhRLkpsbycZXjOH15Jh3fH/3fjlr4HKeBm/couWF5/A4T4HedpwDCN0cCjNSVLOk966IdPoXrzdoqsX0vbHWxSw8p0n0U6xOJbf0Z2l69H19GbVT9pQdMyWS3wv9xzGKy8Z9LGOOXpK3K+IDlOIruleL1EWV5YFyaifH9aDrwyhY13EE5BjXeYJmBbtbxK2IrbeBGeVvbZcm9tTN9ozAAAAAEAP4Z+N5qAPB194Sg8HCRjOhuGgy9NPPy2DLu3+RK8LL3r67//9v5eBm/n5efqpn/qpaGpR2q8a8XH+Hn+fz+t00dT/+T//J/3QD/1Q6hQjs/3zf/7PO74PB1H414ps3vWud9Hf+lt/SwZkeOPsGvfXk975znemLsrbLmaqUZGfwT6usL38vb/39+T/3SBn4CXdkVpdnBeGe4NW9ecTxe0bslHeuK0/DxjSaZxo0tLdht4Tw8emqS7Lz1tdfOroDT47uFMV2lpW15tf3qGRee3wajnFW50adEhNLlboPGlTC1ReX6KtA7mjDQ7ja/K2qC1QOKULY3tUN/vvEk3rQMLs4gLVmh6ZiPNieYnyD0/HDu+9m3TZXG9elJVqNGMFlRbO7tCSPr70cIQWjFPsCQpkwU79wqk1Wtp03zQIR3x2hHZ0vZc2iWqznQZ6hA7m42vK7dpN2tBHe0V/+40NunmtW/VSwZDp8lakc94GtY8oyonu1wEAAADQN+zgS7lclsGWZ555pmtBF4NxkLe2tuSCwSH4OH+vE4f6a1/7Gv32b/+2zCThbJc823/4D/+hJXDSDhwwevTokf4UMzQ0JNcf4Y1l68LZRD/2Yz+mPxWHAy7f933fR9/6rd9Kn//85/Vekp/t6Uf8+Td/8zf10e7AGVS8uX/3El50+YUXXpAZS/x/p4swM2+ZmJgI53WxAzlfo727loOh98nZfwfCCbGcGnYcRx/UiaamqSr3NIQjLAbx8hx28i7TzXvygAwQSMdVjPDnzPUsDjeX6PILG/Kak/tbtDdWU9e072mXRWDOUY79KDU3K1QbU0fjYyHYuRJO+hD/zQ5+XF55L+FJ7zRrVBtWuxpGLvrYmnC+p937yTKWac04M9HnbRpdNnKy2K3HwYQs+A34FCkZyx1c70lqRuXmz+Iejp58sKyndd0YWYdXZmj53LZVJpbRnPDQLNlopE5Pranvctkyz1PyHnno6MbRa2RHLfWL4XvP0Yp1HWUD2/N36LR735ayxSh7S7MV+96q3OV10y6M3ZhyCqRuOPDUWtZILx5dR23DpzPXphh5v2psk1nIayTbZAJHB+a6ro0oVL0pcEz1Aen9htLdTtzGI30rWu/JbXONyvOsX0sGgtnFW3T6RVGnqpKHxJZzi20pMvubNJnbONd1+6JtDgQ65WnVc9we1k4tiL7U0aXQ8a1n70TltGUS6123s/UdGplKyptCci6sH2P78oPGPh62dQAAAAC0B2dr8MbOPy9k2y7mJ3J5+gsvHNpruIwf+MAHZJCAy93NoMtR8YlPfEJO7eE1dLL45m/+Zjp9+rSUw5e+9CWZBfNLv/RL+mh+Pv7xj0t9vfWtb5U/I8335gwiG7YJDgyxrDlAwdNkfvInf1IfbQ8OtHz/93+/XHT5h3/4h+VPS3PWCwdYzH7zHRtebLher+tP7cMLLnP2DuOTVZ7vdIJpIzwd7v/9v/8XBWHagQOPZr2j3/qt38rIeGFHTr8RTwz+TRZASrYFU51i51S9Da7vVmmSMwvEOWu7JRo5b97Rj9PE2RI11sXgXl9PvuXnwbl+k2w7vqWxEX1NK+tAOgr2G/u6cAwWrPT8KtVMRsLyFtHYjHABstBvyGXmRgpDNXF3XUZR/+qElXUgjk1z0CH3/Vbphr6OdHRkHcTWiXNy4TRVaI8esyPN8uFAwd0tOhwqU1aSmXTk7EyZXX2g0aTD4dG4LpdmhJNVorL2IWNmaWaMaOtFXf7c5zm4ehWyTOZ/lKg2b6Z6xJlYG6/sUensRKSP8SuTwgIqdPrCBj1uJm3v6oQoRPl0rLuIWRodPqSd+7HtsdOp7jVNlc0VHaQ4Q+UhndkjzlHZO2wzfD/eJ+BsIJnl0/3pKOPnR6i0u50eAMiLaHcrm6Rl6WbniDrJIIPWgWgPNKW+ozIiVGZTnHmknOzQsax+oyScerqrzon6DQHLP84yURlSjbsmWKTkLXUks43G6XSZ9wt0NlZL9lDR/qZaptJBk1rfNQhy9EXTnKGmjzWGJ6XdbrywRo2hEZowNnNhgkaGGrSmy1J5VshAtmMl+/Fn4/RRJWu9iTZSsfsibiMTRCvyeDJTyyfnovpJZpMZ3ZugCwAAAACedEzmCwcLTkLQhfnsZz9L165do09+8pOZ25/7c3+O/t2/+3eZ2ThZcACFs3T4l6m+67u+S07/ceF9fOwHf/AH6ad/+qcLB11sOItlc3NTBl34f/sXjszfZvve7/3ejoIuDP8CFK8zxFPU/v7f//uyzu7G+/k4f6/TX4xKY3t7W/5qFC9Mzf/z507xBl7YCVeZFJ634QEOI+dUOAcPGlQ6pVz+1Re3iIxjzA6GcAfu5HkzL4ivyU60dkjYEdpds8q3Stu7+phEOACr+q3tvce0ZzvFHFSy1mnIPxWnQXUTGOHAQiKgYR27t047B9b9CsFvkuMytrXgpQyaseMs9JfwozhIYF0zWtNDBRyioImNdNArNG3OOdcUzq8JOsTIQIetj5znuaiggq1XGx2s0puccmNNe6o3a7Sg78dv6Bs6CLW6qBxhVe85ooeiEM3H0Rt9BcvbDq4oNl64rO+3RDtnF5K2UtXBLeFwp2aZSGeWgxbivom1OXQ9igTZhG7llCr33ALT46K6cTYGy8bYw6VRqnKwQMuSg04qiCVP6w279ajsj/YPo34jDdXGH1FTT1M7I/TcKFtBvg5J62/soEcL7fRF8pgJQK7SHWHDJijItk+bd8ReJQOJ+N7eboVGneBdHBAUG2eqOMFVGdSWf6lgcmQXbcg5Qe7z3OBqB7YOAAAAgK7Db+55sdl+ZLsYOPjCTvtJCLoUgcdrP/ETP0Gvv/663lOMH/3RH40WeuXsGZargf/mfQzr+F/8i38h/+6U97znPVJ3DGe78Gf3b4anGHVjDRgOpvzMz/wMvfrqqzJDKg3ez8f5e50uBp0Gr8nDGS8m86XTNXoYb+BFvk2VzlgXF8nkYIR+8yodjIfrjuPbR5y1Sey33YODyb4xW463yDLAZN6u6+8n3tQnAxd5176Igw9iW3xM5SGdVWO4cJXm7GwXTeZ5HbJxf0e4tDF2FsDl+8LxTa33ZVqnCh3u27kLarpEy5SnBEIf6yaQyE5/iWpTOrjFdbKzjQwyW2FaZQp0w/HkgFpialmXkO3BWcPGygYxcksPhvUWqeMhE1BT2RVJHc3S6KltuvPQBCe6a2MGzqiiHJlj7cL1U9lxnAVIiWwrZvZcmbZf3KHKORVW2ntFHDftzWTYtGSF9Q8OrtPwtA4CceByqa3gHwAAAADAk4B5YcZTV7oB//w3B7Lsjfd1C5NR4/6akW/jXz7qFv/m3/wbmp2dbfllKnvj4/y940J4qhE7Yx1NlVBTOhoPjIuoHNfques0M7YXpdMbpGOTOv3Dg5zKolL2JcIZmXSmiRwZPK2Gdmg9cgBNtoCQyayzvkRL5kwnqDfth1FQS+kg/uxDBRKiN+88vaNlrQ7GZIWot/KG2YuiTt4sFSb9vDSkHURTlHjKiyMvC3XftCk36ry96K2/hc4Yie1PTRUKB10YLUsZsNmg9Yc8VSW+d0tZZNZRylQ9ic48auMXamSGQyjowvcT1yw+rYmnT+k/ZduyFhluQdlL+rSx0LH2YbnyGlNRACgKYKkpZOWLo0Sij+EARuXcTFyHDNrub27foa2DKk2n6aydvkgea9C2sYl7PA2zSqOLos9oxm1ITp07NUOjJGyKg9blUZo5pVsCB1OtAJO0PfVnn+E2YS2gLbbWNtS+rQMAAAAAnET454l/5Vd+RX/qDM5q+Yt/8S9GU5r473bXIQnB2Ss8dcieShTa0qY+gZjsxXUlPHC2FjSVb90dr0ovxnjGWfCxdUFbvpZvoUV2zuNFGpOLXcbXSXx2yhIvMOmUueWzD10+/UnBaxaI84jXcbAW1+RsBvNZ/m07P/bikqrMRi6Nuzz1JLkoqH1cZhpkZUcEdLDhkWMmdh1EGZb2J/VitZS4XsvirfI8DjC4sk2WI3le8pihdQFXlr29iKqjn4Ss7GNaZ6Y8trxSFg5d0Asixyj9PXKOuXX36s22DbXHQZfV0XVqWeR3KMUuHd3qOrbox0eKDSXOdY87ckseT9p76rGU+5lr8qKv0aLMAikH87mlbQm03JT8zb21TZF1zVRZmlIW6G9S7DaSmVO/WJZun+LYJqPPTZO/2adsg7Nc+Fy37LwYcFm3EXUsXvg5JiFX93NR/aScl+xz0m0dAAAAAMXodHFdAEDvcRfXzRl4yY/rtLSiBuE89cJ1Co41mY42AKAILX2KN9A3qHCflxH0lcGLHkwh6zkpQZ5jWxcAAADgeIDACwCDjxt4CU816gFyAdaD/IvqAgCeZKxfKTI402yOP+NqCluOaXiDhzU9TSMXIfb9+hMAAAAAAABPIP0LvPBb0OVlkr/GYk9XAAAALxt0c5V/mt38IpXYpnhNkZORTcHZPOkLBh8XVukG/6w+/2qX1g/6eAAAAKB/cOYLAGCwSGuXXZ9qBAAAAAAAAACgN5ipRr/zO78jpzHwdAYAwODA0wC5jX7TN33T0U01AgAAAAAAAABQDHbkeGPYoTNOHgDgaOF2yO2R2yVjt1VkvAAAAAAAAADAMcJkvPDGTt7rr78uHT4AwNHB2WdPP/00ffM3f7PMdjEZL7zQLgIvAAAAAAAAAHDMsIMvyHoB4OjhIAsHX+ygC4PACwAAAAAAAAAcUzjYYm8AgKPDTC0ym2GwAi/8q0dTVfX3bp3mF/vwmyUXrtKt+RrR5tJA/6II//LJ9HCD6vPH7ZdcZun68iQ1ly/TzRPz078gH+N09fkFqumfGj48ijaW2afoMtIWLfXpV3hUW9Yf+tXPAQAAAOBEg4ALAIOFHXRhOPCSsbguOyb8E6HXhQvdY27foPn5eVraPNQ7jiMcaLhFVy/oj8eQ8Su3aHmx59o+GtgRf/6qsGrQa8avzMmfSOY2zduRBDYHrU8R9jdd3qIlLZPjE3QxzwFra6OPKNSncFu17ye265f0MQAAAAAkcN+yY8OG7Wi3NMKBlwsTNCKcp/pulUZP4qD33k26fFROYRusLrKjdtyyXcCTzJlTJTrcf6Q/DSobdPOaaFt9ynYZf7ZC1Hzcl3v1gsZdHTCaX6Kt8nTvA7QHVpBKbDdu6/0AAAAAAAAcM4JTjfhN5cwrl+kGXaflc9vZb2jl1J0R2rGnlvCby4mmSuXXU3tK+pAcWDtOD99z4dRa4l6cnj+5H09VSH7mLJNp0hMKck9psFP+2aFIDOrtKQqCPNdMTCGIMNOD+I3xHNH6Do1M6frLuj+mGVF2su8v703qPFtejqxYTnO0Q3tjNV13eypScpqHImOqkqsbTVR353g+ObNuRmn7LtF06pSPYroL6scpp9Jt8j4ROad6JHUbyzGsgwA52oEPX1n8+vHrQLa1szvWvZXdjDzMoQdHB6YNhdtBCFdHOWUpSN7zkLacqW1pfUqi/Gl24KmfW848NivvP9bSsqJycvlHH9SJpsx1rboH5Dy6v0UVYXslUf46TUsZtPRlLRSRs7KL8rp1bWlvZVrjc3327O7XRDILtQOut3luyIMxIXm5sjb3SrRVcZ/6wxGaFt/zlSVbjgAAAAAAAOQjY40XHmzP0ONrPKDVzlsOR4gHxf4gSRI1gE4OcNOcJP81SQU0Vo2jpQMc0ecsUhyKtq9hw3JKW9NE3acWrSUR3/fOs8n6psorxQkxDobtiJnz+O9p4Yqpa/rKlE6a/JVTYgfUlPOWCBilop28yKGyy+LKOa/cQ9/j69t26nwOOHM+krLU8tHBCgrooB34PLcdpCHLwlNV3PIH9RPSgf23uY52pvkyPmQwQAcH+XPL/YvLwqAc5ZXs8/nes0QrAZ2m2rQm9ZisX6UlgNNqe3ltVuErh9SrtYZTJLtXZrxyfnxRn7PcpMl5tU7V2qmFtmWeT85cT7efdGzHwrXnkPxtEudJHcThITdQlSqvljpwGVX7f8RlGCNxjTUqz4v2sFunpf1JXS6KvqdKGJ8XLjEAAAAAAADZhNd4uTRDNWqSmiywSts5pxutvrhFdHZCDNWZWRoVA+S1aEDMA9p4zj6/oa0828GKGzwVaqhEtXlzTc7yKFHZHq+3zQY9bqpr3rrS3dVAGuvGOVRTHNjB2HhhjRrDo0IyjCuvDITzYJybR/uHVDp1Rn1ooUOZVMtU2l2zHCy2h7y6Ew7Tqqk3n6fLUlh3Af1cGqWq+Dcd2Ri/Ea/Q6cJr7ozT6bIo/4ux+7Vxf4cOh8oUSTq3DmyKtAO2DVuWFpn68ehA/H1nk2jkvPre+PkR4cDfEXvD8JSZQ/t799Zp56DTdsfOfSwTDmjlkuW9x7Q3VKOFLq6tNHuuKuq30hpM6Ul/o7DlyVMLOYiQJef4WBt9RlE5Bynar2ecx8HCaKpRMsCTJi8JB2yiazrtP2ojyTbd/X4DAAAAAACAJN7ACzsfJB2aeFBcPZdjTj87BzRCEzxo5QHt7nY0QJ5dVG8azZz9unAOOyYxOFebcYSLotZUmacVmlMD8Z6uZaCCWpMcRHDkVZTVBw2i4enIiahsLnUsk55QUHdB/Vj2pbZ82Qj9pCftoCAcSKKxGeECj9PEWaKd+3kd+O4iF+PljDAtk/wL4q7SDXnOihCs6qt6ughrD/qbflJczg4XTlOF9uixaFtF7bn77WCWrk9VZQaaumadRE+Yj2PQbwAAAAAAgOOLJ/Ci364v2wNRMYiNMjNCbNDN9T35Fn32XMV6s8jZAxQvuHnhKk0Oqz/zEL2VvXRdBoEk+m33XJczUwwbL1ym+eUtOiyfFqXPwyNqFnjzr7KEZuj6hC2voozTVb6Opbt2ph5svLJH5Na30aTD4ck4o0Dq7rB9J12e16BtdlS7oLsW/chyTvsdbz5uZ6tkorNrLsZWP3uR19ToJDhWtB2oTBW7LBHt6MfWAXPvJq1xNtviDNWadtaMH7aRkgzWaDg7bsi6ZgF4Md544dlZmhlzVwbJQmWRcSAhX7aFHw5cJupn6HF/4zKYcmZm6bqc3sRZJ9n2nNqnFG4HAWQw6JCaOtoyfmWScnXFWf2GgKdL9TyoBwAAAAAATizpa7xwunbLWhhqnn+uhTd5YM7p2vwWsWXtBDMUbtDWZoVG9PoCch0A1wkw54tBebTw4YFaGHHSrEtgH5PkXywyufisONNeE0Pvk2npKesYeHHqqMqi7pdcI8FGlydaA0aTuJaG37iL78j1Rax1ExLrKKScl2cRUEVSNtF5zjXzLT6ZIctCusu4plt3LS9Tc7U+hP7g2mcqjq1Y13PXrsi7loVrI3Y7COParSUvr35y2LM+N59OFcn22npN/7obHhK2IK63uUe1UzkW9A7oO9SnhI4x7vFINoVsVuGzj5CsfHKOzrk/Icqj1uWhPDIvJGfX7mz7EmTac54+xTmPjwUW1/XVM9m+t2irPEK8Bs/6eSN7Xs9FrU0T7xN1D9gRY/TQThsBAAAAAACAyVhcF/QP5ZjkC2ploa6VCPJIp8JapBM8QXDgJX0R1AjYBwAAAAAAAAD0hPDiuqB/6CkE+RfIDHGGytabaYYX6aQDs1AyADbjdHWCF5O1FnEFAAAAAAAAANA1kPFylERp/ynTPzrBTZtvYzoEOGn4M16iaRm5plwBAAAAAAAAAGgXTDUCAAAAAAAAAAAA6BGYagQAAAAAAAAAAADQQxB4AQAAAAAAAAAAAOgRCLwAAAAAAAAAAAAA9AgEXgAAAAAAAAAAAAB6xMlYXFf/OhBtLtHlrvwkcxHG6erzC1STP+XcxV8psn+h6GCLlq7dpKOqYedy9v/CzrEk+lUqQdu60fZCRXV6xLIcJLv0YZexX7/cNBB9UX7Gr9yihVNr+FUrAAAAAAAAekRgcV126pZpuWW7Lo6AdDbo5rV5mp+vU0Pv6Rrs2M6Law+ic/skc+8mXWa93O26xgef2zeErQ943XUZlzYP9Y7jCPfFt+jqBf0RAAAAAAAAcOzwBF5W6QY7VcZp4bfF8vMNcWQA0Q7wcXjDfKyBnLuIDtQhmHayQBsBAAAAAAAAOGRONUpNRed0+lmitYcjND0mJ1rQIafW35+gW/MjtGNNf5Dnn93JnIowu7hMk/txen7ysz2Nh2lQXQeB+HvTw3rv3Xm6cVv9rd4Uj1Jzs0I1u4zGIbKniRi6Mh3BMwXEnvYgSJTVKUuinHzeRLNVfj4dpMnLTAXha53bdurI350jWg1PWSksZ3l8muKa29OwksfMedJmxij+npbPnrmvI6+4PLou6zs0MtXmFKCADuy627YX4dORj8AUGL7X6P4WVcbSyt++LM29Yhmp71Wi+nnOyyvLduveNqp81NJeyrQm9eDKpFU/aX1Ysn9J/xzpPKcN2ed01Bdpm0iUIcKqn7cdOOUX2MdU+4ru1r9pWAAAAAAAADyBBKYa5WCoRpO0ojJhlreIxmZo9t5NWtst0cj5cf2lcZo4W6LGeodO2aUZqjVN1k0y82Z1kT8v0daB3pGgSjUO+thllPuFI6QdeXk9ni7BzlWvnA/p/JJwmPT9RFkqU3r6gHaeorKILXLIskjTgQ66jDxciq5Xb9ZoYVHUvNGkw/Jp8Q3lmF2/xBc5Q+WhPXocCLowheWsnWZVFnsaFpeTA1Tm2BLtnJ2TMtl44TItbRLVZq+Kb4nvzVpBF6k7drrja9KUPQWuRLUJohV9zS2q0YysZ4CADqQDS7HtLQnnefp5LlcHZEyBqY5x8NItfzFZynsJ+65qGc0u2kGXwHmSArIMwLJsmb6YKctVuiPkVD0Xa3j8/AiVdrd1HxBn5ymZVmjySkfakYEJDsJE13w4QnM5rlmsjQi5XEzangmCqOuxnjnAZo6bvi/cDtS5euP+ZkLJOQqE62PHexoWAAAAAAAAx4MOftWoQWsmQCDT65VDsPqicCrOTihn6sIEjQh37U705rcgHDAYni6wxoxwWFZ10OfeY9qjCp32rZUwVKYz+s9uM/5shQ4372iHSXBvnXYOSlSuGieybr0db4c0HXAgxdovWH0gXHQOuLAMZD3H6fS+2MfO7IXTVDlo0iP93WJ45HxplKoHHv2zbQwJx37eOOGcoaNkwnDwRQaMxH4OIkXy4WuKf9OR887ZDkm9xoE+NZ0nS7Z+HQg5lUXdXow0Rxv3d+iwh7bCHG6u6CyWDXrcJKo8K1pTB7Lk4IsMGIljHESKMy0yzhO0K8sQiWCA2XJkkmy8sEaN4VHd9jmYS5ZOOHhkyr8sMzlKpzrRjgoWl8YWunhNxt8XPdo/pOqUuBcHR/OS0Q44wGLKv8xZMbrddyUQDgAAAAAAAGiL7v+cNAcV9Jtxdmjp4Xrng3y9bsL8/DaNSmei08UmV2l7l5Szw9ebqtDWcpxFc3J5RE1+Gy8c7jLdISFNmq2WqdR8fDSOGGcZOY6469gfHhy2Or08NSJxXnia1BNBTlnKAJz+LMlxXrcolvHCcHut0ihn28hg7g6ta32PX5lTvwyly96dDA47w0RvPZyKw0FGeY8Ho23IROBrBxeu0pycqqf3L2+JGgEAAAAAAACOiu4HXoQLf3O9QdVz12lmbC+ReZFF5GBfup6ytgGjphXUd5Nv5dtGOCaTZdvhbM9xN2+T1VSdbDZe2aOSNbVATp0aatC2cHBlBsXwZIeBJBsOrlSt6RbjdHWiSocyAMYZFBUavVim5v0NerQv/j4n3Mz9zvJdvHCm0tAITci6cWaCtRaHzL6peadwsIxldsa1FdoqT8ey1tlPeWWfxGRHJDOn/DpgeZWodjH+Nk8Liae59JEOZMntiaeXrFxTWUTR97LO6zJFM14YzqSrnJuVwdw9K2PjzKkSURQ4nBV9jrV2SQbp/Y3WuZzm1mfkFLQ6NRIZVdyeU/q7UDvgYCrF0welzcq/VAZVNG2L7aINeQEAAAAAAACK0YPAi+D2NjWGq1Rtw0Flx0pNJxKO8UST6tab60TavNjYIVdv5Y0jrRaSNRksmU45r0Ujp7HE1+w8i4bX4ODrsENspm/oa1pTPeS97Awbzua5u2dN91imWx05wjwlpE570VQJIZumNb1ElK0qnEx2yjjgUBF62nsly/UtLueVTdJ1W6Dyur3+xSrdkGtdxFM6TEBErkMxtkd1mWUg6rPKa+JouUh58Zol5hyx5V5zRTme5E45C+hgdVGUuaztUmzTHLAz2Q+8dg/v54Vyh7Q95SiLsWfp9Bqbz5pmUlCWsoxsb3qay+qitg15v8B5gwZn0gk9cADJnm6V6Dd4UetNa+WbgJxD/Y3UOSX7h+xAX8E2Ep1nNl7Hx86+04HsyN61fkLt4PYdYRvxNKTJ/a1oPSDWf8Oq99Ig/xw4AAAAAAAAJ4TMXzUqRrwQaK+mLXSEXEzV/CqKIlpEtYdTCgrBjnNPfzXmCUMGInih4ydhalkfgH0CAAAAAAAAgJfOftUowPiVSf9CoIOATMW34UVUezjlBgwAOiMJQRcAAAAAAAAAAH2kuxkvMpuAFyNoDLxzKzNc7HVkeKHKQct2YSKZCngh1B5lFrTIw+Iw+vlhkIcnQpZ9sksAAAAAAAAAOM5wxkuPphoBAAAAAAAAAAAAPNn0bKoRAAAAAAAAAAAAAOjVrxoBAAAAAAAAAAAAAAReAAAAAAAAAAAAAHoFAi8AAAAAAAAAAAAAPQKBFwAAAAAAAAAAAIAegcALAAAAAAAAAAAAQI9A4AUAAAAAAAAAAACgRyDwAgAAAAAAAAAAANAjEHgBAAAAAAAAAAAA6BEIvAAAAAAAAAAAAAD0CAReAAAAAAAAAAAAAHoEAi8AAAAAAAAAAAAAPQKBFwAAAAAAAAAAAIAegcALAAAAAAAAAAAAQI9A4AUAAAAAAAAAAACgRyDwAgAAAAAAAAAAANAjEHgBAAAAAAAAAAAA6BEIvAAAAAAAAAAAAAD0CAReAAAAAAAAAAAAAHoEAi8AAAAAAAAAAAAAPeJYBF5mF5fp1pVx/QnkY5yuPr9My89fFX/1klm6vnyLrl7QH3vBhat0a/m6uBNQsjji9vD+H6Szn/oMDemPx4PvpnddrtNzE/pjgtCxXvAD9NynfpLe9X79cUB56mM/SefmfkB/OmH024b7fL+huTqd/dh36089ptd1C15ftd1zn+KteJvqq7z6hZRbVr0K9kUTn6Fzl3+QntIfJbxP3K9oP9q9/kbbhFu+rtOLfrw79jzY9Es/PaRDWwcAPLkEAy8c8FgWTp7Zrl/SB3rE+JVbtLz4BLrXl673IUDSKSqQ02sbOEkUtefj3w4CA9K0AXs/eP8fomfo87S3rj/bhI6BXBy3IM1THxwheqlOB/ozKE57sux2kPMn6Mu3punBp+90oMsfoHc816C9n/oJ/RlkMTRSpYP7f4Pe0J9BGkVsPcuexbNVPz+5z+1KsPConskAAPAE4g28sPM3TXWan5+Pthu39UFwDNigm9eE3q7dFH+BE8O9m3RZtMXLL0Cr7TD07R8m+rVfTHUUQsfASeQHqPIhotd+GY525xx/WT71sY/Q0MtfOHlBuC/+DXr46Wl62O2A0vt/kCrPNegrbqB6/ZP0QNzv5SMPYOvgxa2THRh6+p1vo9e/dBzb3QnQz8DYOgDguPGWiYmJb+i/E3C2iwy8LK7qPUk4MLMwVtKfGlSfv0Hmm/LcYf3hYIuWspx/nj4xXyNzNcPh5pJ0MPl6k/tbtDdWoyofSFyTp7pMq/0Cc04eEuW06pDcL47cVUGnVplwFsgCldd1UMqphzmPSb9msuwRu/E9kucd0tbyZbp5T3/0wRk0U/qq1rUYvt6okGVFyFKWM4d+kro2mLJwHSapublHtTF1z6QOCuqnxSYsG7PrJ7DlbHRSM3npun7EdTi1FslC1kl+JlG+UVH+iih/SVyrTjTF5Y3v57N13j9HO7FdmmMZ9txSN6ODHO3A2EKyzgLn3FjOLP+4fsljGi3Plmv64BT27zlFr730LuF0vU3uOvg5NQjhlP3nnpO7LBr08qe/QO/41EzrdIGX79CDlR+Rb+/eS5+j1943Q5W384Gv0d6Pf5y+/EX5Lee6yWPqzeInqUKfp4epgznOwPkAfeXTn0xxrlqP8b3esXOH6KOmvFx+dVy+ZdR1Zt546TPasVHX+bolk/gYw8ft+sd18F9TwG8jPxrbevKaHlg/30m092sj9FyiLMOyDKR1JZHXF2rw1M/op7X8WibSFj7c8rY0Kqd7/Ks+HblonUpbEFjnhfTTcj8mqoOG6zzyhXifV15Kzq5NG1s357322oeFI+ocY1rKYsrpkaX+FLZ1P2454zr4ZSlxbCyug3OeU06JK0vGrbfVxhO2JYnrlyVnn34ULNOP0NddWTllSehHwnX8BNFPx+fJcr7zc1Gd3M8h/SSO2XLWcnqZZqLjrWVJw9UBw3rg/tSub7L+djla7+Pvi7LlpeTxXvqsJX+7jEl5qO/u0Osf+nBrWxW02ITVVpPHzHn6XlZfr773ZXXctmWn3bNM3vHq5+lpURZZv0Q78MnZsfcEWuYvfVn0+eqexi5b6iVRsjn4oCUTUYaXtV0nbbrVnt32ESHruavs+P4OPfPR1vqly9K1A43dXn3tINAmg3Iuqh+3T2Gc89Nw9dDab7Qi5Uz2tZVtvPU+twW/rUvS2s9vKln9emRrClnfnVAfoPSTeF7L65+iPW2XCZtw5eztb1xbj+2cr1d5NZZR4rOrgxzyZ4roQOGU02dHgqhuXrvMHvsA0A/efPNNf8bL6mKdGsPTcopRy3oSwlGTTqvJhrlLNK2nRrAzOrm/FB1bejhCc1nrUei3+EubhypQoM+1ncPS2Ag1l3n/Em1RjWbklBd2soXTL/erYztn53KtNyKd2LJwePW95o1TL1hdNPvEtrxFlQk1DWj1xS06HB6N1xq5MEEjQw3als6qcHDny7QWXY8d+HhdkvRrrtIN/ny3IXoOqywmUCKc6clEGXMEXZjbN+T3pTxTqApZ7rTI0s/GC5fVd0XvxM55a1lKVDvbVOUUdaOxGV3vgvqRQQRTRnXNqCYySEBUl9dTxypTZo0ZHXRpxjaUL+OnSjVhzyyv6hSXV9i+GNqd5msGbJ0pjdWItEzqu1WaZFvPsmd93OyvN7UOMs5TNqT0kMCVl7C9vbEFa1qYqN/ZnRT9dEKVKjwI+/Q0Pfi5Bg2dV6nKBysmTZoHJfw3b/xg+xHxgFPflQ9QuV9s1oP7qQ/NyMEN73/4ElHl2/XUFfEwrTxjnfNpZ7CTAb/RftozFcJ3bOijPOhV93v5ZVFXndL9xk99XJeBtzti8DxtDVzF9963o8r5458nio7FAyhznn0//zXFwOP8uyw5tvH2+u0fpueMfqKy/AjtvfQ1GhqJpwTxlIE3dP3lAMmUn+8lvhuj9Rcde5eSiXmrzt/lgZg5bsqpj5v9L3OQIjP1Xg24nvm1zyTOO2tNZRr6KAfL9LFIP0LOYmD4upGzsbXE4FDL9OedAWOqvBTKpvUmjj2tbV0izqvwIF3fz7QDNUgdodeM7sR58aDbI0umoK1HzoI+7+WX9YEsWcrBZ9LG4oHpNFVei6+p2rFNuiw5gyzSAW9a/srOP0N7X1UDZXU8rl+WnH368cP2wE6KuS4H65y1YmQdP5e/Pwnoh9sPOymmDg/F4P+99lSQ52akoyWP27YSYGhOOB6RDky/mu0oKFkqWScJ9UU55CW+U/nQl51pWeHpMU8JR9rcz+5Lg/2NsEvp5Juy/JwQn7RZvpeoF31YyVbo470m6MLn6UyEZN8VM/Qh0ybVNUxfVFTORG8Tff6+qoNll1m2/pQox9d/XNxH2zWX96l3Wm/mUpA65T5N9rN8bf2Mjfo3UZbzwsGX97Lq55Vl9jM5iOz7PqvOcdqkT87F9JOnX08n/LxO5+DnRV/93Afi7/FU5LebDK+QrXvazxd/g15/+yl6WnxD2ry0/++mp575Gn39N+WJHlqf1zyt8ymdnVe4v8ns19Px9etZFNGBeW4lypkIunDARO/nZ8VHrantqc+K8NgHgH4SWONFBwWks7yQWONl9lyVSAdl5MbZB+XTwu0dp4mzJeGMqu/zxpkCpVNn1IkdcLi5oh39DXrcFE7Zs8LBlYEP4fTPm3VoONOhROU4EOphlkaHD2lrNd0p5+BRVDfOIhgqk6yBcIzXhHM9quUwfn6EaPOOCthcGhVuV5WmzXkyy6OinHeB95oh7j2mvaEaLXR58dpUWXaEJUsus6l3Qf2wXEu7a6lBpvFnK6L8WubMvXXaOdDX1IGwupXhkw9R/hf1Oc59/bau2a1HWSKP9g9z2jpnoRiZqCyWjnRQLTvyWqXtXfuaHv0YdKAuV7ZLRINeNg/e39ynN/TAoiPEgNI4fW/88g698cy3qoGCHLgIZ9G72GAodTk0FcJ/7I2XPhs7hDuNeFDMD3258CFv/LbwXfRUVCYxEP5pXQYuszk2IQZxYqDoXUPGe82foDdeE4Pp7ymy8Kelny/+Ir32VXXNN37qc3QQDSrttS2+m4be97bAug08EDJlFOX50NsyHQUFO3rxefz27el3Z9VlmN4qBrq2c8c6IGMPAnvAxA6JNyDl2iUPOmmHDloc7XR5MTzANeU/x2/8EtdMbwdqgOxz6AOyDNp68rxz0YKzrEdhe24wSRKWpRp8xraegOsjBu/xfRw8snz9VTHA/agoX5tr/uSWs6MfL9zuxFM4tj+3vXLgqCrkkSY3D179qPbz1Ic+GdWhpY3YfQA7oKn9VRZvo7e+R/9ZhFBflCkv1lGBaVlWv862oWQS7m/YLtlxNLKUb7ej9s/9PTtwQtYyuJnPcWRiW+e+NdQX5ZWzp8/PIuobfO3Wzxuvioe7bNfqs00sT/VMZLmHZdkJVr8iA+yxHvLLOUnu8+y+IfH8dJ6Voee17zxRl72Xq/QOHSzKvYaVt/3s0td1f/U0fZlef+cfErJn/X2Z3pB19fXrQh6J5zW3GdL20kF/k9Wvewj26wV1kOjzxRath6SDXVGfb/HUu9+VeP6r54HdXtsd+wDQX3L8qpFeK+Rug6o684OJMx/0FmUW8BQU51jbjnAb2JkiemvPgXS4cJXmxiiug51tIVh9IORwjvMFOMhEtHPfCt1YWQpq01khGdf0Y4JfK8JXV076sVvcttv6OQL8tl6M2cVpqlq2UudxFAhgMgQ+S/SdzgM6Cx4M+Rzg0LFUfoCeE4PW+A1m+hve9ghf02QB/Dp9Qg1O2nRmW/kR+op56yzrn8+JeupjnxBOdvxW1PfG0mVoTgy0rEyYOBOjF3DdxD15cMiykpkcSaeMnZC2FgWVb9TFYNdkhPy4nblSjLAsQ7Zu3raaLb/DWYgoW4mntXBZksEGnyyjN5w7H1B6yLNwZw/kLLFsT21WBlGhRbVD+hFOtCm/2VIch3aQQbLIaZ6hp1/6TJyR1AtC8ko4fr0n7hP11hKo+hq9kXC4itN3ObeNDmCLZ4VyttmBVUH5PM/CbFkOMhn9us6iMVschM94XnvPU/agsiOUzae/uEkhtf2oIJJ09t/5Bdp79RQNTXwrPf3VfXpdnhTq19XzWgaBZH9lB7oL9jcZ/bqPYL9eUAfJbBgr27InFBv7ANBtcgReFJxpYOA3+1VrGk0MZ1CUqDZb7Bd6Nl7ZS2YTZKEzQjKnMrXAGQGinBdbayCzB2iPHuvsgdmLzpobt+/QVnmUZjm7omllGTSadDg8nR4YybomnxvMgFHBL56C0nl2SlEKZMcU1I+0g2hKF0/hiuXFx0r2VJlLM1Qz071k9oue7pOGsS0ZCEtowIvf1rNJt+dxOl0mOtx/pD6Kskw6iQNttwNpe5NxVpS85mEyKBiCp291NajHb3g8A+Kc2THpC96qAQo7qsk3YfqNUYuDx2+0W6dCKELHbKy34u8XgyUx2DHpwfLtr/ozjKzzCA3JwQ2XlQfNmpzXlAMUdkadN5XmjVFw8O1kJnAqNb1vmp5L1F8NDqNU3InPJOZl80KO9NpvaH1wplB8jHnjS19OeYvK6dTimHxDK+BpGnq+eYx2KBK6Y/uJpyQYHbyRtQByYBqIRB/PdLRteb3nlCiXeTOp7DJZx3SkPKy3a5wqb87LkqXCZ+tpqPb2zAfV99gm4rUgwrJkB+OpzNRvFWx4+WWrTeeRpRyMi4F2or173mS3I2dv1pKDfrPraxsydd4XhDO2LANCefTD9RKO8HfmCDLlRvdRlnOVzOyK9SEDnOrPMKG+KENeUu7tTMsKEu5v1Nt13xt5VW76uY/Tw5/maQbtvblvJUvOAv3Wvr3MQ4+tF8K0QR1E4WcBT7fhfRn9WViWgtAzObMd9IGsft1H0ec1s16nvWdE/83Bjrw2H2g/r79K9NZv/wCRGEe88SUh1pFT1jMgDD+vnxbthDNv4v6qG/1NSr8uiLJmhM2nrimU2q97KKoDmaliP7di+NmaeGZxvxRNBXPINfYBoL94Ftd1FihlzAKg+qO7WGy8YGfrubkX7XTOtRcV5XVjzFoXic/CyfQuwhrELac5zy0DL+pbpm3rmmqxVc5gcdZc0YuURkQyy75mQp6cDcFZQt7rhVHlcwIL+ppBWWaRkDVnNlmL60aycD4X1E8sD77PGpXnRyN5JetnyqE/yvtbCxZHMrP3izLwWi3ntvXiuqq86+ftBXfjOiR0IzB2Kcshv69q4352bSxqIwm9Nmhrs0IjtGLpIO08cuxVEbUtx1biNpehH0afm7udioGQvcBby2eGB6ofjetoL2CWWBCO3xCtpCy8qfdLEtcS8IAz8caOB+KfVFkE9n4+7/y+811N4FiifAJ7Mbhk2YXj+cyIXpiTAwgf8S52adfv4Oc+Q18/Hy/oGb6m7VB9TTgH5voKc10ejEcDcKkP23FNyt8rL1lmfT+W8f1TdNYsnJq4pigHLyj5TntRVX1Nnf4eycyxg72X3kXPJBbm1Pds0alTd8seWF72AoA2ru5smXnPC8rLrdfn6fUPnVKLMWe0g7gsXIbP0Vu/Ry/iHJJlpq17sK8pZPXw1Y9YC6D6Zcm4bc/YUqhN+nWQlBeTsE3Grb/UT5acffpx2wgT69wrT0dXSexrinvxmhimHQT1E6h7oL8J4t5PYNqWrZ83XrpDr73vI7rfaC0Hk6ZXty/y109dUy0wqo9F+HXAC8l6F2i1z+P72P2NwG3Lqt6k6sZrP9jXlNlS+n62zTLabl2bTXwOyFmijyf2yfL7+3xJiq3HMhF2pb+f3Oe3Zy6zXJC1ZcHWkH58sozbbuJ41M4D7SDQfkJybulTmBz6SZRPYrXxAInzEs9WvS+AbVfx9/22Lr/jaT+UuJa6xtOODvzo9tzyvC7W37TowH4e2PYqys4LP/M6PlG7C/XrHorrwJG11dcm62DJP/isYHyyBKA/8OK63l81AgCAfiEfpNYAvXNCA9HsQao9ADx2BJ1KRtWfF1w9tnVMI6XectDHi87+/Lf6ZZIpL5DgBMjreLTxlH5KOnbCf+m37AOO3PFngOQMWgn1610bL4ATwZM69gHHBgReAABt8S3VGlU/8UP6U3fg9GE78MIp3UcFl8U4ZTyX/rjB5bcHHzyNx0Yet5wK9/hxxa2XGnQlB1k+u+K0fZ+8ADgKpD3rN772T6DKfpJ/CejW36CzsNWuwNMmIOfBpJN+HTxZFB37fOneZ+lLaz8m/wag1yDwAgAYCLqf8VKcE5vxIvdzGm6+NO3jiHwTaqek22nUPjLfkgHQG1rs1UJOB/nStHAU7Ckwbuo86ArSIYOcB5VC/Tp48niCxz7geIDACwAAAAAAAAAAAECP4MBL7l81AgAAAAAAAAAAAADtgcALAAAAAAAAAAAAQI9A4AUAAAAAAAAAAACgR/R3jZdL12l5Si9gtlun+cVV9XfEOF19foFqtEVL127Sht7bHWbp+vIkNZcv0817etcxY/zKLVo4tZYitzCzi8s0ub9El1+wJGrrghpUn79BfFV5j7GS2u3q6MJVujVfo72783Tjtt7XKfqatOmU77gTsvXMdnACkHWs0JbT3tgWp4fV34dHqXP0RR1xIvsiXY5GN685CIRsPbMdnABkHY9zX5SN267sunXFnmV7K9OabptB2vnuCSZTBx2NfdTzqbzuXNdj61nIspZbn3W8f/RBEfvJeH7aNm/1+UGKyqsjOR8TWJ4TzR6MVXoMl/vcdhefO9ruhvjvw7bbQXfhsswRrR7fcR7oPv1f4+X2DZqfn6elzUO9AxwNwvGTD+d5qY9596HHgz/e73aG9x7Tnv4TZBCy9SehHTSa4rHXyuqisrn6rt5xVKAvGhDQF/Uc9EUnui/iACU7zSuWU6nqtkRb+FmeI6O4Djgwf4uuXtAfU5hdFM5ls94aEPHYehaP9tPPWl2sE02Fy9I+GX3+wJOtn77CgSWW5+pRBl04yLBM1y/pj3kRfV+dpunWlXG9o1M26OY1tqk6NfSeo0OUZXWHRuavC4sBIGbAphrpRnPcorbHjQunqSLclseDEIW9d5Mui4fviX0TAY4p6Iv6wiD1RdoB7jg7AIB+IZyuubE9qqOfOn4UHftcuq6yU/qSnbZKN+7uUW32qnCt2yHw/Cza5xeV14keY47T1VnO/Dy+WRUc3NsbmxucQFY3Eba3slmh6UWEXkBMD6Ya2aleTGsaYWqaup16mJZum0hNFFeNUjc5+jxN5kgyZTh5LE/qmUyt3N+iyliNSqIcHI3ldNHofjptUSfAW+XQaWXrOzQypY8fWGmWTvkZU9ZESr0jr+QxQc5UZDvNlZH3uj+RKLvBllmqboKwjEdp+y7RdIr+VKoqvzUxeojrZ5fRTsXN0oFbt2wdPKYZYQdk3UPpg9pKcTVyi+Xl2ldOW9e0K+uQLN2ytOjUsiH7mFu3hH352hyfI54jO80a1VL0lweuS8uUk67Tm74oaX/5dOAeE0ePrC9y249dlqStJOXl2tHJ6YtsO0nqJUsHbt2yddCjvshtx/azRxOSZ7uy9suSKdgXOf1N6FiiDfS1L3LbcVzvkEzC8lK4OpCfz+5YelR2OvIwLmu47Or77nQUnw5kGX223lByXns4QtP63IR+XPuL6ueXlx/dHq1pKqrMe9a5rd8Jo8vh9Adp02tacOsWXSPc3yjSdSDvnWKv9v4YW2bp1+stbd7T9/xssRFFwo48+OQl8eondJ7SXVM4xbU0e/b0RVn6cY+be7L9ztEO7Ym2ldr+nTrYZUm2V+c8LmfLFKMObD2ER85uf6KIn6N873b7vkycsrTYhJRB63TupH6Sz/qgnFPJK+f0soAnk95MNbo0I1MgVQohb1nGqwml28pO0E5NNI2MHwhs0Gb/Eu2cNZFT1Sh4gKuO5U89q46VaW15iw6Hp+WghlORK89yvF9cU85djq9JU3YaWYlqE0QruixbYlgww6l33ElY5Zd1FI1VdqyibrLDMdfkh7iOjsqOgAde+ljeVGTZ+MWwyVwzSqXWkf95rpvsWNTxrIdeNlWa5s5fXk/IeXgyEb2uTonBib5XfbdKkzqtMJSK69eBOU9v4juVCfttTJoOVumOkF31XKyp2XNV8XC7k22buoPntSTMPWN5rdINUw6xLYmHuKlbr0iXZagdEG28cDkqI+tnb2wmstnZi8m6RQ8+2ebYGdT7Wc52yvGQcHSMjd1tUDWhg+7C9ry87GzP57hfD/qi6MHacs3j0RdxnxKXX7W9hnlb9sT2ReH05GPRFxl56q3e1M+eHtLdvkicN5F8xkd1G6C+KKvPr07FdbefdUzoWBobL6xRY2iEJkw9L0zQyFCD1qI2Mk6ny4e0c7+9NhN6HoRsneU8bfoH8R0y50m7HKEdozs+X57AFHlGcntU7WWOvyuuL7N68vbfqXA5uD+YVtMhhE3ldUS9z0hJuL/x4Rv7qP3cD7FTqO+XqPcZKgsb2E44mb1mg9YfJvusIL7nZwd9fmisGNJP6DzWXc0802x7DvRFWfpRx/Umrmk/D0pjtWgMkGj/oX498Exmxp+t0OHDdceGi9t6CJ+cVX+iZMwBEHU8GWTw+QCGjfs7os8ZtcYvIbLGPh6EnCcTYzerjBlyTievnFdpe7dEI+ez+j3wpND9wAvPMRWGuLzcvXltamC60hotlAMRMbidNw4Zv7UsUZnDqpdGqXqwRXcKPKDiQbA9yBHwNflBGzmAHMGt0GnrQdtYN41ODeaTUViL8mnZIXPdSMpLX5Oj7PLYOE2cLVnXy8ssjQ6Lh8KL8cOn94j7RfNLVScjdaCxnQp+MOV50Hp1IGAnMJIXR72HymI4EpOmAzmIjTp2llHrddMYPz8i3/6l65GdDF0OsXG0vHTKLkn3SZVlqB0w4oEQycuxWZ7bXZ0S+52HjHyg287gvXXaObD1KgZOZoDDbd7RQTdJDGbMlmcQ0fW+SLettLnUx7gvMo4V+qJ0jkdfxME9XQ6x8Vu9yGHuEd3tizbocVOd5873H6S+KKvPt8cpqw8auY+lw0E6igbsrH+y5SCd8AJTNgLPg5CtJ+QsdaDOU3a51jo+kxR9RnJ74aDQgmhXHNRxgy6qPeV6DkQIR4mdYX7ecSAv57m+Z6Qi3N90HZ6mc9CkR/pjv9h4ZXBX1ArrJ4SlO7lmWHZflEXweWD13Vxm0w5C/br/maw4c6pEe6+kWXExWw9RXM52vyJKlvbcbWfNthxjn1T4HkM1WkhZnydLzn7yyZllB4Ch+4GX6M3bNo1KI+7xIlScUu04ZT4HoyuIDtK+lxvZTUUPFM1gVKbMWg00jhLrrQud5IlFvv2i+G2D6PTydWk8KNKRdu64d7ejB0FRxq/MUY1i+8ubBdATvO1AOGTiIRLbGL+tiYnefj4YVQ+cPJkkfaZwxgv6ohbkmyU5+GB5CKe4qTPvNOiL2mCA+qLZRTH4tOwhyiw6Cgr2RSbAukJzqo0XGOD3mn73+dxe1Zt4Dn5S29ktrYR10G06l9chHSaCbF3gQFwzj6OmOQ7PyCeZXuinUF9U+HkQpqNncpu2HmKg2kERP4yDJPK7K6IbFOUXdbAXAx4UOYOTTw8X11VGXu/CGwD5dshKh43QEUyZjuoi33yZNF1+68JR0Q7Rb9DbXrk7MOVBRZHT3shz1J3i9E5OhWuZR5nGI2qKgUr0loynFrTMSe0hnM433MNU2GqZStbCbJz+mEcqzOqLW0RnZ+g6p5HmfAuvUiDT04f5bQM1H+vOeZZmcumnB4TagVzI7pCaenQ9fmUyvR3I9GAxCNdvaPgNV6LNsQ33PcVZYQZBia2tgEC3+iL1RrN2MWUQdkz6olBaNvqiNhmYvoinnAgXdV+/B5f1Vn/2nS70RXKAz06LfuN4NH2RydRItof8fb44f6JKjQdpug0dc7h3k9Z2qzS6yGMIN6uE21ebg/28z4MsWAe0Q+uiPDIbwsrgus5v+uXfnTwjVT9Jdy/T5VV+o+z2S1o/bTl/XLYR2lkV10xdMFYcDzmUzjOyha71N6rfTH1WyfZVJKMr3Z7zIrPOTP8yqGTppwBuX6Tw6Kfg8yA0xvQ/kxV8PD2zsUNbD5EqZzVGKJxl2U4mV1E/LEJly3EQ2JQ3S85+suSs8GcmgSeRrgdeEql2YuP5/eatrzkmB+0mrUtHkkPHuKHz3OA4tcxEKlWaF3E6anRMNx4xYFnZJJ1lwguD+eZ5tgG/Qec55JxWZu6Xp+O6fYe2ylYam1VO7th5zqNdN5PeyKt98/xBuZ/nEYt7ZyM6FTFQMTLheYu9z8SwUstT04LTMAMBTkUXzywt08zOlGV5EMtrcn8r/xs7zjwSw8yqHjDmQupcdKimfmKL9COcJzWVhfdPUnMzLklhWy9EuB2scbDAZFud2rHagdGB2Xigq3Xntjm5RlEevQ4OveiLVhdFP5Joy+ZhfTz6IrZZmRYblVFsum5Pbl+kB6EyZdmcnyM7amD6IiHndX45oW1vvkw7lpyPR19kdKA3OZjVwdUB6otCfT4T6UC0c14E18548x3L0gG/eKoOpwVq1JSI1rUDAs/WoA6ysPoGO61e6CfuN3gdG9FXyO9nyysdLr/KxpMykv0n67+TjEW2r2mqmOleXOYmZ/6Z/ttH4Bkp8fU3ofFN6Bij2nPct9tlZKe/SqNZ46QWlGMsXOMCb+XVVNO8jmP3+5Q8sjSbrZ8sOfsI9EUSj36KPg+8/bq4U+CZzMig9NkJUVObPLbOdiT+yx2kCslZIV8mRH1ce21VTreKArQZSHn5xj6BZ3liiqWwz7M70U/wZ8k5nbx9ippybYLdAPTgV41AC9zg2VmJ3tJzJ5b8dYJBgR+acpEp6014GO58eLCVJ9XvqBlcuT9p8PQhXrwReugvLXK/YBbGHLz2i74I9INu9UWh63R0Dx4/yMWFU4JNsv3yQpMpx0CPOaL+pmU8mZOQHYUoej/QB9RzpMivXMnna+JX046K4/Tcbp/2xzHgJNObXzUCLXCaZhJeFI+QetZvdIp6noUsATh5qCkpCZz0aNAn0BeBXAjHaiLwq1cmG6TIlAFwPDFv1nNnkbBju1ws6MLncoZZIuMDDA4qqzTxK29ZcLBWZ3wMQjCN1yeLskZOGkLW8hfZEHQBFk9gxgs/hHxrLByS/bvu3UNFpTnd0WD/Tn+7yAgqp3GmwYtOddDIE9fOda1jEK2WbwV5vm2rfnspy3bht6K+NTA6sZdBwq7jSalTcY6gL4ragqGz+/TSZtEXWaAv6jrd7ov4et3MeInKl0P3/N3RBz1ezBs4HGV/w2PKOaLV3t4bdnVM4Kykc9t9fUZ0heNa7lz0p42C4wVnvGCqEQAAAAAAAAAAAEAPwFQjAAAAAAAAAAAAgB6CwAsAAAAAAAAAAABAj0DgBQAAAAAAAAAAAKBHIPACAAAAAAAAAAAA0CM6CrzwiufLy9cp74/aFYXvc+tKn38skVfbXl6m65f05yeQI5F7GvLn73pvZ6A/9KvfUPDK8uJ+bfzc6sDY/RHRX/0AAAAAAABw8hmojBf+Oc3lxSdwuM9BnjYcwwgdHEpzkpTzpLduyDS6F2+36OqFtP3xFgWsfOdJtFMsjuV3dPknHOP7yM2qn7Sh6Jgtl/he7jmMV14y6GMdc/SUuF8RHbaQLGcsF6f83bpfRv38sB5cfRpCx7qIJyDHuswTMC3a3yRsRWy9Cc4qfbdcm9tTN9ozAAAAAAAAoG/kDLykO1Kri/M0P3+DTuIvsNPtG6Ju83Tjtv48YEincaJJS3cbek8MH5umuiw/b3XxqaM3+OzgTlVoa1ldb355h0bmtcOr5RRvdWrQITW5WKHzpE0tUHl9ibYO5I42OIyvyduitkDhlC6M7VHd7L9LNK0DCbOLC1RremQizovlJco/PB07vPdu0mVzvXlRVqrRjBVUWji7Q0v6+NLDEVowTrEnKJDF+JU5Gnm4pO63vEU0Npdod427pixiu3aTNvT+YggdzI/Qji3Ljq+ZTX/7jQ26ea1b9VLBkOnyVqRz3ga1jyjKie7XAQAAAAAAOALeMjEx8Q39dzrsQM7XaE84fJGDofeV+O8D4YRYTg2/DR59UCeamqaq3NMQjrAYxMtz2Mm7TDfvyQMyQCAdVzHCnzPXszjcXKLLL2zIa07ub9HeWE1d076nXRaBOUc59qPU3KxQbUwdjY+FYOdKOOlD/Dc7+HF55b2EJ73TrFFtWO1iR1jKRR9bE873tHs/WcYyrRlnJvq8TaPLRk4Wu/U4mJAFvwGfIiVjuYPrPUnNqNz8WdzD0ZMPlvW0rhsj6/DKDC2f27bKxDKaEx6aJRuN1OmpNfVdLlvmeUreHGxI6MbRa2RHLfWL4XvP0Yp1HWUD2/N36LR735ayxSh7S7MV+96q3OV10y6M3ZhyCqRuOPDUWtZIL0Fd2/dw75eCvF81tskspIyTbTKBowNzXddGFKreFDim+oD0fkPpbidu45G+Fa335La5RuV51m/8PWZ28RadflHUqarkIbHl3GJbisz+Rp5ntWMX57puX7TNgUCnPFEfGMkibg9rpxZEX+roUuj41rN3onLaMon1ztcQ9r6+QyNTSXlTSM6F9WNsX37Q2Mfz2DoAAAAAAAAnkzfffDMj44UdOf1GPDH4N1kAKdkWTHWKnVP1Nri+W6VJziwQ56ztlmjkvMm8GKeJsyVqrIvBvb7e0uahckj0m2Tb8S2NjehrWlkH0lGw39jXhWOwYKXnV6lmMhJk9sCMcAGy0G/IZeZGCkM1cXddRlH/6oQ1NUMcm+agQ+77rdINfR3p6Mg6iK0T5+TCaarQHj1mR5rlw4GCu1t0OFSmM+obXqQjZ2fK7OoDjSYdDo/Gdbk0I5ysEpW1DxkzSzNjRFsv6vLnPs/B1auQpbAMixLV5s1UjzgTa+OVPSqdnYj0MX5lUlhAhU5f2KDHzaTtXZ0QhSifjnUXMUujw4e0cz+2PXY61b2mqbK5ooMUZ6g8pDN7xDkqe4dthu/H+wScDSSzfApOR7kwQSNDDdq22l51qotTXES7W9kkLUs3O0fUSQYZtA5Ee6Ap9R2VEaEym+LMI+Vkh45l9Rsl4dTTXXVO1G8IWP5xlonKkGrcNcEiJW+pI5ltNE6ny7xfoLOxZL9iU7S/qZapdNCkR+orSXL0RdOcoaaPNYYnpd1uvLBGjaERmjA2o3W+pstSeVbIQLZjJfvxZytyP6NkrTfRRip2X8RtZIJoRR5PZmr55FxUP8lsMqN7E3QBAAAAAAAAeAMv7ISrTArP2/AAh5FzKpyDBw0qnVIu/+qLW0TGMWYHQ7gDd+yAToD4muxEa4eEHaHdNat8q7S9q49JhAOwqt/a3ntMe7ZTzEEl7cDyln8qToPqJjDCgYVEQMM6dm+ddg6s+xWC3yTHZWxrwUsZNGPHWegv4UdxkMC6ZrSmhwo4REETG+mgV2janHOuKZxfE3SIkYEOWx85z3MZPz/i6NVGB6v0tiQDB1ouwtGuN2u0oO/Hb+gbOgi1uqgcYVXvOaKHohDNx9EbfQXL2w6uKDZeuKzvt0Q7ZxeStlLVwS3hcKdmmUhnloMW4r6JtTl0PbxBNg58cKaZcWBNQFBvHPSbcqb/FZgeF9WNszFYNsYeLo1SlYMFWpYcdFJBLHlab9itR2V/tH8Y9RtpqDb+iJp6mtoZoedG2QrydUhaf2MHPVpopy+Sx0wAcpXuCBs2QUG2fdq8I3XOMpCI7+3tVmjUCbTFAUGxcaaKE1yVQW35l7KdyC7akHOC3Oe5wdUsWwcAAAAAAOBk4w28yLep0hnr4iKZHIzQb16lg/FwXTsGR4CzNon9tntwcJztKHU/gAwwmbfr+vuJN/XJwEXetS/i4IPYFh9TeUhn1RguXKU5O9tFk3leh2zc3xEubYydBXD5vnB8U+t9mdapQof7du6Cmi7RMuUpgdDHugkkstNfotqUDm5xnexsI4PMVphWmQK5HU81NYPP8QZRbm9TRvyqPWR7cNawsbJBjNzSg2G9Rep4yATUVHZFUkezNHpqm+48NMGJ7tqYgTOqKEfmWLtw/VR2HGcBUiLbipk9V6btF3eock6FlfZeEcdNezMZNi1ZYf2Dg+s0PB0F6CqbS367BQAAAAAA4AkkPNWInbFOpkqwMztRpcYD43Aqx7V67jrNjO1F6fQG6dikTv/wIKeyqJR9iXBGJp1pIkcGT6uhHVqPHECTLSBkMuusL9GSOdMJ6k37YRTUUjqIP/tQgYTozTtP72hZq4MxWSHqrbxh9qKokzdLhUk/Lw1pB9EUJZX54a7HYVD33U65ps4Yid76W1xSi/DG9seBjqygC6NlKQM2G7T+kKeqxPduKYtvqp6E7ykcVfcXaqxATch5ldlFB7Z9CXQWV/EpSDx9Sv8p25a1yHALyl7Sp42FjrUPy5XXmIoCQFEAS00hK18cJRJ9DAcwKudm4jpk0HZ/c/sObR1UaTrtV4Xa6YvkMWsK2T2ehlml0UXRZzTjNiSnzp2aoVESNsVB6/IozZzSLYGDqVaASdqe+rPPcJuwFtAWW2sb8tg6AAAAAAAATwjZi+tKeOBsLWjKDp5ZJNKgF2M84yz42LqgLV/Lt9AiO+fxIo3JxS7j6yQ+O2WJF5h0ytzy2Ycun/6k4DULxHnE6zhYi2uyk2w+y79t58deXFKV2cilcZenniQXBbWPy0yDrOyIgA42PHLMxK6DKMPS/qRerJYS12tZvFWexwEGV7bJciTPSx4ztC7gyrK3F1F19JOQlX1M68yUx5ZXysKhC3pB5Bilv0fOMbfuXr3ZtqH2OOiyOrpOXM8gy7tOE7a8nDpIdB1b9OMjxYYS57rH3XsmjiftPfVYyv3MNXnR12hRZoHUifnc0rYEWm5KXube2qbIuqar14S8C/Q3KXYbycypXyxLt09xbJPR56bJ3+xTdspZLnyuW3ZeDLis24g6lrYQc0Ku7uei+kk5L9nnpNs6AAAAAAAATwK8uG7OwEt+XKelFTUIz3qjf+zIdLQBAEVo6VO8gb5Bhfu8jKCvDF7Yv052XEgJ8hzbugAAAAAAANB9sn/VqAeoKRL5F9UFADzJWL9SZHCm2Rx/xtUUthzT8AYPa3qaRi5C7Pv1JwAAAAAAAJ5A+hd44begy8tybY26O0UCAABS2aCbq/zT7OYXqcQ2xWuKnIxsCs7mSV8w+LiwSjfkL2xp3aCPBwAAAAAAoIWuTzUCAAAAAAAAAAAAAEc01QgAAAAAAAAAAADgSQGBFwAAAAAAAAAAAIAegcALAAAAAAAAAAAAQI9A4AUAAAAAAAAAAACgRwzO4rr8q0dTVfX3bp3mF/vwmyUXrtKt+RrR5tJA/6II//LJ9HCD6vPH7ZdcZun68iQ1ly/TzRPz078gH+N09fkFqumfGj48ijaW2afoMtIWLfXpV3hUW9Yf+tXPAQAAAAAAAI6MHIvrsmPCPxF6XbjQPeb2DZqfn6elzUO94zjCgYZbdPWC/ngMGb9yi5YXe67to4Ed8eevCqsGvWb8ypz8iWRu07wdSWBz0PoUYX/T5S1a0jI5PkEX8xywtjb6iEJ9CrdV+35iu35JHwMAAAAAAOCYEQ68XJigEeE81XerNHoSB733btLlo3IK22B1kR2145btAp5kzpwq0eH+I/1pUNmgm9dE2+pTtsv4sxWi5uO+3KsXNO7qgNH8Em2Vp3sfoD2wglRiu3Fb7wcAAAAAAOCYEZxqxG8qZ165TDfoOi2f285+Qyun7ozQjj21hN9cTjRVKr+e2lPSh+TA2nF6+J4Lp9YS9+L0/Mn9eKpC8jNnmUyTnlCQe0qDnfLPDkViUG9PURDkuWZiCkGEmR7Eb4zniNZ3aGRK11/W/THNiLKTfX95b1Ln2fJyZMVymqMd2hur6brbU5GS0zwUGVOVXN1ooro7x/PJmXUzStt3iaZTp3wU011QP045lW6T94nIOdUjqdtYjmEdBMjRDnz4yuLXj18Hsq2d3bHurexm5GEOPTg6MG0o3A5CuDrKKUtB8p6HtOVMbUvrUxLlT7MDT/3ccuaxWXn/sZaWFZWTyz/6oE40Za5r1T0g59H9LaoI2yuJ8tdpWsqgpS9roYiclV2U161rS3sr0xqf67Nnd78mklmoHXC9zXNDHowJycuVtblXoq2K+9QfjtC0+J6vLNlyBAAAAAAAIB881SgQeOHB9gw9vsYDWu285XCEeFDsD5IkUQPo5AA3zUnyX5NUQGPVOFo6wBF9ziLFoWj7GjYsp7Q1TdR9atFaEvF97zybrG+qvFKcEONg2I6YOY//nhaumLqmr0zppMlfOSV2QE05b4mAUSrayYscKrssrpzzyj30Pb6+bafO54Az5yMpSy0fHayggA7agc9z20Easiw8VcUtf1A/IR3Yf5vraGeaL+NDBgN0cJA/t9y/uCwMylFeyT6f7z1LtBLQaapNa1KPyfpVWgI4rbaX12YVvnJIvVprOEWye2XGK+fHF/U5y02anFfrVK2dWmhb5vnkzPV0+0nHdixcew7J3yZxntRBHB5yA1Wp8mqpA5dRtf9HXIYxEtdYo/K8aA+7dVran9Tlouh7qoTxeeESAwAAAAAAkE14jZdLM1SjJqnJAqu0nXO60eqLW0RnJ8RQnZmlUTFAXosGxDygjefs8xvayrMdrLjBU6GGSlSbN9fkLI8Sle3xetts0OOmuuatK91dDaSxbpxDNcWBHYyNF9aoMTwqJMO48spAOA/GuXm0f0ilU2fUhxY6lEm1TKXdNcvBYnvIqzvhMK2aevN5uiyFdRfQz6VRqop/05GN8RvxCp0uvObOOJ0ui/K/GLtfG/d36HCoTJGkc+vApkg7YNuwZWmRqR+PDsTfdzaJRs6r742fHxEO/B2xNwxPmTm0v3dvnXYOOm137NzHMuGAVi5Z3ntMe0M1Wuji2kqz56qifiutwZSe9DcKW548tZCDCFlyjo+10WcUlXOQov16xnkcLIymGiUDPGnyknDAJrqm0/6jNpJs093vNwAAAAAAAEjiDbyw80HSoYkHxdVzOeb0s3NAIzTBg1Ye0O5uRwPk2UX1ptHM2a8L57BjEoNztRlHuChqTZV5WqE5NRDv6VoGKqg1yUEER15FWX3QIBqejpyIyuZSxzLpCQV1F9SPZV9qy5eN0E960g4KwoEkGpsRLvA4TZwl2rmf14HvLnIxXs4I0zLJvyDuKt2Q56wIwaq+qqeLsPagv+knxeXscOE0VWiPHou2VdSeu98OZun6VFVmoKlr1kn0hPk4Bv0GAAAAAAA4vngCL/rt+rI9EBWD2CgzI8QG3Vzfk2/RZ89VrDeLnD1A8YKbF67S5LD6Mw/RW9lL12UQSKLfds91OTPFsPHCZZpf3qLD8mlR+jw8omaBN/8qS2iGrk/Y8irKOF3l61i6a2fqwcYre0RufRtNOhyejDMKpO4O23fS5XkN2mZHtQu6a9GPLOe03/Hm43a2SiY6u+ZibPWzF3lNjU6CY0XbgcpUscsS0Y5+bB0w927SGmezLc5QrWlnzfhhGynJYI2Gs+OGrGsWgBfjjReenaWZMXdlkCxUFhkHEvJlW/jhwGWifoYe9zcugylnZpauy+lNnHWSbc+pfUrhdhBABoMOqamjLeNXJilXV5zVbwh4ulTPg3oAAAAAAODEkr7GC6drt6yFoeb551p4kwfmnK7NbxFb1k4wQ+EGbW1WaESvLyDXAXCdAHO+GJRHCx8eqIURJ826BPYxSf7FIpOLz4oz7TUx9D6Zlp6yjoEXp46qLOp+yTUSbHR5ojVgNIlrafiNu/iOXF/EWjchsY5Cynl5FgFVJGUTnedcM9/ikxmyLKS7jGu6ddfyMjVX60PoD659puLYinU9d+2KvGtZuDZit4Mwrt1a8vLqJ4c963Pz6VSRbK+t1/Svu+EhYQviept7VDuVY0HvgL5DfUroGOMej2RTyGYVPvsIycon5+ic+xOiPGpdHsoj80Jydu3Oti9Bpj3n6VOc8/hYYHFdXz2T7XuLtsojxGvwrJ83suf1XNTaNPE+UfeAHTFGD+20EQAAAAAAAJiMxXVB/1COSb6gVhbqWokgj3QqrEU6wRMEB17SF0GNgH0AAAAAAAAAQE8IL64L+oeeQpB/gcwQZ6hsvZlmeJFOOjALJQNgM05XJ3gxWWsRVwAAAAAAAAAAXQMZL0dJlPafMv2jE9y0+TamQ4CThj/jJZqWkWvKFQAAAAAAAACAdsFUIwAAAAAAAAAAAIAegalGAAAAAAAAAAAAAD0EgRcAAAAAAAAAAACAHoHACwAAAAAAAAAAAECPOBlrvOhFammzGz/HXBT1M841+YtCXVws114o92CLlq7dpKOqYedyzvHTxseJaHFkQdu60fZCRXV6xLIcJLv0YZexXwsID0RflJ/xK7do4dQaFlcGAAAAAACgRwTWeGGnbpmWW7br4ghIZ4NuXpun+fk6NfSersGO7by49iA6t08y927SZdbL3a5rfPC5fUPY+oDXXZdxafNQ7ziOcF98i65e0B8BAAAAAAAAxw5P4GWVbrBTZZwWflssPw/oTxJrB/g4vGE+1kDOXUQH6hBMO1mgjQAAAAAAAAAcMqcapaaiczr9LNHawxGaHpMTLeiQU+vvT9Ct+RHasaY/yPPP7mRORZhdXKbJ/Tg9P/nZnsbDNKiug0D8velhvffuPN24rf5Wb4pHqblZoZpdRuMQ2dNEDF2ZjuCZAmJPexAkyuqUJVFOPm+i2So/nw7S5GWmgvC1zm07deTvzhGthqesFJazPD5Ncc3taVjJY+Y8aTNjFH9Py2fP3NeRV1weXZf1HRqZanMKUEAHdt1t24vw6chHYAoM32t0f4sqY2nlb1+W5l6xjNT3KlH9POfllWW7dW8bVT5qaS9lWpN6cGXSqp+0PizZv6R/jnSe04bsczrqi7RNJMoQYdXP2w6c8gvsY6p9RXfr3zQsAAAAAAAAnkA6+znpoRpN0orKhFneIhqbodl7N2ltt0Qj58f1l8Zp4myJGusdOmWXZqjWNFk3ycyb1UX+vERbB3pHgirVOOhjl1HuF46QduTl9Xi6BDtXvXI+pPNLwmHS9xNlqUzp6QPaeYrKIrbIIcsiTQc66DLycCm6Xr1Zo4VFUfNGkw7Lp8U3lGN2/RJf5AyVh/bocSDowhSWs3aaVVnsaVhcTg5QmWNLtHN2Tspk44XLtLRJVJu9Kr4lvjdrBV2k7tjpjq9JU/YUuBLVJohW9DW3qEYzsp4BAjqQDizFtrcknOfp57lcHZAxBaY6xsFLt/zFZCnvJey7qmU0u2gHXQLnSQrIMgDLsmX6YqYsV+mOkFP1XKzh8fMjVNrd1n1AnJ2nZFqhySsdaUcGJjgIE13z4QjN5bhmsTYi5HIxaXsmCKKux3rmAJs5bvq+cDtQ5+qN+5sJJecoEK6PHe9pWAAAAAAAABwPOvhVowatmQCBTK9XDsHqi8KpODuhnKkLEzQi3LU70ZvfgnDAYHi6wBozwmFZ1UGfe49pjyp02rdWwlCZzug/u834sxU63LyjHSbBvXXaOShRuWqcyLr1drwd0nTAgRRrv2D1gXDROeDCMpD1HKfT+2IfO7MXTlPloEmP9HeL4ZHzpVGqHnj0z7YxJBz7eeOEc4aOkgnDwRcZMBL7OYgUyYevKf5NR847Zzsk9RoH+tR0nizZ+nUg5FQWdXsx0hxt3N+hwx7aCnO4uaKzWDbocZOo8qxoTR3IkoMvMmAkjnEQKc60yDhP0K4sQySCAWbLkUmy8cIaNYZHddvnYC5ZOuHgkSn/sszkKJ3qRDsqWFwaW+jiNRl/X/Ro/5CqU+JeHBzNS0Y74ACLKf8yZ8Xodt+VQDgAAAAAAACgLbr/c9IcVNBvxtmhpYfrnQ/y9boJ8/PbNCqdiU4Xm1yl7V1Szg5fb6pCW8txFs3J5RE1+W28cLjLdIeENGm2WqZS8/HROGKcZeQ44q5jf3hw2Or08tSIxHnhaVJPBDllKQNw+rMkx3ndoljGC8PttUqjnG0jg7k7tK71PX5lTv0ylC57dzI47AwTvfVwKg4HGeU9Hoy2IROBrx1cuEpzcqqe3r+8JWoEAAAAAAAAOCq6H3gRLvzN9QZVz12nmbG9ROZFFpGDfel6ytoGjJpWUN9NvpVvG+GYTJZth7M9x928TVZTdbLZeGWPStbUAjl1aqhB28LBlRkUw5MdBpJsOLhStaZbjNPViSodygAYZ1BUaPRimZr3N+jRvvj7nHAz9zvLd/HCmUpDIzQh68aZCdZaHDL7puadwsEyltkZ11Zoqzwdy1pnP+WVfRKTHZHMnPLrgOVVotrF+Ns8LSSe5tJHOpAltyeeXrJyTWURRd/LOq/LFM14YTiTrnJuVgZz96yMjTOnSkRR4HBW9DnW2iUZpPc3WudymlufkVPQ6tRIZFRxe07p70LtgIOpFE8flDYr/1IZVNG0LbaLNuQFAAAAAAAAKEYPAi+C29vUGK5StQ0HlR0rNZ1IOMYTTapbb64TafNiY4dcvZU3jrRaSNZksGQ65bwWjZzGEl+z8ywaXoODr8MOsZm+oa9pTfWQ97IzbDib5+6eNd1jmW515AjzlJA67UVTJYRsmtb0ElG2qnAy2SnjgENF6GnvlSzXt7icVzZJ122Byuv2+herdEOudRFP6TABEbkOxdge1WWWgajPKq+Jo+Ui5cVrlphzxJZ7zRXleJI75Sygg9VFUeaytkuxTXPAzmQ/8No9vJ8Xyh3S9pSjLMaepdNrbD5rmklBWcoysr3paS6ri9o25P0C5w0anEkn9MABJHu6VaLf4EWtN62VbwJyDvU3UueU7B+yA30F20h0ntl4HR87+04HsiN71/oJtYPbd4RtxNOQJve3ovWAWP8Nq95Lg/xz4AAAAAAAAJwQMn/VqBjxQqC9mrbQEXIxVfOrKIpoEdUeTikoBDvOPf3VmCcMGYjghY6fhKllfQD2CQAAAAAAAABeOvtVowDjVyb9C4EOAjIV34YXUe3hlBswAOiMJARdAAAAAAAAAAD0ke5mvMhsAl6MoDHwzq3McLHXkeGFKgct24WJZCrghVB7lFnQIg+Lw+jnh0EenghZ9skuAQAAAAAAAOA4wxkvPZpqBAAAAAAAAAAAAPBk07OpRgAAAAAAAAAAAACgV79qBAAAAAAAAAAAAAAQeAEAAAAAAAAAAADoFQi8AAAAAAAAAAAAAPQIBF4AAAAAAAAAAAAAegQCLwAAAAAAAAAAAAA9AoEXAAAAAAAAAAAAgB6BwAsAAAAAAAAAAABAj0DgBQAAAAAAAAAAAKBHIPACAAAAAAAAAAAA0CMQeAEAAAAAAAAAAADoEQi8AAAAAAAAAAAAAPQIBF4AAAAAAAAAAAAAegQCLwAAAAAAAAAAAAA9AoEXAAAAAAAAAAAAgB6BwAsAAAAAAAAAAABAj0DgBQAAAAAAAAAAAKBHIPACAAAAAAAAAAAA0CMQeAEAAAAAAAAAAADoEQi8AAAAAAAAAAAAAPSIYxF4mV1cpltXxvUnkI9xuvr8Mi0/f1X81Utm6fryLbp6QX/sBReu0q3l6+JOQMniiNvD+3+Qzn7qMzSkPx4PvpvedblOz03ojwlCx3rBD9Bzn/pJetf79ccB5amP/SSdm/sB/emE0W8b7vP9hubqdPZj360/9Zhe1y14fdV2z32Kt+Jtqq/y6hdSbln1KtgXTXyGzl3+QXpKf5TwPnG/ov1o9/obbRNu+bpOL/rx7tjzYNMv/fSQDm0dAPDkEgy8cMBjWTh5Zrt+SR/oEeNXbtHy4hPoXl+63ocASaeoQE6vbeAkUdSej387CAxI0wbs/eD9f4ieoc/T3rr+bBM6BnJx3II0T31whOilOh3oz6A47cmy20HOn6Av35qmB5++04Euf4De8VyD9n7qJ/RnkMXQSJUO7v8NekN/BmkUsfUsexbPVv385D63K8HCo3omAwDAE4g38MLO3zTVaX5+Ptpu3NYHwTFgg25eE3q7dlP8BU4M927SZdEWL78ArbbD0Ld/mOjXfjHVUQgdAyeRH6DKh4he+2U42p1z/GX51Mc+QkMvf+HkBeG++Dfo4aen6WG3A0rv/0GqPNegr7iB6vVP0gNxv5ePPICtgxe3TnZg6Ol3vo1e/9JxbHcnQD8DY+sAgOPGWyYmJr6h/07A2S4y8LK4qvck4cDMwlhJf2pQff4GmW/Kc4f1h4MtWspy/nn6xHyNzNUMh5tL0sHk603ub9HeWI2qfCBxTZ7qMq32C8w5eUiU06pDcr84clcFnVplwlkgC1Re10Eppx7mPCb9msmyR+zG90ied0hby5fp5j390Qdn0Ezpq1rXYvh6o0KWFSFLWc4c+knq2mDKwnWYpObmHtXG1D2TOiionxabsGzMrp/AlrPRSc3kpev6Edfh1FokC1kn+ZlE+UZF+Sui/CVxrTrRFJc3vp/P1nn/HO3EdmmOZdhzS92MDnK0A2MLyToLnHNjObP84/olj2m0PFuu6YNT2L/nFL320ruE0/U2uevg59QghFP2n3tO7rJo0Muf/gK941MzrdMFXr5DD1Z+RL69ey99jl573wxV3s4HvkZ7P/5x+vIX5bec6yaPqTeLn6QKfZ4epg7mOAPnA/SVT38yxblqPcb3esfOHaKPmvJy+dVx+ZZR15l546XPaMdGXefrlkziYwwft+sf18F/TQG/jfxobOvJa3pg/Xwn0d6vjdBzibIMyzKQ1pVEXl+owVM/o5/W8muZSFv4cMvb0qic7vGv+nTkonUqbUFgnRfST8v9mKgOGq7zyBfifV55KTm7Nm1s3Zz32msfFo6oc4xpKYspp0eW+lPY1v245Yzr4JelxLGxuA7OeU45Ja4sGbfeVhtP2JYkrl+WnH36UbBMP0Jfd2XllCWhHwnX8RNEPx2fJ8v5zs9FdXI/h/STOGbLWcvpZZqJjreWJQ1XBwzrgftTu77J+tvlaL2Pvy/KlpeSx3vps5b87TIm5aG+u0Ovf+jDrW1V0GITVltNHjPn6XtZfb363pfVcduWnXbPMnnHq5+np0VZZP0S7cAnZ8feE2iZv/Rl0eerexq7bKmXRMnm4IOWTEQZXtZ2nbTpVnt220eErOeusuP7O/TMR1vrly5L1w40dnv1tYNAmwzKuah+3D6Fcc5Pw9VDa7/RipQz2ddWtvHW+9wW/LYuSWs/v6lk9euRrSlkfXdCfYDST+J5La9/iva0XSZswpWzt79xbT22c75e5dVYRonPrg5yyJ8pogOFU06fHQmiunntMnvsA0A/ePPNN/0ZL6uLdWoMT8spRi3rSQhHTTqtJhvmLtG0nhrBzujk/lJ0bOnhCM1lrUeh3+IvbR6qQIE+13YOS2Mj1Fzm/Uu0RTWakVNe2MkWTr/cr47tnJ3Ltd6IdGLLwuHV95o3Tr1gddHsE9vyFlUm1DSg1Re36HB4NF5r5MIEjQw1aFs6q8LBnS/TWnQ9duDjdUnSr7lKN/jz3YboOayymECJcKYnE2XMEXRhbt+Q35fyTKEqZLnTIks/Gy9cVt8VvRM7561lKVHtbFOVU9SNxmZ0vQvqRwYRTBnVNaOayCABUV1eTx2rTJk1ZnTQpRnbUL6MnyrVhD2zvKpTXF5h+2Jod5qvGbB1pjRWI9Iyqe9WaZJtPcue9XGzv97UOsg4T9mQ0kMCV17C9vbGFqxpYaJ+Z3dS9NMJVarwIOzT0/Tg5xo0dF6lKh+smDRpHpTw37zxg+1HxANOfVc+QOV+sVkP7qc+NCMHN7z/4UtElW/XU1fEw7TyjHXOp53BTgb8Rvtpz1QI37Ghj/KgV93v5ZdFXXVK9xs/9XFdBt7uiMHztDVwFd97344q549/nig6Fg+gzHn2/fzXFAOP8++y5NjG2+u3f5ieM/qJyvIjtPfS12hoJJ4SxFMG3tD1lwMkU36+l/hujNZfdOxdSibmrTp/lwdi5rgppz5u9r/MQYrM1Hs14Hrm1z6TOO+sNZVp6KMcLNPHIv0IOYuB4etGzsbWEoNDLdOfdwaMqfJSKJvWmzj2tLZ1iTivwoN0fT/TDtQgdYReM7oT58WDbo8smYK2HjkL+ryXX9YHsmQpB59JG4sHptNUeS2+pmrHNumy5AyySAe8afkrO/8M7X1VDZTV8bh+WXL26ccP2wM7Kea6HKxz1oqRdfxc/v4koB9uP+ykmDo8FIP/99pTQZ6bkY6WPG7bSoChOeF4RDow/Wq2o6BkqWSdJNQX5ZCX+E7lQ192pmWFp8c8JRxpcz+7Lw32N8IupZNvyvJzQnzSZvleol70YSVboY/3mqALn6czEZJ9V8zQh0ybVNcwfVFRORO9TfT5+6oOll1m2fpTohxf/3FxH23XXN6n3mm9mUtB6pT7NNnP8rX1Mzbq30RZzgsHX97Lqp9XltnP5CCy7/usOsdpkz45F9NPnn49nfDzOp2Dnxd99XMfiL/HU5HfbjK8QrbuaT9f/A16/e2n6GnxDWnz0v6/m5565mv09d+UJ3pofV7ztM6ndHZe4f4ms19Px9evZ1FEB+a5lShnIujCARO9n58VH7Wmtqc+K8JjHwD6SWCNFx0UkM7yQmKNl9lzVSIdlJEbZx+UTwu3d5wmzpaEM6q+zxtnCpROnVEndsDh5op29DfocVM4Zc8KB1cGPoTTP2/WoeFMhxKV40Coh1kaHT6krdV0p5yDR1HdOItgqEyyBsIxXhPO9aiWw/j5EaLNOypgc2lUuF1VmjbnySyPinLeBd5rhrj3mPaGarTQ5cVrU2XZEZYsucym3gX1w3It7a6lBpnGn62I8muZM/fWaedAX1MHwupWhk8+RPlf1Oc49/Xbuma3HmWJPNo/zGnrnIViZKKyWDrSQbXsyGuVtnfta3r0Y9CBulzZLhENetk8eH9zn97QA4uOEANK4/S98cs79MYz36oGCnLgIpxF72KDodTl0FQI/7E3Xvps7BDuNOJBMT/05cKHvPHbwnfRU1GZxED4p3UZuMzm2IQYxImBoncNGe81f4LeeE0Mpr+nyMKfln6++Iv02lfVNd/4qc/RQTSotNe2+G4aet/bAus28EDIlFGU50Nvy3QUFOzoxefx27en351Vl2F6qxjo2s4d64CMPQjsARM7JN6AlGuXPOikHTpocbTT5cXwANeU/xy/8UtcM70dqAGyz6EPyDJo68nzzkULzrIehe25wSRJWJZq8BnbegKujxi8x/dx8Mjy9VfFAPejonxtrvmTW86OfrxwuxNP4dj+3PbKgaOqkEea3Dx49aPaz1Mf+mRUh5Y2YvcB7ICm9ldZvI3e+h79ZxFCfVGmvFhHBaZlWf0624aSSbi/Ybtkx9HIUr7djto/9/fswAlZy+BmPseRiW2d+9ZQX5RXzp4+P4uob/C1Wz9vvCoe7rJdq882sTzVM5HlHpZlJ1j9igywx3rIL+ckuc+z+4bE89N5Voae177zRF32Xq7SO3SwKPcaVt72s0tf1/3V0/Rlev2df0jInvX3ZXpD1tXXrwt5JJ7X3GZI20sH/U1Wv+4h2K8X1EGizxdbtB6SDnZFfb7FU+9+V+L5r54Hdnttd+wDQH/J8atGeq2Quw2q6swPJs580FuUWcBTUJxjbTvCbWBniuitPQfS4cJVmhujuA52toVg9YGQwznOF+AgE9HOfSt0Y2UpqE1nhWRc048Jfq0IX1056cducdtu6+cI8Nt6MWYXp6lq2Uqdx1EggMkQ+CzRdzoP6Cx4MORzgEPHUvkBek4MWuM3mOlveNsjfE2TBfDr9Ak1OGnTmW3lR+gr5q2zrH8+J+qpj31CONnxW1HfG0uXoTkx0LIyYeJMjF7AdRP35MEhy0pmciSdMnZC2loUVL5RF4NdkxHy43bmSjHCsgzZunnbarb8DmchomwlntbCZUkGG3yyjN5w7nxA6SHPwp09kLPEsj21WRlEhRbVDulHONGm/GZLcRzaQQbJIqd5hp5+6TNxRlIvCMkr4fj1nrhP1FtLoOpr9EbC4SpO3+XcNjqALZ4VytlmB1YF5fM8C7NlOchk9Os6i8ZscRA+43ntPU/Zg8qOUDaf/uImhdT2o4JI0tl/5xdo79VTNDTxrfT0V/fpdXlSqF9Xz2sZBJL9lR3oLtjfZPTrPoL9ekEdJLNhrGzLnlBs7ANAt8kReFFwpoGB3+xXrWk0MZxBUaLabLFf6Nl4ZS+ZTZCFzgjJnMrUAmcEiHJebK2BzB6gPXqsswdmLzprbty+Q1vlUZrl7IqmlWXQaNLh8HR6YCTrmnxuMANGBb94Ckrn2SlFKZAdU1A/0g6iKV08hSuWFx8r2VNlLs1QzUz3ktkverpPGsa2ZCAsoQEvflvPJt2ex+l0mehw/5H6KMoy6SQOtN0OpO1NxllR8pqHyaBgCJ6+1dWgHr/h8QyIc2bHpC94qwYo7Kgm34TpN0YtDh6/0W6dCqEIHbOx3oq/XwyWxGDHpAfLt7/qzzCyziM0JAc3XFYeNGtyXlMOUNgZdd5UmjdGwcG3k5nAqdT0vml6LlF/NTiMUnEnPpOYl80LOdJrv6H1wZlC8THmjS99OeUtKqdTi2PyDa2Ap2no+eYx2qFI6I7tJ56SYHTwRtYCyIFpIBJ9PNPRtuX1nlOiXObNpLLLZB3TkfKw3q5xqrw5L0uWCp+tp6Ha2zMfVN9jm4jXggjLkh2MpzJTv1Ww4eWXrTadR5ZyMC4G2on27nmT3Y6cvVlLDvrNrq9tyNR5XxDO2LIMCOXRD9dLOMLfmSPIlBvdR1nOVTKzK9aHDHCqP8OE+qIMeUm5tzMtK0i4v1Fv131v5FW56ec+Tg9/mqcZtPfmvpUsOQv0W/v2Mg89tl4I0wZ1EIWfBTzdhvdl9GdhWQpCz+TMdtAHsvp1H0Wf18x6nfaeEf03Bzvy2nyg/bz+KtFbv/0DRGIc8caXhFhHTlnPgDD8vH5atBPOvIn7q270Nyn9uiDKmhE2n7qmUGq/7qGoDmSmiv3ciuFna+KZxf1SNBXMIdfYB4D+4llc11mglDELgOqP7mKx8YKdrefmXrTTOddeVJTXjTFrXSQ+CyfTuwhrELec5jy3DLyob5m2rWuqxVY5g8VZc0UvUhoRySz7mgl5cjYEZwl5rxdGlc8JLOhrBmWZRULWnNlkLa4bycL5XFA/sTz4PmtUnh+N5JWsnymH/ijvby1YHMnM3i/KwGu1nNvWi+uq8q6ftxfcjeuQ0I3A2KUsh/y+qo372bWxqI0k9Nqgrc0KjdCKpYO088ixV0XUthxbidtchn4YfW7udioGQvYCby2fGR6ofjSuo72AWWJBOH5DtJKy8KbeL0lcS8ADzsQbOx6If1JlEdj7+bzz+853NYFjifIJ7MXgkmUXjuczI3phTg4gfMS72KVdv4Of+wx9/Xy8oGf4mrZD9TXhHJjrK8x1eTAeDcClPmzHNSl/r7xkmfX9WMb3T9FZs3Bq4pqiHLyg5DvtRVX1NXX6eyQzxw72XnoXPZNYmFPfs0WnTt0te2B52QsA2ri6s2XmPS8oL7den6fXP3RKLcac0Q7isnAZPkdv/R69iHNIlpm27sG+ppDVw1c/Yi2A6pcl47Y9Y0uhNunXQVJeTMI2Gbf+Uj9Zcvbpx20jTKxzrzwdXSWxrynuxWtimHYQ1E+g7oH+Joh7P4FpW7Z+3njpDr32vo/ofqO1HEyaXt2+yF8/dU21wKg+FuHXAS8k612g1T6P72P3NwK3Lat6k6obr/1gX1NmS+n72TbLaLt1bTbxOSBniT6e2CfL7+/zJSm2HstE2JX+fnKf3565zHJB1pYFW0P68ckybruJ41E7D7SDQPsJybmlT2Fy6CdRPonVxgMkzks8W/W+ALZdxd/327r8jqf9UOJa6hpPOzrwo9tzy/O6WH/TogP7eWDbqyg7L/zM6/hE7S7Ur3sorgNH1lZfm6yDJf/gs4LxyRKA/sCL63p/1QgAAPqFfJBaA/TOCQ1Eswep9gDw2BF0KhlVf15w9djWMY2UestBHy86+/Pf6pdJprxAghMgr+PRxlP6KenYCf+l37IPOHLHnwGSM2gl1K93bbwATgRP6tgHHBsQeAEAtMW3VGtU/cQP6U/dgdOH7cALp3QfFVwW45TxXPrjBpffHnzwNB6DPMZYToV9/LjDv9yQdJbiQVZIl5y2nyYvAI4STufnN772T6DKfvJ9O/KXO0B3gJwHm6L9OniyKDr2+dK9z9KX1n5M/g1Ar0HgBQAwEHQ/46U4JzbjRe7nNNx8adrHEfkm1E5Jt9OofWS+JQOgN7TYq4WcDvKlaeEo2FNg3NR50BWkQwY5DyqF+nXw5PEEj33A8QCBFwAAAAAAAAAAAIAewYGX3L9qBAAAAAAAAAAAAADaA4EXAAAAAAAAAAAAgB6BwAsAAAAAAAAAAABAj0DgBQAAAAAAAAAAAKBH9Hdx3UvXaXlKrxy/W6f5xVX1d8Q4XX1+gWq0RUvXbtKG3tsdZun68iQ1ly/TzXt61zFj/MotWji1liK3MLOLyzS5v0SXX7AkauuCGlSfv0F8VXmPsZLa7erowlW6NV+jvbvzdOO23ifg608Pq78bzjE/RfWhbWSI/z6krTbPl2Utt9qXXYfDTUdW/SSrjWgdUE/KiDaS3UZs+0uxd08b6Qhdjvxt65gQsvWsdnACOPZ9UQ5S29VxRrdv+YQ8yD9OKSoH2xbaav9czlmila6PowAAAABQhP4vrnv7Bs3Pz9PS5qHeAY4G4WBPVWhreV7qY14HXSJ4kM373YH2vce0p/+0WV3kayzRVl9+e3GDbl7j+9WFK9w+j/bTbU/VYZ7qu3rHUYE2MiCE2wg7Qby/xRHytBGQQsjWn4B2cNL7Ig6CcmBp5UiDLhxMvkVXL+iPnXLvJl0WMpm/W+Tp0z6Fn62inCsPR2hhcVbvAAAAAMBRM2BTjbRTjbc0veXCaaoI9/DxMc1qeKLRA/8T8wZ5UBmkNqId4BOV7QJONheu0tzYHtXxLD8yNl5Yoa3yNF2/pHcAAAAA4EjpwVSjZCp+nKIfkzodICut2T4uiNNu+Y3WNJkjydTs5LE8U1M4tXd0f4sqYzUqiXLUaVqm+kb3s1ONBXE5uN5zROs7NDKVkorslJ8xZU1M73HklTwmyJnybacoM/Je9ycSZTfYMis6VcPovbyedBDd8sf3Yt2M0vZdouk0vXvlbODzU6bFOHJO2kM2/UmNL9ZGstLOkzq3rzkgbUSnv689HKFpbRN2WVybtcsyOG0k3c7DhG1dyvNBnWjK6MHUz7aTpF6ydODWLVsHZ6QdkG1Xsi1Ri22m4uufHVtIm54R6nNCx9Lwy5LxtwOvvJhQnxKqt5DzTrNGNX3dxDVzwGXK3RcF5BySSVheClcH8vPZHUuPyk5HHibl6St7Uta2rQeen079bFkmrxcfc/cr4vol+43WegdhvU80k7ZcUAdMoqwtbcTT57j3S+v30soJAAAAgL7Tm6lGl2ao1hQDAE7HlVvOwUworVkObu20fzMA4QEJO99m/xLtnJ3TacVqkM2OhDqWf2pKdaxMa8tbdDg8LQePnPJdeXZcHBHXnBfHdBn4mjR1Xew1lKg2QbSiy7JFNZrht008QLLKL+soBklyUCrqJge15prsnOn04GiAq4/lTfmWgzjhiplrRinrJk2a6yYHfup4roF9QTZeuByVg+W1NzZjyatK0zwo1Mcaw5Ox7oJy9iHsYSJpJ72sG8t5ednZnr8qSpFBwTYSSjuXOuf1IlquOWBtZKhGk7SijonzSdsD23pcflXHxl0daDgRbcRn64rq1Cht63vVd6s0eYVlGZ5W59dBPF1FbuI7lQnLLlN1sEp3hOyq5+JWNnuuSoebd7Jt09s/C4w89VZv6j6xh6TLMtQOQvIK9Cmy3hyYss6bsqa1CDnXjI3dbVDV1kG3yZBzdSqueywTRehYGhsvrFFjaIQmTD0vTNDIUIPWojYyTqfLh7Rzv7XN+PspxvP8zOhTfLpT+7ntcNDSfEffL9CnFKagDrgP4/Zrzlt6OEJzGTpgZi+qtaTMeanBydvbSV0BAAAA4MjofuCl0ZSOwPJyHkc5H8oBWGl9Cy8HfGKwNm8cX347XKIyv1K6NErVgy26Y78hyknsbNiDSQFfkx2oyNHmt1cVOm0Nahrr5s2ScpoSb6hsyqfl4JDrRlJe+pr89lQeG6eJsyXrenmZpdFhMdB8MdNd6g/snHjlJcq5auq3Stu7lu4y5JzOBj1uKnu4lWPg2imJAb/Z8rxZ7Hob0TqPZGkxcG3E+r50VPxBJxNEOBltxGPrGjvAwXaVJ9Dj1YGAnblIXvxWfKhMZ/Qxnw6kQz08qm2SZdR63TS8/bOEg3u6HGLjt/pGr70iVZahdiDwy8vfp4w/W0nci+6t086BrdcG1Y0zzG0+oYNuE5azrZ/VBw0qnYpLEjqWDgfpiEbOq+uPnx8hsuUgalkeSpumF+inNKnPz4w+JWzr6fj7lE4oogPVh5XGFqLzOAsnWwdqjaDqlDgnGDB6RM2+rL0GAAAAgCy6H3iJ3vps06gcSHRxYbs0OC3XcX69wY5uwOm8ifuFp2VI9IDcDPoXnLnvnBqduOaJSQsWA1ExoI3rlz+jopCcBSYYskJzaiDbw8UFC2e8oI20sHF/RzimNVqQ8hBOcVNnhGlObhvpARd4fQ2K3/Ivc/ZOHjggpN/Es7O7u20508WYXRROsmUPUWbRUeBrBxny6mefUpR+y5nbq8qU4sABpWa3dBVfn1LY1rvfpxTXwWEio0puOabWRdmkD0bzP3sAAAAAcGT0cHHdVbohBx/JN7tFkG+HElNUNPwLIsJZS03LlW8YTYotp5nzW7IO0ZkKbS9WF5haot5apWU+8JtWilP/OTXaXsfCC7/hKsVvI6/cSpnn3ifkAqWH1NTRlvErk34diAH05HCDttkRKipnCzko5UF4x28x/RTOeInoVhtRGRS1iykO4TFpI6G0+RPXRmxb7wXVMpWshYFZtnmkwqy+uEV0doau8/SanBlB3v5Z2NTpsnAr9x+pj7Le6s++E2oHOeXl9ikbr+wl6839/FAP9SrhdsrBSbs9tCNnnjpVpcaDNN2Gjjncu0lru1UaXeRn25oTWOX2lZahGOinQoT6lEzdqbbu9q/+PqUoRXWgM6pmOwiayGnadWqkZvr4so8AAAAA0G+6vrguOzG+hS5bjjH6eOgY4x43C+jxACexwBynd+vAhn1O4+4SNSfmxNgv/PadsxjkooBykU2eV36DyOzjN/ByXr81iuO3qNLZ5gGxb9FNdSxeTJWJyynnvVuDtHjxRk5d1s4w32e9TAvntrPfhtkyETJc2p+kOVqJMwjkcVU390pSZm0sZplet1g/ibrtbtFWeUTrwKqbhN/6Wbrxytk9jzHnZlwzB5H+rWyLbtNi67nayKOgnFv1ENvXwLSRgN21llFgyWVw2kionfsI26Xf5vy2/vhiSAeUsIXDzS3aGyvTNtclpAOJtiMy7S0frt1GdpmwhQZtbVZoRMvZb+vZzwMfwfbbYmOmHSTbTkJeGbpLltM65so5U+6tpNfFlNVq30xAzv62o+7hO5apA33PuA+K8evB109ltCvv8yCkO40jGyO3UN29uOVgTFkK6qBVJuJsKdPW/YzvWJoeZHmxuC4AAABw5PDiuj34VSPQQsvgRw2a7F+BGBTkYLutwMvJwu8wgF7SInfpqI7QTpuBs96j2m77gRdeWHPQ6pLG4PZNTxrd6otC1+noHjLQ4PnVqwKBJtBtivRVAAAAAOgFvflVI9ACL8KYhNN/ifZegWMDADsInKafwJlCAPqEni6TZ1Fd8CQjnPqJwK9e3btJK5sVmsa6I0fG+JU5OcUZQRcAAABgMHgCM17S0vcN7U9NyYd682SnBedKa/aQmgJuyJGOHyJx7Q6vdZzgN78mFbwT3ZwIWqZk2DhTHLpFyz07a4u2Pl0602+yLaem97dwDDJeIvm3yr2X/U17HEXf3X+63Rd1O+MlKl/OqV+jD45PxsXg2HqHcHueJVrBFCMAAABgIMBUIwAAAAAAAAAAAIAegalGAAAAAAAAAAAAAD0EgRcAAAAAAAAAAACAHoHACwAAAAAAAAAAAECPQOAFAAAAAAAAAAAAoEfkDrzwrxPcutKvH4bkXw5ZpuuX9MdL12l5eVlti7N6Z69Q91b3u0VXL+jdaXC5op/LzHGerkdULwH/ikLeOvVaB/3VcR9I6CdJmty5/svL16nXFtZ9nPYySAR0MBDYfcux1L2mG3Luma5039gvO+BfdBH6HPS+LLW/0WWX9tgleZ24fh2cKAbiuaufA+22E1V2tQ3k8/cIaGdM2xb97te1TUCvCmXrGT4ReLJIbSMBX7jg+KZnfcoRkTPwMkujww1a69dP7F6YoBHaojvmJyhv36D5+Xla2jzUO3rJBt28Ni/uV6eG3uNj9lyVGuvm5xrzn1eM7umgn0ZsD0xaG2gI/ulYzzl24w08CJL66RE9c1ZPBi06GCh5CRubqtDWMrdb3nrwM9l9otXWuf2c1EHSAAcaExTQwb2bdJlt8W5vniInk8CzQiCfd+Z5YT33EvvdPkkPKLsWEIiuF2/57Ldftu65D5f7BA14vcgxZp32xhbacuxXF/m5sURbB3rHSeNEj2+Oy3NkMJC2fnePavMndFzRZ1vvrh8WPwPjzX529dPWA77wiRjfFJVlbFm5Ai/jVyapurvdN6dk9mKN6OF6bx3mThHO/+Rwg7ZNcCgPOoB0o51zNP3WQbdQAxO9icZWncjRscnAyiQ1l9OCWKKDmR+hHeMsL+/QyHzK4LiAflRZj6/zPXAUaSP95MJpqtAePb6nPx9XBl3O5kF8rcdBUIN+uF/u14uCgqC/6QLBZ4V4Wiwu08LZHVoyz6BFLW0xyLb3Lz0coQU9CJYD4okmLXV7cHiwFZdDbEXGASeRwWkHq3RD6GXQ+40nln736x2M108sUiaX6eZxHzOdOFTfpYIdh/plYh/6VLSRQrxlYmLiG/pvDxzdmRN6jRsbD0wWTq1Fg5jkZ/7+AtWG5CFBg+rGADiieG6b6jRN08PyIDXuukrjyN0obacYjXtfCQ+85mtU0h8PN5cSHTMPvMy97LLIa42Zs1rPU+XgAV16J8Pnz9FKykMg7TxbJtwokrKcozXaOTudelyRroPU84jlwYGJ5HflIFNUfM6SlcHUnWU1ub9Fe2M1qvIBHigaZ8krZ6Wv5maFalqerbJUyHK4+gvC154msmzEvYb8LO7r2pGST1I/5rsRu3V1Hbtudp01SRsy+lFlk3KyMdcMwNcbfVAnmjLnW23EkbNbnnR7VvZVXlcyMPU0enDrndCPez8mTS6ChIy5LU/FtU/TeVIHGfLiewm/Z004QNMtduSem2zHc7QT26wtS19flFZnQXw/5zxLBz7dPbLLIb5f1/Xw1cGWV9Ae2pazul5sI4b4muk2JOB7scMp62rKGx9P2lHyeqOi36iIusujts3a5XfahmuXTGRjnnZAKecIqUR9pl23lmeLc81Iltr2dpo1qvnOTUNer0xrRn7WZwrpwC6H074jErqISeou7VnRitRPof7G037k33579sPniGf7XaJpxyZkvcTIILYPdf2Wvn+MPHVu/X50v6jMhmR/GdfTrp9A2i4l90n098mjuzQ8+mS47pP7yf6AP6+IVu23da6bPc5Ifg7qXMvK1Z06x7F7Ue5bz96Jjts2HbcRlocYn6zv0MhU0q65vXr750A7CPfrqn7J9mW3BV2/HM/ivCTv59hJiz0Z0uXMuH1fL/si9WzKGmO6JMseYcnUJxNZNzNGMzq29Js4z9nve47Y5yTlYdqu/ihxypIiZ3e/wsjFvmaKrOxnmiAqT1HdCZKyjO+p2oFHd0a2vJtx2pC3nAKfDlrl6dp6e0idun2KltOKuOeZRL0deTnlz/WMydBBUs6mbtm27icsr1Q5u3rT5KpfJlyXpP8ZtnX9sQWuV9LnlLBOhA8/v/go3EYkrWWJ4Ot4nodpBNuBwG/PIUK6S++7i8ky1gEHqd58880cGS+XZqjWXAteNIH8vjBYGX1LiboNT8uGKI+lZEBwZkdl806+hi4N2Mp+0KmiJgVIKqMslJBSlo0XLut95rwZIeq8zNLM2F4b037C05BKY9Pyoc1lWdokql10SuLRQep5927S2m6JRs4bqY7TxNmSmoag3xjIKVvcqej62429NDYiGgrvXxLDyhrNsCwz5EzCPGvm7eHyFlFClmzAKvVtQcis3uFA6Mwp4czuP5J/s375AV/fJao8a1tRq36k4dtvOO1pa6H0N1H3yYQNmQamI8x8Djd0czxn/apT3CGpc+q7VZo06c2mLHqriweI1IEgZM8Gu55Gr35bF7oRD4A98WCSx0xdZB34GA/c4vNoymQWiQ5rwp6ik/YWytVBDnkN1WhSuBtyf8KOTDRfbUublVhegpIYqLHDxccSsvT1RUbG4h6HsrNVx1UdVGc88nApOo91YN6GM9Updub0Met+qu2INi7qMS3skm2sdOqMOMLXjPXNbWvn7FwiXTf9mkXkLKQl3yDbbz54U3WXNsQOrr4ey3K6Jb1WPXSUTLXMxINSDqb1efPsPNsyEXVX/YPVbzD6jUjaNNGEXQq74IdbNOjytAN1jkrt5wGVOh4/9FTdU1L/s/owobOakYsoS67MvAAhHQT7mxDeviibIv2N/1mebc9+qjTNAy55npDP8KQ8b/VF0RaHR3V7F1walQHMaLpxEeQ1mnRa2LxJv1bTSM5QeeiQmlL8bOvsNLOuKnS6lyn0wsYWdDnyrJWQZetZePuUgO7kc5Tbik5TH3+2og4IlE3rTfSdlUQbKVFtQjhT+pp2H+DtnzPage88fsbFz0Ejn/xyaZc8z91WwnIOjj+73BcxmWPMFsLP61zPEbvP1Y4Q646DitF5D0doztiDwPcc8fbr0dhabfVd7m9j/fjkHG5bgfG6DAZwMFafw+1gymrLRXSX0a97dRfsu7mcybGDebYGdZDlv7XJo/1DPTbnflaPH6tlKjUfS3vw9yl5xj4ePDrw22wHY/mAvLxy1noL+WHdpNhzZIMeN0tU5sgDt2Pdtvl5oPyvsE/bC3ztIKtP8VJgfFP0mWzOM2QEXtj4q9R40EbTazTFAGpaDCxSpn8w9mCKB+WJyBQ7EUQ793MaIDfgXTsgsUrbkRPOa6KITnjVE/nijikaBHFkK/+gq+vTfkTjM53ixv0dOiyflkauCOjAcx4PYunshLqGu15OBoebK9HD53FTyzIoZ8aS873HtJeQpeU0s7PWlTnzZ0TDUG8F0zrHVv1YwSe9JzdcHzlgbndeKz9ojH2JzRmUxHIWEnrQ0A46kzyPo7i57FlQnVKBqGSbErRj60NlIV0BOy3sJKWepzrl2rx/obtibcRaw0g+nOyO0JSDA3glS14Cqx3wgz46ltUXpcJOWXItJdYPWW3y0AoM88AhemBGbUTo6UWr5twGh5S8VB04yq4fapr0a3ZbzuN0upwsm+w3jM4ZaevqoRMFQQS8hgwHzY0O5JuohExS+o288IP93LYz8PC1g4Jk9mGNOCjMdmPLZFAo3BcV6W8EvvaTw5792H0Y60CfJ9r7mnCuR7XjkLY+lxq8tOlgC3mVzYse6XhZAaIqBxhabT2bglPn7EF9u/UoQGqfEtAd950S8ffebiXShYEHuMZOlvmNrdNGYn0p+UQy9fXPWbRxXrJv0GOOPI5TJtnP3VSy2kjwmdyDvig4xmyXHM8R7jfkixvbztU4rDS2ENXdfZZ38hxh+xx94LSrDsb5aUjH034xfG+ddg7svq+A7rL6da/u/H039592nx+ToYNCYyY/G6/sqWtfOE1N8bzlPiV23pXOTDmSfUr22MdPmg5y2GwRvPLKtvVBJwqa8fOgWaYJYZv84nvvlbZ6wu6R2g46kLNPdx2Nb/IRDrxwAdpw2iVRFHabRmWh2xgksrOXGBz3CtFhCcchjli1E7VjRVPSseolhXQgHgb6bcH4+ZHBWS/n9h3aOujswScHYDryqRw17lBFxxB1Bt3WjwkcrQizUQ0x36JKVsCJt5yD9NlFMTgQHYw5j7N58tK4u0Rb5WnnQRWydeV8csBGdjDyDYn1hsMqh9riQY15U8Hp8PLcxCJh3dXB+JU5Yc2x05KWPZFKJ31Rt0k4XWozD5EQ/ZSzhMspF9BrHXjFNqS3dh3PVIR98gDdcZI6aQcnl6J9kZ+gnEPtp6A9h+CAkHo7qRaS78qaRfaLHnpETekkqf9rU5ZjeFLWe8pDhu5mz5Vp+8UdqpxTPYB8tl64SnNympc+R2YLHg3KYTLZQ2JQ3Kw7QdsBwSvnTsafxwTRp6RnUwrn18pikFs3AmSXVEZmsg86LnIu1q8Xf0YGdNDtMRM7t+K/8fNikP7iNpHoUyLnPaNPCY99BoSgvHpk632Cg2aMeh40qXx+VgavVKboIFFQzn0e39gEAy+8yO2eL0vARF1l43HnPDGqM6mbN1qZ6NSydpwIGbFSqcoSUZbJ4UOdMaPepqWmVMpBVmxA8q2x+jMbmZ7Uu+CQu7BwUAcWyfM26Oa6GMSeu546JUo2qHbeeATl3AYsuyFncKvfSOSNastBl3h8RoNyeU3nc4t+1NuTqh5Iyod0qs2GUG/x2OlPvIVh2XQUNbczmlQQybwNUHJWfwbtOYLL6EyhCNk6X9+X4qqjwVkDAPkWmh+Ytj2F2kgBefGDmnRqqrB0YdPt6q6dvoidMisdXuvnsJPgpX6jlSv90UPbco6cTP1Rot8iWTbE/UbJzZi5faNl0MwBz2o01ax7zC5yxoGbzhxqB0yBrJpu9WEtmECysJNZd952mg66gacvykXe/sbGaT957DlPvy7vZ/XdHJinEZoRNpE23Vi9HW3DEbi9TY2hEfmmTiLfZPH9Nmj9oRjiW3af2g68CBlyBl6LU1mc6A2dkFs0V10SsvXYtqQTpv4ME9Cdejs9Q6Mk5MAvb8qjNMN9L8MZY1ZgSspL/dl35JjIDgK3DLKFw901Ry3PczeFUBvpZPwZJNQXxSTHihmkPq/zPUf4mZWcpqvPm+1eu1EIffP0RdcOMuXc/nNEthF7Wpg7/uyI7H491l2475ZZjXY5I/LqoF3/zQO3A9mPNGn9nngeir9HjU5y9impY5+2yWGzHY3lXXllyznsh+k+rGvPmPZtneVB0fPgMdHZUSoPyMuJuB3ktecQ7Y5vCshSEve4/sV1RUNOLNaVgI3CPOgbVOcpJHLBnVU5OEo4tRyRNR0iD8Z8C+oEjrVckzHX5fM47V3D0e04MsUDJE4T0h+5rLo+cr6f6ah2t2irPCLkz46nXTcDR9T4mLoeZ1u0Rr9C5/mPrZ8PyCugg6CcJfqeLfuZpFzMwkEsE56+Y94eJT575cz3YefJOO32Z6feHEV09auvm1xYyi8veY9EWWKdmnpl6ofLsV6mBW2zbt0kpqzusZQ6JG0pTd5JEt8XJOru1G1LOMAjZBZO9dmzU29pN/xQUWXx23prWfxyFkR1d/VjnRPUgSJVXqH+xtRHfhD32tyj2imrv+HpVVrm9ufMNuK9p1M/6zwuu91GDPF9SZyr7F+2bVO2RB2YZF+Uds2WcrQp5/R24tiQbc/8fasPVnqK7+naSp5+o0UHjJZn2rGoLQTbgcC1CVlGt30oor7Ksedov2sHXrtoxZZJ4y6vg8TraljnpenAKYfE198wbfRFafj0JnHKZ8s52H4C9izR1w3367Y9K9Q9+S1ocj+Tfsy9JmNdN1G/5P0ScrHrFtKB/KDtjLPwcshfwtf0jX1sWYr78MLcvNZV2NaNPPTezTrtnJ1M9OvpfYrApztdb9MukvJOtq3DTV6Ev6xt3d8XyWt4+ueQnOUi2r7zWsovSPTt2iYS+zrB7Vc8fakm2a+kt5Gk7VnPZPnjCN3ti3hx3eBzMIP0duLU3WofSZ2b7/llZuTl2mz8mQJyTtNB3Ea8ctZ9QHrbCvcpql0YeVp9iqurvLpz24ErS5/uEue1PiPdcyO7DOggeL9CJNuiuv5eqi0k+5TsZ0UqQR049U706Yp0W/cTlpdfzgq3/inPypQyppNms84zOdXW5Yd09PfJGufJta5keUJtJHCs6u/zQ3XsTM7pBK+ZkBXToSwteHFdb+DF7QR7ixJc0IkYBEKDpx4Q0oE0Gmtg0ooy/uSvPJxw+qyfovS3bQVIPJQUsnPlBcgyHjhejokOjj2QMzh28DPJDtK3Ip9rvDg47Bp4aHl+yucYL8qaf/D7JJE9VgSDCnQHwMki+KtG8QKP/UCl2A18gKBlMeDe0okOZFrlQZtrwxx3+qyfY49M9bRx0leLAB30B8gZnDjUNMJCi6CDJwT1jErgTFkAAAAABhX/VCMw0Hgj4VH6oZMaBQaGgcl4EcgMF5NayeRIrwTgiaAl3dRmcPrXljZskUxfPmp8GS9xqvBglRcMJC3tsr1U72NJB32Rb6wo99up9jYYB3SNTuSMjBcAThbBqUYAAAAAAAAAAAAAoDjBqUYAAAAAAAAAAAAAoDMQeAEAAAAAAAAAAADoEQi8AAAAAAAAAAAAAPSIkxF44YXHlpfp1pVxveMJQ9b/Os3qjwAAAAAAAAAAABgMkPFy7Jml6/M12ruLXzACAAAAAAAAAAAGDfyq0TFnkH6aGAAAAAAAAAAAADHd/znpS9dp+dy285vz43T1+Tmi1ct0k67SrfkaRb9of7BFS9dukgwZ6HPrNE3Tw/IoNe7O043bKrgwur9FlTF9rnUeH3O/r5il68uj1NysUE3/hv7hphWg4Ok5dlkY85v6XJapqt7pnJeKVcd7ehdjycMuJxOVlcsxS7T2cISmnXLyb/jP0Q7tiXqr0jSoPm9ltsg6lGnN3gcAAAAAAAAAAICBoPs/J91o0mH5NPFKKxxouH6Jd56h8tAePeaAxL2bdHl+nub1Vm/WaEZ+RzM8TaMP9PG7DapOXJXXYqpjI7SzzMeWaIvi81YX9b4D9TlJlWpnd2iJr7e8RTQ2o9dBMdNz4nvJYI4MGI3T1YkKbcl7qS07m2SDHjdLVOboCAdDnlflHn+2Qof7j+Q3VDn1JspSsepGQzWapJXoWFxOotJYjUiXs75bpUl7HZtqmUq72wi6AAAAAAAAAAAAA0p3Ay/3HtPeUJnO0Did3m8QnZslunCaKgdNUuEHzkJZpmW9cQZI5VkrkHCwRXdMxsrtGzRvsmEEh5srOpuEgxzOeV4OaWtVX4PLRhU6fUEeaEWWm1FBlNp8e4v1Pto/VGWqEu01yzQh7nPmVIn2XlE14OwVU+9lzrSJ7sc0aM0Ed2Rwyspg2a1HWTx8j9Kp+Cw7sAMAAAAAAAAAAIDBo8uL6z6iJmeeXJigMt2hbRqlWc7KaD6WwY/ZxWmq8nQenflR35UnHQGrtC3uXZ3SgZApznCJgx0mO2WF5tTxxezfC9p4ZU/+P3uuTNsvNql8fpZOlw+p2RA7L1yluTGKs2iWt+hQfhsAAAAAAAAAAAAnmS4HXjhbpEKjF8vUvL9Bj/bF3+dIZ2WM0+my+Vtw4SpNWmue9BW+d3lLTUGSm7M2i2bjhcsqSKKnTxlM9oqaSqVpNIlOzdAobdPqvcdEZ0epTHqKFQefzN+C2YvO2jIF4WCPnQEDAAAAAAAAAACAwaIHPyddouowySDDxv0dqgxX9XSbDbq53qDS2IKeblOmnc1O8z54UVvOWlmg2lCcwZIIiKRx7yatNWu0wOWItlt0VU5DSk6HWp4foR0zXSkLUdeKDCyt0nazSlXSU6xu36GtgypN62tO7m8RJ8J0DK+pMzwarQcDAAAAAAAAAACAweLJ/DnplF8Dkr86RPpXjY4RXG78nDQAAAAAAAAAADB4dP9XjY4LcuqPjTMN6hixulinvbGF7CwfAAAAAAAAAAAA9J0nM+NFIDNc7DVmeNHfY5btEsEZPLNEK9avQAEAAAAAAAAAAOBo4YyXJzbwAgAAAAAAAAAAANBLntypRgAAAAAAAAAAAAB9AIEXAAAAAAAAAAAAgB6BwAsAAAAAAAAAAABAj0DgBQAAAAAAAAAAAKBHnPzAC//iz/Iy3boyrndkIL9/nWb1x4FA12FZbrfo6gW9H5w8Ll3XehbbYp+sMNhGxunq88b2nO/osvbrp8z5l8iWB61tnkCKyVnbyfNXxV/t0P55qnxqS7W9dvv8dmj7+RBoPwMAy3LQyiTJLWdbvt15No5fudX1vrcX15T00tZ7TM9kUoCBbQfHhP7qcpauPynjYN2+Zf/W9rM1RMHnddH+pu3zcvTrPRx/dsue5XVkHcTWcj1dxzbukzn26QVBOQfGN33yD7L77oK2HkLbc9G6BQMvtpL7IcDjQb87fWE0szXauztP8/O8Xaab9/QhD67eumNwynjTbKDlft1wju0ABG8DMkDrGr763b4h9by0eag+HzHjV+ao1qxr25unyy/08AfLWSZdHVw8yQzO4LTbg/LVRbbFJdo60DsGmL62nwCD5OR2lw26eY1lW6eG3gOy8D/Li3Ny+xsAjox7N+kyPzvuDnrv1u0+5QT167v6+b+4qncYNuhxU/+Zk0Eb+wzK+Kbv3HtMe/rPIngDL/zwmqZYoLzduK0PHid0x3V8DeIMlYcOqdlm73O4uaT1Jhop1Wimx0Gz+H683SC3i2kLjiZOEdWj64mtpdM6vsiB4VSFtpYHpH6BNnLmVIkO9x/pTw46SNSvfkE9dDq0LZBJMTnrgdK1m+Kvdih6XoAB6vOD7QeATjn24xsAQP8p+Nwt2t/0op/q8/jziSUg50HyD/z0YIzZIW+ZmJj4hv47AWcxyMCLxyGUx4f1B2oIJ1kM1NlhniXaadaoNnxIW3d3aGSqRqWDLVrSlU6cZ+33wm/Bz2075eDo6pzwEDj7g9+0TFNVH+EAgGnc9r0adx0D4LLOi7LpjxKOTL54Wuwv085mhWpj6qg5N1lng647/8llnTIlSZYlRKos5RukuF4RXMYMJ52vN7lv7m3LKj6eqgMt67rQvC23O8/eogUtixih32V1zeT9HBw5u/oZfVAnmjL11HWXcuTAi8f5c66Z0G2LXtU1H10RdTi1FsmOgx8tn6M6xjrl/XO0Q3tjtWQZ5d+CjPq1ypn1sUDl9XCH5JaPSZbRsS+33radBI7ZZbTlmCh7hKm7qkNtiPfFdhBjHxdEdXdt2lwvw9bt8qf0GcmyxvqR9rW/RRWhO9+5LXTY36Tas/zbf54XrnfUn6pdCVt3+pvc/ZSPgJyD7cAuR8juNFHdfecx7rktuktvR3bdE7JybVJi1cG5X54+JSTLoA74ekKvaw9HaFq3Z2+/Ed2L7WeUmvq51Lhr7CyjLBk64HtNijYS6dWRc6IsOdpPwk7E9+u6jlH9nPIk2kFIzs6xpG4Zls8kNVv6ogCesqi+d4e2yqLdSXtJyjjZDzvy97RJdU3dn5v7anmeETL29hsBefltPWkrTKJuUdkNaX14K65Nm3u6+xUZdilQtrJGO2enU58lXjmzTNLaz/0Jx34UCRvzwHXw6cCVWeJ6jn6S/VjBPl+MP9cS+tefdb13fM+Dtp+7iqT+cupA0GJLbh+ehisvq0+ROvA+r9065LPZkO5COnfL2drfpJChn1RZ6nNWnH5Vlc26J/crE81YHrJ8I7Tj6ursjiUzD4HnbkgHtp3462WI9eM7j7GPMa1yTuvXbTt37cC1E4FVh1Qd6E8t9UjIRt+TbJvMRl7TGcfnwvMcUaSPfdzy5+6nnHvF5/nl7OpNYeQZ0o9bTqfNBcZFPqTN+tpxwNZbZGL3NyF5dcibb77pz3hZXaxTY3haToNw509JoVvZMEviAT9tpggM1WhEOOH13RLVpsQDY3mLDofKdEYcYoGzgx6dJwQ8lzXnr9Gkw/JpeW2+r0pl4yyQPXp8jxXMjVJdj7M7ds7ORemu/rQs0TiFUKPpO5zGx0KPBFulGjcWfaw6oeqmrsepb2xM+tyo4YqyTCSzGDIfsgK/LFfphtzn3C+n8ktjC3oaywKNPFyJDD9TB0Ln3OHL47ru9MJl8VnJkTsAdW6yMcX3E5uxhejhYM6piwH5QiIdsTo1Stu6LPXdKk1yWW7fkH9P29eKYN3xQCS+Jk3pqU3u/dj25DkZiMYpO0dzzbtE01aqckk8hEjXOyojoxtnPA0s1rlfzsUymJgNqQdzL5bljKq3YPZishy2nYSO+dqI2s/1VZ2fOtfYeigNVHe6VvphHGk2Nq02tnUlS73ftEPzHVNO/bYkLd022BcJqmPGHnJmfnXQ3zCp9ixlEj7Pi+hPa6Z+Vl+kHihWVpiw9cqUSvUP91MBAnJmvO1Av9lomR6nryf384NLlsPqF33nMaYsequLwWyerD1/n29sVl9vl2VjZNL9PiXcfgRCr5O0El2TdFsO27N6LrG8qlNsT6zjCp0O2VGWDgQl0UaUbSbbSKHntUBdT5RN1HFal7d0SowAQs+DoJwD+ilKoO+WDNfkwJb3J2w99KyQbTI5Bkg6EQK7ntYAXulTnRPdLyQvgd/WGWEr7ITxeZZ9qWeIOsf3LPdhbFpu3N/kGheFKY1NR3Je2iSqXYxlGXomp7afHLYeIlUHgmLP3Q76/BC+54G8X7vPXYGwscmy9cy1bSGgA+k8GfsSW2ofnkZGv57+vFbOtHn2KFvLR0h3TPrzuoP+JvC8TpUlT1mw/CPla43T6XLGGFHIcU34WCPntR7FORNnS9RYzxEUCD13Bb4xk6+/yepTQv2Ur08JExp/2rbO9xROuGkHvbDnXpDnOZJC4X7K67f65Wz01rZ/UKRf14dC+PruomPMkM/UDQJrvBgD5geGcqrVA191ClsvxgXZuL8TBVdE06M1rbjDzTvWw1d1DLaDzlEvOSALEXVM4r77Qo3nhBounKbKQZMeXZigkaES1ea1w7/MUbYSlRPhzpxE5WdEYzWCZkcsccwHz9dTZWlnAamwLIsTNwalP9OhZ+pAOL53TCNno7UGhyHi+4nNnFMtU2l3zRrUrdK2aKiVZ2P52DbCjdk0etOwebC/wGU1jfPSqBhS6qCM3DjKqZyP8fMjzv3yMXtOGIwOMsqNI6Ta+ZaIQZzp+B7taydCoO4XH4sJyJltV3+rbbhDNmW06s1wuapTYr/diWlCx7qObJNW+0nAg0NT/pztP0h2+zncNEFHNZ/Wtr1UOuxvUu25o34qvS8af7aSuBfdW6edg4J9X1487aA38GDbyEu9XcnUXU54kDX6wHYwut+nZBM/J9UAgActWfZsHetimdLbSMHnNROVLVmX0PMgKOeAfori77s1HlsPPSv4WCzLFPg86dC1Bjrs81YfNNT9cjw//QjZr+rnsJyP3pm8GG43Ub35bWAXxim2nKWtW7IMPpNT208WyT7FfamTqgOmyHM3q89PXLOdMaNnbFr0uSufdzUxxmpdn8evgzac/BbC/XpqX8Tt3x6XtkNAd0zq87qj/iZdP35ZPqLmgbr2GdFK905NiH3mRY+6jI/VF4Vjepa/L2D9U0EZOaQ/D3pDT/oUzewiZynH/UJn9qyDCTn9oU7IfI74KOQfFPFbi9Obfj3Qdwfx90W99ply/KqRNrhEdL0oYjBgRdbklvqgsOGOSfwnOpYy3aFtGqVZHpA0H6sGYL8h15t3MBWhBjBSsFL5HPHLp+AQJliwQnPquv1wdDPZoPWHtpNURAdHh4ri1qkxPBkPDMRgLVH+nG/sQsSRer113MF65CwHwUUcZNFJiE4qLmcymhxFux+MKtuzBpWhY/1ELsQlBgcD8VbBSy/6G0HR855QZhfFwMFq5/xmpSuIwQm/cWmRfQ/6lOPPAD0rBkg/hZ8Vog5uRt6x4cJVmhuj2B6Wc2aTdkD3n8nJzI981yv+3A32+fpNrNnyZuUUIfzcNTJZEVUV5Rd1sDOSu62DnvXrqYR1F6QH/U26LFVwg8s6emqb7uyXaeKSftEjzwrAL1t0RgoHkunheofto8/0sE/hgM7kfmvwovt9yqBQvJ/qt986KDoI9UW99plyBF4U/IZVoSNkJiVUwGk5pd3tjMCFPm+23QrweRUavVim5v0NerQv/j4nhoS8oI+O1udJf04QSq/MhB2zsOMslcadSCKSl0ZRWbaDiuaqBZCK6oDhc9uMfnPE3w6YsNyHD2lH6LEt7CwRec3pxODAsPHKHtGwcJTlJ9ERcQRd/q0x+pAdfnxERTfbT12Xb+js+kWE5LxKd8TAp+37SRnE6afjVyYp1QTlgE50umlvDkLHuoXMvLBS/Sx4IS4yAQxR+xlLBxL7DV4uetF++Jpd7m+KnheAbb1kp2FemqHaUIO2o4BCdj/VL2S7zOwLbTjzQ8uckf2G+rMzRJ/A8+Td4EEnfUpX6YU9K9rXQagPK0jgeRCUc0A/RfH33WFCzwr5pi0jNZrHBpzSvOAd3HLqtxhAPxAaD8irM1i3bT7LOfhM8Vt4aZfqT03n/Q1f0ziPRZ/JTPu27mLpoOhzt6M+37ypFuWYzdnfdPLclagXrByUSb71TdOBsp8qZ4MyHMxOvaZLwX5djgtGaMLI5Hl+m5+DvLpz6UF/E7LnR/vCXC+OEgl723iFaOScEFKkrxBCZ+sNoYfrQqd7cabAkdCLPqUgPL4/tdYSzOzMnnXWWB+C5nmeIy10wT/I77cWp5N+PdJB8Fdzrb47SM6+qIjPpDOPQhlEnsV1uYKcGqk/Mhy9jyJTznFzTBTeLARGi3rBVbngmdqXXHRHwdGvrDe/ct77cEMtmCPvoeZfyfP057iZ6O+l1UFg7qeuqXdK+O3eZbpJcR2k6qw6RapkwXKKlMTcTwwWZXqXQV8vM6DjkaX+yA/KdhcNdOvG04DiTiigA66XvYCXS0LWcf34flLXaR1/QlZJffvOk/MtEx2fI0vnmrbM7Lo3NnmRMKM7Wz9CZzy30FpE1SczWRaek6i/5352yxLLOmzrLXXkyKu4ZmvdBfpYooy7W7RVHhG9NMsldK/2jjHZOnJtnbF15BxP9A+W/WzuUe1UciHbZB1VvVv0zUQ6d+rg2IJd9vS6tKLK0G5/k3H9wHle5Dn+vihpKyn9TUJuOe4XkDMF2kHIZhVJHSXalu88p+xbmxUaoRVxHgVsNmTPaccsmbl1T+1T+PtrVJ7ndQEyZKlJtQlXrwl89hw/B9bPG9lTG8+GdB245Ut+bpWZ3TekEdtFXLa4vK5ek9cLytmrn6y+KIBzzbx9flxORdzn6+9aNm3ql7yGkatqkzxW8l3PL680ezbHY1uJ+2PHThL9UR55ufbDCzKXk+0gUdbs/saVVbLPCMg52H6YdFsPEdJp4lju564gIWMmRx8ssO+nFtHW7cCtd4scCjx3ve1K4ZeLdS8+Z71MCy2L0qfg2Ejcr4f7IttWGneXqDmR/MEIH37dJa/fQoZcUsnQj0+Wqm6c+cHlUnKtGDm75WASZdF6cNpOiJZ2x+jz/ToIPXf1B9fOZH1C/VSoT3FsWWKu2e6xuN35dBDJkXem2rMuK2eOZdmBRbLfz4+rozR5GYwOEnXL3U+58rKfBSE5q0+uvSjC53l10NKfuZh6JPtRv07Dtu7vi1ptPWHnWZh24GmTvLiu91eNTjQpCpbK40Wx2mwgYIDJbMgAAADA0ZE+eAUAgCyUk8sLD+d2DEHfKBp4AccZFSAaeZj+TA/+qtGJRqa42ThpRwAAAAAAAAAwgMgpJQfdWVQXANAZHGhTvyQcfpHyZAZebls/Vyy3BfkzfHjjBAAAAAAAABhIeJqE8F0Wxvbin0sGg4n5FZ+B+LEV0EvMorxZsYQnc6oRAAAAAAAAAAAAQI95cqcaAQAAAAAAAAAAAPQBBF4AAAAAAAAAAAAAegQCLwAAAAAAAAAAAAA94lgEXvjnFm9dGdefugNfUy2su0zXL+mdafBPEi9fp6NYFkmukFxgQaagvPSiXFjsKSaPnJW9HI0dpMM/I3iLrl7QHwPktvVjQtF2AXrD4Ogjf5voCsFnA/+koGl3fSzTcUDKrdvPdFve3R8v9JOW53cv5NUTHRwN7fU/2k6evyr+ag/7OYrnDwAAgCKkB16kc+4OKHlQezIe1Mzq4jzNzy/R1oHe8aRw+4ZcdXlp81Dv6Aw56DGDEWtTdqJsxt7f4vjrQFDaQNM+zwyUzP3i66iBVK6AAt+rwIDruPPE2nrfacMWj5IBagcnN4i2QTevcburU0Pv6Qonug8rHjgbvzInf5mQn215flXg5HNM+qLjgmh30+UtWtL2Nb+4qg8AAAAA+UkPvJifW7YGxPL34nfxk8sgifn5LOVgHNLWsjvwjffN321QdSoZ0Js9V6Gtu1tEZydiZ+LeTbrM31/eEmc3qM5/2z+Zd3BIlYn+Oh8qeHGDMNwCAIAO0P17N8cSZ06V6HD/kf50wuiBvHpyzWOBDoi2+RO8489WiJqP8bO9AAAAOiLwc9L89mma6O483bjNf09Sc/ky3bynjy4u0/Sw+pukc6ycUt4/ub8UPdDdz374Dc0C1Yb0x5ZrbtHeWI2qfOhgi5bMg5OzI+ZrVOK/BYeb5l5umVvrYO5ZXuc66l2Mc027LF74nFmitYcjND2mzozLwveZI1rfoZEpfV2rDj5Z8tvgOVqjnbPTWi4cxLDrM63kIUnKa/RBnWjKHG8tP1974dRa/OZG1nmEdiz5yO+c3YllHSRNvs6+lnuI48+fpjvX1mmC5bNqnyuQ3y/TmlV2U+46TdLpF/n7Hh0mcGWl2a3L+qtr7tBWuablbMnLtgXb7jRJ3dn68aDtZKcp7jUsvn9X20R0bacdJO7p1sNvD7HtGfLIyYHfrk9ZFib7AvFHog7OsSBu+XO0K43UkW5XEq07JrX9cNnPbTtvJnU7FHb2+KJoI6JPqYg+xafbVGx7YGwbsssnifUTbpN+3SXrFstZXs+UX5ShTtPye2E9hNtB6/Gkfny2btqkvIaRT5Y8XTlqkn2mrx344PKP0vZdomljt5aduPVrbSPp+HRg2kF6n2/ge7r9omvPedpBlu6KyEvVzf+8dq6Z02ZD2LK0bdWVsSJbLpnnZfRhYd21wnrzPpN1n2PaIuOto6Mftx6mLD55GZLnqXo/ytEXea9ZtM93zstnD65Nx3pTct6Jx3yOLbT0t4l27sEuo/N9lkna84AyZOnWwa63vGa7fX6WnEPt3OlT0+wFAADA0ZHxc9KrdIMzFCau0tXFaapsrkQDR/ngFsMLlenA01YqNN1p+vOlmUSqsJtdUBobEYNX3r9EW1SjGU6hlQ8aduTNOXXxoF7oLL3WvabMusjJUI2m2QHR59HYjHi8GkpUmyBakeWM65Aly9LYtHSW1TGi2kVzRaEffY45b9KarlOd4sG+OsbZS/axVO7dpLXdEo2cN98bp4mzJWqsZw/e8zJ+fkQ4ZDu0bhyQS6NUebgurr9B6w/Junc2qw/2LFlkoWUl7FkOVIzc7IHacC2Sc0JeJvuGz3URtjJppx/PJ50rL8JORoRzUxfyrk2VaY1tbKhMZ/SgauThkr6eKIsYgC3IzDM1UONAqDpmT2Hg82J9s33tnJ3rbF0JOUglMVDU1xRlrExZ0wBEHWrGbnU/ka29sM36kINsDgBG58Ut0tt+Gk06LJ+WZeLvqD7hDJWH9uix1lFV9CmqnVt9SgazF2u0F+lAbNqGVOaXms7FA151PGkP1alR2tbnxTYW1p3KtNIb68CSc3VM287wtHSW67tElWdD8sxqBwH95LF1u+/Mcvp1u5K6ZCdIX1c5LaF2kEWVpieaupyijQxPalkWbyMhHYT7fA+ibclAlbkmB4oy6xbSXSfyCuB9Jncqy9Zpj2p/MmsyT4ah0Q3bPjuvifNy9GGTtBIdy6U7gf+ZLBBtcfSBvp/VL3Ifxm1UlU+c93CE5nTbcvswrovBJy9Gnpdok6reWX2R95qF+3xhDxMVS295M2nCz4PSWC163tnP5NDzIEjGNOu054HJ6E32U0aW2e2gSJ8flDMHXew2GfWzYnwgX1KZa3LAZ5DWpAMAAMCEF9e9fUc+gGrDDVqLHqTjdLosBkcvxkOijfs72nHsAHaUxKDFt4DpYRT42aDHTe1gVMtU2l2zHIBV2s50PsLI4EDimu3QoLpxYu6t085BhU5bD+E4iKHSXW/cziFL8bA3by3kMe1MqodwvAYKv5UpnYo1EMtLSOVBI3HMx+qL1pSfCxM0IrR/p+M3JiWqzesyJrJneLBWpb1XtERE3RLTjbJg2ywbp6oLWHJ+tH+YS1507zHtiUHSQtvrEsTt6XDzjuVccGDAbmtKd8Q6vzRKVeFwpeqDdTUUy3l5md+IlahsXqcVgFOrE2WT9mxf07J1bru52n/YZtMJBQAD7UfqRgWzTu8LGZ4TvcqF01Q5aJKZkJDap0g4yBWX015Tg22jOiX2FXBqbXmy86PecIZ1x05GVA5+m2nJOb5e0maKE9BPlq1z3y0H/jmDj0EC7UB/9iPsYdXYCj8PtCw7aCMhHSTaQUqfn8bsOXFT+azT1+S38Lnq5qMTeQXwPZN70N/0gjx9WCQzGQjMDvRIvM9kgd1Hs6Mvn3eqDyuNLUQ6j9vWLI1y5qPVh+VDnxfZeucU7/O5/1T20N4agBnPg9RncvdfCBn8zwMPOdpBkT7fK2d5nnXMhscHHHTWslyW2TTZfREAAID+kvGrRpyJwJH+7XwDkk4wmQXz2zQqHxztOrNPFnIxQYrfduV+6xOCB1r6TQ8HoEhmo3SKGBzKNzt1arDjZhxWOYjgN0J6oCAdmhGayK3zDbq5vkcj562BWt8xb+xWxDhY1ePIFjO034LrbdDSjHtis14eUZPf6Ao7K9MdEr0KzXKgNtc8/eSbWDt7I1rT6MGosttuLHTq092FqzQ3RvGb5OU2su8KENZPhq0LJynKNtK7Bo4ibaRHOogzEfSWlSF0FISeycegvxkszHPQ2tIc6GOKyTxaoTnVL+YITPf3edAjiraDXrQf0Qfb18udgQsAAKBvZARe0tBvN6z0Wk6/L1nBmeitxaXriXnL+VADfJ6GkfkGTb6Rs7IeOB1++JB27pshbHyN2UV7LrGfjVf2iIaFkyY/cfqmqJv8u004TZusaTWpZMvSho+ZYAgvJhgv9jZLM2O+UqrMksaDPIM8DmY0qHruurjeXpfeohtW6Q4PrLRsVWZRcqDAadvtTDei29u0NzZJI/pjJrkzM9pFZTDxwLGTbCsVLLCnhSndHbLOZdlNYIrfFFr2rLMRTOp6N+B2ULJT79mehxq03cHgML/N2qi3j1XOWGF4mkZ0Xqj98LEKjV4sU1P0B4/2xd/nhPvTrQU4Zdo6BxNte1JlbcsGQrrjQBHFU6Nk3dSfneFpB/n047d1Dkq1O8VF9rctmRmBdqD35EI+D7TNFm0j7eggV59vsqYKTgNI1V1n8sp+XjvP5B70NwquR47nfk560Ye52M9kP7qfmk0LSqo6m+ceZ1flGzOpbC7/dNv2+6JuyEsGpjk4mSPbqvvPgz5TtB0UPo8zkOx2biHHwtOBFz88ZuDgKaYfAQDAUVIg8MJvN5ZoqxynSst5xvrtDU9XUenJ4thEk+o532Ik0rn5mhSnmXrhN3J39+KUzXlef8FE+ZWjbzIqJvfr1pxm8xDiFM8460I+tMwvOsly8Dxcey2NLKxUT54rneMtZkiWEislnWVi5k4n5Mzl3EyWMk5rVnP/jSyNnOVgxZxvO0q3t6kxXKVqD7KcNl5YETrggcP3qnRhJxgUDfx4rQgulwx6aZmmvklnHYu6Ros/ZiDsZS3SrVNvHzzvnb/L0wHEYGnBLos5pjeeSrXSUbCKnVq1TpG6prDPpta5KPuKqKuydV4k156jLxwjuUZBnMoeD7ACth5CtAOZwWCuN8Vz+HOm4nvIslkfq4u8Voc+j9fv4HUuNOH2I6xHODHsNPOUgIqwazO1rRhGlmbjNXeSMpHT9SI95MnaC+iOp9OJ9mJ0wAuM5++LAnjaQVA/OW091kfOAb6ezirbldjUVIVAO8hEOKPR84DXbDD6CbWRAJk6sOSY6PPNdDUOkJoyKXuQASpb/mLLPUUjVXfF5RV6XvufyQVlmdkXiXpw4N9kQea1IR896MMkURtJPpNDyHZh2Tlvqt6izquxLHntnzjzIywvt+9z5ZXeF4XHPsXk5UzN5HaXYwpUL54HITLHPm1TtB0UPc9t52IzYxHRL1zm9WCitmMdAwAAMDAEftUItAUHC5xf4Dme8CDK/JqV3gUAAAA84bDznvg1QAAAAACAHGT8qhF4Ehm/MulfxBUAAAAAAAAAAABtgcALUOipBAtje7mmSAEAAAAAAAAAACAbTDUCAAAAAAAAAAAA6AGYagQAAAAAAAAAAADQQxB4AQAAAAAAAAAAAOgRCLwAAAAAAAAAAAAA9Ais8QIA6A3yJ9ZrVBJ/Nu4uUXNigWpD6lDMIW0tX6ab9/RHweziMk3uL9HlF3iJ53G6+nzGebww9FRV7aYG1RM/6c4/jz5K27zPKk/LfXtxLIFTj9164Cdp1U+6qxo59UnUlQndUyPLOEI7Kd9LyrpLyPvl+2n91vt3SU4WfI9pCl3HJt81JUG70wRkHzzG8PFZopWCi53Leg/rDwly2EwRpDwoLDODrLtpN4KgnjV8/YkmLVnykD/vPBZdRZDUAx+foxVhX5RuV1Y5Gnfn6QZ+zQ8AAAAAPQBrvAAAegw7QuzQbNDNa/M0L/42W31XHN5dSziArc5ixnnsOAnnl50mPra0WaHp568K911z4TRVDpr0iB1q4WDR5pK6zvIOjcxfF3uZXhxLMrsonL6mcPb4e/N1agxP060rUSkTzC4Kx58dQ/Hd+m6VphfjK44/W1FOo7wOb1kO9DhdnbUcXAu/Y94BrkMdIO3+3ZJThHDW26ljrmsyWXYn8cu+Bb7e8i26ekF/ZqplKjUfd/YLcwlbMVsPgi5todrNnpZdlp4lLQFHxZlTJTo07U9uyaAPH997ZcNvV/du0uX5Jdo60CcAAAAAAPSIzIyXoWfeTR/8gzNUets79R4Angze87Y9/Rfw8eqrr9Iv/MIv0Fe+8hW9x0I64Z7Mh5a348IZ40yDgwY1qEqVh54sDOc8+cb71Jr3bXn0xvuVmZa38ez4jz6YpxvU+qa+42MZb85l0CE1C0PJgczbd0eGfF5bGSoyS6BCh0NkZVbklHUaXJ7Z9CwMk33Q2BVXHU7KJUn++xeVk4KzZ+ZohEpUYqc7K6Mi1zUVWXYnSZW9B3mvZPZLXlvy4Zddj2hp0/kJlVUeGz4UdsWxqB0r40VlR5XXfTJifepsN73HkLxf1nUAAAAAADqDM16CgZcPfOSv0GtvPENf+a130xu/k+u9HQAnhpt/4XX9F/Dx9a9/nfb29uj+/ftUr9f1Xo3XcVWOzkjC4Z6l2UurtHo77ZjBPRb6LsPH54hWhTNbTQ+SyCCGJyjT0TFPIEHhOPjSQddTKFwHPPFZ1TfdQUw7ph3P5SZNJpz6PLJ2kOWoUelgKzHVw2b80izR7VXaaHHA3bLlvX9ROcmTo6Db2qmFfAGIHNdU5JGbT/YW0fXXqDw/rac3mWlAdtBA3S/f9KuYZHChFXV8i7bKNX3t1mk60TQeR++px7TetzYrVNPHOBsl07YEobLOCrtaFXYl73nWDrywjCapmSZbhstzbjvlmo5dpbYdAAAAAIDuEQy8/N7z30tfoVF6/OYYvf47ZsQHwJPD//jHh/ovEOKrX/0qvfTSS/Rf/st/oV/8xV/UewXSsUwJvLQ45jYBp9br0NeJpozjajuPlvMqy6KmBcnr6s8ldmJfPN39YyFnl6e++AIY8hq2zGznUjmM9oSLkGNrAg+X70+IaxYMIJg6BQIuLQT1a+O/f2dyMp+V7ikjABGReU1Dlt3lkb1A3k8fI+tv/h4f05lFxAGHKLvG3Ds7SBDJ0EXbpzlu1jaRn8vJIIqqk7qnnKrDZXD0K89j+T4YFfursU3K71VyrkGkph6F6tQSeNHn2a+E7HVaIh1YtpVuV/llCgAAAABQhOAaL2955g/Tl39rBEEXAECQt7/97fRt3/Zt9JGPfETvCTN7Triqu9uRk5oX33nVKXaw1RoPcl0Os9bGpVGqmu/zWg53G1QaW6Dl5WVaFk7tDq8V06tjHlYXdTmbNVpoWRMkA16vRvxn1hWZX94iEve+fkkdTiCc0jnhpK74Aip5YMdZBiLEvdKCHz2kIzkJeK0WuhsHQnqB1+66IPvx8yNED9djmQ9P6vVf1JpHuQMEHGTRZYw2OwB1sEV39LVWX9yiw6ERmhD3SbY1cc/1hijDKAkTb2mHUlfRNRu0ZurdaFJ26HpWrvfCwcq2gx68Bo7MENL1Em2xOmXWyRmnibOiPd5P6qBTuwIAAAAAKIo38PL/vvoaffW3360/AQCAn1OnTlGplGc64jidLguf7EG7LrH/vMPNO7ETaDmPvBDt4f4jfURw+0bsfF5bJxLXi4734lgAu5ytVOi02a+DLRK5EKjldIvPa7zuxTl2h5PMXqzR3nqHwRKuG0+V4aDSETmpheR04SpNluOAQnt4rpmCz+66IXuzKCyz8cJlWtokqs0LPbAu3EV4O8FevPfeY1KrWqm2lm7HoWPtojO4AhliQWTbs7Jpbt+hrYMSjZxnSz1D5aE9euzJtAnbFQAAAABA98GvGgEA+seFCRoZOqRmQ3/OS+p5G/S4qf9MwA5X+hvvGHbMxDe1c5ukF8cc5Nv6FMcwcn5t/A4k0+oEz9LoMGdkaEddTscoScc9NTsmhA72zAu/eO4oAjAF5MTZIqWhGi3IIIWeWjI8nV323LIP2V03ZM/XaNC2FTji4IsJ8NV3xfVmu6SH8un4OlGgSdWvdOqM/JQkdKwdVNClsrlULOgSQLY/O9stDZ9dAQAAAAD0CG/g5Vve/gy9/Xd9SX8CAAA/+/v7dHiYY00cdngOdmi9XYfHc97qA57qMyPcOAVnG5TY4eJADdnfZ0cvzhSQPxscTbPoxbEkvLbEcvTTxON0dcI33WqVttmxvqi+G9WHP/DUn2Xr56rFZ/61l9bg0ird0E663Ja36FBPySi8hoUdgOlh8KUbcrKDFCpQIXZyVkXmdKmA7B28dif+dSx7J2iQlAnRo33Rzjr9mWmDlfUh66DbGNfPTC1y9ZA8Jo5eudVmQI7XVFGZLt61hXLg3nf8yhzVhlTAiqdD2dlx+e0KAAAAAKA3eAMv33jtf9G7vnmHnv6mA70HAABa4cV1f/VXf5U+97nP6T1+ePpPEbzn8XSDu0TTJruBFwflN+gcqEk4p8IhvrsXTdeYHm5QPXLEe3EsyeriEm2Vp+X3lpcXqEa6nAwHVCwHcnWxTg3O0DDXNN9z6soLmTbumqkW7MwWyGhpFw7AZAYwXPKXrStyChIui/+aznk+uyvKvXXaOVCZMT/44eQUuaRMlmlhbC8qlww+WEGZFnRd3C2qx+4eldPsV9RvabOi6+foIXFMl6cdm5DZa+J/t2xat5l10sgpWA9HosymhTGirWW1GPDpcjI7LmhXAAAAAAB9AD8nDYAH/Jx0NsV+ThqAI+TSdbpON4pn/wwUs3R9kehGgSCC/IWfPL/2dOLhoBp+1QgAAAAAvSP4c9KGoWfeTR/8gzNUets79R4Angze87bWFR9AkldffZV+4Rd+gb7yla/oPRYIvIABZHbxOtHiCbHJDoJICLwYEHgBAAAAQG/JFXgBAIBCyMBLjThXjn8CGU4NAIMDAi8C9FEAAAAA6AMIvAAAAAAAAAAAAAD0CA684OekAQAAAAAAAAAAAHoEAi8AAAAAAAAAAAAAPQKBFwAAAAAAAAAAAIAegcALAAAAAAAAAAAAQI9A4AUAAAAAAAAAAACgRyDwAgAAAAAAAAAAANAjEHgBAAAAAAAAAAAA6BEIvAAAAAAAAAAAAAD0CAReAAAAAAAAAAAAAHoEAi8AAAAAAAAAAAAAPQKBFwAAAAAAAAAAAIAegcBLW4zT1eeXafn5q+KvNrhwlW4tL9OtK22dBQAAAAAAAAAAgGNOocDL+JVbtLy8HG+Ls/oIM0vXW/b1E33/lu0WXb2gv3JiOWrZAwAAAAAAAAAAwOYtExMT39B/5+PSdVqeqlLj7jzduK33JWDnf5qqu3WaX1zV+44Czk5ZoBpt0dK1m7Sh955sBkX2AAAAAAAAAAAAePPNN9sPvHC2y8JYKSXwogMdQ/pjxCFtLV+mm/fEnzpoYzjcXKLLL2zQ7OIyTZcb1KAqVfX5/sBOXtIDL7L8Z3doaZVobr5GJbHPlMPULaZB9fkbxCGMxLED+5r6Ps0t2irXdP1NnZMyMfeR8PQjcf+9zS2qjKlyJK7ryEqSuG8a4cCLW79Yxq26y3cMAAAAAAAAAAAAPjjw0vZUo40X1qgh/q9O6Sk80bSWDbp5bZ7m5+vyOLHzP8+fddCFAw06U0buv9ug0tgCXb/EXxYMVanycEkeq+/y9a9TzybMDI3Q3EWiFX2v0tiMvNfGC5d1mU09qjSt62eO8fdTGa5Red2cV6LaRXnFpExSqI6VaY3vJ+RBQzWakfKYpetCVhyo4XsubR6KfQ2qd5K5c+l6FDAz16xOqelX41fmqDbEwSJ1jDcTWAkdAwAAAAAAAAAAQJgCa7ys0g12wJe3iMMBNDxNy8vZQZLx8yMyqyMK2LjZHNSgNZ0N8mifr1yh0z1bk6VEew9UEGN1kYMJKqslWiNFbtPkljDIwRbdKRCQONy8o+/dW2bPcW0atK3LuHF/R+ivRCPnx2njlT2xp0S1eVFvZ+Hg0DEAAAAAAAAAAACEKf6rRvdu0uV5k41RpVGTuRIkmTlxdNkTh9RsSUHhKTXTVOXpPLJs/iyV3rNK2zITZ0EGgVSmigkO9YDbN5Q+dNbNgp3JFDoGAAAAAAAAAACAIB3/nPSZU5zHkhbISBJlTsgpOCFmaYbXITnYoXWeotQ3zlCZ1zFpPpaZMONXJtvLeOkmF67S5HB3p/eoLKI4QKYykA5p5741eUkGWTwBp9AxAAAAAAAAAAAApFJ4cd0Ys5Cs/ihIfsc63rJgrFq8lnhx3WG9i8lcRDYPelHYtMV1x6ilzEyi3Lt6sdymWqhWLgBsl5GRi9g+cu5jL3BL6m/9dYNcnLahFtcls+Cu82tRrfdrlXMr+t76kyI+L3nNeH+rTj2LCkviYwAAAAAAAAAAAPBT6FeNeoEKCMChj5BBmIoVaAn/WhEAAAAAAAAAAAAGj0K/agR6z/izFf2X5sJpcvYAAAAAAAAAAADgGIDAywCy8cIKbR3oXxLixWzna1RCtgsAAAAAAAAAAHDsGIipRgAAAAAAAAAAAAAnDUw1AgAAAAAAAAAAAOghCLwAAAAAAAAAAAAA9AgEXgAAAAAAAAAAAAB6BAIvAAAAAAAAAAAAAD0CgRcAAAAAAAAAAACAHoHACwAAAAAAAAAAAECP8P6c9OjoqP4LgPbY3t7WfwEAAAAAAAAAAE8u/HPS3sDL0NCQ/guA9jg4ONB/AQAAAAAAAAAATy4ceMFUIwAAAAAAAAAAAIAegcALAAAAAAAAAAAAQI9A4AUAAAAAAAAAAACgRyDwAgAAAAAAAAAAANAjEHgBAAAAAAAAAAAA6BEIvAAAAAAAAAAAAAD0CAReAAAAAAAAAAAAAHrEWyYmJr6h/04wNDSk/2qPP/jJf0RzHyzpT8yv089e+yf0H/nPP7RA/+h7P0Dy6Fe/QCt/Z4n+N//NhI6dGP4U/dXnv4PeK/+25NKC/T2BK4/v+qv0/B8xR+3r/EFa+Adz9IG3yw9EL/8sXfuh1jv8qb/2PE00V+hvfiaWsK23w1/OfyyNg4MD/RcAAAAAAAAAAPDk8uabb3Y/4+W95ZJ0zq9du6Y3Kyjwpz5AJI+t0BfoA/Tdn/yD8kj42MnhT/2176D3cjBEyOVnX34vfcdf+1P6iA0HT76D3hXJUMljznyXA1R/5L306/9DyXfll99F3/EPFsRZfP05+sBr6vrXrv0s/fpz30H/yJEjB12+4/9v735C46z3/YF/uhxoNOj1ijRNqdzCMYX0QCwZuqhmoXFXChIK0lUwq2KzqAtBaAWhC7tIpascsiqCFEG6s8dFji5KSg3YgKmQg6Vping8Sk5TmEUW/c3zZ5In6cxjO+1c7m98vQ6DzzOfTube76yeN9/P57srv2mo/82390csflb/3GeLEfvfjomDj1ADAAAASj3l4GUoXnw24rd/N9kRcXAo9u6sxa3vk9p8TM+vRGXPUBoYlNa6xpHYtyti5Z9ZDHX5H4tR27Wv/u529f//P5ws7CqZj/nbtYhnX0zXY+ive6NydzbOfZlX//ZBTOa7YS5/MlnY4XI5lu5GVHobO2OSXTRTMfLsSqzcz9/KpX/z/q2Yv16/uT4dc3crsfev2eqX1QAAAIByTzl46Ytndtbi3kp+W9T3TFTit/gleYBv2PlM1k5TVusWB1+M52P72jwfLz7W7pGhGNpTidpqswXebmvQk1hKdsl8OBv38vuGZJdS/OeXNLxpaAQ2ZTUAAACg3NMNXtJwoRID70zF1FT2OnU0ryXu34uNyGDlXtTyy1RZrWsUwqXrv9TvHsWRGNlfidrt+Y3w47d/96W7V7I1PvXQrpmknWgqmRFzfzFm850xyQ6YyxvXDyuGOSurW1e/rAYAAAC09nSDl3TnSi2bB5LMGflmJfpeO2smSNuyeS9JgPJFYaBt32v7Yimd45LPislnvDSkLUdJ7T8DcXxbDQAAAPjf83SDly/P1R/4P4jpxq6OL2dj8X5hJkixfSgNaQrKal2j0FqU7g4qk59QFA+f8FT7YXbjNKR0VszOvTHUJNwqq21XbB9K24sKymoAAABAa095xktz6bDdZu1Djfaislq3aNpatG2uzYY8dElOKNoSuszHL//JL7do8Xeazc5poln7UKO9qKwGAAAAlHuqwcvQu2djqtDaMvTu2zGwcyWWktki1+fj1v2+qKbHGw/FxFDf5tySslrXSE4ZqsTA69lEliOvD0Tl7tLGzpWi9FjoZKfLxglFmy7/cyUq+0c25roU/04622XjiOpsHaPFdxTNf38raruqWUvYwYmo7mqcMFVeAwAAAMrtqFarD/LrLXp6evKrx5OEL8f3N9pRknkvhdaj+oP72XcGsjai+9taaMpqXSM50nkkb6laidnJc3koku1weWZ+Ms59Wfw3RYV/f/RUTL2W/4sta5XvlNmZ3rRYx+zf7L19sXBk9dbfrfbDo9eaWVtby68AAADgz2t9ff3pBy8geAEAAIAsePlfmfECAAAA8GckeAEAAADoEMELAAAAQIcIXgAAAAA6RPACAAAA0CGCFwAAAIAOEbwAAAAAdIjgBQAAAKBDBC8AAAAAHbKjWq0+yK8BAAAAeErW19fteAEAAADoFMELAAAAQIcIXgAAAAA6RPACAAAA0CGCFwAAAIAOEbwAAAAAdIjgBQAAAKBDdlSr1Qf59eM7djpmqqsxPXk+ruVvxaGTcWF8MCrJ9drC06l1jbE4PTMa/en1clwZ/ygupdetjZ2ZicO/T8eJT5PVGI6TUxMx2JPVNtViYeZEnL9av0x+kzeyb9j+HcnfGt2d39y5EuNnNr99+L0LMXEgXf2o3Wh8X6asBgAAADS3vr7+BDtetjzgNwzHybHBiPrD+fj4dCzEYBx/b/gJa91j7Mxo9CeBx/h4XLnTH6NnxvJKc1uCktS1OD85nn6+8bpyp/72nW+z0CUJr+q/yfLXWW36xgsxOnWyvrpZeDK6Owli8s/FaFxorHH9c8cPRCzM1GszCxEHjsfJQ1mptAYAAACUait4SQKBmTdeiOU7tfyd3KFq7OupxdJ3yY6Ia3F+bjkqL1fTB/+2a11jLF7ZHbH8Y7bL5NLfF6K2+5X6u80kO2NmYrR3OZbX8reaOXY6C1PynSvDr+6Lyp0r8dHn6W1c+/REjKc7h4aj+nIlaje+2tj9knx/5Gucfm5tKeaS8Obq+fj2TiX2vZqtflkNAAAAKNfejpcfk10bJ+Kr3/P7hv7eqMSv8XPykN7Q0xt7kv+2W+sWh16KF6IWq8v5feqFeKnF7pGbya6Vya9iNb9/2HCcrPYXwpQ8XPn9dnr3SPI13vNcJWL15yg2EFWey1a/rAYAAACUayt4ufT55myQh6ytxsaj//JqbNkT026taxTCpas/1+9auVRf4/yylWNvxWDPcny7bd7Kr//ak+6WmUlfp/MdNdfi59WIyoG3NnbYjL2ZzNPZDH6Kgc3t37euflkNAAAAaM2pRv+fGvtLf8Sdmw8N5+1/45W4uTH/pX9jxsulM9OxsFa/z0OZV35f6NJwCwAAAP7vePrBS7FFKG0hKmi31jUKrUVp61G7huOl3s15MUXb57jUevZFNf3OrYN5P/rX1vauYvtQ2l5UUFYDAAAAWnu6wUuzFqFGC1G7tW7RtLVo21ybR5UPI946LyZrJ3pY8+8Y/u8XNta4WftQo72orAYAAACUe7rBy9W5WFrrj8PpMcX58Nef5rLBrO3WusaluHmnEoNvZlNW0hkrTVqFHkmyI6hx0lDBpR+XH57jkn9Hcpz0TOP46vSI6EoszyUnHkVc+24parsPZ8dE12uHdzdOmCqvAQAAAOWecqvRtTh/aSHiwETMzEzEYCzExY3hr+3WuselM1diefdoOmOleAx0GjZNzcTpY/ntH0h3qzTz+Ucx/nVszHEZ7V2I6fw7rn16MRZ6s++eGR+MuDG9cex0ckz0xRsRg+ON2sU4vzEEuKQGAAAAlNpRrVYf5NcAAAAAPCXr6+tONQIAAADoFMELAAAAQIcIXgAAAAA6RPACAAAA0CGCFwAAAIAOEbwAAAAAdIjgBQAAAKBDBC8AAAAAHSJ4AQAAAOgQwQsAAABAh+yoVqsP8ustenp68it4PGtra/kVAAAA/Hmtr6/b8QIAAADQKYIXAAAAgA4RvAAAAAB0iOAFAAAAoEMELwAAAAAdIngBAAAA6JAnO0766KmYGroXFz+cjvn8raF3z8bx/ZX8LrESs5Pn4nJyeXAizr4zEGn1/uKWz5XWusaRODU1En3pdWFdShx5fyqqqxfjg78lqzEUEx8fj4GdWW1TLRY/+6L+j1vVPojp6/ltIl3rvXGr8H7xd6v90Pi+TFmtGcdJAwAAwJMeJ52ELq9lEUJRX28lfTifnJzMX41wYSgmjgxEpLWLsRgD8fa7Q2mlvNY9jrw/En13Z9N1mb3bFyPvH8krzSWhy8iu/CY1H9MfNtY1e83erb99dy6mr5fV0g/nsrUuRmNJEPP2/ojFz+qf+2wxYv/bMXHwEWoAAABAqbaClyQQmHrt+Vi5W8vfaRiKF5+N+O3fTXZEHByKvTtrcev7pDYf0/MrUdkzVP/EH9S6xpHYtyti5Z9ZDHX5H4tR27Wv/m4zyc6YqRh5diVW7udvNXP0VIzsWonZT5rsm2lVOzoSA1Gr/2/T0F/3RuX+rZhPAprr0zF3txJ7/5qtflkNAAAAKNfejpd/Jrs2PojZ1fx+Q188s7MW91by26K+Z6ISv8Uvxd0XO5/J2m7Kat3i4IvxfGxfm+fjxRa7R5a+mYzJD2fjXn7/sKGYGOqL2g+zTdqVWtWOxKnXImYv38rvM8kupfjPL1tauyq92eqX1QAAAIBybQUvl79sssMikYYLlRh4ZyqmprLXqaN5LXH/XmzkDiv3tuy6KK11jUK4dP2X+l0rl+trnF+2kuxc2bkSc83mrbSoDb1bjeebBjURtdXNRGhldevql9UAAACA1p7uqUbpzpVkmGs+Z+Sbleh77ayZIB1w5H/6Iu4uNQ1RmtaSWS17bsUXfzAYFwAAAHh6nm7w8uW5tAVpY5jrl7OxeL8wE6TYPpSGNAVlta5RaC1Kdwe1K5ul05gXs1Xz2pHXB+K3+dYnRRXbh9L2ooKyGgAAANDa0w1eWkiH7TZrH2q0F5XVukXT1qJtc20eVT6MuOksnaa1bLBv32t5C1h6bHfWEpa0gjVrH2q0F5XVAAAAgHJPNXgZevdsTH08sXEa0dC7b6ezRpaSeSXX5+PW/b6opsdE58Nfb89nOzDKal3jcizdrcTA69k5RskOlEqLVqE/lOwIapw0tF3T2uU4VzhmOjkWOjnXKGkJO1f/bea/vxW1XdWsJezgRFR3NU6YKq8BAAAA5Z5q8DL/tw/i4u29cTwfrHt8f9Qf7s/l4cJ8TF9ejNh/vF47HgOxWJg3UlbrHpc/mY2VXSPp2mw96nkoJj7eNoi4xNB/tW5SKqu1dH06vvghsqHI7wxE/PDFZrtYWQ0AAAAotaNarT7Ir7fo6enJr+DxrK2t5VcAAADw57W+vv6/M+MFAAAA4M9I8AIAAADQIYIXAAAAgA4RvAAAAAB0iOAFAAAAoEMELwAAAAAdIngBAAAA6BDBCwAAAECHCF4AAAAAOkTwAgAAANAhO6rV6oP8GgAAAICnZH193Y4XAAAAgE4RvAAAAAB0iOAFAAAAoEMELwAAAAAdIngBAAAA6BDBCwAAAECHtHWc9NiZmRjdnd9ELRZmTsT5q/ntoZNxYXwwKsn12kJMT56Pa2mhrt1a1xiL0zOj0Z9eL8eV8Y/iUnrdWrLWh3+fjhOfJqsxHCenJmKwJ6ttKvwGx07HzBvZN2z/juH3LsTEgXSFH1rjYq12o/F9mbIaAAAA0Fxbx0knD+GjvfWH9vHxGK+/pm9EDI6fjrGsGifHBiPqD+fj49OxEINx/L3htNJ+rXuMnRmN/jtX0nW7cqc/Rs9kq9bK1oArcS3OT2br3nhduVN/+863WeiShFdv9Mfy143f5oUYnTpZX926Y6dj4sCvcSX9XLbGE43vr3/u+IGIhZl6bWYh4sDxOHkoK5XWAAAAgFKPHbxc+/REjBd2Slz7bilq8UK8lDyMH6rGvp5aLH2XVK/F+bnlqLxczR782611jbF4ZXfE8o/Z/pNLf1+I2u5X8sBqu2RnzEyM9i7H8lr+VjPHTsfo7uW4cib7m8Ov7ovKnSvx0efp7Zbfavi/X4hYW43bWSXmfqpF9L6UrnH6ubWlmEvCm6vn49s7ldj3arb6ZTUAAACg3NOd8dLfG5X4NX5utB0lenpjT/Lfdmvd4tBL8ULUYnU5v0/lgVUTN5NdK5NfxWp+/7DhOFntj9qNr/JWouGovlyJ2u9ZtLLdtX/9WljT/N/+NJeGMnueq0Ss/pxeN1Sey/5lWQ0AAAAo98TBy9ibg5s7IhIbuyrqllejll+m2q11jUK4dPXn+l0rl+JSvmulpWNvxWDPcny7bd7Kr//ak+6WmUlfjRawus8/ivGZ1Ticvj8RvXPjW2a1FAOb279vXf2yGgAAANDaEwUv6byX3bVYuNSNg3D/bxv7S3/EnZsPDeftf+OVuLkx/6V/Y8ZL8lvNjPfGt3nt5l9mYuYPZswAAAAAT6bt4CU76SYZulo40ShRbBFKW4gK2q11jUJrUdp61K7heKl3c15M0WbrUT5HpmdfVA/lrUXba7sPbwzKLbYPpe1FBWU1AAAAoLW2gpcsdElOyNkWujRrEWq0ELVb6xZNW4u2zbV5VPkw4q3zYq7Fz00HwvzxdzRrH2q0F5XVAAAAgHKPH7ykxxInO10+eqjNJa7OxdJafxxOj4LOh7/mA1zbrnWNS3HzTiUG38zae9LZOE1ahR5JsiOoOFcnd+nH5agceGtjrsvmd2SnGD1Uy/9GejJVY/fLoZNxeHfjhKnyGgAAAFBuR7VafZBfP5KxMzMxuju/KVj+ejw7xrj+cH5hvP5Qn7y5thDThaOn2651jeSY6NHoT6+X48p4I7wajpNT2cDbxlHQmez9fT9NbxmEm+44enmp+RodOx0zb2TfsH0dt/x222rZLqasjah2o8n3tagBAAAAza2vrz9+8AIAAADAH0uClyc+ThoAAACA5gQvAAAAAB0ieAEAAADoEMELAAAAQIcIXgAAAAA6RPACAAAA0CGCFwAAAIAOEbwAAAAAdIjgBQAAAKBDBC8AAAAAHbKjWq0+yK+36Onpya/g8aytreVXAAAA8Oe1vr5uxwsAAABApwheAAAAADpE8AIAAADQIYIXAAAAgA4RvAAAAAB0iOAFAAAAoEPaOk76yPtTMbIrv4laLH72QUxfz+6G3j0bx/dXspvUSsxOnovLyeXBiTj7zkCk1fuLcfHD6ZhPrhNlta5xJE5NjURfel1YlxLJWldXL8YHf0tWYygmPj4eAzuz2qbCb3D0VEy9ln3D9u/Y8rvdnY3JTza/vfi71X5ofF+mrNaM46QBAACgzeOkk4fwkWcX4+LkZEzWXxd/iBh451Qcyet9vZX04TypZa/Gg/9QTBwZiEhrF2MxBuLtd4fSSnmtexx5fyT6ksCjvi6zd/ti5P3GqjW3NeBKzMf0h411zV6zd+tv353LQpckvHqtL1a+yWoXf3g+Rj6eqK9u/rvtSoKY/HMxEmcba1z/3Nv7IxY/q9c+W4zY/3ZMHMxKpTUAAACg1GMHL/N/+yAmC7tR5r+/FbV4Pl5MH8aH4sVnI377d5MdEQeHYu/OWtz6PqnNx/T8SlT2DKWhQGmtaxyJfbsiVv6ZxVCX/7EYtV37NgKrrZKdMVMx8uxKrNzP32rm6KksTMl3rgz9dW9U7s7GuS/T28JvVV/LPUkgNrux+yX5/sjXOP3c/Vsxn4Q316dj7m4l9v41W/2yGgAAAFDuKc946Ytndtbi3kp+W9T3TFTit/glb0lK7Xwma7spq3WLgy/G87F9bRqB1cOWkl0rH87Gvfz+YUMxMdRXCFPycGW12eK3kK9xsksp/vPLRpiWqPRmq19WAwAAAMo9cfBy5PWBzR0RabhQiYF3pmJqKnudOpr9u9T9e7ERC6zci1p+mSqrdY1CuHT9l/pdK5fjcr5rpaWjIzGwcyXmts1b+e3ffelumWz9Gy1g8/HLfyIq+0c2dtikv1sh+CkGNiurW1e/rAYAAAC09kTBSzY3pBaLl/PWo3TnSjLoNZsjMvnNSvS9dtZMkA448j99EXeXNlqHGvpe2xdLjTkuyRyZfMbL5U8uxuL9+n0eyuxbXezScAsAAAD+72g7eMlOukmGrm6eaBRfnqs/8BfvZ+sP+4WZIMX2oTSkKSirdY1Ca1G6O6hd2SydxryYou1zXGo798ZQ+p1bB/Oe+/fW9q5i+1DaXlRQVgMAAABaayt4yUKX32K2GLKUSIftNmsfarQXldW6RdPWom1zbR5VPox467yYrJ3oYc2/Y+i/nt9Y42btQ432orIaAAAAUO7xg5ejp/KdLo1jojclgcxU3tqS3b+dziFZSuaVXJ+PW/f7opoeYZwPhr09n7UoldW6xuVYuluJgdezKSvpjJUmrUKPJNkR1JirU3D5nysPz3HJvyP9bRrHV6dHRFdiZT5rEUtPptpVzVrC6rXqrsYJU+U1AAAAoNyOarX6IL/eoqenJ7/a6sj7UzGyK78pWPlmMj3GONsN02hHSea9FHbF1B/cz76TDHWtu78YFwvHUpfWukZyTPRI3lK1ErOTjfBqKCY+Ph7PzGdruCl7f+/ti/FBYYhuusZ7bjVfo6OnYuq1vDVoyzpmf2tgZ3oTtR+a/M38d3ucWjNra2v5FQAAAPx5ra+vP37wAn9E8AIAAABZ8PLEx0kDAAAA0JzgBQAAAKBDBC8AAAAAHSJ4AQAAAOgQwQsAAABAhwheAAAAADpE8AIAAADQIYIXAAAAgA4RvAAAAAB0iOAFAAAAoEN2VKvVB/k1AAAAAE/J+vq6HS8AAAAAnSJ4AQAAAOgQwQsAAABAhwheAAAAADpE8AIAAADQIYIXAAAAgA4RvAAAAAB0yI5qtfogv35kw+9diIkDlfxuOa6MfxSX8rs4dDIujA9GWl1biOnJ83EtLdS1W+saY3F6ZjT60+tt69bC2JmZOPz7dJz4NFmN4Tg5NRGDPVltUy0WZk7E+av1y2OnY+aN7Bu2f0fyt0Z35zd3rsT4mc1vL/6mtRuN78uU1QAAAIDm1tfX29jxUn+wnzjwa/2BfjzG668rd/pjdOpkDKfF4Tg5NhhRfzgfH5+OhRiM4+9llfZr3WPszGj0J4FHY93OjOWV5rYEJalrcX4yW/fG68qd+tt3vs1ClyS8eqM/lr/OatM3Xtj4bZLwZHR3EsTkn4vRuNBY4/rnjh+IWJip12YWIg4cj5OHslJpDQAAACj1+MHL5x/VH9w3d1Fc+nE5oqc39iQ3h6qxr6cWS98lOyKuxfm55ai8XM1CmXZrXWMsXtkdsfxjtnKX/r4Qtd2v1N9tJtkZMxOjvcuxvJa/1cyx01mYku9cGX51X1TuXImPPk9v49qnJ2I83Tk0HNWXK1G78dXm71b//sjXOP3c2lLMJeHN1fPx7Z1K7Hs1W/2yGgAAAFDuiWe8jP2lP+LOzeyBvr83KvFr/Jw8pDc0Qpl2a93i0EvxQtRidTm/T70QL7XYPXIz2bUy+VWs5vcPG46T1f5CmJKHK7/fTu8eSb7Ge56rRKz+HMUGospz2eqX1QAAAIBy7QcvySyRZFfG7los/L2xj6JubTU2Hv2XV6OWX6barXWNQrh09ef6XSuX4lK+a6WlY2/FYM9yfLtt3sqv/9qT7pZJfpuZmdP5jppr8fNqROXAWxs7bMbeTObpbAY/xcDm9u9bV7+sBgAAALTWfvCSthyNx/jXv8bg+AVzP/6XbdlpVND/xitxszHHpTB/59KZ6VhYq9/nocwrvy90abgFAAAA/3c8catRfP5V/YG+MPej2CKUthAVtFvrGoXWorT1qF3D8VLv5ryYou1zXGo9+6KafufWwbwf/Wtre1exfShtLyooqwEAAACtPXnwEnuitydpcbnWvEWo0ULUbq1bNG0t2jbX5lHlw4i3zovJ2oke1vw7hv/7hY01btY+1GgvKqsBAAAA5R4/eElnuzRmh9Qf4N87HP2xHDeTmSRX52JprT8Op8cU58Nff5rLBrO2W+sal+LmnUoMvpmtXDpjpUmr0CNJdgQ1ThoqSE6YemiOS/4dyXHSM43jq9MjoiuxPJeceBRx7bulqO0+nLWL1WuHdzdOmCqvAQAAAOV2VKvVB/n1I0se4ifqD+6ZWizMnIjzjRCg/nB+YTwZ3Fq3thDT6XHGuXZrXSM5Jno0+tPr5biycSz3cJycmojeufGNo6Az2fv7fpqOE4Uhuun6v7zUfI2SYOyN7Bu2rmP2twZ70puo3WjyN/Pf9HFqAAAAQHPr6+vtBS8AAAAAlEuCl6cw4wUAAACAZgQvAAAAAB0ieAEAAADoEMELAAAAQIcIXgAAAAA6RPACAAAA0CGCFwAAAIAOEbwAAAAAdIjgBQAAAKBDdlSr1Qf59RY9PT35FTyetbW1/AoAAAD+vNbX1+14AQAAAOgUwQsAAABAhwheAAAAADpE8AIAAADQIYIXAAAAgA4RvAAAAAB0iOAFAAAAoEN2VKvVB/n1Fj09PfnVw4bePRvH91fyu5WYnTwXl/O7rbVEoX5wIs6+MxBp9f5iXPxwOuaT60RZrWsciVNTI9GXXm9dt1aOvD8V1dWL8cHfktUYiomPj8fAzqy2qRaLn31R/8etah/E9PX8NpGu9d64VXi/+LvVfmh8X6as1sza2lp+BQAAAH9e6+vrbex4OXqq/hD+W8xOTsZk/TV7ty9GPp6Iobzc11tJH86TWvZqhAtDMXFkICKtXYzFGIi33218qqzWPY68PxJ9d2fTdUnX7f0jeaW5JHQZ2ZXfpOZj+sPGujbWv/723bmYvl5WSz+cy9a6GI0lQczb+yMWP6t/7rPFiP1vx8TBR6gBAAAApR4/ePnyXP2hfnOnxuV/rkTsfCbfxTEULz4b8du/m+yIODgUe3fW4tb3SW0+pudXorJnKAtsympd40js2xWx8s9s5S7/YzFqu/bV320m2RkzFSPPrsTK/fytZo6eipFdKzH7SZN9M61qR0diIGr1/20a+uveqNy/FfNJQHN9OubuVmLvX7PVL6sBAAAA5Z54xsuR/+mLuLuUBzF98czOWtxbSW+26nsmKvFb/FLcfdEIbMpq3eLgi/F8bF+b5+PFFrtHlr6ZjMkPZ+Nefv+woZgY6ovaD7NN2pVa1Y7EqdciZi/fyu8zyS6l+M8vW1q7Kr3Z6pfVAAAAgHLtBy9HT8VUsitjVy0W/5E/3qfhQiUG3plKa8nr1NGslLp/LzZyh5V7W3ZdlNa6RiFcuv5L/a6Vy3H5y/yylWTnys6VmGs2b6VFbejdajzfNKiJqK1uJkIrq1tXv6wGAAAAtNZ+8JK2HE3G5De/xcA7Z7O5H+nOlWSYazZjZPKbleh7La/xVG3dabRV01oyq2XPrfjiDwbjAgAAAE/PE7caxZezsXg/n/uRhjGFE3SKtUSxfSgNaQrKal2j0FqU7g5qVzZLpzEvZqvmtSOvD8Rv861Piiq2D6XtRQVlNQAAAKC1Jw9e0rkuLQbq5tJas/ahRntRWa1bNG0t2jbX5lHlw4ibztJpWssG+/a9lreApcd2Zy1hSStYs/ahRntRWQ0AAAAo9/jBSzrb5dTGaTzJ3JC+WImlL5PrszFVOFp66N2301kjSS2uz8et+31RTY+Jzoe/3p7PdmCU1brG5Vi6W4mB17OVS3agVFq0Cv2hZEdQ46Sh7ZrWLse5wjHTybHQyblGSUvYufpvM//9rajtqmYtYQcnorqrccJUeQ0AAAAo9/jBy5fn4uIPz8dIPjz3+P6oP8Bnx0vP/+2DuHh7bxxvUkuPib68GLH/eL12PAZisTBvpKzWPS5/Mhsru0bStdl61PNQTHy8bRBxiaH/at2kVFZr6fp0fPFDZEOR3xmI+OGLzXaxshoAAABQake1Wn2QX2/R09OTX8HjWVtby68AAADgz2t9ff1pzHgBAAAAoBnBCwAAAECHCF4AAAAAOkTwAgAAANAhghcAAACADhG8AAAAAHSI4AUAAACgQwQvAAAAAB0ieAEAAADoEMELAAAAQIfsqFarD/JrAAAAAJ6S9fV1O14AAAAAOkXwAgAAANAhghcAAACADhG8AAAAAHSI4AUAAACgQwQvAAAAAB3yhMdJD8fJqYnY99N0nPj0WvbWoZNxYXwwKsn12kJMT56PvNJ+rWuMxemZ0ehPr5fjyvhHcSm9bm3szEwc/r2xvtl6D/ZktU21WJg5Eeev1i+PnY6ZN7Jv2Pod2z5750qMn9n89uH3LsTEgXT1o3aj8HvWldUAAACA5p74OOnh945vCwHqD/djgxH1h/Px8elYiME4/t7wE9a6x9iZ0ehPAo/x8bhypz9Gz4zlleaS0GV0d36TuhbnJ8fTzzdeV+7U377zbRa6JOHVG/2x/HVWm77xQoxOnayvbvK3JmJwNfvu8fErsbx7NC401rj+ueMHIhZm6rWZhYgDx+PkoaxUWgMAAABKPUHwMhZv1R/Ia2v5beJQNfb11GLpu2RHxLU4P7cclZer6YN/27WuMRav7I5Y/jHbZXLp7wtR2/1K/d1mkp0xMzHauxzLxfXd7tjpGN29HFfynSvDr+6Lyp0r8dHn6W1c+/REjOc7hy6dGS/scLkUN+9EVJ7bk96ln1tbirkkvLl6Pr69U4l9r2arX1YDAAAAyrUdvCS7N+Lri7GU36f6e6MSv8bPyUN6Q09vpI/37da6xaGX4oWoxepyfp96IV5qsXvkZrJrZfKrWM3vHzYcJ6v9Ubvx1UYrUfXlStR+v53eldsaAu15rhKx+nMa0DQ0QpmyGgAAAFCuveDl0Mk43LsQX+U7K7ZYW42NR//l1ajll6l2a12jEC5d/bl+18qluNRsbYuOvRWDPcvx7bZ5K7/+a0+6W2YmfZ1+aEdN0r40k8yZWdv6+xUDm9u/b139shoAAADQWhvBSzKPZV8sXerG4bf//xj7S3/EnZsPDeftf+OVuLkx/6V/Y8ZLQ9pylNRWB2NiWw0AAAB4uh4/eEl2Wqzmw1ybKbYIpS1EBe3WukahtShtPWrXcLzUu9kqVLTZepTPkenZF9Um7Uzba8X2obS9qKCsBgAAALT22MFLutNi92jeypIdT1w5MBEzyQk9zVqEGi1E7da6RdPWom1zbR5VPox467yYa/Fz04EwLb6jMFenWftQo72orAYAAACUe+zgpdGqkr2mY2Et2WUxnZ2Yc3Uultb643B6THE+/PWnuawlqd1a10hOEqrE4JvZ1JWxNwej0qRV6JEkoUnjpKGCSz8uR+XAWxtzXYrfkc522Ti+OlvjRqvSte+Worb7cHZMdDK/Z3fjhKnyGgAAAFCuveG6LV2L85cWIpIdMMlumFiIixvDX9utdY9LZ67Ecr5bqHgMdBqETM3E6WP57R8Y/u8WTUqffxTjX0eM5sN1R3sXYjr/jktnpmOht7BTqb7GjVpyTPTFGxGD4/Xa+GDEjYubrWRlNQAAAKDUjmq1+iC/BgAAAOApWV9ff9o7XgAAAABoELwAAAAAdIjgBQAAAKBDBC8AAAAAHSJ4AQAAAOgQwQsAAABAhwheAAAAADpE8AIAAADQIYIXAAAAgA4RvAAAAAB0yI5qtfogv96ip6cnv4LHs7a2ll8BAADAn9f6+rodLwAAAACdIngBAAAA6BDBCwAAAECHCF4AAAAAOkTwAgAAANAhghcAAACADnnC46SHYuLj47H39sX44G/z2Tvvno3j+yvpdWYlZifPxeXk8uBEnH1nINLq/cW4+OF0ZJ+qK6t1jSNxamok+tLrwrqUOPL+VFRXG+ubrffAzqy2qRaLn31R/8etah/E9PXid9dtW+Pi71b7YfP3TJTVmnGcNAAAADyF46SH3n37oQf9vt5K+nA+OTmZvxrhwlBMHBmISGsXYzEG4u13h9JKea17HHl/JPruzqbrMnu3L0beP5JXmktCl5Fd+U1qPqY/bKxr9pq9W3/77lxMXy+rJYHNSDy/8btka3y88f0HJ+Lt/RGLn9Vrny1G7H87Jg5mpdIaAAAAUOoJgpcjMVJ/IK/dz29TQ/HisxG//bvJjoiDQ7F3Zy1ufZ/U5mN6fiUqe4bqn/iDWtc4Evt2Raz8M4uhLv9jMWq79tXfbSbZnTIVI8+uxMqW9d3m6KkY2bUSs5802TezpZaFMps7VeZj/nYt4tkX0zUe+uveqNy/FfPX6zfXp2PubiX2/jVb/bIaAAAAUK7t4CXZvRHffBG38vtMXzyzsxb3VvLbor5nohK/xS/JA3zDzmey1peyWrc4+GI8H9vX5vl4scXukaVvJmPyw9m4l98/bCgmhvqi9sNsk3alstrDkl1K8Z9fohiXVXqz1S+rAQAAAOXaC14OTkT12cWY/TK/b0jDhUoMvDMVU1PZ69TRvJa4fy82coeVe1HLL1Nlta5RCJeu/1K/a+VyXN6+ttsdHYmBnSsx12zeSlktlexWqkTt9vxGoFJb3UyEVla3rn5ZDQAAAGitjeAlmceyN25dbjL8Nt25kgxzzWaMTH6zEn2vnTUTpAOO/E9fxN2lpjtaymrp7/fxSPTdX4wv/mBILgAAAPBkHj94SXZT/CcZ2JrfF315LiYnkxN0GvezsXi/MBOk2D6UhjQFZbWuUWgtSncHtSubpdOYF7NVeS09FSkePjWq2D6UthcVlNUAAACA1h47eEl3U+wayVuJsuOLK/uPx1TJCT3psN1m7UON9qKyWrdo2lq0ba7No8qHETedpdOylocu/5mNyW2hS7P2oUZ7UVkNAAAAKPfYwcvlT/I2osaxxPfrD+LJMcWfXI6hd8/G1McT9Uf8THbc9EosJfNKrs/Hrft9UU2Pic6HvzZmjJTVusblWLpbiYHXs4DqyOsDUWnZDvQHkh1BjZOGtmtRO/J+vtOlyQlI89/fitquatYSlszv2dU4Yaq8BgAAAJRrb7huC/N/+yAu3t4bx/PBusf3Ryx+di4PF+Zj+vJiRLI7JtkpE8UZI2W17nH5k9lYyXcLbT0GOtmNsm0QcYmh/2rdpNS8lh1lHTsHNn6b7HUqO876+nR88UNkQ5HfGYj44YvNdrGyGgAAAFBqR7VafZBfb9HT05NfweNZW1vLrwAAAODPa319/enueAEAAABgk+AFAAAAoEMELwAAAAAdIngBAAAA6BDBCwAAAECHCF4AAAAAOkTwAgAAANAhghcAAACADhG8AAAAAHSI4AUAAACgQ3ZUq9UH+TUAAAAAT8n6+rodLwAAAACdIngBAAAA6BDBCwAAAECHCF4AAAAAOkTwAgAAANAhghcAAACADmnrOOnh9y7ExIFKfpdYjivjH8Wl5PLQybgwPhhpdW0hpifPx7XkOtFurWuMxemZ0ehPrwtrVmLszEwc/n06TnyarMZwnJyaiMGerLapFgszJ+L81frlsdMx80b2DVu/o/jdddvWuPib1m40vi9TVgMAAACaa/s46T3PVdIH8PHx8fzVeLgfjpNjgxFpbToWYjCOvzecVtqvdY+xM6PRf+dKumZX7vTH6JmxvNJcErqM7s5vUtfi/GRjzbPXlTv1t+98m4UuSXj1Rn8sf53Vpm+8EKNTJ+urmwQ2o/HCxm+WrfFE4/vrnzt+IGJhpl6bWYg4cDxOHspKpTUAAACgVBvBy3C81Bvx67+a7Ho4VI19PbVY+i6pXYvzc8tRebla/8QT1LrGWLyyO2L5xyyiuvT3hajtfqX+bjPJ7pSZGO1djuW1/K1mjp2O0d3LceVMHnu9ui8qd67ER5+nt3Ht0xMxnu5qyQKbzZ0q12Lup1pE70vpGqefW1uKuSS8uXo+vr1TiX2vZqtfVgMAAADKtRG87InenlqsLue3Rf29UYlf4+fkIb2hp7f+ibp2a93i0EvxQmxftxfipRa7R24mu1Ymv4rV/P5hw3Gy2h+1G19t7DaqvlyJ2u+307vHkexgitWfoxilVZ7LVr+sBgAAAJR7/OAlDRAqMTg+EzMz2ev0sbyWWFuNjUf/5dWo5ZepdmtdoxAuXf25ftfKpbiU71pp6dhbMdizHN9um7fy67/2pLtlst/mdMsdNW8dqETtp7mNQKUY2Nz+fevql9UAAACA1h4/eEl3pyTDXLM5IuNfL0f/GxfM/fhfNvaX/og7Nx8aztv/xitxc2P+S38+46Uom/fSv7YQFw3JBQAAgI56/ODl84/qD/X5CTrp/VexsFaY+1FsEUpDmoJ2a12j0FqU7hxqVzZnpzEvpmiz9SifI9OzL6oboVgSukzEYDx8alSxfShtLyooqwEAAACttTHjpbl02G6zFqFGC1G7tW7RtLVo21ybR5UPI946L+Za/Nx0IEzjO/LQZfVKPnB3U7P2oUZ7UVkNAAAAKPfYwcvwexdiptC+Mvze8XTWyM1kJsnVuVha64/D6VHQ+fDXxhyRdmtd41LcvFOJwTezqStjbw5GpUmr0CNJdgQ1ThoquPTjclQOvLUx16X4HWNn8p0u+QlIRde+W4ra7sNZu9ihk3F4d+OEqfIaAAAAUG5HtVp9kF8/siR8mTjQaDlJ5r0UWo/qD+cXxusP/Mn12raWlnZrXSM5Jno0+tPr5bgy/lEevGS7UXrnxjeOgs5k7+/7abpwFHS+/i8vNV+jY6dj5o3sGzbXsfi9RZv/NxR/09qNJt/XogYAAAA0t76+3l7wAgAAAEC5JHh5ajNeAAAAANhK8AIAAADQIYIXAAAAgA4RvAAAAAB0iOAFAAAAoEMELwAAAAAdIngBAAAA6BDBCwAAAECHCF4AAAAAOkTwAgAAANAhO6rV6oP8eouenp78Ch7P2tpafgUAAAB/Xuvr63a8AAAAAHSK4AUAAACgQwQvAAAAAB0ieAEAAADoEMELAAAAQIcIXgAAAAA6RPACAAAA0CE7qtXqg/x6i56envzqYUPvno3j+yv5XWIlZifPxeX6VVktDk7E2XcGIq3eX4yLH07HfHKdKKt1jSNxamok+tLrwrqUOPL+VFRXL8YHf0tWYygmPj4eAzuz2qZaLH72Rf0ft6p9ENPX89u6rX8zU/zdaj88eq2ZtbW1/AoAAAD+vNbX19vb8dLXW0kfwCcnJ/PXZoDQujYUE0cGItLaxViMgXj73aG0Ul7rHkfeH4m+u7Ppusze7YuR94/kleaSgGRkV36Tmo/pDxvrmr1m79bfvjsX09fLaumHUw//zbqDE/H2/ojFz+qf+2wxYv/bMXHwEWoAAABAqTaCl6F48dmI3/7dbNdDSe3gUOzdWYtb3ye1+ZieX4nKnqH6J/6g1jWOxL5dESv/zGKoy/9YjNquffV3m0l2xkzFyLMrsXI/f6uZo6diZNdKzH7SZN/MQ7XWf3Por3ujcv9WzCcBzfXpmLtbib1/zVa/rAYAAACUayN46Ytndtbi3kp+u0VJre+ZqMRv8Uth90XsfCZruymrdYuDL8bzsX1tno8XW+weWfpmMiY/nI17+f3DhmJiqC9qP8w2aVdqXmv1N5NdSvGfX7a0dlV6s9UvqwEAAADlHj94SQOESgy8MxVTU9nr1NFHqCXu34uN3GHlXtTyy1RZrWsUwqXrv9TvWrkcl7/ML1s5OhIDO1dirtm8laa18r9ZW91MhFZWt65+WQ0AAABo7fGDl3R3SjKwNZsjMvnNSvS9djab+1FW46k68j99EXeXmux2Ka8BAAAA/3seP3j58lxMThZOyflyNhbv53M/ymqJYvtQGtIUlNW6RqG1KN0d1K5slk5jXsxWZbXWiu1DaXtRQVkNAAAAaK2NGS/NNR+2m0lrzdqHGu1FZbVu0bS1aNtcm0eVDyNuOkunrNZCs/ahRntRWQ0AAAAo99jBy9C7Z2Pq44mNE4eG3n07nSey9GV5La7Px637fVFNj4nOh7/ens+GtpbVusblWLpbiYHXs3OMjrw+EJV224GSHUGNk4a2K6u1MP/9rajtqmYtYQcnorqrccJUeQ0AAAAo99jBy/zfPoiLt/fG8Xx47vH9EYufnUsDhLJaekz05cWI/cfrteMxEIvxxcbw17Ja97j8yWys7BpJ12brUc9DMfHxtkHEJYb+q3WTUlmtpevT8cUPkQ1Ffmcg4ocvNtvFymoAAABAqR3VavVBfr1FT09PfgWPZ21tLb8CAACAP6/19fWnN+MFAAAAgK0ELwAAAAAdIngBAAAA6BDBCwAAAECHCF4AAAAAOkTwAgAAANAhghcAAACADhG8AAAAAHSI4AUAAACgQ3ZUq9UH+TUAAAAAT8n6+rodLwAAAACdIngBAAAA6BDBCwAAAECHCF4AAAAAOkTwAgAAANAhghcAAACADhG8AAAAAHTIjmq1+iC/fgxjcXpmNPrzu+Wvx+Ojz/ObQyfjwvhgVJLrtYWYnjwf19JCXbu1rlFct+W4Mv5RXEqvWxs7MxOHf5+OE58mqzEcJ6cmYrAnq22qxcLMiTh/tX557HTMvLHxy2z9jpLa8HsXYuJAuvpRu9H4vkxZDQAAAGhufX29nR0vycP/aPTfuRLj4+MxPrMQL7xxIU4eymtjgxH1h/Px8elYiME4/t5w+qn2a91j7Mzmul250x+jZ8bySnNJ6DK6O79JXYvzk/U1T9Y9f125U3/7zrdZ6JKEV2/0p0FYUpu+8UKMTp2sr+4f144fiFiYqdfqv2ccOJ7/nn9QAwAAAOXEvm0AAAx+SURBVEo9fvByqBr7epbjypl8r8TV83FiPN9tkdZqsfRdsiPiWpyfW47Ky9X84b7NWtcYi1d2Ryz/mK3bpb8vRG33K/V3m0l2xszEaO9yLK/lbzVz7HSM7t78LYZf3ReVO1c2dh9d+/REjOc7h/6wtrYUc8lvWP89v71TiX2vZqtfVgMAAADKPXbwkj2Ir8bt/H6L/t6oxK/xc/KQ3tDTG3uS/7Zb6xaHXooXohary/l96oV4qcXukZvJzpTJr2I1v3/YcJys9kftxld5u9BwVF+uRO33Zr9MWS1iz3OViNWf0xCmofJctvplNQAAAKBce8N16w/ie87MxMxM9jp9LH8/UQxlllejll+m2q11jUK4dPXn+l0rl+JSY2ZOK8feisGe5fh227yVX/+1J90tk/02p7fsqCmrFUOZ279vXf2yGgAAANBae8HL7tF45cdsVsj418vRvzHjhf8tY3/pj7hz86HhvP1vvBI3N+a/9G/OcfmDGgAAAPD0tRe8rC3EV40dGZ9/FQtrhbkfxRahtIWooN1a1yi0FqWtR+0ajpd6N+fFFG22HuVzZHr2RTX/zrJasX0obS8qKKsBAAAArT128HLtX80bZH7917XmLUKNFqJ2a92iaWvRtrk2jyofRrx1Xsy1+LnpQJjkO8pqzduHGu1FZTUAAACg3OPvePn8Ziz3DMZbjbku+ayRm8kOmKtzsbTWH4fTo6Dz4a8/zWWDWdutdY1LcfNOJQbfzCarjL05GJUmrUKPJNkR1DhpqODSj8tROfDWxuyW4neU1a59txS13YezdrFDJ+Pw7sYJU+U1AAAAoNyOarX6IL9+DMlxx6PRn17XYmEmP046UX84vzBef6hPrtcWYjo/sjjVbq1rFNdtOa6Mf5QHL8NxcmoieufGN457zmTv7/tpOk4UhugOv3chJl5ear5Gx07HzBvZNzy0jiW19G8eyNqIajeafF+LGgAAANDc+vp6u8ELAAAAAGWS4KW94boAAAAA/CHBCwAAAECHCF4AAAAAOkTwAgAAANAhghcAAACADhG8AAAAAHSI4AUAAACgQwQvAAAAAB0ieAEAAADoEMELAAAAQIfsqFarD/LrLXp6evIreDxra2v5FQAAAPx5ra+v2/ECAAAA0CmCFwAAAIAOEbwAAAAAdIjgBQAAAKBDBC8AAAAAHSJ4AQAAAOiQNo+TPhKnpkaiL79b+WYyzn2ZXQ+9ezaO769kN6mVmJ08F5eTy4MTcfadgUir9xfj4ofTMZ9cJ8pqXaO4boV1KXHk/amorl6MD/6WrMZQTHx8PAZ2ZrVNtVj87IOYvl6/PHoqpl7b+GW2fkdJrfi71X5ofF+mrNaM46QBAACg7eOkk4f/kei7OxuTk5Mx+dliPP/a2Zg4mFX7eivpw3laS1+Nh/v6544MRKS1i7EYA/H2u0NppbzWPY68v7lus3f7YuT9I3mluSR0GdmV36TmY/rDxrpmr9m79bfvzmWhSxJevdaXBmFJ7eIPz8fIxxP11f3j2tv7IxY/q9fqv2fsf3vj9yytAQAAAKUeP3g5OBR7d67E7Cf5Xonr0/HBZL7bov4Y/+KzEb/9u8mOiPRztbj1fVKbj+n5lajsGcof/EtqXeNI7NsVsfLPbN0u/2Mxarv21d9tJtkZMxUjz67Eyv38rWaOnoqRXZu/xdBf90bl7uzG7qP5v30Qk/nOoT+s3b8V88lvWP895+5WYu9fs9UvqwEAAADlHjt4yR7E78VKfr9VXzyzsxb3mhX7nolK/Ba/pAFNbuczWdtNWa1bHHwxno/ta/N8vNhi98hSsjPlw9m4l98/bCgmhvqi9sPsxo6ioT2VqK02W/yyWrZLKf7zSxrCNFR6s9UvqwEAAADl2huuW38Q73t/Kqamstepo/n7abhQiYF3mtQSxcBm5V7U8stUWa1rFMKl67/U71q5HJfznSktHR2JgZ0rMbdt3spv/+5Ld8tk639qy46asloxlFlZ3br6ZTUAAACgtfaCl10jse+f2ayQyW9Woq8x4yXduZIMem1S46k68j99EXeXNgfn5vpe2xdLydrXX+kcmcYclz+oAQAAAE9fe8HL/cWYbezI+HI2Fu/ncz++PFd/qG/Me9lWSxTbh9KQpqCs1jUKrUXp7qB2ZbN0GvNiijZbj/I5Mjv3xlD+nWW1YvtQ2l5UUFYDAAAAWnvs4GX+380bZJoO1M2ltWbtQ432orJat2jaWrRtrs2jyocRb50XMx+//Ce/3CL5jrJa8/ahRntRWQ0AAAAo9/g7Xr5cipWdAzHSmN2SzxpZ+jJi6N2zMVVoXxl69+2NWtQf/m/d74tqekx0Phj29nw2tLWs1jUux9LdSgy8nk1WOfL6QFSatAo9kmRHUOOkoYLL/1yJyv6Rjdktxe8oq81/fytqu6pZS9jBiajuapwwVV4DAAAAyu2oVqsP8ustenp68qtmkuOOR/LWoGSmy2Z7URK+HN/faEfZWkse3M++U3/gT67vL8bF/DjjVFmtaxTXbSVmJ8/lwctQTHx8PJ6Zn9w47jmTvb/39sX4oDBEN13jPbear9HRUzH1Wt4atH0dS2rF3632Q5Pva1FrZm1tLb8CAACAP6/19fV2gxdoTfACAAAAWfDS3nBdAAAAAP6Q4AUAAACgQwQvAAAAAB0ieAEAAADoEMELAAAAQIcIXgAAAAA6RPACAAAA0CGCFwAAAIAOEbwAAAAAdIjgBQAAAKBDdlSr1Qf5NQAAAABPyfr6uh0vAAAAAJ0ieAEAAADoEMELAAAAQIcIXgAAAAA6RPACAAAA0CGCFwAAAIAOeezjpIffuxATByr53abajek48em1iEMn48L4YKT/Ym0hpifPR/3dTLu1rjEWp2dGoz+9Xo4r4x/FpfS6tbEzM3H493xtYzhOTk3EYE9W21SLhZkTcf5qk/qdKzF+JvmWbbWN9zPF33Xjt8yV1QAAAIDm2jpO+tqnJ2J8fHzz9fVy/d3l+LYRDIwNRtQfzsfHp2MhBuP4e8Pp59qvdY+xM6PRnwQe9XW7cqc/Rs+M5ZXmktBldHd+k7oW5ycLa5/+nfrbd76N81eT+p7o7UlCmMK/ycOVsTMTMbiafff4+JVY3j0aFxprfOhkHD8Q2edmFiIOHI+Th7JSaQ0AAAAo9YStRmNx+o3+WP4637lxqBr76g/+S98lIcy1OD+3HJWXq5E+3rdb6xpj8cruiOUfsyDk0t8Xorb7lfq7zSQ7Y2ZitHc5ltfyt5o5djpGdy/HlcbOlUMvxQvxa/ychjBbXTqzGcLU7+LmnYjKc3vSu+FX90VlbSnmks9dPR/f3qnEvlez1S+rAQAAAOWeKHgZfu9w9K8txFef52/090Zl+4N/T2+kj/ft1rpFGorUYjXZILThhXipxe6Rm1+Px/jkV7Ga3z9sOE5W+6N246vNdqVkHddW43Z+29rWEGjPc5WI1Z+3tHY1QpmyGgAAAFDuCYKXsXjrQCWW57bNYik++C+vRi2/TLVb6xqFcOnqz/W7Vi7FpUaY1cqxt2Kwp9HilRn+7xciegZjYmYmZtLX6Yd21CTtSzPJnJliYFZX+30zrrn9+9bVL6sBAAAArbUfvBx7JfpjOW7+UUBAR4z9pT/izs0tw3nT3SnJYOKN+S/9MTp1ckvLVtpylNRWB2NiWw0AAAB4utoOXtLdFdse/FPFFqG0haig3VrXKLQWpa1H7RqOl3o3W4Ua0lClcBpUOkemZ19Um7Qzba8V24fSAKegrAYAAAC01mbwMhzVlytbWlBSzVqEGi1E7da6RdPWouaDcP9QPox467yYVlp8R2GuTrP2ocZvW1YDAAAAyrUZvGTHFmenEBVcnYultf44nB5TnA9//Wku24HRbq1rJCcJVWLwzWzqytibg1FptmPoUaRDdPOThjbU121qZvOI6OR+bPM70tkuG8dXZ2vc2LF07bulqO0+nB0TfehkHN69+duW1QAAAIByO6rV6oP8+tHVH8AvjO+LpZkTcX77boq0Vn/gT66TeSOF1pe2a10jOSZ6NPrT6+W4Mp4fw52GJhPROzceH22ZmZO9v++n6ThRHKL73oWYeHmpyRpl/36wJ7/dso5ltfxvHsjaiGo3mnxfixoAAADQ3Pr6epvBCwAAAAClkuDlCY6TBgAAAKCM4AUAAACgQwQvAAAAAB0ieAEAAADoEMELAAAAQIcIXgAAAAA6RPACAAAA0CGCFwAAAIAOEbwAAAAAdIjgBQAAAKBDBC8AAAAAHSJ4AQAAAOiIiP8HAQLUm9OQC1IAAAAASUVORK5CYII=)"
      ],
      "metadata": {
        "id": "TaRMeQcIX6hS"
      }
    },
    {
      "cell_type": "markdown",
      "source": [
        "#Predicting test predictions using approach 4"
      ],
      "metadata": {
        "id": "jiooP-yPe2cP"
      }
    },
    {
      "cell_type": "code",
      "source": [
        "# Load the test DataFrame\n",
        "test_df = pd.read_csv('/content/drive/MyDrive/United Airlines/testbc7185d.csv')\n",
        "\n",
        "# Extract call IDs from the test file\n",
        "test_call_ids = test_df['call_id'].tolist()\n",
        "\n",
        "# Filter the merged DataFrame to get transcripts for the test call IDs\n",
        "test_dataset = merged_df[merged_df['call_id'].isin(test_call_ids)]['call_transcript']"
      ],
      "metadata": {
        "id": "i4d8VnRfe10I"
      },
      "execution_count": null,
      "outputs": []
    },
    {
      "cell_type": "code",
      "source": [
        "# Evaluate the model\n",
        "preds = trainer.predict(test_dataset)\n",
        "y_pred = preds.predictions.argmax(-1)\n",
        "test_df['predicted_reason']= y_pred\n",
        "test_df.to_csv('/content/drive/MyDrive/United Airlines/test_predictions.csv', index=False)\n",
        "# Calculate accuracy\n",
        "accuracy = accuracy_score(y_test, y_pred) * 100\n",
        "print(f\"Accuracy: {accuracy:.2f}%\")\n"
      ],
      "metadata": {
        "id": "QOHX7C69_Rn-"
      },
      "execution_count": null,
      "outputs": []
    }
  ],
  "metadata": {
    "colab": {
      "provenance": [],
      "toc_visible": true
    },
    "kernelspec": {
      "display_name": "Python 3",
      "name": "python3"
    },
    "language_info": {
      "name": "python"
    },
    "widgets": {
      "application/vnd.jupyter.widget-state+json": {
        "6eeb44992f0e42129704510364ce13ec": {
          "model_module": "@jupyter-widgets/controls",
          "model_name": "HBoxModel",
          "model_module_version": "1.5.0",
          "state": {
            "_dom_classes": [],
            "_model_module": "@jupyter-widgets/controls",
            "_model_module_version": "1.5.0",
            "_model_name": "HBoxModel",
            "_view_count": null,
            "_view_module": "@jupyter-widgets/controls",
            "_view_module_version": "1.5.0",
            "_view_name": "HBoxView",
            "box_style": "",
            "children": [
              "IPY_MODEL_e84b3d3ff3534f8f90bef6b9b80890ce",
              "IPY_MODEL_6fc7d0848dfa40569d5a619c85c00aac",
              "IPY_MODEL_106c3b782ed54e7d9011db934c3ea27b"
            ],
            "layout": "IPY_MODEL_2c9e9cee6067463e81467aea74f89da3"
          }
        },
        "e84b3d3ff3534f8f90bef6b9b80890ce": {
          "model_module": "@jupyter-widgets/controls",
          "model_name": "HTMLModel",
          "model_module_version": "1.5.0",
          "state": {
            "_dom_classes": [],
            "_model_module": "@jupyter-widgets/controls",
            "_model_module_version": "1.5.0",
            "_model_name": "HTMLModel",
            "_view_count": null,
            "_view_module": "@jupyter-widgets/controls",
            "_view_module_version": "1.5.0",
            "_view_name": "HTMLView",
            "description": "",
            "description_tooltip": null,
            "layout": "IPY_MODEL_1e5e74c5af3d4a05aceda70949bdefb8",
            "placeholder": "​",
            "style": "IPY_MODEL_c06ffa2cd7b14373bb3fcc5d348b179c",
            "value": "tokenizer_config.json: 100%"
          }
        },
        "6fc7d0848dfa40569d5a619c85c00aac": {
          "model_module": "@jupyter-widgets/controls",
          "model_name": "FloatProgressModel",
          "model_module_version": "1.5.0",
          "state": {
            "_dom_classes": [],
            "_model_module": "@jupyter-widgets/controls",
            "_model_module_version": "1.5.0",
            "_model_name": "FloatProgressModel",
            "_view_count": null,
            "_view_module": "@jupyter-widgets/controls",
            "_view_module_version": "1.5.0",
            "_view_name": "ProgressView",
            "bar_style": "success",
            "description": "",
            "description_tooltip": null,
            "layout": "IPY_MODEL_353e6fa2cf0b42e383aac09ee3814faa",
            "max": 48,
            "min": 0,
            "orientation": "horizontal",
            "style": "IPY_MODEL_1555df132f3f4932b189730b751ba011",
            "value": 48
          }
        },
        "106c3b782ed54e7d9011db934c3ea27b": {
          "model_module": "@jupyter-widgets/controls",
          "model_name": "HTMLModel",
          "model_module_version": "1.5.0",
          "state": {
            "_dom_classes": [],
            "_model_module": "@jupyter-widgets/controls",
            "_model_module_version": "1.5.0",
            "_model_name": "HTMLModel",
            "_view_count": null,
            "_view_module": "@jupyter-widgets/controls",
            "_view_module_version": "1.5.0",
            "_view_name": "HTMLView",
            "description": "",
            "description_tooltip": null,
            "layout": "IPY_MODEL_75fef941586741a997381b7fde87be9c",
            "placeholder": "​",
            "style": "IPY_MODEL_ba541a6b6d4243d988db85b50040f9a9",
            "value": " 48.0/48.0 [00:00&lt;00:00, 4.19kB/s]"
          }
        },
        "2c9e9cee6067463e81467aea74f89da3": {
          "model_module": "@jupyter-widgets/base",
          "model_name": "LayoutModel",
          "model_module_version": "1.2.0",
          "state": {
            "_model_module": "@jupyter-widgets/base",
            "_model_module_version": "1.2.0",
            "_model_name": "LayoutModel",
            "_view_count": null,
            "_view_module": "@jupyter-widgets/base",
            "_view_module_version": "1.2.0",
            "_view_name": "LayoutView",
            "align_content": null,
            "align_items": null,
            "align_self": null,
            "border": null,
            "bottom": null,
            "display": null,
            "flex": null,
            "flex_flow": null,
            "grid_area": null,
            "grid_auto_columns": null,
            "grid_auto_flow": null,
            "grid_auto_rows": null,
            "grid_column": null,
            "grid_gap": null,
            "grid_row": null,
            "grid_template_areas": null,
            "grid_template_columns": null,
            "grid_template_rows": null,
            "height": null,
            "justify_content": null,
            "justify_items": null,
            "left": null,
            "margin": null,
            "max_height": null,
            "max_width": null,
            "min_height": null,
            "min_width": null,
            "object_fit": null,
            "object_position": null,
            "order": null,
            "overflow": null,
            "overflow_x": null,
            "overflow_y": null,
            "padding": null,
            "right": null,
            "top": null,
            "visibility": null,
            "width": null
          }
        },
        "1e5e74c5af3d4a05aceda70949bdefb8": {
          "model_module": "@jupyter-widgets/base",
          "model_name": "LayoutModel",
          "model_module_version": "1.2.0",
          "state": {
            "_model_module": "@jupyter-widgets/base",
            "_model_module_version": "1.2.0",
            "_model_name": "LayoutModel",
            "_view_count": null,
            "_view_module": "@jupyter-widgets/base",
            "_view_module_version": "1.2.0",
            "_view_name": "LayoutView",
            "align_content": null,
            "align_items": null,
            "align_self": null,
            "border": null,
            "bottom": null,
            "display": null,
            "flex": null,
            "flex_flow": null,
            "grid_area": null,
            "grid_auto_columns": null,
            "grid_auto_flow": null,
            "grid_auto_rows": null,
            "grid_column": null,
            "grid_gap": null,
            "grid_row": null,
            "grid_template_areas": null,
            "grid_template_columns": null,
            "grid_template_rows": null,
            "height": null,
            "justify_content": null,
            "justify_items": null,
            "left": null,
            "margin": null,
            "max_height": null,
            "max_width": null,
            "min_height": null,
            "min_width": null,
            "object_fit": null,
            "object_position": null,
            "order": null,
            "overflow": null,
            "overflow_x": null,
            "overflow_y": null,
            "padding": null,
            "right": null,
            "top": null,
            "visibility": null,
            "width": null
          }
        },
        "c06ffa2cd7b14373bb3fcc5d348b179c": {
          "model_module": "@jupyter-widgets/controls",
          "model_name": "DescriptionStyleModel",
          "model_module_version": "1.5.0",
          "state": {
            "_model_module": "@jupyter-widgets/controls",
            "_model_module_version": "1.5.0",
            "_model_name": "DescriptionStyleModel",
            "_view_count": null,
            "_view_module": "@jupyter-widgets/base",
            "_view_module_version": "1.2.0",
            "_view_name": "StyleView",
            "description_width": ""
          }
        },
        "353e6fa2cf0b42e383aac09ee3814faa": {
          "model_module": "@jupyter-widgets/base",
          "model_name": "LayoutModel",
          "model_module_version": "1.2.0",
          "state": {
            "_model_module": "@jupyter-widgets/base",
            "_model_module_version": "1.2.0",
            "_model_name": "LayoutModel",
            "_view_count": null,
            "_view_module": "@jupyter-widgets/base",
            "_view_module_version": "1.2.0",
            "_view_name": "LayoutView",
            "align_content": null,
            "align_items": null,
            "align_self": null,
            "border": null,
            "bottom": null,
            "display": null,
            "flex": null,
            "flex_flow": null,
            "grid_area": null,
            "grid_auto_columns": null,
            "grid_auto_flow": null,
            "grid_auto_rows": null,
            "grid_column": null,
            "grid_gap": null,
            "grid_row": null,
            "grid_template_areas": null,
            "grid_template_columns": null,
            "grid_template_rows": null,
            "height": null,
            "justify_content": null,
            "justify_items": null,
            "left": null,
            "margin": null,
            "max_height": null,
            "max_width": null,
            "min_height": null,
            "min_width": null,
            "object_fit": null,
            "object_position": null,
            "order": null,
            "overflow": null,
            "overflow_x": null,
            "overflow_y": null,
            "padding": null,
            "right": null,
            "top": null,
            "visibility": null,
            "width": null
          }
        },
        "1555df132f3f4932b189730b751ba011": {
          "model_module": "@jupyter-widgets/controls",
          "model_name": "ProgressStyleModel",
          "model_module_version": "1.5.0",
          "state": {
            "_model_module": "@jupyter-widgets/controls",
            "_model_module_version": "1.5.0",
            "_model_name": "ProgressStyleModel",
            "_view_count": null,
            "_view_module": "@jupyter-widgets/base",
            "_view_module_version": "1.2.0",
            "_view_name": "StyleView",
            "bar_color": null,
            "description_width": ""
          }
        },
        "75fef941586741a997381b7fde87be9c": {
          "model_module": "@jupyter-widgets/base",
          "model_name": "LayoutModel",
          "model_module_version": "1.2.0",
          "state": {
            "_model_module": "@jupyter-widgets/base",
            "_model_module_version": "1.2.0",
            "_model_name": "LayoutModel",
            "_view_count": null,
            "_view_module": "@jupyter-widgets/base",
            "_view_module_version": "1.2.0",
            "_view_name": "LayoutView",
            "align_content": null,
            "align_items": null,
            "align_self": null,
            "border": null,
            "bottom": null,
            "display": null,
            "flex": null,
            "flex_flow": null,
            "grid_area": null,
            "grid_auto_columns": null,
            "grid_auto_flow": null,
            "grid_auto_rows": null,
            "grid_column": null,
            "grid_gap": null,
            "grid_row": null,
            "grid_template_areas": null,
            "grid_template_columns": null,
            "grid_template_rows": null,
            "height": null,
            "justify_content": null,
            "justify_items": null,
            "left": null,
            "margin": null,
            "max_height": null,
            "max_width": null,
            "min_height": null,
            "min_width": null,
            "object_fit": null,
            "object_position": null,
            "order": null,
            "overflow": null,
            "overflow_x": null,
            "overflow_y": null,
            "padding": null,
            "right": null,
            "top": null,
            "visibility": null,
            "width": null
          }
        },
        "ba541a6b6d4243d988db85b50040f9a9": {
          "model_module": "@jupyter-widgets/controls",
          "model_name": "DescriptionStyleModel",
          "model_module_version": "1.5.0",
          "state": {
            "_model_module": "@jupyter-widgets/controls",
            "_model_module_version": "1.5.0",
            "_model_name": "DescriptionStyleModel",
            "_view_count": null,
            "_view_module": "@jupyter-widgets/base",
            "_view_module_version": "1.2.0",
            "_view_name": "StyleView",
            "description_width": ""
          }
        },
        "e3b5b5e6da804671a9c5e6ba35e87471": {
          "model_module": "@jupyter-widgets/controls",
          "model_name": "HBoxModel",
          "model_module_version": "1.5.0",
          "state": {
            "_dom_classes": [],
            "_model_module": "@jupyter-widgets/controls",
            "_model_module_version": "1.5.0",
            "_model_name": "HBoxModel",
            "_view_count": null,
            "_view_module": "@jupyter-widgets/controls",
            "_view_module_version": "1.5.0",
            "_view_name": "HBoxView",
            "box_style": "",
            "children": [
              "IPY_MODEL_27106d736ec04df6810727bee77cbf51",
              "IPY_MODEL_f13a219be41645fdb8e50679fdc05458",
              "IPY_MODEL_582525979a5542cab5f8e490ea77d2fd"
            ],
            "layout": "IPY_MODEL_68e180703ed046f887579f45e02677c0"
          }
        },
        "27106d736ec04df6810727bee77cbf51": {
          "model_module": "@jupyter-widgets/controls",
          "model_name": "HTMLModel",
          "model_module_version": "1.5.0",
          "state": {
            "_dom_classes": [],
            "_model_module": "@jupyter-widgets/controls",
            "_model_module_version": "1.5.0",
            "_model_name": "HTMLModel",
            "_view_count": null,
            "_view_module": "@jupyter-widgets/controls",
            "_view_module_version": "1.5.0",
            "_view_name": "HTMLView",
            "description": "",
            "description_tooltip": null,
            "layout": "IPY_MODEL_0f9d34c09ad54df593eb04eff5981fdf",
            "placeholder": "​",
            "style": "IPY_MODEL_bbb18f84e02e43da8da255cd0e91c661",
            "value": "vocab.txt: 100%"
          }
        },
        "f13a219be41645fdb8e50679fdc05458": {
          "model_module": "@jupyter-widgets/controls",
          "model_name": "FloatProgressModel",
          "model_module_version": "1.5.0",
          "state": {
            "_dom_classes": [],
            "_model_module": "@jupyter-widgets/controls",
            "_model_module_version": "1.5.0",
            "_model_name": "FloatProgressModel",
            "_view_count": null,
            "_view_module": "@jupyter-widgets/controls",
            "_view_module_version": "1.5.0",
            "_view_name": "ProgressView",
            "bar_style": "success",
            "description": "",
            "description_tooltip": null,
            "layout": "IPY_MODEL_7a5d9f244324499599a681f21b00d8a1",
            "max": 231508,
            "min": 0,
            "orientation": "horizontal",
            "style": "IPY_MODEL_68caa50b1bfe4f888fb8f02ce42ab2b6",
            "value": 231508
          }
        },
        "582525979a5542cab5f8e490ea77d2fd": {
          "model_module": "@jupyter-widgets/controls",
          "model_name": "HTMLModel",
          "model_module_version": "1.5.0",
          "state": {
            "_dom_classes": [],
            "_model_module": "@jupyter-widgets/controls",
            "_model_module_version": "1.5.0",
            "_model_name": "HTMLModel",
            "_view_count": null,
            "_view_module": "@jupyter-widgets/controls",
            "_view_module_version": "1.5.0",
            "_view_name": "HTMLView",
            "description": "",
            "description_tooltip": null,
            "layout": "IPY_MODEL_bd8b3dc887464081bf1f24502d2c115c",
            "placeholder": "​",
            "style": "IPY_MODEL_422f124c6843461d8ef40bf05f5707a9",
            "value": " 232k/232k [00:00&lt;00:00, 3.68MB/s]"
          }
        },
        "68e180703ed046f887579f45e02677c0": {
          "model_module": "@jupyter-widgets/base",
          "model_name": "LayoutModel",
          "model_module_version": "1.2.0",
          "state": {
            "_model_module": "@jupyter-widgets/base",
            "_model_module_version": "1.2.0",
            "_model_name": "LayoutModel",
            "_view_count": null,
            "_view_module": "@jupyter-widgets/base",
            "_view_module_version": "1.2.0",
            "_view_name": "LayoutView",
            "align_content": null,
            "align_items": null,
            "align_self": null,
            "border": null,
            "bottom": null,
            "display": null,
            "flex": null,
            "flex_flow": null,
            "grid_area": null,
            "grid_auto_columns": null,
            "grid_auto_flow": null,
            "grid_auto_rows": null,
            "grid_column": null,
            "grid_gap": null,
            "grid_row": null,
            "grid_template_areas": null,
            "grid_template_columns": null,
            "grid_template_rows": null,
            "height": null,
            "justify_content": null,
            "justify_items": null,
            "left": null,
            "margin": null,
            "max_height": null,
            "max_width": null,
            "min_height": null,
            "min_width": null,
            "object_fit": null,
            "object_position": null,
            "order": null,
            "overflow": null,
            "overflow_x": null,
            "overflow_y": null,
            "padding": null,
            "right": null,
            "top": null,
            "visibility": null,
            "width": null
          }
        },
        "0f9d34c09ad54df593eb04eff5981fdf": {
          "model_module": "@jupyter-widgets/base",
          "model_name": "LayoutModel",
          "model_module_version": "1.2.0",
          "state": {
            "_model_module": "@jupyter-widgets/base",
            "_model_module_version": "1.2.0",
            "_model_name": "LayoutModel",
            "_view_count": null,
            "_view_module": "@jupyter-widgets/base",
            "_view_module_version": "1.2.0",
            "_view_name": "LayoutView",
            "align_content": null,
            "align_items": null,
            "align_self": null,
            "border": null,
            "bottom": null,
            "display": null,
            "flex": null,
            "flex_flow": null,
            "grid_area": null,
            "grid_auto_columns": null,
            "grid_auto_flow": null,
            "grid_auto_rows": null,
            "grid_column": null,
            "grid_gap": null,
            "grid_row": null,
            "grid_template_areas": null,
            "grid_template_columns": null,
            "grid_template_rows": null,
            "height": null,
            "justify_content": null,
            "justify_items": null,
            "left": null,
            "margin": null,
            "max_height": null,
            "max_width": null,
            "min_height": null,
            "min_width": null,
            "object_fit": null,
            "object_position": null,
            "order": null,
            "overflow": null,
            "overflow_x": null,
            "overflow_y": null,
            "padding": null,
            "right": null,
            "top": null,
            "visibility": null,
            "width": null
          }
        },
        "bbb18f84e02e43da8da255cd0e91c661": {
          "model_module": "@jupyter-widgets/controls",
          "model_name": "DescriptionStyleModel",
          "model_module_version": "1.5.0",
          "state": {
            "_model_module": "@jupyter-widgets/controls",
            "_model_module_version": "1.5.0",
            "_model_name": "DescriptionStyleModel",
            "_view_count": null,
            "_view_module": "@jupyter-widgets/base",
            "_view_module_version": "1.2.0",
            "_view_name": "StyleView",
            "description_width": ""
          }
        },
        "7a5d9f244324499599a681f21b00d8a1": {
          "model_module": "@jupyter-widgets/base",
          "model_name": "LayoutModel",
          "model_module_version": "1.2.0",
          "state": {
            "_model_module": "@jupyter-widgets/base",
            "_model_module_version": "1.2.0",
            "_model_name": "LayoutModel",
            "_view_count": null,
            "_view_module": "@jupyter-widgets/base",
            "_view_module_version": "1.2.0",
            "_view_name": "LayoutView",
            "align_content": null,
            "align_items": null,
            "align_self": null,
            "border": null,
            "bottom": null,
            "display": null,
            "flex": null,
            "flex_flow": null,
            "grid_area": null,
            "grid_auto_columns": null,
            "grid_auto_flow": null,
            "grid_auto_rows": null,
            "grid_column": null,
            "grid_gap": null,
            "grid_row": null,
            "grid_template_areas": null,
            "grid_template_columns": null,
            "grid_template_rows": null,
            "height": null,
            "justify_content": null,
            "justify_items": null,
            "left": null,
            "margin": null,
            "max_height": null,
            "max_width": null,
            "min_height": null,
            "min_width": null,
            "object_fit": null,
            "object_position": null,
            "order": null,
            "overflow": null,
            "overflow_x": null,
            "overflow_y": null,
            "padding": null,
            "right": null,
            "top": null,
            "visibility": null,
            "width": null
          }
        },
        "68caa50b1bfe4f888fb8f02ce42ab2b6": {
          "model_module": "@jupyter-widgets/controls",
          "model_name": "ProgressStyleModel",
          "model_module_version": "1.5.0",
          "state": {
            "_model_module": "@jupyter-widgets/controls",
            "_model_module_version": "1.5.0",
            "_model_name": "ProgressStyleModel",
            "_view_count": null,
            "_view_module": "@jupyter-widgets/base",
            "_view_module_version": "1.2.0",
            "_view_name": "StyleView",
            "bar_color": null,
            "description_width": ""
          }
        },
        "bd8b3dc887464081bf1f24502d2c115c": {
          "model_module": "@jupyter-widgets/base",
          "model_name": "LayoutModel",
          "model_module_version": "1.2.0",
          "state": {
            "_model_module": "@jupyter-widgets/base",
            "_model_module_version": "1.2.0",
            "_model_name": "LayoutModel",
            "_view_count": null,
            "_view_module": "@jupyter-widgets/base",
            "_view_module_version": "1.2.0",
            "_view_name": "LayoutView",
            "align_content": null,
            "align_items": null,
            "align_self": null,
            "border": null,
            "bottom": null,
            "display": null,
            "flex": null,
            "flex_flow": null,
            "grid_area": null,
            "grid_auto_columns": null,
            "grid_auto_flow": null,
            "grid_auto_rows": null,
            "grid_column": null,
            "grid_gap": null,
            "grid_row": null,
            "grid_template_areas": null,
            "grid_template_columns": null,
            "grid_template_rows": null,
            "height": null,
            "justify_content": null,
            "justify_items": null,
            "left": null,
            "margin": null,
            "max_height": null,
            "max_width": null,
            "min_height": null,
            "min_width": null,
            "object_fit": null,
            "object_position": null,
            "order": null,
            "overflow": null,
            "overflow_x": null,
            "overflow_y": null,
            "padding": null,
            "right": null,
            "top": null,
            "visibility": null,
            "width": null
          }
        },
        "422f124c6843461d8ef40bf05f5707a9": {
          "model_module": "@jupyter-widgets/controls",
          "model_name": "DescriptionStyleModel",
          "model_module_version": "1.5.0",
          "state": {
            "_model_module": "@jupyter-widgets/controls",
            "_model_module_version": "1.5.0",
            "_model_name": "DescriptionStyleModel",
            "_view_count": null,
            "_view_module": "@jupyter-widgets/base",
            "_view_module_version": "1.2.0",
            "_view_name": "StyleView",
            "description_width": ""
          }
        },
        "cfe7634464f3426f88a5623469d2d61e": {
          "model_module": "@jupyter-widgets/controls",
          "model_name": "HBoxModel",
          "model_module_version": "1.5.0",
          "state": {
            "_dom_classes": [],
            "_model_module": "@jupyter-widgets/controls",
            "_model_module_version": "1.5.0",
            "_model_name": "HBoxModel",
            "_view_count": null,
            "_view_module": "@jupyter-widgets/controls",
            "_view_module_version": "1.5.0",
            "_view_name": "HBoxView",
            "box_style": "",
            "children": [
              "IPY_MODEL_b72439eaa07c43c79310f89dd35af713",
              "IPY_MODEL_e088367628be408c8ac9681c19a76925",
              "IPY_MODEL_9f17d2fd77d24e0cba40520033da8089"
            ],
            "layout": "IPY_MODEL_cd0815aee4a54cf69c21b10b69a42a1d"
          }
        },
        "b72439eaa07c43c79310f89dd35af713": {
          "model_module": "@jupyter-widgets/controls",
          "model_name": "HTMLModel",
          "model_module_version": "1.5.0",
          "state": {
            "_dom_classes": [],
            "_model_module": "@jupyter-widgets/controls",
            "_model_module_version": "1.5.0",
            "_model_name": "HTMLModel",
            "_view_count": null,
            "_view_module": "@jupyter-widgets/controls",
            "_view_module_version": "1.5.0",
            "_view_name": "HTMLView",
            "description": "",
            "description_tooltip": null,
            "layout": "IPY_MODEL_e1dee715ebac47eaaaacd080fcc54cac",
            "placeholder": "​",
            "style": "IPY_MODEL_d44036eed9bc4122991476f21269d382",
            "value": "tokenizer.json: 100%"
          }
        },
        "e088367628be408c8ac9681c19a76925": {
          "model_module": "@jupyter-widgets/controls",
          "model_name": "FloatProgressModel",
          "model_module_version": "1.5.0",
          "state": {
            "_dom_classes": [],
            "_model_module": "@jupyter-widgets/controls",
            "_model_module_version": "1.5.0",
            "_model_name": "FloatProgressModel",
            "_view_count": null,
            "_view_module": "@jupyter-widgets/controls",
            "_view_module_version": "1.5.0",
            "_view_name": "ProgressView",
            "bar_style": "success",
            "description": "",
            "description_tooltip": null,
            "layout": "IPY_MODEL_8f661830391e469c8bea9615de84ab45",
            "max": 466062,
            "min": 0,
            "orientation": "horizontal",
            "style": "IPY_MODEL_46df7ffdd7bd49809486cf3bc5e01081",
            "value": 466062
          }
        },
        "9f17d2fd77d24e0cba40520033da8089": {
          "model_module": "@jupyter-widgets/controls",
          "model_name": "HTMLModel",
          "model_module_version": "1.5.0",
          "state": {
            "_dom_classes": [],
            "_model_module": "@jupyter-widgets/controls",
            "_model_module_version": "1.5.0",
            "_model_name": "HTMLModel",
            "_view_count": null,
            "_view_module": "@jupyter-widgets/controls",
            "_view_module_version": "1.5.0",
            "_view_name": "HTMLView",
            "description": "",
            "description_tooltip": null,
            "layout": "IPY_MODEL_e271706df9d04be4a9af9bf6404778f5",
            "placeholder": "​",
            "style": "IPY_MODEL_82707cefbb93402fb841332b9508786c",
            "value": " 466k/466k [00:00&lt;00:00, 18.4MB/s]"
          }
        },
        "cd0815aee4a54cf69c21b10b69a42a1d": {
          "model_module": "@jupyter-widgets/base",
          "model_name": "LayoutModel",
          "model_module_version": "1.2.0",
          "state": {
            "_model_module": "@jupyter-widgets/base",
            "_model_module_version": "1.2.0",
            "_model_name": "LayoutModel",
            "_view_count": null,
            "_view_module": "@jupyter-widgets/base",
            "_view_module_version": "1.2.0",
            "_view_name": "LayoutView",
            "align_content": null,
            "align_items": null,
            "align_self": null,
            "border": null,
            "bottom": null,
            "display": null,
            "flex": null,
            "flex_flow": null,
            "grid_area": null,
            "grid_auto_columns": null,
            "grid_auto_flow": null,
            "grid_auto_rows": null,
            "grid_column": null,
            "grid_gap": null,
            "grid_row": null,
            "grid_template_areas": null,
            "grid_template_columns": null,
            "grid_template_rows": null,
            "height": null,
            "justify_content": null,
            "justify_items": null,
            "left": null,
            "margin": null,
            "max_height": null,
            "max_width": null,
            "min_height": null,
            "min_width": null,
            "object_fit": null,
            "object_position": null,
            "order": null,
            "overflow": null,
            "overflow_x": null,
            "overflow_y": null,
            "padding": null,
            "right": null,
            "top": null,
            "visibility": null,
            "width": null
          }
        },
        "e1dee715ebac47eaaaacd080fcc54cac": {
          "model_module": "@jupyter-widgets/base",
          "model_name": "LayoutModel",
          "model_module_version": "1.2.0",
          "state": {
            "_model_module": "@jupyter-widgets/base",
            "_model_module_version": "1.2.0",
            "_model_name": "LayoutModel",
            "_view_count": null,
            "_view_module": "@jupyter-widgets/base",
            "_view_module_version": "1.2.0",
            "_view_name": "LayoutView",
            "align_content": null,
            "align_items": null,
            "align_self": null,
            "border": null,
            "bottom": null,
            "display": null,
            "flex": null,
            "flex_flow": null,
            "grid_area": null,
            "grid_auto_columns": null,
            "grid_auto_flow": null,
            "grid_auto_rows": null,
            "grid_column": null,
            "grid_gap": null,
            "grid_row": null,
            "grid_template_areas": null,
            "grid_template_columns": null,
            "grid_template_rows": null,
            "height": null,
            "justify_content": null,
            "justify_items": null,
            "left": null,
            "margin": null,
            "max_height": null,
            "max_width": null,
            "min_height": null,
            "min_width": null,
            "object_fit": null,
            "object_position": null,
            "order": null,
            "overflow": null,
            "overflow_x": null,
            "overflow_y": null,
            "padding": null,
            "right": null,
            "top": null,
            "visibility": null,
            "width": null
          }
        },
        "d44036eed9bc4122991476f21269d382": {
          "model_module": "@jupyter-widgets/controls",
          "model_name": "DescriptionStyleModel",
          "model_module_version": "1.5.0",
          "state": {
            "_model_module": "@jupyter-widgets/controls",
            "_model_module_version": "1.5.0",
            "_model_name": "DescriptionStyleModel",
            "_view_count": null,
            "_view_module": "@jupyter-widgets/base",
            "_view_module_version": "1.2.0",
            "_view_name": "StyleView",
            "description_width": ""
          }
        },
        "8f661830391e469c8bea9615de84ab45": {
          "model_module": "@jupyter-widgets/base",
          "model_name": "LayoutModel",
          "model_module_version": "1.2.0",
          "state": {
            "_model_module": "@jupyter-widgets/base",
            "_model_module_version": "1.2.0",
            "_model_name": "LayoutModel",
            "_view_count": null,
            "_view_module": "@jupyter-widgets/base",
            "_view_module_version": "1.2.0",
            "_view_name": "LayoutView",
            "align_content": null,
            "align_items": null,
            "align_self": null,
            "border": null,
            "bottom": null,
            "display": null,
            "flex": null,
            "flex_flow": null,
            "grid_area": null,
            "grid_auto_columns": null,
            "grid_auto_flow": null,
            "grid_auto_rows": null,
            "grid_column": null,
            "grid_gap": null,
            "grid_row": null,
            "grid_template_areas": null,
            "grid_template_columns": null,
            "grid_template_rows": null,
            "height": null,
            "justify_content": null,
            "justify_items": null,
            "left": null,
            "margin": null,
            "max_height": null,
            "max_width": null,
            "min_height": null,
            "min_width": null,
            "object_fit": null,
            "object_position": null,
            "order": null,
            "overflow": null,
            "overflow_x": null,
            "overflow_y": null,
            "padding": null,
            "right": null,
            "top": null,
            "visibility": null,
            "width": null
          }
        },
        "46df7ffdd7bd49809486cf3bc5e01081": {
          "model_module": "@jupyter-widgets/controls",
          "model_name": "ProgressStyleModel",
          "model_module_version": "1.5.0",
          "state": {
            "_model_module": "@jupyter-widgets/controls",
            "_model_module_version": "1.5.0",
            "_model_name": "ProgressStyleModel",
            "_view_count": null,
            "_view_module": "@jupyter-widgets/base",
            "_view_module_version": "1.2.0",
            "_view_name": "StyleView",
            "bar_color": null,
            "description_width": ""
          }
        },
        "e271706df9d04be4a9af9bf6404778f5": {
          "model_module": "@jupyter-widgets/base",
          "model_name": "LayoutModel",
          "model_module_version": "1.2.0",
          "state": {
            "_model_module": "@jupyter-widgets/base",
            "_model_module_version": "1.2.0",
            "_model_name": "LayoutModel",
            "_view_count": null,
            "_view_module": "@jupyter-widgets/base",
            "_view_module_version": "1.2.0",
            "_view_name": "LayoutView",
            "align_content": null,
            "align_items": null,
            "align_self": null,
            "border": null,
            "bottom": null,
            "display": null,
            "flex": null,
            "flex_flow": null,
            "grid_area": null,
            "grid_auto_columns": null,
            "grid_auto_flow": null,
            "grid_auto_rows": null,
            "grid_column": null,
            "grid_gap": null,
            "grid_row": null,
            "grid_template_areas": null,
            "grid_template_columns": null,
            "grid_template_rows": null,
            "height": null,
            "justify_content": null,
            "justify_items": null,
            "left": null,
            "margin": null,
            "max_height": null,
            "max_width": null,
            "min_height": null,
            "min_width": null,
            "object_fit": null,
            "object_position": null,
            "order": null,
            "overflow": null,
            "overflow_x": null,
            "overflow_y": null,
            "padding": null,
            "right": null,
            "top": null,
            "visibility": null,
            "width": null
          }
        },
        "82707cefbb93402fb841332b9508786c": {
          "model_module": "@jupyter-widgets/controls",
          "model_name": "DescriptionStyleModel",
          "model_module_version": "1.5.0",
          "state": {
            "_model_module": "@jupyter-widgets/controls",
            "_model_module_version": "1.5.0",
            "_model_name": "DescriptionStyleModel",
            "_view_count": null,
            "_view_module": "@jupyter-widgets/base",
            "_view_module_version": "1.2.0",
            "_view_name": "StyleView",
            "description_width": ""
          }
        },
        "23575ed86c0a42018784ee8aa98fc5e9": {
          "model_module": "@jupyter-widgets/controls",
          "model_name": "HBoxModel",
          "model_module_version": "1.5.0",
          "state": {
            "_dom_classes": [],
            "_model_module": "@jupyter-widgets/controls",
            "_model_module_version": "1.5.0",
            "_model_name": "HBoxModel",
            "_view_count": null,
            "_view_module": "@jupyter-widgets/controls",
            "_view_module_version": "1.5.0",
            "_view_name": "HBoxView",
            "box_style": "",
            "children": [
              "IPY_MODEL_2eff3698d14a4d919b65de5fe9d0ea0e",
              "IPY_MODEL_843c1ca9b9234c3b9ac1114f0995051a",
              "IPY_MODEL_a0acf2c843d548d5bed46a2587aa88c0"
            ],
            "layout": "IPY_MODEL_ec2d6e5c03014ac6b6a3f98d3171db5b"
          }
        },
        "2eff3698d14a4d919b65de5fe9d0ea0e": {
          "model_module": "@jupyter-widgets/controls",
          "model_name": "HTMLModel",
          "model_module_version": "1.5.0",
          "state": {
            "_dom_classes": [],
            "_model_module": "@jupyter-widgets/controls",
            "_model_module_version": "1.5.0",
            "_model_name": "HTMLModel",
            "_view_count": null,
            "_view_module": "@jupyter-widgets/controls",
            "_view_module_version": "1.5.0",
            "_view_name": "HTMLView",
            "description": "",
            "description_tooltip": null,
            "layout": "IPY_MODEL_d6a56347230e48f5ae224165a7080cf9",
            "placeholder": "​",
            "style": "IPY_MODEL_27d01c7c9860491ca654e13311b88a61",
            "value": "config.json: 100%"
          }
        },
        "843c1ca9b9234c3b9ac1114f0995051a": {
          "model_module": "@jupyter-widgets/controls",
          "model_name": "FloatProgressModel",
          "model_module_version": "1.5.0",
          "state": {
            "_dom_classes": [],
            "_model_module": "@jupyter-widgets/controls",
            "_model_module_version": "1.5.0",
            "_model_name": "FloatProgressModel",
            "_view_count": null,
            "_view_module": "@jupyter-widgets/controls",
            "_view_module_version": "1.5.0",
            "_view_name": "ProgressView",
            "bar_style": "success",
            "description": "",
            "description_tooltip": null,
            "layout": "IPY_MODEL_fa3fec74d45d4f7ea5b4674b24f52368",
            "max": 570,
            "min": 0,
            "orientation": "horizontal",
            "style": "IPY_MODEL_3e93e5a171024b26b2cba7680f0a5359",
            "value": 570
          }
        },
        "a0acf2c843d548d5bed46a2587aa88c0": {
          "model_module": "@jupyter-widgets/controls",
          "model_name": "HTMLModel",
          "model_module_version": "1.5.0",
          "state": {
            "_dom_classes": [],
            "_model_module": "@jupyter-widgets/controls",
            "_model_module_version": "1.5.0",
            "_model_name": "HTMLModel",
            "_view_count": null,
            "_view_module": "@jupyter-widgets/controls",
            "_view_module_version": "1.5.0",
            "_view_name": "HTMLView",
            "description": "",
            "description_tooltip": null,
            "layout": "IPY_MODEL_53187ff116ef42dfa9dbf7a58caa8910",
            "placeholder": "​",
            "style": "IPY_MODEL_3461c8af2a4c4af186f5749f310526e4",
            "value": " 570/570 [00:00&lt;00:00, 62.7kB/s]"
          }
        },
        "ec2d6e5c03014ac6b6a3f98d3171db5b": {
          "model_module": "@jupyter-widgets/base",
          "model_name": "LayoutModel",
          "model_module_version": "1.2.0",
          "state": {
            "_model_module": "@jupyter-widgets/base",
            "_model_module_version": "1.2.0",
            "_model_name": "LayoutModel",
            "_view_count": null,
            "_view_module": "@jupyter-widgets/base",
            "_view_module_version": "1.2.0",
            "_view_name": "LayoutView",
            "align_content": null,
            "align_items": null,
            "align_self": null,
            "border": null,
            "bottom": null,
            "display": null,
            "flex": null,
            "flex_flow": null,
            "grid_area": null,
            "grid_auto_columns": null,
            "grid_auto_flow": null,
            "grid_auto_rows": null,
            "grid_column": null,
            "grid_gap": null,
            "grid_row": null,
            "grid_template_areas": null,
            "grid_template_columns": null,
            "grid_template_rows": null,
            "height": null,
            "justify_content": null,
            "justify_items": null,
            "left": null,
            "margin": null,
            "max_height": null,
            "max_width": null,
            "min_height": null,
            "min_width": null,
            "object_fit": null,
            "object_position": null,
            "order": null,
            "overflow": null,
            "overflow_x": null,
            "overflow_y": null,
            "padding": null,
            "right": null,
            "top": null,
            "visibility": null,
            "width": null
          }
        },
        "d6a56347230e48f5ae224165a7080cf9": {
          "model_module": "@jupyter-widgets/base",
          "model_name": "LayoutModel",
          "model_module_version": "1.2.0",
          "state": {
            "_model_module": "@jupyter-widgets/base",
            "_model_module_version": "1.2.0",
            "_model_name": "LayoutModel",
            "_view_count": null,
            "_view_module": "@jupyter-widgets/base",
            "_view_module_version": "1.2.0",
            "_view_name": "LayoutView",
            "align_content": null,
            "align_items": null,
            "align_self": null,
            "border": null,
            "bottom": null,
            "display": null,
            "flex": null,
            "flex_flow": null,
            "grid_area": null,
            "grid_auto_columns": null,
            "grid_auto_flow": null,
            "grid_auto_rows": null,
            "grid_column": null,
            "grid_gap": null,
            "grid_row": null,
            "grid_template_areas": null,
            "grid_template_columns": null,
            "grid_template_rows": null,
            "height": null,
            "justify_content": null,
            "justify_items": null,
            "left": null,
            "margin": null,
            "max_height": null,
            "max_width": null,
            "min_height": null,
            "min_width": null,
            "object_fit": null,
            "object_position": null,
            "order": null,
            "overflow": null,
            "overflow_x": null,
            "overflow_y": null,
            "padding": null,
            "right": null,
            "top": null,
            "visibility": null,
            "width": null
          }
        },
        "27d01c7c9860491ca654e13311b88a61": {
          "model_module": "@jupyter-widgets/controls",
          "model_name": "DescriptionStyleModel",
          "model_module_version": "1.5.0",
          "state": {
            "_model_module": "@jupyter-widgets/controls",
            "_model_module_version": "1.5.0",
            "_model_name": "DescriptionStyleModel",
            "_view_count": null,
            "_view_module": "@jupyter-widgets/base",
            "_view_module_version": "1.2.0",
            "_view_name": "StyleView",
            "description_width": ""
          }
        },
        "fa3fec74d45d4f7ea5b4674b24f52368": {
          "model_module": "@jupyter-widgets/base",
          "model_name": "LayoutModel",
          "model_module_version": "1.2.0",
          "state": {
            "_model_module": "@jupyter-widgets/base",
            "_model_module_version": "1.2.0",
            "_model_name": "LayoutModel",
            "_view_count": null,
            "_view_module": "@jupyter-widgets/base",
            "_view_module_version": "1.2.0",
            "_view_name": "LayoutView",
            "align_content": null,
            "align_items": null,
            "align_self": null,
            "border": null,
            "bottom": null,
            "display": null,
            "flex": null,
            "flex_flow": null,
            "grid_area": null,
            "grid_auto_columns": null,
            "grid_auto_flow": null,
            "grid_auto_rows": null,
            "grid_column": null,
            "grid_gap": null,
            "grid_row": null,
            "grid_template_areas": null,
            "grid_template_columns": null,
            "grid_template_rows": null,
            "height": null,
            "justify_content": null,
            "justify_items": null,
            "left": null,
            "margin": null,
            "max_height": null,
            "max_width": null,
            "min_height": null,
            "min_width": null,
            "object_fit": null,
            "object_position": null,
            "order": null,
            "overflow": null,
            "overflow_x": null,
            "overflow_y": null,
            "padding": null,
            "right": null,
            "top": null,
            "visibility": null,
            "width": null
          }
        },
        "3e93e5a171024b26b2cba7680f0a5359": {
          "model_module": "@jupyter-widgets/controls",
          "model_name": "ProgressStyleModel",
          "model_module_version": "1.5.0",
          "state": {
            "_model_module": "@jupyter-widgets/controls",
            "_model_module_version": "1.5.0",
            "_model_name": "ProgressStyleModel",
            "_view_count": null,
            "_view_module": "@jupyter-widgets/base",
            "_view_module_version": "1.2.0",
            "_view_name": "StyleView",
            "bar_color": null,
            "description_width": ""
          }
        },
        "53187ff116ef42dfa9dbf7a58caa8910": {
          "model_module": "@jupyter-widgets/base",
          "model_name": "LayoutModel",
          "model_module_version": "1.2.0",
          "state": {
            "_model_module": "@jupyter-widgets/base",
            "_model_module_version": "1.2.0",
            "_model_name": "LayoutModel",
            "_view_count": null,
            "_view_module": "@jupyter-widgets/base",
            "_view_module_version": "1.2.0",
            "_view_name": "LayoutView",
            "align_content": null,
            "align_items": null,
            "align_self": null,
            "border": null,
            "bottom": null,
            "display": null,
            "flex": null,
            "flex_flow": null,
            "grid_area": null,
            "grid_auto_columns": null,
            "grid_auto_flow": null,
            "grid_auto_rows": null,
            "grid_column": null,
            "grid_gap": null,
            "grid_row": null,
            "grid_template_areas": null,
            "grid_template_columns": null,
            "grid_template_rows": null,
            "height": null,
            "justify_content": null,
            "justify_items": null,
            "left": null,
            "margin": null,
            "max_height": null,
            "max_width": null,
            "min_height": null,
            "min_width": null,
            "object_fit": null,
            "object_position": null,
            "order": null,
            "overflow": null,
            "overflow_x": null,
            "overflow_y": null,
            "padding": null,
            "right": null,
            "top": null,
            "visibility": null,
            "width": null
          }
        },
        "3461c8af2a4c4af186f5749f310526e4": {
          "model_module": "@jupyter-widgets/controls",
          "model_name": "DescriptionStyleModel",
          "model_module_version": "1.5.0",
          "state": {
            "_model_module": "@jupyter-widgets/controls",
            "_model_module_version": "1.5.0",
            "_model_name": "DescriptionStyleModel",
            "_view_count": null,
            "_view_module": "@jupyter-widgets/base",
            "_view_module_version": "1.2.0",
            "_view_name": "StyleView",
            "description_width": ""
          }
        },
        "6bdb636241c9454ba60ab98e4a505f10": {
          "model_module": "@jupyter-widgets/controls",
          "model_name": "HBoxModel",
          "model_module_version": "1.5.0",
          "state": {
            "_dom_classes": [],
            "_model_module": "@jupyter-widgets/controls",
            "_model_module_version": "1.5.0",
            "_model_name": "HBoxModel",
            "_view_count": null,
            "_view_module": "@jupyter-widgets/controls",
            "_view_module_version": "1.5.0",
            "_view_name": "HBoxView",
            "box_style": "",
            "children": [
              "IPY_MODEL_2e2bcdec79dc43ac806912a3addc194e",
              "IPY_MODEL_189f5d77da5d4f34b66e81daaec803b9",
              "IPY_MODEL_7f002f91ce71483c88412593c71cce77"
            ],
            "layout": "IPY_MODEL_f1418b7c19984d38a332cbceb7055836"
          }
        },
        "2e2bcdec79dc43ac806912a3addc194e": {
          "model_module": "@jupyter-widgets/controls",
          "model_name": "HTMLModel",
          "model_module_version": "1.5.0",
          "state": {
            "_dom_classes": [],
            "_model_module": "@jupyter-widgets/controls",
            "_model_module_version": "1.5.0",
            "_model_name": "HTMLModel",
            "_view_count": null,
            "_view_module": "@jupyter-widgets/controls",
            "_view_module_version": "1.5.0",
            "_view_name": "HTMLView",
            "description": "",
            "description_tooltip": null,
            "layout": "IPY_MODEL_2a2d38f3dc3749beb63673cc6e4c18cd",
            "placeholder": "​",
            "style": "IPY_MODEL_d8f32a1ff0a34b1dbc109208cc8a3fc2",
            "value": "model.safetensors: 100%"
          }
        },
        "189f5d77da5d4f34b66e81daaec803b9": {
          "model_module": "@jupyter-widgets/controls",
          "model_name": "FloatProgressModel",
          "model_module_version": "1.5.0",
          "state": {
            "_dom_classes": [],
            "_model_module": "@jupyter-widgets/controls",
            "_model_module_version": "1.5.0",
            "_model_name": "FloatProgressModel",
            "_view_count": null,
            "_view_module": "@jupyter-widgets/controls",
            "_view_module_version": "1.5.0",
            "_view_name": "ProgressView",
            "bar_style": "success",
            "description": "",
            "description_tooltip": null,
            "layout": "IPY_MODEL_a605cabaa63345bc95bde9afe12c953f",
            "max": 440449768,
            "min": 0,
            "orientation": "horizontal",
            "style": "IPY_MODEL_cc63fa10c2084a5db481a3fce10e46e9",
            "value": 440449768
          }
        },
        "7f002f91ce71483c88412593c71cce77": {
          "model_module": "@jupyter-widgets/controls",
          "model_name": "HTMLModel",
          "model_module_version": "1.5.0",
          "state": {
            "_dom_classes": [],
            "_model_module": "@jupyter-widgets/controls",
            "_model_module_version": "1.5.0",
            "_model_name": "HTMLModel",
            "_view_count": null,
            "_view_module": "@jupyter-widgets/controls",
            "_view_module_version": "1.5.0",
            "_view_name": "HTMLView",
            "description": "",
            "description_tooltip": null,
            "layout": "IPY_MODEL_62a9540894df4e80b3b3e3df3f028c3d",
            "placeholder": "​",
            "style": "IPY_MODEL_78a4c786fc4b4c7f8dcd324b0163f3d3",
            "value": " 440M/440M [00:01&lt;00:00, 276MB/s]"
          }
        },
        "f1418b7c19984d38a332cbceb7055836": {
          "model_module": "@jupyter-widgets/base",
          "model_name": "LayoutModel",
          "model_module_version": "1.2.0",
          "state": {
            "_model_module": "@jupyter-widgets/base",
            "_model_module_version": "1.2.0",
            "_model_name": "LayoutModel",
            "_view_count": null,
            "_view_module": "@jupyter-widgets/base",
            "_view_module_version": "1.2.0",
            "_view_name": "LayoutView",
            "align_content": null,
            "align_items": null,
            "align_self": null,
            "border": null,
            "bottom": null,
            "display": null,
            "flex": null,
            "flex_flow": null,
            "grid_area": null,
            "grid_auto_columns": null,
            "grid_auto_flow": null,
            "grid_auto_rows": null,
            "grid_column": null,
            "grid_gap": null,
            "grid_row": null,
            "grid_template_areas": null,
            "grid_template_columns": null,
            "grid_template_rows": null,
            "height": null,
            "justify_content": null,
            "justify_items": null,
            "left": null,
            "margin": null,
            "max_height": null,
            "max_width": null,
            "min_height": null,
            "min_width": null,
            "object_fit": null,
            "object_position": null,
            "order": null,
            "overflow": null,
            "overflow_x": null,
            "overflow_y": null,
            "padding": null,
            "right": null,
            "top": null,
            "visibility": null,
            "width": null
          }
        },
        "2a2d38f3dc3749beb63673cc6e4c18cd": {
          "model_module": "@jupyter-widgets/base",
          "model_name": "LayoutModel",
          "model_module_version": "1.2.0",
          "state": {
            "_model_module": "@jupyter-widgets/base",
            "_model_module_version": "1.2.0",
            "_model_name": "LayoutModel",
            "_view_count": null,
            "_view_module": "@jupyter-widgets/base",
            "_view_module_version": "1.2.0",
            "_view_name": "LayoutView",
            "align_content": null,
            "align_items": null,
            "align_self": null,
            "border": null,
            "bottom": null,
            "display": null,
            "flex": null,
            "flex_flow": null,
            "grid_area": null,
            "grid_auto_columns": null,
            "grid_auto_flow": null,
            "grid_auto_rows": null,
            "grid_column": null,
            "grid_gap": null,
            "grid_row": null,
            "grid_template_areas": null,
            "grid_template_columns": null,
            "grid_template_rows": null,
            "height": null,
            "justify_content": null,
            "justify_items": null,
            "left": null,
            "margin": null,
            "max_height": null,
            "max_width": null,
            "min_height": null,
            "min_width": null,
            "object_fit": null,
            "object_position": null,
            "order": null,
            "overflow": null,
            "overflow_x": null,
            "overflow_y": null,
            "padding": null,
            "right": null,
            "top": null,
            "visibility": null,
            "width": null
          }
        },
        "d8f32a1ff0a34b1dbc109208cc8a3fc2": {
          "model_module": "@jupyter-widgets/controls",
          "model_name": "DescriptionStyleModel",
          "model_module_version": "1.5.0",
          "state": {
            "_model_module": "@jupyter-widgets/controls",
            "_model_module_version": "1.5.0",
            "_model_name": "DescriptionStyleModel",
            "_view_count": null,
            "_view_module": "@jupyter-widgets/base",
            "_view_module_version": "1.2.0",
            "_view_name": "StyleView",
            "description_width": ""
          }
        },
        "a605cabaa63345bc95bde9afe12c953f": {
          "model_module": "@jupyter-widgets/base",
          "model_name": "LayoutModel",
          "model_module_version": "1.2.0",
          "state": {
            "_model_module": "@jupyter-widgets/base",
            "_model_module_version": "1.2.0",
            "_model_name": "LayoutModel",
            "_view_count": null,
            "_view_module": "@jupyter-widgets/base",
            "_view_module_version": "1.2.0",
            "_view_name": "LayoutView",
            "align_content": null,
            "align_items": null,
            "align_self": null,
            "border": null,
            "bottom": null,
            "display": null,
            "flex": null,
            "flex_flow": null,
            "grid_area": null,
            "grid_auto_columns": null,
            "grid_auto_flow": null,
            "grid_auto_rows": null,
            "grid_column": null,
            "grid_gap": null,
            "grid_row": null,
            "grid_template_areas": null,
            "grid_template_columns": null,
            "grid_template_rows": null,
            "height": null,
            "justify_content": null,
            "justify_items": null,
            "left": null,
            "margin": null,
            "max_height": null,
            "max_width": null,
            "min_height": null,
            "min_width": null,
            "object_fit": null,
            "object_position": null,
            "order": null,
            "overflow": null,
            "overflow_x": null,
            "overflow_y": null,
            "padding": null,
            "right": null,
            "top": null,
            "visibility": null,
            "width": null
          }
        },
        "cc63fa10c2084a5db481a3fce10e46e9": {
          "model_module": "@jupyter-widgets/controls",
          "model_name": "ProgressStyleModel",
          "model_module_version": "1.5.0",
          "state": {
            "_model_module": "@jupyter-widgets/controls",
            "_model_module_version": "1.5.0",
            "_model_name": "ProgressStyleModel",
            "_view_count": null,
            "_view_module": "@jupyter-widgets/base",
            "_view_module_version": "1.2.0",
            "_view_name": "StyleView",
            "bar_color": null,
            "description_width": ""
          }
        },
        "62a9540894df4e80b3b3e3df3f028c3d": {
          "model_module": "@jupyter-widgets/base",
          "model_name": "LayoutModel",
          "model_module_version": "1.2.0",
          "state": {
            "_model_module": "@jupyter-widgets/base",
            "_model_module_version": "1.2.0",
            "_model_name": "LayoutModel",
            "_view_count": null,
            "_view_module": "@jupyter-widgets/base",
            "_view_module_version": "1.2.0",
            "_view_name": "LayoutView",
            "align_content": null,
            "align_items": null,
            "align_self": null,
            "border": null,
            "bottom": null,
            "display": null,
            "flex": null,
            "flex_flow": null,
            "grid_area": null,
            "grid_auto_columns": null,
            "grid_auto_flow": null,
            "grid_auto_rows": null,
            "grid_column": null,
            "grid_gap": null,
            "grid_row": null,
            "grid_template_areas": null,
            "grid_template_columns": null,
            "grid_template_rows": null,
            "height": null,
            "justify_content": null,
            "justify_items": null,
            "left": null,
            "margin": null,
            "max_height": null,
            "max_width": null,
            "min_height": null,
            "min_width": null,
            "object_fit": null,
            "object_position": null,
            "order": null,
            "overflow": null,
            "overflow_x": null,
            "overflow_y": null,
            "padding": null,
            "right": null,
            "top": null,
            "visibility": null,
            "width": null
          }
        },
        "78a4c786fc4b4c7f8dcd324b0163f3d3": {
          "model_module": "@jupyter-widgets/controls",
          "model_name": "DescriptionStyleModel",
          "model_module_version": "1.5.0",
          "state": {
            "_model_module": "@jupyter-widgets/controls",
            "_model_module_version": "1.5.0",
            "_model_name": "DescriptionStyleModel",
            "_view_count": null,
            "_view_module": "@jupyter-widgets/base",
            "_view_module_version": "1.2.0",
            "_view_name": "StyleView",
            "description_width": ""
          }
        },
        "ade62a2da49f43519cb15508563d14c3": {
          "model_module": "@jupyter-widgets/controls",
          "model_name": "HBoxModel",
          "model_module_version": "1.5.0",
          "state": {
            "_dom_classes": [],
            "_model_module": "@jupyter-widgets/controls",
            "_model_module_version": "1.5.0",
            "_model_name": "HBoxModel",
            "_view_count": null,
            "_view_module": "@jupyter-widgets/controls",
            "_view_module_version": "1.5.0",
            "_view_name": "HBoxView",
            "box_style": "",
            "children": [
              "IPY_MODEL_1edc3bf5df594fbfa5799130b4c37ba0",
              "IPY_MODEL_c09470f2068c4737a07da9379362d40e",
              "IPY_MODEL_fb402eb32158486b996211e510fb0d55"
            ],
            "layout": "IPY_MODEL_c5a38dc8b6f54a82863c66988425e2d6"
          }
        },
        "1edc3bf5df594fbfa5799130b4c37ba0": {
          "model_module": "@jupyter-widgets/controls",
          "model_name": "HTMLModel",
          "model_module_version": "1.5.0",
          "state": {
            "_dom_classes": [],
            "_model_module": "@jupyter-widgets/controls",
            "_model_module_version": "1.5.0",
            "_model_name": "HTMLModel",
            "_view_count": null,
            "_view_module": "@jupyter-widgets/controls",
            "_view_module_version": "1.5.0",
            "_view_name": "HTMLView",
            "description": "",
            "description_tooltip": null,
            "layout": "IPY_MODEL_adbfabed0d0a4266af9487bc150079f7",
            "placeholder": "​",
            "style": "IPY_MODEL_ace9ecca299149b09f16b019f259e4e4",
            "value": "Processing:  60%"
          }
        },
        "c09470f2068c4737a07da9379362d40e": {
          "model_module": "@jupyter-widgets/controls",
          "model_name": "FloatProgressModel",
          "model_module_version": "1.5.0",
          "state": {
            "_dom_classes": [],
            "_model_module": "@jupyter-widgets/controls",
            "_model_module_version": "1.5.0",
            "_model_name": "FloatProgressModel",
            "_view_count": null,
            "_view_module": "@jupyter-widgets/controls",
            "_view_module_version": "1.5.0",
            "_view_name": "ProgressView",
            "bar_style": "",
            "description": "",
            "description_tooltip": null,
            "layout": "IPY_MODEL_4bc33dae9b704041b2586b30206dc358",
            "max": 65,
            "min": 0,
            "orientation": "horizontal",
            "style": "IPY_MODEL_77c6b6c6a6b64032ab68b6afd3d48dd0",
            "value": 39
          }
        },
        "fb402eb32158486b996211e510fb0d55": {
          "model_module": "@jupyter-widgets/controls",
          "model_name": "HTMLModel",
          "model_module_version": "1.5.0",
          "state": {
            "_dom_classes": [],
            "_model_module": "@jupyter-widgets/controls",
            "_model_module_version": "1.5.0",
            "_model_name": "HTMLModel",
            "_view_count": null,
            "_view_module": "@jupyter-widgets/controls",
            "_view_module_version": "1.5.0",
            "_view_name": "HTMLView",
            "description": "",
            "description_tooltip": null,
            "layout": "IPY_MODEL_800a0ee6233141d0aab3d2e1a0886287",
            "placeholder": "​",
            "style": "IPY_MODEL_5ed099c96fc44e5abf4f48379f1acdef",
            "value": " 39/65 [4:24:51&lt;3:14:57, 449.89s/it]"
          }
        },
        "c5a38dc8b6f54a82863c66988425e2d6": {
          "model_module": "@jupyter-widgets/base",
          "model_name": "LayoutModel",
          "model_module_version": "1.2.0",
          "state": {
            "_model_module": "@jupyter-widgets/base",
            "_model_module_version": "1.2.0",
            "_model_name": "LayoutModel",
            "_view_count": null,
            "_view_module": "@jupyter-widgets/base",
            "_view_module_version": "1.2.0",
            "_view_name": "LayoutView",
            "align_content": null,
            "align_items": null,
            "align_self": null,
            "border": null,
            "bottom": null,
            "display": null,
            "flex": null,
            "flex_flow": null,
            "grid_area": null,
            "grid_auto_columns": null,
            "grid_auto_flow": null,
            "grid_auto_rows": null,
            "grid_column": null,
            "grid_gap": null,
            "grid_row": null,
            "grid_template_areas": null,
            "grid_template_columns": null,
            "grid_template_rows": null,
            "height": null,
            "justify_content": null,
            "justify_items": null,
            "left": null,
            "margin": null,
            "max_height": null,
            "max_width": null,
            "min_height": null,
            "min_width": null,
            "object_fit": null,
            "object_position": null,
            "order": null,
            "overflow": null,
            "overflow_x": null,
            "overflow_y": null,
            "padding": null,
            "right": null,
            "top": null,
            "visibility": null,
            "width": null
          }
        },
        "adbfabed0d0a4266af9487bc150079f7": {
          "model_module": "@jupyter-widgets/base",
          "model_name": "LayoutModel",
          "model_module_version": "1.2.0",
          "state": {
            "_model_module": "@jupyter-widgets/base",
            "_model_module_version": "1.2.0",
            "_model_name": "LayoutModel",
            "_view_count": null,
            "_view_module": "@jupyter-widgets/base",
            "_view_module_version": "1.2.0",
            "_view_name": "LayoutView",
            "align_content": null,
            "align_items": null,
            "align_self": null,
            "border": null,
            "bottom": null,
            "display": null,
            "flex": null,
            "flex_flow": null,
            "grid_area": null,
            "grid_auto_columns": null,
            "grid_auto_flow": null,
            "grid_auto_rows": null,
            "grid_column": null,
            "grid_gap": null,
            "grid_row": null,
            "grid_template_areas": null,
            "grid_template_columns": null,
            "grid_template_rows": null,
            "height": null,
            "justify_content": null,
            "justify_items": null,
            "left": null,
            "margin": null,
            "max_height": null,
            "max_width": null,
            "min_height": null,
            "min_width": null,
            "object_fit": null,
            "object_position": null,
            "order": null,
            "overflow": null,
            "overflow_x": null,
            "overflow_y": null,
            "padding": null,
            "right": null,
            "top": null,
            "visibility": null,
            "width": null
          }
        },
        "ace9ecca299149b09f16b019f259e4e4": {
          "model_module": "@jupyter-widgets/controls",
          "model_name": "DescriptionStyleModel",
          "model_module_version": "1.5.0",
          "state": {
            "_model_module": "@jupyter-widgets/controls",
            "_model_module_version": "1.5.0",
            "_model_name": "DescriptionStyleModel",
            "_view_count": null,
            "_view_module": "@jupyter-widgets/base",
            "_view_module_version": "1.2.0",
            "_view_name": "StyleView",
            "description_width": ""
          }
        },
        "4bc33dae9b704041b2586b30206dc358": {
          "model_module": "@jupyter-widgets/base",
          "model_name": "LayoutModel",
          "model_module_version": "1.2.0",
          "state": {
            "_model_module": "@jupyter-widgets/base",
            "_model_module_version": "1.2.0",
            "_model_name": "LayoutModel",
            "_view_count": null,
            "_view_module": "@jupyter-widgets/base",
            "_view_module_version": "1.2.0",
            "_view_name": "LayoutView",
            "align_content": null,
            "align_items": null,
            "align_self": null,
            "border": null,
            "bottom": null,
            "display": null,
            "flex": null,
            "flex_flow": null,
            "grid_area": null,
            "grid_auto_columns": null,
            "grid_auto_flow": null,
            "grid_auto_rows": null,
            "grid_column": null,
            "grid_gap": null,
            "grid_row": null,
            "grid_template_areas": null,
            "grid_template_columns": null,
            "grid_template_rows": null,
            "height": null,
            "justify_content": null,
            "justify_items": null,
            "left": null,
            "margin": null,
            "max_height": null,
            "max_width": null,
            "min_height": null,
            "min_width": null,
            "object_fit": null,
            "object_position": null,
            "order": null,
            "overflow": null,
            "overflow_x": null,
            "overflow_y": null,
            "padding": null,
            "right": null,
            "top": null,
            "visibility": null,
            "width": null
          }
        },
        "77c6b6c6a6b64032ab68b6afd3d48dd0": {
          "model_module": "@jupyter-widgets/controls",
          "model_name": "ProgressStyleModel",
          "model_module_version": "1.5.0",
          "state": {
            "_model_module": "@jupyter-widgets/controls",
            "_model_module_version": "1.5.0",
            "_model_name": "ProgressStyleModel",
            "_view_count": null,
            "_view_module": "@jupyter-widgets/base",
            "_view_module_version": "1.2.0",
            "_view_name": "StyleView",
            "bar_color": null,
            "description_width": ""
          }
        },
        "800a0ee6233141d0aab3d2e1a0886287": {
          "model_module": "@jupyter-widgets/base",
          "model_name": "LayoutModel",
          "model_module_version": "1.2.0",
          "state": {
            "_model_module": "@jupyter-widgets/base",
            "_model_module_version": "1.2.0",
            "_model_name": "LayoutModel",
            "_view_count": null,
            "_view_module": "@jupyter-widgets/base",
            "_view_module_version": "1.2.0",
            "_view_name": "LayoutView",
            "align_content": null,
            "align_items": null,
            "align_self": null,
            "border": null,
            "bottom": null,
            "display": null,
            "flex": null,
            "flex_flow": null,
            "grid_area": null,
            "grid_auto_columns": null,
            "grid_auto_flow": null,
            "grid_auto_rows": null,
            "grid_column": null,
            "grid_gap": null,
            "grid_row": null,
            "grid_template_areas": null,
            "grid_template_columns": null,
            "grid_template_rows": null,
            "height": null,
            "justify_content": null,
            "justify_items": null,
            "left": null,
            "margin": null,
            "max_height": null,
            "max_width": null,
            "min_height": null,
            "min_width": null,
            "object_fit": null,
            "object_position": null,
            "order": null,
            "overflow": null,
            "overflow_x": null,
            "overflow_y": null,
            "padding": null,
            "right": null,
            "top": null,
            "visibility": null,
            "width": null
          }
        },
        "5ed099c96fc44e5abf4f48379f1acdef": {
          "model_module": "@jupyter-widgets/controls",
          "model_name": "DescriptionStyleModel",
          "model_module_version": "1.5.0",
          "state": {
            "_model_module": "@jupyter-widgets/controls",
            "_model_module_version": "1.5.0",
            "_model_name": "DescriptionStyleModel",
            "_view_count": null,
            "_view_module": "@jupyter-widgets/base",
            "_view_module_version": "1.2.0",
            "_view_name": "StyleView",
            "description_width": ""
          }
        }
      }
    }
  },
  "nbformat": 4,
  "nbformat_minor": 0
}