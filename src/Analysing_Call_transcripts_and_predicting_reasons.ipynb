{
  "cells": [
    {
      "cell_type": "code",
      "execution_count": null,
      "metadata": {
        "colab": {
          "base_uri": "https://localhost:8080/"
        },
        "id": "AdAs0npnWZBO",
        "outputId": "fe9921b8-1c52-497e-b1c0-2000139122e0"
      },
      "outputs": [
        {
          "output_type": "stream",
          "name": "stdout",
          "text": [
            "Mounted at /content/drive\n"
          ]
        }
      ],
      "source": [
        "from google.colab import drive\n",
        "drive.mount('/content/drive')\n"
      ]
    },
    {
      "cell_type": "code",
      "execution_count": null,
      "metadata": {
        "id": "1r8o9pWUarLh"
      },
      "outputs": [],
      "source": [
        "import pandas as pd\n",
        "import os"
      ]
    },
    {
      "cell_type": "code",
      "execution_count": null,
      "metadata": {
        "id": "mZuNLhAEatho"
      },
      "outputs": [],
      "source": [
        "folder_path = '/content/drive/My Drive/United Airlines'"
      ]
    },
    {
      "cell_type": "code",
      "execution_count": null,
      "metadata": {
        "id": "G0T70R-tXmtH"
      },
      "outputs": [],
      "source": [
        "f1 = os.path.join(folder_path, 'callsf0d4f5a.csv')\n",
        "f2 = os.path.join(folder_path, 'customers2afd6ea.csv')\n",
        "f3 = os.path.join(folder_path, 'reason18315ff.csv')\n",
        "f4 = os.path.join(folder_path, 'sentiment_statisticscc1e57a.csv')\n",
        "f5 = os.path.join(folder_path, 'testbc7185d.csv')\n",
        "try:\n",
        "  call_df = pd.read_csv(f1)\n",
        "  customer_df = pd.read_csv(f2)\n",
        "  reason_df = pd.read_csv(f3)\n",
        "  sentiment_df = pd.read_csv(f4)\n",
        "  test_df = pd.read_csv(f5)\n",
        "except FileNotFoundError:\n",
        "  print(f\"File not found\")\n"
      ]
    },
    {
      "cell_type": "markdown",
      "source": [
        "#Cleaning Primary_call_Reasons by NLP techniques"
      ],
      "metadata": {
        "id": "keo5YCRlfYz5"
      }
    },
    {
      "cell_type": "code",
      "source": [
        "reason_df['primary_call_reason'] = reason_df['primary_call_reason'].str.replace('[^\\w\\s]', ' ', regex=True)"
      ],
      "metadata": {
        "id": "Mw1YsjV6HtlD"
      },
      "execution_count": null,
      "outputs": []
    },
    {
      "cell_type": "code",
      "source": [
        "reason_df['primary_call_reason'] = reason_df['primary_call_reason'].str.strip()"
      ],
      "metadata": {
        "id": "dhlJ2S9SHynS"
      },
      "execution_count": null,
      "outputs": []
    },
    {
      "cell_type": "code",
      "source": [
        "\n",
        "reason_df['primary_call_reason'] = reason_df['primary_call_reason'].str.replace('\\s+', ' ', regex=True)"
      ],
      "metadata": {
        "id": "QAU2aiLtH11z"
      },
      "execution_count": null,
      "outputs": []
    },
    {
      "cell_type": "code",
      "source": [
        "reason_df['primary_call_reason'] = reason_df['primary_call_reason'].str.lower()"
      ],
      "metadata": {
        "id": "uUSjAvd8H3aS"
      },
      "execution_count": null,
      "outputs": []
    },
    {
      "cell_type": "code",
      "source": [
        "import re\n",
        "import nltk\n",
        "from nltk.corpus import stopwords\n",
        "\n",
        "nltk.download('stopwords')\n",
        "stop_words = set(stopwords.words('english'))\n",
        "def remove_stopwords_and_conjunctions(text):\n",
        "    words = text.split()\n",
        "    filtered_words = [word for word in words if word not in stop_words]\n",
        "    return ' '.join(filtered_words)\n",
        "\n",
        "reason_df['primary_call_reason'] = reason_df['primary_call_reason'].apply(remove_stopwords_and_conjunctions)"
      ],
      "metadata": {
        "id": "qyepfkZhH35C",
        "colab": {
          "base_uri": "https://localhost:8080/"
        },
        "outputId": "02609b4a-811d-44aa-b778-e26ec50f9bdb"
      },
      "execution_count": null,
      "outputs": [
        {
          "output_type": "stream",
          "name": "stderr",
          "text": [
            "[nltk_data] Downloading package stopwords to /root/nltk_data...\n",
            "[nltk_data]   Unzipping corpora/stopwords.zip.\n"
          ]
        }
      ]
    },
    {
      "cell_type": "code",
      "execution_count": null,
      "metadata": {
        "colab": {
          "base_uri": "https://localhost:8080/"
        },
        "id": "3Gij4bnDbbF7",
        "outputId": "f2425f65-cf92-4891-8df6-c058cef7511b"
      },
      "outputs": [
        {
          "output_type": "stream",
          "name": "stdout",
          "text": [
            "      call_id     AHT    AST\n",
            "0  4667960400  2280.0  420.0\n",
            "1  1122072124   900.0  180.0\n",
            "2  6834291559  1620.0  480.0\n",
            "3  2266439882   720.0  300.0\n",
            "4  1211603231  1140.0  600.0\n"
          ]
        }
      ],
      "source": [
        "# Convert datetime columns to pandas datetime\n",
        "call_df['call_start_datetime'] = pd.to_datetime(call_df['call_start_datetime'])\n",
        "call_df['agent_assigned_datetime'] = pd.to_datetime(call_df['agent_assigned_datetime'])\n",
        "call_df['call_end_datetime'] = pd.to_datetime(call_df['call_end_datetime'])\n",
        "\n",
        "# Calculate AHT (Average Handle Time) and AST (Average Speed to Answer)\n",
        "call_df['AHT'] = (call_df['call_end_datetime'] - call_df['call_start_datetime']).dt.total_seconds()\n",
        "call_df['AST'] = (call_df['agent_assigned_datetime'] - call_df['call_start_datetime']).dt.total_seconds()\n",
        "\n",
        "# Preview the newly added columns\n",
        "print(call_df[['call_id', 'AHT', 'AST']].head())\n"
      ]
    },
    {
      "cell_type": "code",
      "execution_count": null,
      "metadata": {
        "colab": {
          "base_uri": "https://localhost:8080/"
        },
        "id": "oiqNl08VcihI",
        "outputId": "4e5f74d2-8e44-4acf-ab03-fa3cb03669db"
      },
      "outputs": [
        {
          "output_type": "stream",
          "name": "stdout",
          "text": [
            "      call_id  customer_id  agent_id call_start_datetime  \\\n",
            "0  4667960400   2033123310    963118 2024-07-31 23:56:00   \n",
            "1  1122072124   8186702651    519057 2024-08-01 00:03:00   \n",
            "2  6834291559   2416856629    158319 2024-07-31 23:59:00   \n",
            "3  2266439882   1154544516    488324 2024-08-01 00:05:00   \n",
            "4  1211603231   5214456437    721730 2024-08-01 00:04:00   \n",
            "\n",
            "  agent_assigned_datetime   call_end_datetime  \\\n",
            "0     2024-08-01 00:03:00 2024-08-01 00:34:00   \n",
            "1     2024-08-01 00:06:00 2024-08-01 00:18:00   \n",
            "2     2024-08-01 00:07:00 2024-08-01 00:26:00   \n",
            "3     2024-08-01 00:10:00 2024-08-01 00:17:00   \n",
            "4     2024-08-01 00:14:00 2024-08-01 00:23:00   \n",
            "\n",
            "                                     call_transcript     AHT    AST  \\\n",
            "0  \\n\\nAgent: Thank you for calling United Airlin...  2280.0  420.0   \n",
            "1  \\n\\nAgent: Thank you for calling United Airlin...   900.0  180.0   \n",
            "2  \\n\\nAgent: Thank you for calling United Airlin...  1620.0  480.0   \n",
            "3  \\n\\nAgent: Thank you for calling United Airlin...   720.0  300.0   \n",
            "4  \\n\\nAgent: Thank you for calling United Airlin...  1140.0  600.0   \n",
            "\n",
            "  agent_tone customer_tone  average_sentiment  silence_percent_average  \\\n",
            "0    neutral         angry              -0.04                     0.39   \n",
            "1       calm       neutral               0.02                     0.35   \n",
            "2    neutral        polite              -0.13                     0.32   \n",
            "3    neutral    frustrated              -0.20                     0.20   \n",
            "4    neutral        polite              -0.05                     0.35   \n",
            "\n",
            "  primary_call_reason      customer_name  elite_level_code  \n",
            "0    voluntary cancel     Matthew Foster               4.0  \n",
            "1             booking      Tammy Walters               NaN  \n",
            "2              irrops      Jeffery Dixon               NaN  \n",
            "3             upgrade      David Wilkins               2.0  \n",
            "4             seating  Elizabeth Daniels               0.0  \n"
          ]
        }
      ],
      "source": [
        "# Merging all dataframes\n",
        "merged_df = call_df.merge(sentiment_df, on=['call_id', 'agent_id'], how='left')\\\n",
        "                   .merge(reason_df, on='call_id', how='left')\\\n",
        "                   .merge(customer_df, on='customer_id', how='left')\n",
        "\n",
        "# Preview merged data\n",
        "print(merged_df.head())\n"
      ]
    },
    {
      "cell_type": "markdown",
      "source": [
        "#Cleaning transcripts by appying NLP techniques"
      ],
      "metadata": {
        "id": "jQrR5Etfcyja"
      }
    },
    {
      "cell_type": "code",
      "execution_count": null,
      "metadata": {
        "colab": {
          "base_uri": "https://localhost:8080/"
        },
        "id": "KGAN6KxN3rdC",
        "outputId": "76abba6e-34ca-4897-a001-087597b21da9"
      },
      "outputs": [
        {
          "output_type": "stream",
          "name": "stderr",
          "text": [
            "[nltk_data] Downloading package stopwords to /root/nltk_data...\n",
            "[nltk_data]   Package stopwords is already up-to-date!\n",
            "[nltk_data] Downloading package punkt to /root/nltk_data...\n",
            "[nltk_data]   Package punkt is already up-to-date!\n"
          ]
        },
        {
          "output_type": "stream",
          "name": "stdout",
          "text": [
            "                                         call_transcript  \\\n",
            "0      \\n\\nAgent: Thank you for calling United Airlin...   \n",
            "1      \\n\\nAgent: Thank you for calling United Airlin...   \n",
            "2      \\n\\nAgent: Thank you for calling United Airlin...   \n",
            "3      \\n\\nAgent: Thank you for calling United Airlin...   \n",
            "4      \\n\\nAgent: Thank you for calling United Airlin...   \n",
            "...                                                  ...   \n",
            "71805  \\n\\nAgent: Thank you for calling United Airlin...   \n",
            "71806  \\n\\nAgent: Thank you for calling United Airlin...   \n",
            "71807  \\n\\nAgent: Thank you for calling United Airlin...   \n",
            "71808  \\n\\nAgent: Thank you for calling United Airlin...   \n",
            "71809  \\n\\nAgent: Thank you for calling United Airlin...   \n",
            "\n",
            "                                      cleaned_transcript  \n",
            "0      agent thank calling united airlines customer s...  \n",
            "1      agent thank calling united airlines name sam h...  \n",
            "2      agent thank calling united airlines customer s...  \n",
            "3      agent thank calling united airlines customer s...  \n",
            "4      agent thank calling united airlines customer s...  \n",
            "...                                                  ...  \n",
            "71805  agent thank calling united airlines customer s...  \n",
            "71806  agent thank calling united airlines customer s...  \n",
            "71807  agent thank calling united airlines customer s...  \n",
            "71808  agent thank calling united airlines customer s...  \n",
            "71809  agent thank calling united airlines steve help...  \n",
            "\n",
            "[71810 rows x 2 columns]\n"
          ]
        }
      ],
      "source": [
        "import re\n",
        "import nltk\n",
        "import pandas as pd\n",
        "from nltk.corpus import stopwords\n",
        "from nltk.tokenize import word_tokenize\n",
        "\n",
        "# Download necessary NLTK resources\n",
        "nltk.download('stopwords')\n",
        "nltk.download('punkt')\n",
        "def clean_text(text):\n",
        "    text = text.lower()  # Convert to lowercase\n",
        "    text = re.sub(r'\\d+', '', text)  # Remove numbers\n",
        "    text = re.sub(r'[^\\w\\s]', '', text)  # Remove punctuation\n",
        "    text = word_tokenize(text)  # Tokenize words\n",
        "    text = [word for word in text if word not in stopwords.words('english')]  # Remove stopwords\n",
        "    return ' '.join(text)\n",
        "\n",
        "# Apply the cleaning function to the 'call_transcript' column\n",
        "call_df['cleaned_transcript'] = call_df['call_transcript'].apply(clean_text)\n",
        "\n",
        "# Display the cleaned transcripts\n",
        "print(call_df[['call_transcript', 'cleaned_transcript']])\n"
      ]
    },
    {
      "cell_type": "markdown",
      "source": [
        "#Approach 1 Tried using Visual Language Model Qwen-Vl-utils"
      ],
      "metadata": {
        "id": "3KvvcB-bf604"
      }
    },
    {
      "cell_type": "code",
      "source": [
        "pip install qwen-vl-utils"
      ],
      "metadata": {
        "colab": {
          "base_uri": "https://localhost:8080/"
        },
        "id": "TOlNUnd2CKwJ",
        "outputId": "d18da25e-f246-4ed5-b726-ef254a7a1494"
      },
      "execution_count": null,
      "outputs": [
        {
          "output_type": "stream",
          "name": "stdout",
          "text": [
            "Collecting qwen-vl-utils\n",
            "  Downloading qwen_vl_utils-0.0.8-py3-none-any.whl.metadata (3.6 kB)\n",
            "Collecting av (from qwen-vl-utils)\n",
            "  Downloading av-13.1.0-cp310-cp310-manylinux_2_17_x86_64.manylinux2014_x86_64.whl.metadata (4.4 kB)\n",
            "Requirement already satisfied: packaging in /usr/local/lib/python3.10/dist-packages (from qwen-vl-utils) (24.1)\n",
            "Requirement already satisfied: pillow in /usr/local/lib/python3.10/dist-packages (from qwen-vl-utils) (10.4.0)\n",
            "Requirement already satisfied: requests in /usr/local/lib/python3.10/dist-packages (from qwen-vl-utils) (2.32.3)\n",
            "Requirement already satisfied: charset-normalizer<4,>=2 in /usr/local/lib/python3.10/dist-packages (from requests->qwen-vl-utils) (3.3.2)\n",
            "Requirement already satisfied: idna<4,>=2.5 in /usr/local/lib/python3.10/dist-packages (from requests->qwen-vl-utils) (3.10)\n",
            "Requirement already satisfied: urllib3<3,>=1.21.1 in /usr/local/lib/python3.10/dist-packages (from requests->qwen-vl-utils) (2.2.3)\n",
            "Requirement already satisfied: certifi>=2017.4.17 in /usr/local/lib/python3.10/dist-packages (from requests->qwen-vl-utils) (2024.8.30)\n",
            "Downloading qwen_vl_utils-0.0.8-py3-none-any.whl (5.9 kB)\n",
            "Downloading av-13.1.0-cp310-cp310-manylinux_2_17_x86_64.manylinux2014_x86_64.whl (33.1 MB)\n",
            "\u001b[2K   \u001b[90m━━━━━━━━━━━━━━━━━━━━━━━━━━━━━━━━━━━━━━━━\u001b[0m \u001b[32m33.1/33.1 MB\u001b[0m \u001b[31m43.2 MB/s\u001b[0m eta \u001b[36m0:00:00\u001b[0m\n",
            "\u001b[?25hInstalling collected packages: av, qwen-vl-utils\n",
            "Successfully installed av-13.1.0 qwen-vl-utils-0.0.8\n"
          ]
        }
      ]
    },
    {
      "cell_type": "code",
      "source": [
        "!pip install --upgrade transformers"
      ],
      "metadata": {
        "colab": {
          "base_uri": "https://localhost:8080/",
          "height": 740
        },
        "id": "fOxKu-SXDKug",
        "outputId": "c191bc9d-b268-40b2-8c24-e0e15e3af9ff"
      },
      "execution_count": null,
      "outputs": [
        {
          "output_type": "stream",
          "name": "stdout",
          "text": [
            "Requirement already satisfied: transformers in /usr/local/lib/python3.10/dist-packages (4.44.2)\n",
            "Collecting transformers\n",
            "  Downloading transformers-4.45.2-py3-none-any.whl.metadata (44 kB)\n",
            "\u001b[2K     \u001b[90m━━━━━━━━━━━━━━━━━━━━━━━━━━━━━━━━━━━━━━━━\u001b[0m \u001b[32m44.4/44.4 kB\u001b[0m \u001b[31m1.6 MB/s\u001b[0m eta \u001b[36m0:00:00\u001b[0m\n",
            "\u001b[?25hRequirement already satisfied: filelock in /usr/local/lib/python3.10/dist-packages (from transformers) (3.16.1)\n",
            "Requirement already satisfied: huggingface-hub<1.0,>=0.23.2 in /usr/local/lib/python3.10/dist-packages (from transformers) (0.24.7)\n",
            "Requirement already satisfied: numpy>=1.17 in /usr/local/lib/python3.10/dist-packages (from transformers) (1.26.4)\n",
            "Requirement already satisfied: packaging>=20.0 in /usr/local/lib/python3.10/dist-packages (from transformers) (24.1)\n",
            "Requirement already satisfied: pyyaml>=5.1 in /usr/local/lib/python3.10/dist-packages (from transformers) (6.0.2)\n",
            "Requirement already satisfied: regex!=2019.12.17 in /usr/local/lib/python3.10/dist-packages (from transformers) (2024.9.11)\n",
            "Requirement already satisfied: requests in /usr/local/lib/python3.10/dist-packages (from transformers) (2.32.3)\n",
            "Requirement already satisfied: safetensors>=0.4.1 in /usr/local/lib/python3.10/dist-packages (from transformers) (0.4.5)\n",
            "Collecting tokenizers<0.21,>=0.20 (from transformers)\n",
            "  Downloading tokenizers-0.20.0-cp310-cp310-manylinux_2_17_x86_64.manylinux2014_x86_64.whl.metadata (6.7 kB)\n",
            "Requirement already satisfied: tqdm>=4.27 in /usr/local/lib/python3.10/dist-packages (from transformers) (4.66.5)\n",
            "Requirement already satisfied: fsspec>=2023.5.0 in /usr/local/lib/python3.10/dist-packages (from huggingface-hub<1.0,>=0.23.2->transformers) (2024.9.0)\n",
            "Requirement already satisfied: typing-extensions>=3.7.4.3 in /usr/local/lib/python3.10/dist-packages (from huggingface-hub<1.0,>=0.23.2->transformers) (4.12.2)\n",
            "Requirement already satisfied: charset-normalizer<4,>=2 in /usr/local/lib/python3.10/dist-packages (from requests->transformers) (3.3.2)\n",
            "Requirement already satisfied: idna<4,>=2.5 in /usr/local/lib/python3.10/dist-packages (from requests->transformers) (3.10)\n",
            "Requirement already satisfied: urllib3<3,>=1.21.1 in /usr/local/lib/python3.10/dist-packages (from requests->transformers) (2.2.3)\n",
            "Requirement already satisfied: certifi>=2017.4.17 in /usr/local/lib/python3.10/dist-packages (from requests->transformers) (2024.8.30)\n",
            "Downloading transformers-4.45.2-py3-none-any.whl (9.9 MB)\n",
            "\u001b[2K   \u001b[90m━━━━━━━━━━━━━━━━━━━━━━━━━━━━━━━━━━━━━━━━\u001b[0m \u001b[32m9.9/9.9 MB\u001b[0m \u001b[31m69.1 MB/s\u001b[0m eta \u001b[36m0:00:00\u001b[0m\n",
            "\u001b[?25hDownloading tokenizers-0.20.0-cp310-cp310-manylinux_2_17_x86_64.manylinux2014_x86_64.whl (2.9 MB)\n",
            "\u001b[2K   \u001b[90m━━━━━━━━━━━━━━━━━━━━━━━━━━━━━━━━━━━━━━━━\u001b[0m \u001b[32m2.9/2.9 MB\u001b[0m \u001b[31m71.4 MB/s\u001b[0m eta \u001b[36m0:00:00\u001b[0m\n",
            "\u001b[?25hInstalling collected packages: tokenizers, transformers\n",
            "  Attempting uninstall: tokenizers\n",
            "    Found existing installation: tokenizers 0.19.1\n",
            "    Uninstalling tokenizers-0.19.1:\n",
            "      Successfully uninstalled tokenizers-0.19.1\n",
            "  Attempting uninstall: transformers\n",
            "    Found existing installation: transformers 4.44.2\n",
            "    Uninstalling transformers-4.44.2:\n",
            "      Successfully uninstalled transformers-4.44.2\n",
            "Successfully installed tokenizers-0.20.0 transformers-4.45.2\n"
          ]
        },
        {
          "output_type": "display_data",
          "data": {
            "application/vnd.colab-display-data+json": {
              "pip_warning": {
                "packages": [
                  "transformers"
                ]
              },
              "id": "5fff68cb06554140a99e89d8afccc007"
            }
          },
          "metadata": {}
        }
      ]
    },
    {
      "cell_type": "code",
      "source": [
        "from transformers import Qwen2VLForConditionalGeneration, AutoTokenizer, AutoProcessor\n",
        "from qwen_vl_utils import process_vision_info\n",
        "\n",
        "# default: Load the model on the available device(s)\n",
        "model = Qwen2VLForConditionalGeneration.from_pretrained(\n",
        "    \"Qwen/Qwen2-VL-7B-Instruct\", torch_dtype=\"auto\", device_map=\"auto\"\n",
        ")\n",
        "\n",
        "\n",
        "\n",
        "# default processer\n",
        "processor = AutoProcessor.from_pretrained(\"Qwen/Qwen2-VL-7B-Instruct\")\n",
        "\n",
        "messages = [\n",
        "    {\n",
        "        \"role\": \"user\",\n",
        "        \"content\": [\n",
        "            {\n",
        "                \"type\": \"text\",\n",
        "                \"text\": \"agent thank calling united airlines customer service name sarah may help customer hi yeah im calling flight chicago new york delayed hours ridiculous im missing important meetings agent im sorry hear delay thats definitely frustrating umm let pull reservation take look happened typing sounds okay looks like severe weather chicago caused multiple flight cancellations delays across board airlines ahh shoot yeah original flight scheduled depart pm didnt actually take pm customer ugh poor planning uniteds part rerouted passengers put us flights werent delayed ive wasted whole day agent understand frustration sir delays never fun let see options available help make hmm looks like get booked flight leaving pm tomorrow landing new york pm ill waive change fee provide travel voucher help cover expenses missed meetings today work schedule customer guess thats better nothing really need get act together unacceptable customer service united delays costing people time money agent youre right want better customers apologize delay inconvenience thank flying us hope rescheduled flight travel credit help make trouble today please feel free reach back issues thanks patience understanding appreciate taking time work customer alright fine better happen next time fly united agent ill sure note record try avoid repeats going forward take care good rest day customer yeah hangs agent thank call next caller please pretends answer another call hi thank calling united help\",\n",
        "            },\n",
        "            {\"type\": \"text\", \"text\": \"Give the primary reason for this conversation\"},\n",
        "        ],\n",
        "    }\n",
        "]\n",
        "\n",
        "# Preparation for inference\n",
        "text = processor.apply_chat_template(\n",
        "    messages, tokenize=False, add_generation_prompt=True\n",
        ")\n",
        "image_inputs, video_inputs = process_vision_info(messages)\n",
        "inputs = processor(\n",
        "    text=[text],\n",
        "    images=image_inputs,\n",
        "    videos=video_inputs,\n",
        "    padding=True,\n",
        "    return_tensors=\"pt\",\n",
        ")\n",
        "inputs = inputs.to(\"cuda\")\n",
        "\n",
        "# Inference: Generation of the output\n",
        "generated_ids = model.generate(**inputs, max_new_tokens=128)\n",
        "generated_ids_trimmed = [\n",
        "    out_ids[len(in_ids) :] for in_ids, out_ids in zip(inputs.input_ids, generated_ids)\n",
        "]\n",
        "output_text = processor.batch_decode(\n",
        "    generated_ids_trimmed, skip_special_tokens=True, clean_up_tokenization_spaces=False\n",
        ")\n",
        "print(output_text)"
      ],
      "metadata": {
        "colab": {
          "base_uri": "https://localhost:8080/"
        },
        "id": "8sKuNZ8KCRkR",
        "outputId": "a1f3eaba-58a9-4ac2-861b-cf751bc077f2"
      },
      "execution_count": null,
      "outputs": [
        {
          "output_type": "stream",
          "name": "stderr",
          "text": [
            "/usr/local/lib/python3.10/dist-packages/torch_xla/__init__.py:202: UserWarning: `tensorflow` can conflict with `torch-xla`. Prefer `tensorflow-cpu` when using PyTorch/XLA. To silence this warning, `pip uninstall -y tensorflow && pip install tensorflow-cpu`. If you are in a notebook environment such as Colab or Kaggle, restart your notebook runtime afterwards.\n",
            "  warnings.warn(\n"
          ]
        }
      ]
    },
    {
      "cell_type": "markdown",
      "source": [
        "#Approach 2"
      ],
      "metadata": {
        "id": "BTtcjy2zc7_g"
      }
    },
    {
      "cell_type": "markdown",
      "source": [
        "##Extract features from cleaned transcript using TF-IDF\n"
      ],
      "metadata": {
        "id": "glU_eQdBdB2w"
      }
    },
    {
      "cell_type": "code",
      "execution_count": null,
      "metadata": {
        "colab": {
          "base_uri": "https://localhost:8080/"
        },
        "id": "XlOqD0Mv7UaJ",
        "outputId": "1dc42fbd-4747-414e-fefe-406f086a4d01"
      },
      "outputs": [
        {
          "output_type": "stream",
          "name": "stdout",
          "text": [
            "Feature matrix shape: (66653, 1000)\n"
          ]
        }
      ],
      "source": [
        "from sklearn.feature_extraction.text import TfidfVectorizer\n",
        "\n",
        "# Initialize TF-IDF Vectorizer\n",
        "tfidf = TfidfVectorizer(max_features=1000)  # Limit to 1000 features\n",
        "\n",
        "merged_df = call_df.merge(reason_df, on='call_id', how='inner')\n",
        "# Fit and transform the cleaned transcripts\n",
        "X = tfidf.fit_transform(merged_df['cleaned_transcript']).toarray()\n",
        "\n",
        "# Extract the primary call reasons as labels\n",
        "y = merged_df['primary_call_reason']\n",
        "\n",
        "# Display the shape of the feature matrix\n",
        "print(\"Feature matrix shape:\", X.shape)\n"
      ]
    },
    {
      "cell_type": "code",
      "source": [
        "\n",
        "\n",
        "merged_df.to_csv('/content/drive/My Drive/United Airlines/merged_data.csv', index=False)\n"
      ],
      "metadata": {
        "id": "F9MMNBA9pvLi"
      },
      "execution_count": null,
      "outputs": []
    },
    {
      "cell_type": "code",
      "execution_count": null,
      "metadata": {
        "colab": {
          "base_uri": "https://localhost:8080/"
        },
        "id": "dhGSWEgcT_u-",
        "outputId": "a659710c-ecc1-4a49-9ee6-2d00927d6957"
      },
      "outputs": [
        {
          "output_type": "stream",
          "name": "stdout",
          "text": [
            "[[0.         0.         0.         ... 0.02784101 0.         0.        ]\n",
            " [0.         0.         0.         ... 0.02088704 0.         0.        ]\n",
            " [0.         0.         0.         ... 0.04532499 0.03984121 0.        ]\n",
            " ...\n",
            " [0.         0.         0.         ... 0.03866531 0.         0.        ]\n",
            " [0.07621469 0.         0.         ... 0.08283079 0.05460694 0.        ]\n",
            " [0.0338669  0.         0.         ... 0.03680684 0.         0.        ]]\n"
          ]
        }
      ],
      "source": [
        "print(X)"
      ]
    },
    {
      "cell_type": "code",
      "source": [
        "filtered_df = merged_df[merged_df['average_sentiment'].notnull()]  # Filter out rows with NaN using pandas notnull\n",
        "print(\"DataFrame without NaN values in 'average_sentiment':\")\n",
        "print(filtered_df)\n",
        "filtered_df = filtered_df[merged_df['average_sentiment'].notnull()]\n",
        "filtered_df = filtered_df[merged_df['average_sentiment'].notnull()]"
      ],
      "metadata": {
        "colab": {
          "base_uri": "https://localhost:8080/"
        },
        "id": "-pbnXwxd_-PS",
        "outputId": "a1a126e5-4b69-4bdd-a3c5-b43d5d3605df"
      },
      "execution_count": null,
      "outputs": [
        {
          "output_type": "stream",
          "name": "stdout",
          "text": [
            "DataFrame without NaN values in 'average_sentiment':\n",
            "          call_id  customer_id  agent_id call_start_datetime  \\\n",
            "0      4667960400   2033123310    963118 2024-07-31 23:56:00   \n",
            "1      1122072124   8186702651    519057 2024-08-01 00:03:00   \n",
            "2      6834291559   2416856629    158319 2024-07-31 23:59:00   \n",
            "3      2266439882   1154544516    488324 2024-08-01 00:05:00   \n",
            "4      1211603231   5214456437    721730 2024-08-01 00:04:00   \n",
            "...           ...          ...       ...                 ...   \n",
            "71805  1563273072   8022667294    413148 2024-08-31 23:48:00   \n",
            "71806  8865997781   4474867021    980156 2024-08-31 23:55:00   \n",
            "71807  8019240181   9762042472    616988 2024-08-31 23:52:00   \n",
            "71808  8332067080   8095620266    161354 2024-08-31 23:53:00   \n",
            "71809  8210720833   8014388758    547592 2024-08-31 23:49:00   \n",
            "\n",
            "      agent_assigned_datetime   call_end_datetime  \\\n",
            "0         2024-08-01 00:03:00 2024-08-01 00:34:00   \n",
            "1         2024-08-01 00:06:00 2024-08-01 00:18:00   \n",
            "2         2024-08-01 00:07:00 2024-08-01 00:26:00   \n",
            "3         2024-08-01 00:10:00 2024-08-01 00:17:00   \n",
            "4         2024-08-01 00:14:00 2024-08-01 00:23:00   \n",
            "...                       ...                 ...   \n",
            "71805     2024-08-31 23:57:00 2024-09-01 00:25:00   \n",
            "71806     2024-08-31 23:58:00 2024-09-01 00:06:00   \n",
            "71807     2024-08-31 23:58:00 2024-09-01 00:04:00   \n",
            "71808     2024-08-31 23:59:00 2024-09-01 00:03:00   \n",
            "71809     2024-08-31 23:59:00 2024-09-01 00:02:00   \n",
            "\n",
            "                                         call_transcript     AHT    AST  \\\n",
            "0      \\n\\nAgent: Thank you for calling United Airlin...  2280.0  420.0   \n",
            "1      \\n\\nAgent: Thank you for calling United Airlin...   900.0  180.0   \n",
            "2      \\n\\nAgent: Thank you for calling United Airlin...  1620.0  480.0   \n",
            "3      \\n\\nAgent: Thank you for calling United Airlin...   720.0  300.0   \n",
            "4      \\n\\nAgent: Thank you for calling United Airlin...  1140.0  600.0   \n",
            "...                                                  ...     ...    ...   \n",
            "71805  \\n\\nAgent: Thank you for calling United Airlin...  2220.0  540.0   \n",
            "71806  \\n\\nAgent: Thank you for calling United Airlin...   660.0  180.0   \n",
            "71807  \\n\\nAgent: Thank you for calling United Airlin...   720.0  360.0   \n",
            "71808  \\n\\nAgent: Thank you for calling United Airlin...   600.0  360.0   \n",
            "71809  \\n\\nAgent: Thank you for calling United Airlin...   780.0  600.0   \n",
            "\n",
            "      agent_tone customer_tone  average_sentiment  silence_percent_average  \\\n",
            "0        neutral         angry              -0.04                     0.39   \n",
            "1           calm       neutral               0.02                     0.35   \n",
            "2        neutral        polite              -0.13                     0.32   \n",
            "3        neutral    frustrated              -0.20                     0.20   \n",
            "4        neutral        polite              -0.05                     0.35   \n",
            "...          ...           ...                ...                      ...   \n",
            "71805       calm          calm               0.05                     0.34   \n",
            "71806       calm    frustrated               0.03                     0.22   \n",
            "71807       calm        polite               0.05                     0.42   \n",
            "71808    neutral        polite              -0.07                     0.13   \n",
            "71809    neutral          calm               0.00                     0.10   \n",
            "\n",
            "      primary_call_reason         customer_name  elite_level_code  \n",
            "0        voluntary cancel        Matthew Foster               4.0  \n",
            "1                 booking         Tammy Walters               NaN  \n",
            "2                  irrops         Jeffery Dixon               NaN  \n",
            "3                 upgrade         David Wilkins               2.0  \n",
            "4                 seating     Elizabeth Daniels               0.0  \n",
            "...                   ...                   ...               ...  \n",
            "71805         post flight  Dennis Singleton DDS               NaN  \n",
            "71806             upgrade         Paul Mitchell               1.0  \n",
            "71807             upgrade           Kaylee Lang               NaN  \n",
            "71808                 NaN       Christine Oneal               1.0  \n",
            "71809     digital support       Alicia Calderon               0.0  \n",
            "\n",
            "[71701 rows x 16 columns]\n"
          ]
        }
      ]
    },
    {
      "cell_type": "code",
      "source": [
        "columns_to_check = ['average_sentiment', 'AHT', 'silence_percent_average', 'primary_call_reason']\n",
        "merged_df = merged_df.dropna(subset=columns_to_check)"
      ],
      "metadata": {
        "id": "lXAcM0PtA6tZ"
      },
      "execution_count": null,
      "outputs": []
    },
    {
      "cell_type": "markdown",
      "source": [
        "##Applying Machine learning Models"
      ],
      "metadata": {
        "id": "qMsJlXjedVUZ"
      }
    },
    {
      "cell_type": "markdown",
      "source": [
        "###Logistic Regression"
      ],
      "metadata": {
        "id": "ic-PnWq4dZ44"
      }
    },
    {
      "cell_type": "code",
      "execution_count": null,
      "metadata": {
        "colab": {
          "base_uri": "https://localhost:8080/"
        },
        "id": "21U3JB9m7YmS",
        "outputId": "32046b3e-42bd-4453-b20d-fd6a7cb12667"
      },
      "outputs": [
        {
          "output_type": "stream",
          "name": "stderr",
          "text": [
            "/usr/local/lib/python3.10/dist-packages/sklearn/linear_model/_logistic.py:469: ConvergenceWarning: lbfgs failed to converge (status=1):\n",
            "STOP: TOTAL NO. of ITERATIONS REACHED LIMIT.\n",
            "\n",
            "Increase the number of iterations (max_iter) or scale the data as shown in:\n",
            "    https://scikit-learn.org/stable/modules/preprocessing.html\n",
            "Please also refer to the documentation for alternative solver options:\n",
            "    https://scikit-learn.org/stable/modules/linear_model.html#logistic-regression\n",
            "  n_iter_i = _check_optimize_result(\n",
            "/usr/local/lib/python3.10/dist-packages/sklearn/metrics/_classification.py:1531: UndefinedMetricWarning: Precision is ill-defined and being set to 0.0 in labels with no predicted samples. Use `zero_division` parameter to control this behavior.\n",
            "  _warn_prf(average, modifier, f\"{metric.capitalize()} is\", len(result))\n"
          ]
        },
        {
          "output_type": "stream",
          "name": "stdout",
          "text": [
            "Accuracy: 0.2067463000525881\n",
            "Classification Report:\n",
            "                     precision    recall  f1-score   support\n",
            "\n",
            "            baggage       0.00      0.00      0.00       562\n",
            "            booking       0.00      0.00      0.00       514\n",
            "              check       0.00      0.00      0.00       345\n",
            "           checkout       0.10      0.01      0.02       351\n",
            "     communications       0.00      0.00      0.00       771\n",
            "    digital support       0.00      0.00      0.00       262\n",
            "         disability       0.00      0.00      0.00        85\n",
            "                etc       0.00      0.00      0.00       190\n",
            "             irrops       0.21      0.87      0.34      2623\n",
            "       mileage plus       0.00      0.00      0.00      1177\n",
            "        post flight       0.18      0.03      0.05       875\n",
            "  products services       0.00      0.00      0.00       662\n",
            "    schedule change       0.00      0.00      0.00       139\n",
            "            seating       0.00      0.00      0.00      1294\n",
            "             topics       0.00      0.00      0.00       161\n",
            "   traveler updates       0.00      0.00      0.00       195\n",
            "unaccompanied minor       0.00      0.00      0.00        22\n",
            "            upgrade       0.00      0.00      0.00       561\n",
            "   voluntary cancel       0.00      0.00      0.00       340\n",
            "   voluntary change       0.20      0.20      0.20      2182\n",
            "\n",
            "           accuracy                           0.21     13311\n",
            "          macro avg       0.03      0.06      0.03     13311\n",
            "       weighted avg       0.09      0.21      0.10     13311\n",
            "\n"
          ]
        },
        {
          "output_type": "stream",
          "name": "stderr",
          "text": [
            "/usr/local/lib/python3.10/dist-packages/sklearn/metrics/_classification.py:1531: UndefinedMetricWarning: Precision is ill-defined and being set to 0.0 in labels with no predicted samples. Use `zero_division` parameter to control this behavior.\n",
            "  _warn_prf(average, modifier, f\"{metric.capitalize()} is\", len(result))\n",
            "/usr/local/lib/python3.10/dist-packages/sklearn/metrics/_classification.py:1531: UndefinedMetricWarning: Precision is ill-defined and being set to 0.0 in labels with no predicted samples. Use `zero_division` parameter to control this behavior.\n",
            "  _warn_prf(average, modifier, f\"{metric.capitalize()} is\", len(result))\n"
          ]
        }
      ],
      "source": [
        "from sklearn.model_selection import train_test_split\n",
        "from sklearn.linear_model import LogisticRegression\n",
        "from sklearn.metrics import accuracy_score, classification_report\n",
        "\n",
        "X = merged_df[['AHT','average_sentiment','silence_percent_average']]\n",
        "y = merged_df['primary_call_reason']\n",
        "# Split the data\n",
        "X_train, X_test, y_train, y_test = train_test_split(X, y, test_size=0.2, random_state=42)\n",
        "\n",
        "# Initialize and train the model\n",
        "model = LogisticRegression(max_iter=1000)\n",
        "model.fit(X_train, y_train)\n",
        "\n",
        "# Make predictions\n",
        "y_pred = model.predict(X_test)\n",
        "\n",
        "# Evaluate the model\n",
        "accuracy = accuracy_score(y_test, y_pred)\n",
        "report = classification_report(y_test, y_pred)\n",
        "\n",
        "print(f\"Accuracy: {accuracy}\")\n",
        "print(\"Classification Report:\")\n",
        "print(report)\n"
      ]
    },
    {
      "cell_type": "code",
      "source": [
        "from transformers import pipeline\n",
        "\n",
        "classifier = pipeline(\"zero-shot-classification\", model=\"facebook/bart-large-mnli\")\n",
        "\n",
        "transcript = \"Customer: Hi, I'm calling to report a problem with my internet connection...\"\n",
        "candidate_labels = [\"Technical Support\", \"Billing Inquiry\", \"Account Management\"]\n",
        "\n",
        "result = classifier(transcript, candidate_labels)\n",
        "print(result)"
      ],
      "metadata": {
        "id": "4XmL-0Q3EU35"
      },
      "execution_count": null,
      "outputs": []
    },
    {
      "cell_type": "markdown",
      "source": [
        "###Xgboost classifier"
      ],
      "metadata": {
        "id": "BCB8-OmadhhQ"
      }
    },
    {
      "cell_type": "code",
      "source": [
        "!pip install xgboost"
      ],
      "metadata": {
        "colab": {
          "base_uri": "https://localhost:8080/"
        },
        "id": "IGMfxMIafM2q",
        "outputId": "e81102d5-6e02-482d-9163-31b0a12231c0"
      },
      "execution_count": null,
      "outputs": [
        {
          "output_type": "stream",
          "name": "stdout",
          "text": [
            "Collecting xgboost\n",
            "  Downloading xgboost-2.1.1-py3-none-manylinux_2_28_x86_64.whl.metadata (2.1 kB)\n",
            "Requirement already satisfied: numpy in /usr/local/lib/python3.10/dist-packages (from xgboost) (1.26.4)\n",
            "Collecting nvidia-nccl-cu12 (from xgboost)\n",
            "  Downloading nvidia_nccl_cu12-2.23.4-py3-none-manylinux2014_x86_64.whl.metadata (1.8 kB)\n",
            "Requirement already satisfied: scipy in /usr/local/lib/python3.10/dist-packages (from xgboost) (1.13.1)\n",
            "Downloading xgboost-2.1.1-py3-none-manylinux_2_28_x86_64.whl (153.9 MB)\n",
            "\u001b[2K   \u001b[90m━━━━━━━━━━━━━━━━━━━━━━━━━━━━━━━━━━━━━━━━\u001b[0m \u001b[32m153.9/153.9 MB\u001b[0m \u001b[31m7.1 MB/s\u001b[0m eta \u001b[36m0:00:00\u001b[0m\n",
            "\u001b[?25hDownloading nvidia_nccl_cu12-2.23.4-py3-none-manylinux2014_x86_64.whl (199.0 MB)\n",
            "\u001b[2K   \u001b[90m━━━━━━━━━━━━━━━━━━━━━━━━━━━━━━━━━━━━━━━━\u001b[0m \u001b[32m199.0/199.0 MB\u001b[0m \u001b[31m5.4 MB/s\u001b[0m eta \u001b[36m0:00:00\u001b[0m\n",
            "\u001b[?25hInstalling collected packages: nvidia-nccl-cu12, xgboost\n",
            "Successfully installed nvidia-nccl-cu12-2.23.4 xgboost-2.1.1\n"
          ]
        }
      ]
    },
    {
      "cell_type": "code",
      "execution_count": null,
      "metadata": {
        "id": "nsmfeXy-7e6L",
        "colab": {
          "base_uri": "https://localhost:8080/"
        },
        "outputId": "70a8f985-fb34-42fa-f093-726026de2868"
      },
      "outputs": [
        {
          "output_type": "stream",
          "name": "stdout",
          "text": [
            "Accuracy: 0.1900082514440027\n",
            "Classification Report:\n",
            "              precision    recall  f1-score   support\n",
            "\n",
            "           0       0.06      0.01      0.01       604\n",
            "           1       0.09      0.01      0.02       513\n",
            "           2       0.00      0.00      0.00       359\n",
            "           3       0.00      0.00      0.00       384\n",
            "           4       0.06      0.01      0.02       757\n",
            "           5       0.00      0.00      0.00       255\n",
            "           6       0.00      0.00      0.00        86\n",
            "           7       0.00      0.00      0.00       197\n",
            "           8       0.23      0.61      0.33      2763\n",
            "           9       0.13      0.06      0.09      1130\n",
            "          10       0.15      0.06      0.08       848\n",
            "          11       0.11      0.03      0.05       658\n",
            "          12       0.00      0.00      0.00       146\n",
            "          13       0.11      0.06      0.07      1235\n",
            "          14       0.00      0.00      0.00       174\n",
            "          15       0.00      0.00      0.00       190\n",
            "          16       0.00      0.00      0.00        24\n",
            "          17       0.02      0.00      0.00       553\n",
            "          18       0.00      0.00      0.00       334\n",
            "          19       0.16      0.30      0.21      2121\n",
            "\n",
            "    accuracy                           0.19     13331\n",
            "   macro avg       0.06      0.06      0.04     13331\n",
            "weighted avg       0.12      0.19      0.13     13331\n",
            "\n"
          ]
        },
        {
          "output_type": "stream",
          "name": "stderr",
          "text": [
            "/usr/local/lib/python3.10/dist-packages/sklearn/metrics/_classification.py:1531: UndefinedMetricWarning: Precision is ill-defined and being set to 0.0 in labels with no predicted samples. Use `zero_division` parameter to control this behavior.\n",
            "  _warn_prf(average, modifier, f\"{metric.capitalize()} is\", len(result))\n",
            "/usr/local/lib/python3.10/dist-packages/sklearn/metrics/_classification.py:1531: UndefinedMetricWarning: Precision is ill-defined and being set to 0.0 in labels with no predicted samples. Use `zero_division` parameter to control this behavior.\n",
            "  _warn_prf(average, modifier, f\"{metric.capitalize()} is\", len(result))\n",
            "/usr/local/lib/python3.10/dist-packages/sklearn/metrics/_classification.py:1531: UndefinedMetricWarning: Precision is ill-defined and being set to 0.0 in labels with no predicted samples. Use `zero_division` parameter to control this behavior.\n",
            "  _warn_prf(average, modifier, f\"{metric.capitalize()} is\", len(result))\n"
          ]
        }
      ],
      "source": [
        "import xgboost as xgb\n",
        "from sklearn.metrics import accuracy_score, classification_report\n",
        "from sklearn.preprocessing import LabelEncoder\n",
        "\n",
        "# Initialize Label Encoder\n",
        "le = LabelEncoder()\n",
        "\n",
        "# Fit and transform the labels to numerical representations\n",
        "y_train_encoded = le.fit_transform(y_train)\n",
        "y_test_encoded = le.transform(y_test)\n",
        "\n",
        "model = xgb.XGBClassifier(objective='multi:softmax', num_class=len(le.classes_))\n",
        "model.fit(X_train, y_train_encoded)\n",
        "\n",
        "# Make predictions\n",
        "y_pred_encoded = model.predict(X_test)\n",
        "\n",
        "# Transform predictions back to original labels (optional)\n",
        "y_pred = le.inverse_transform(y_pred_encoded)\n",
        "\n",
        "# Evaluate the model\n",
        "accuracy = accuracy_score(y_test_encoded, y_pred_encoded)\n",
        "report = classification_report(y_test_encoded, y_pred_encoded)\n",
        "\n",
        "print(f\"Accuracy: {accuracy}\")\n",
        "print(\"Classification Report:\")\n",
        "print(report)\n"
      ]
    },
    {
      "cell_type": "code",
      "source": [
        "import xgboost as xgb\n",
        "from sklearn.metrics import accuracy_score, classification_report\n",
        "from sklearn.preprocessing import OneHotEncoder\n",
        "import pandas as pd # Import pandas for handling DataFrames\n",
        "\n",
        "# Assuming y_train and y_test are pandas Series\n",
        "# If not, convert them to Series: y_train = pd.Series(y_train) etc.\n",
        "\n",
        "# Initialize OneHotEncoder\n",
        "encoder = OneHotEncoder(sparse_output=False, handle_unknown='ignore') # sparse=False for dense output\n",
        "\n",
        "# Fit and transform on training data\n",
        "y_train_encoded = encoder.fit_transform(y_train.values.reshape(-1, 1))\n",
        "\n",
        "# Transform test data\n",
        "y_test_encoded = encoder.transform(y_test.values.reshape(-1, 1))\n",
        "\n",
        "# Get feature names for encoded columns\n",
        "feature_names = encoder.get_feature_names_out(['primary_call_reason'])\n",
        "\n",
        "# Convert encoded data to DataFrames with appropriate column names\n",
        "y_train_encoded_df = pd.DataFrame(y_train_encoded, columns=feature_names, index=y_train.index)\n",
        "y_test_encoded_df = pd.DataFrame(y_test_encoded, columns=feature_names, index=y_test.index)\n",
        "\n",
        "\n",
        "# Initialize and train the XGBoost model\n",
        "# objective is changed to 'binary:logistic' for multi-label classification\n",
        "model = xgb.XGBClassifier(objective='binary:logistic')\n",
        "model.fit(X_train, y_train_encoded_df)  # Use the encoded DataFrame\n",
        "\n",
        "# Make predictions\n",
        "y_pred_encoded = model.predict(X_test)\n",
        "\n",
        "# Convert predictions back to original labels (if needed)\n",
        "# You might need to adjust this based on your desired output format\n",
        "y_pred = encoder.inverse_transform(y_pred_encoded)\n",
        "\n",
        "# Evaluate the model using encoded labels\n",
        "accuracy = accuracy_score(y_test_encoded, y_pred_encoded)\n",
        "report = classification_report(y_test_encoded, y_pred_encoded)\n",
        "\n",
        "print(f\"Accuracy: {accuracy}\")\n",
        "print(\"Classification Report:\")\n",
        "print(report)"
      ],
      "metadata": {
        "colab": {
          "base_uri": "https://localhost:8080/"
        },
        "id": "MjZdUHxvfQ86",
        "outputId": "9ff851d8-2ef0-492d-9a5c-54e792bff091"
      },
      "execution_count": null,
      "outputs": [
        {
          "output_type": "stream",
          "name": "stdout",
          "text": [
            "Accuracy: 0.006751181456754932\n",
            "Classification Report:\n",
            "              precision    recall  f1-score   support\n",
            "\n",
            "           0       0.00      0.00      0.00       604\n",
            "           1       0.00      0.00      0.00       513\n",
            "           2       0.00      0.00      0.00       359\n",
            "           3       0.00      0.00      0.00       384\n",
            "           4       0.09      0.00      0.00       757\n",
            "           5       0.00      0.00      0.00       255\n",
            "           6       0.00      0.00      0.00        86\n",
            "           7       0.00      0.00      0.00       197\n",
            "           8       0.30      0.02      0.04      2763\n",
            "           9       0.18      0.00      0.01      1130\n",
            "          10       0.26      0.01      0.01       848\n",
            "          11       0.25      0.00      0.01       658\n",
            "          12       0.00      0.00      0.00       146\n",
            "          13       0.10      0.00      0.00      1235\n",
            "          14       0.00      0.00      0.00       174\n",
            "          15       0.00      0.00      0.00       190\n",
            "          16       0.00      0.00      0.00        24\n",
            "          17       0.00      0.00      0.00       553\n",
            "          18       0.00      0.00      0.00       334\n",
            "          19       0.20      0.01      0.01      2121\n",
            "\n",
            "   micro avg       0.24      0.01      0.01     13331\n",
            "   macro avg       0.07      0.00      0.00     13331\n",
            "weighted avg       0.15      0.01      0.01     13331\n",
            " samples avg       0.01      0.01      0.01     13331\n",
            "\n"
          ]
        },
        {
          "output_type": "stream",
          "name": "stderr",
          "text": [
            "/usr/local/lib/python3.10/dist-packages/sklearn/metrics/_classification.py:1531: UndefinedMetricWarning: Precision is ill-defined and being set to 0.0 in labels with no predicted samples. Use `zero_division` parameter to control this behavior.\n",
            "  _warn_prf(average, modifier, f\"{metric.capitalize()} is\", len(result))\n",
            "/usr/local/lib/python3.10/dist-packages/sklearn/metrics/_classification.py:1531: UndefinedMetricWarning: Precision is ill-defined and being set to 0.0 in samples with no predicted labels. Use `zero_division` parameter to control this behavior.\n",
            "  _warn_prf(average, modifier, f\"{metric.capitalize()} is\", len(result))\n"
          ]
        }
      ]
    },
    {
      "cell_type": "markdown",
      "source": [
        "###Random Forest"
      ],
      "metadata": {
        "id": "kfek3CnxdoQA"
      }
    },
    {
      "cell_type": "code",
      "source": [
        "from sklearn.ensemble import RandomForestClassifier\n",
        "from sklearn.metrics import accuracy_score, classification_report\n",
        "from sklearn.preprocessing import LabelEncoder\n",
        "\n",
        "X = merged_df['AHT','average_sentiment','silence_percent_average']\n",
        "y = merged_df['primary_call_reason']\n",
        "X_train, X_test, y_train, y_test = train_test_split(X, y, test_size=0.2, random_state=42)\n",
        "# Initialize Label Encoder\n",
        "le = LabelEncoder()\n",
        "\n",
        "# Fit and transform the labels to numerical representations\n",
        "y_train_encoded = le.fit_transform(y_train)\n",
        "y_test_encoded = le.transform(y_test)\n",
        "\n",
        "# Initialize and train the Random Forest model\n",
        "model = RandomForestClassifier(n_estimators=100, random_state=42)  # Adjust parameters as needed\n",
        "model.fit(X_train, y_train_encoded)\n",
        "\n",
        "# Make predictions\n",
        "y_pred_encoded = model.predict(X_test)\n",
        "\n",
        "# Transform predictions back to original labels (optional)\n",
        "y_pred = le.inverse_transform(y_pred_encoded)\n",
        "\n",
        "# Evaluate the model\n",
        "accuracy = accuracy_score(y_test_encoded, y_pred_encoded)\n",
        "report = classification_report(y_test_encoded, y_pred_encoded)\n",
        "\n",
        "print(f\"Accuracy: {accuracy}\")\n",
        "print(\"Classification Report:\")\n",
        "print(report)"
      ],
      "metadata": {
        "colab": {
          "base_uri": "https://localhost:8080/"
        },
        "id": "bDuOpSqbgNKi",
        "outputId": "24a625e1-3e4f-48a0-e27d-89f32150f28e"
      },
      "execution_count": null,
      "outputs": [
        {
          "output_type": "stream",
          "name": "stdout",
          "text": [
            "Accuracy: 0.20103518115670244\n",
            "Classification Report:\n",
            "              precision    recall  f1-score   support\n",
            "\n",
            "           0       0.00      0.00      0.00       604\n",
            "           1       0.00      0.00      0.00       513\n",
            "           2       0.00      0.00      0.00       359\n",
            "           3       0.00      0.00      0.00       384\n",
            "           4       0.00      0.00      0.00       757\n",
            "           5       0.00      0.00      0.00       255\n",
            "           6       0.00      0.00      0.00        86\n",
            "           7       0.00      0.00      0.00       197\n",
            "           8       0.22      0.74      0.34      2763\n",
            "           9       0.12      0.01      0.02      1130\n",
            "          10       0.00      0.00      0.00       848\n",
            "          11       0.12      0.00      0.00       658\n",
            "          12       0.00      0.00      0.00       146\n",
            "          13       0.10      0.01      0.02      1235\n",
            "          14       0.00      0.00      0.00       174\n",
            "          15       0.00      0.00      0.00       190\n",
            "          16       0.00      0.00      0.00        24\n",
            "          17       0.00      0.00      0.00       553\n",
            "          18       0.00      0.00      0.00       334\n",
            "          19       0.17      0.28      0.21      2121\n",
            "\n",
            "    accuracy                           0.20     13331\n",
            "   macro avg       0.04      0.05      0.03     13331\n",
            "weighted avg       0.10      0.20      0.11     13331\n",
            "\n"
          ]
        },
        {
          "output_type": "stream",
          "name": "stderr",
          "text": [
            "/usr/local/lib/python3.10/dist-packages/sklearn/metrics/_classification.py:1531: UndefinedMetricWarning: Precision is ill-defined and being set to 0.0 in labels with no predicted samples. Use `zero_division` parameter to control this behavior.\n",
            "  _warn_prf(average, modifier, f\"{metric.capitalize()} is\", len(result))\n",
            "/usr/local/lib/python3.10/dist-packages/sklearn/metrics/_classification.py:1531: UndefinedMetricWarning: Precision is ill-defined and being set to 0.0 in labels with no predicted samples. Use `zero_division` parameter to control this behavior.\n",
            "  _warn_prf(average, modifier, f\"{metric.capitalize()} is\", len(result))\n",
            "/usr/local/lib/python3.10/dist-packages/sklearn/metrics/_classification.py:1531: UndefinedMetricWarning: Precision is ill-defined and being set to 0.0 in labels with no predicted samples. Use `zero_division` parameter to control this behavior.\n",
            "  _warn_prf(average, modifier, f\"{metric.capitalize()} is\", len(result))\n"
          ]
        }
      ]
    },
    {
      "cell_type": "markdown",
      "source": [
        "###SVM"
      ],
      "metadata": {
        "id": "zeVRC-Esdr0Y"
      }
    },
    {
      "cell_type": "code",
      "source": [
        "from sklearn.svm import SVC\n",
        "from sklearn.metrics import accuracy_score, classification_report\n",
        "from sklearn.preprocessing import LabelEncoder\n",
        "\n",
        "# Initialize Label Encoder\n",
        "le = LabelEncoder()\n",
        "\n",
        "# Fit and transform the labels to numerical representations\n",
        "y_train_encoded = le.fit_transform(y_train)\n",
        "y_test_encoded = le.transform(y_test)\n",
        "\n",
        "# Initialize and train the SVM model\n",
        "model = SVC(kernel='linear', random_state=42)  # You can try different kernels like 'rbf'\n",
        "model.fit(X_train, y_train_encoded)\n",
        "\n",
        "# Make predictions\n",
        "y_pred_encoded = model.predict(X_test)\n",
        "\n",
        "# Transform predictions back to original labels (optional)\n",
        "y_pred = le.inverse_transform(y_pred_encoded)\n",
        "\n",
        "# Evaluate the model\n",
        "accuracy = accuracy_score(y_test_encoded, y_pred_encoded)\n",
        "report = classification_report(y_test_encoded, y_pred_encoded)\n",
        "\n",
        "print(f\"Accuracy: {accuracy}\")\n",
        "print(\"Classification Report:\")\n",
        "print(report)"
      ],
      "metadata": {
        "id": "h2wNoGEbhZaS"
      },
      "execution_count": null,
      "outputs": []
    },
    {
      "cell_type": "markdown",
      "source": [
        "###Comparing accuracies of various models using pycaret"
      ],
      "metadata": {
        "id": "PQwaBhj1eJMA"
      }
    },
    {
      "cell_type": "code",
      "source": [
        "pip install pycaret"
      ],
      "metadata": {
        "colab": {
          "base_uri": "https://localhost:8080/",
          "height": 1000
        },
        "id": "IPoovblQTd3A",
        "outputId": "7d1126aa-ef00-4f92-de65-69ec37df02b5"
      },
      "execution_count": null,
      "outputs": [
        {
          "output_type": "stream",
          "name": "stdout",
          "text": [
            "Collecting pycaret\n",
            "  Downloading pycaret-3.3.2-py3-none-any.whl.metadata (17 kB)\n",
            "Requirement already satisfied: ipython>=5.5.0 in /usr/local/lib/python3.10/dist-packages (from pycaret) (7.34.0)\n",
            "Requirement already satisfied: ipywidgets>=7.6.5 in /usr/local/lib/python3.10/dist-packages (from pycaret) (7.7.1)\n",
            "Requirement already satisfied: tqdm>=4.62.0 in /usr/local/lib/python3.10/dist-packages (from pycaret) (4.66.5)\n",
            "Requirement already satisfied: numpy<1.27,>=1.21 in /usr/local/lib/python3.10/dist-packages (from pycaret) (1.26.4)\n",
            "Collecting pandas<2.2.0 (from pycaret)\n",
            "  Downloading pandas-2.1.4-cp310-cp310-manylinux_2_17_x86_64.manylinux2014_x86_64.whl.metadata (18 kB)\n",
            "Requirement already satisfied: jinja2>=3 in /usr/local/lib/python3.10/dist-packages (from pycaret) (3.1.4)\n",
            "Collecting scipy<=1.11.4,>=1.6.1 (from pycaret)\n",
            "  Downloading scipy-1.11.4-cp310-cp310-manylinux_2_17_x86_64.manylinux2014_x86_64.whl.metadata (60 kB)\n",
            "\u001b[2K     \u001b[90m━━━━━━━━━━━━━━━━━━━━━━━━━━━━━━━━━━━━━━━━\u001b[0m \u001b[32m60.4/60.4 kB\u001b[0m \u001b[31m3.2 MB/s\u001b[0m eta \u001b[36m0:00:00\u001b[0m\n",
            "\u001b[?25hCollecting joblib<1.4,>=1.2.0 (from pycaret)\n",
            "  Downloading joblib-1.3.2-py3-none-any.whl.metadata (5.4 kB)\n",
            "Requirement already satisfied: scikit-learn>1.4.0 in /usr/local/lib/python3.10/dist-packages (from pycaret) (1.5.2)\n",
            "Collecting pyod>=1.1.3 (from pycaret)\n",
            "  Downloading pyod-2.0.2.tar.gz (165 kB)\n",
            "\u001b[2K     \u001b[90m━━━━━━━━━━━━━━━━━━━━━━━━━━━━━━━━━━━━━━━━\u001b[0m \u001b[32m165.8/165.8 kB\u001b[0m \u001b[31m8.6 MB/s\u001b[0m eta \u001b[36m0:00:00\u001b[0m\n",
            "\u001b[?25h  Preparing metadata (setup.py) ... \u001b[?25l\u001b[?25hdone\n",
            "Requirement already satisfied: imbalanced-learn>=0.12.0 in /usr/local/lib/python3.10/dist-packages (from pycaret) (0.12.3)\n",
            "Collecting category-encoders>=2.4.0 (from pycaret)\n",
            "  Downloading category_encoders-2.6.4-py2.py3-none-any.whl.metadata (8.0 kB)\n",
            "Requirement already satisfied: lightgbm>=3.0.0 in /usr/local/lib/python3.10/dist-packages (from pycaret) (4.5.0)\n",
            "Requirement already satisfied: numba>=0.55.0 in /usr/local/lib/python3.10/dist-packages (from pycaret) (0.60.0)\n",
            "Requirement already satisfied: requests>=2.27.1 in /usr/local/lib/python3.10/dist-packages (from pycaret) (2.32.3)\n",
            "Requirement already satisfied: psutil>=5.9.0 in /usr/local/lib/python3.10/dist-packages (from pycaret) (5.9.5)\n",
            "Requirement already satisfied: markupsafe>=2.0.1 in /usr/local/lib/python3.10/dist-packages (from pycaret) (2.1.5)\n",
            "Requirement already satisfied: importlib-metadata>=4.12.0 in /usr/local/lib/python3.10/dist-packages (from pycaret) (8.4.0)\n",
            "Requirement already satisfied: nbformat>=4.2.0 in /usr/local/lib/python3.10/dist-packages (from pycaret) (5.10.4)\n",
            "Requirement already satisfied: cloudpickle in /usr/local/lib/python3.10/dist-packages (from pycaret) (2.2.1)\n",
            "Collecting deprecation>=2.1.0 (from pycaret)\n",
            "  Downloading deprecation-2.1.0-py2.py3-none-any.whl.metadata (4.6 kB)\n",
            "Collecting xxhash (from pycaret)\n",
            "  Downloading xxhash-3.5.0-cp310-cp310-manylinux_2_17_x86_64.manylinux2014_x86_64.whl.metadata (12 kB)\n",
            "Requirement already satisfied: matplotlib<3.8.0 in /usr/local/lib/python3.10/dist-packages (from pycaret) (3.7.1)\n",
            "Collecting scikit-plot>=0.3.7 (from pycaret)\n",
            "  Downloading scikit_plot-0.3.7-py3-none-any.whl.metadata (7.1 kB)\n",
            "Requirement already satisfied: yellowbrick>=1.4 in /usr/local/lib/python3.10/dist-packages (from pycaret) (1.5)\n",
            "Requirement already satisfied: plotly>=5.14.0 in /usr/local/lib/python3.10/dist-packages (from pycaret) (5.24.1)\n",
            "Collecting kaleido>=0.2.1 (from pycaret)\n",
            "  Downloading kaleido-0.2.1-py2.py3-none-manylinux1_x86_64.whl.metadata (15 kB)\n",
            "Collecting schemdraw==0.15 (from pycaret)\n",
            "  Downloading schemdraw-0.15-py3-none-any.whl.metadata (2.2 kB)\n",
            "Collecting plotly-resampler>=0.8.3.1 (from pycaret)\n",
            "  Downloading plotly_resampler-0.10.0-py3-none-any.whl.metadata (13 kB)\n",
            "Requirement already satisfied: statsmodels>=0.12.1 in /usr/local/lib/python3.10/dist-packages (from pycaret) (0.14.4)\n",
            "Collecting sktime==0.26.0 (from pycaret)\n",
            "  Downloading sktime-0.26.0-py3-none-any.whl.metadata (29 kB)\n",
            "Collecting tbats>=1.1.3 (from pycaret)\n",
            "  Downloading tbats-1.1.3-py3-none-any.whl.metadata (3.8 kB)\n",
            "Collecting pmdarima>=2.0.4 (from pycaret)\n",
            "  Downloading pmdarima-2.0.4-cp310-cp310-manylinux_2_17_x86_64.manylinux2014_x86_64.manylinux_2_28_x86_64.whl.metadata (7.8 kB)\n",
            "Collecting wurlitzer (from pycaret)\n",
            "  Downloading wurlitzer-3.1.1-py3-none-any.whl.metadata (2.5 kB)\n",
            "Requirement already satisfied: packaging in /usr/local/lib/python3.10/dist-packages (from sktime==0.26.0->pycaret) (24.1)\n",
            "Collecting scikit-base<0.8.0 (from sktime==0.26.0->pycaret)\n",
            "  Downloading scikit_base-0.7.8-py3-none-any.whl.metadata (8.8 kB)\n",
            "Collecting scikit-learn>1.4.0 (from pycaret)\n",
            "  Downloading scikit_learn-1.4.2-cp310-cp310-manylinux_2_17_x86_64.manylinux2014_x86_64.whl.metadata (11 kB)\n",
            "Requirement already satisfied: patsy>=0.5.1 in /usr/local/lib/python3.10/dist-packages (from category-encoders>=2.4.0->pycaret) (0.5.6)\n",
            "Requirement already satisfied: threadpoolctl>=2.0.0 in /usr/local/lib/python3.10/dist-packages (from imbalanced-learn>=0.12.0->pycaret) (3.5.0)\n",
            "Requirement already satisfied: zipp>=0.5 in /usr/local/lib/python3.10/dist-packages (from importlib-metadata>=4.12.0->pycaret) (3.20.2)\n",
            "Requirement already satisfied: setuptools>=18.5 in /usr/local/lib/python3.10/dist-packages (from ipython>=5.5.0->pycaret) (71.0.4)\n",
            "Collecting jedi>=0.16 (from ipython>=5.5.0->pycaret)\n",
            "  Using cached jedi-0.19.1-py2.py3-none-any.whl.metadata (22 kB)\n",
            "Requirement already satisfied: decorator in /usr/local/lib/python3.10/dist-packages (from ipython>=5.5.0->pycaret) (4.4.2)\n",
            "Requirement already satisfied: pickleshare in /usr/local/lib/python3.10/dist-packages (from ipython>=5.5.0->pycaret) (0.7.5)\n",
            "Requirement already satisfied: traitlets>=4.2 in /usr/local/lib/python3.10/dist-packages (from ipython>=5.5.0->pycaret) (5.7.1)\n",
            "Requirement already satisfied: prompt-toolkit!=3.0.0,!=3.0.1,<3.1.0,>=2.0.0 in /usr/local/lib/python3.10/dist-packages (from ipython>=5.5.0->pycaret) (3.0.48)\n",
            "Requirement already satisfied: pygments in /usr/local/lib/python3.10/dist-packages (from ipython>=5.5.0->pycaret) (2.18.0)\n",
            "Requirement already satisfied: backcall in /usr/local/lib/python3.10/dist-packages (from ipython>=5.5.0->pycaret) (0.2.0)\n",
            "Requirement already satisfied: matplotlib-inline in /usr/local/lib/python3.10/dist-packages (from ipython>=5.5.0->pycaret) (0.1.7)\n",
            "Requirement already satisfied: pexpect>4.3 in /usr/local/lib/python3.10/dist-packages (from ipython>=5.5.0->pycaret) (4.9.0)\n",
            "Requirement already satisfied: ipykernel>=4.5.1 in /usr/local/lib/python3.10/dist-packages (from ipywidgets>=7.6.5->pycaret) (5.5.6)\n",
            "Requirement already satisfied: ipython-genutils~=0.2.0 in /usr/local/lib/python3.10/dist-packages (from ipywidgets>=7.6.5->pycaret) (0.2.0)\n",
            "Requirement already satisfied: widgetsnbextension~=3.6.0 in /usr/local/lib/python3.10/dist-packages (from ipywidgets>=7.6.5->pycaret) (3.6.9)\n",
            "Requirement already satisfied: jupyterlab-widgets>=1.0.0 in /usr/local/lib/python3.10/dist-packages (from ipywidgets>=7.6.5->pycaret) (3.0.13)\n",
            "Requirement already satisfied: contourpy>=1.0.1 in /usr/local/lib/python3.10/dist-packages (from matplotlib<3.8.0->pycaret) (1.3.0)\n",
            "Requirement already satisfied: cycler>=0.10 in /usr/local/lib/python3.10/dist-packages (from matplotlib<3.8.0->pycaret) (0.12.1)\n",
            "Requirement already satisfied: fonttools>=4.22.0 in /usr/local/lib/python3.10/dist-packages (from matplotlib<3.8.0->pycaret) (4.54.1)\n",
            "Requirement already satisfied: kiwisolver>=1.0.1 in /usr/local/lib/python3.10/dist-packages (from matplotlib<3.8.0->pycaret) (1.4.7)\n",
            "Requirement already satisfied: pillow>=6.2.0 in /usr/local/lib/python3.10/dist-packages (from matplotlib<3.8.0->pycaret) (10.4.0)\n",
            "Requirement already satisfied: pyparsing>=2.3.1 in /usr/local/lib/python3.10/dist-packages (from matplotlib<3.8.0->pycaret) (3.1.4)\n",
            "Requirement already satisfied: python-dateutil>=2.7 in /usr/local/lib/python3.10/dist-packages (from matplotlib<3.8.0->pycaret) (2.8.2)\n",
            "Requirement already satisfied: fastjsonschema>=2.15 in /usr/local/lib/python3.10/dist-packages (from nbformat>=4.2.0->pycaret) (2.20.0)\n",
            "Requirement already satisfied: jsonschema>=2.6 in /usr/local/lib/python3.10/dist-packages (from nbformat>=4.2.0->pycaret) (4.23.0)\n",
            "Requirement already satisfied: jupyter-core!=5.0.*,>=4.12 in /usr/local/lib/python3.10/dist-packages (from nbformat>=4.2.0->pycaret) (5.7.2)\n",
            "Requirement already satisfied: llvmlite<0.44,>=0.43.0dev0 in /usr/local/lib/python3.10/dist-packages (from numba>=0.55.0->pycaret) (0.43.0)\n",
            "Requirement already satisfied: pytz>=2020.1 in /usr/local/lib/python3.10/dist-packages (from pandas<2.2.0->pycaret) (2024.2)\n",
            "Requirement already satisfied: tzdata>=2022.1 in /usr/local/lib/python3.10/dist-packages (from pandas<2.2.0->pycaret) (2024.2)\n",
            "Requirement already satisfied: tenacity>=6.2.0 in /usr/local/lib/python3.10/dist-packages (from plotly>=5.14.0->pycaret) (9.0.0)\n",
            "Collecting dash>=2.9.0 (from plotly-resampler>=0.8.3.1->pycaret)\n",
            "  Downloading dash-2.18.1-py3-none-any.whl.metadata (10 kB)\n",
            "Collecting orjson<4.0.0,>=3.8.0 (from plotly-resampler>=0.8.3.1->pycaret)\n",
            "  Downloading orjson-3.10.7-cp310-cp310-manylinux_2_17_x86_64.manylinux2014_x86_64.whl.metadata (50 kB)\n",
            "\u001b[2K     \u001b[90m━━━━━━━━━━━━━━━━━━━━━━━━━━━━━━━━━━━━━━━━\u001b[0m \u001b[32m50.4/50.4 kB\u001b[0m \u001b[31m3.3 MB/s\u001b[0m eta \u001b[36m0:00:00\u001b[0m\n",
            "\u001b[?25hCollecting tsdownsample>=0.1.3 (from plotly-resampler>=0.8.3.1->pycaret)\n",
            "  Downloading tsdownsample-0.1.3-cp310-cp310-manylinux_2_17_x86_64.manylinux2014_x86_64.whl.metadata (7.9 kB)\n",
            "Requirement already satisfied: Cython!=0.29.18,!=0.29.31,>=0.29 in /usr/local/lib/python3.10/dist-packages (from pmdarima>=2.0.4->pycaret) (3.0.11)\n",
            "Requirement already satisfied: urllib3 in /usr/local/lib/python3.10/dist-packages (from pmdarima>=2.0.4->pycaret) (2.2.3)\n",
            "Requirement already satisfied: charset-normalizer<4,>=2 in /usr/local/lib/python3.10/dist-packages (from requests>=2.27.1->pycaret) (3.3.2)\n",
            "Requirement already satisfied: idna<4,>=2.5 in /usr/local/lib/python3.10/dist-packages (from requests>=2.27.1->pycaret) (3.10)\n",
            "Requirement already satisfied: certifi>=2017.4.17 in /usr/local/lib/python3.10/dist-packages (from requests>=2.27.1->pycaret) (2024.8.30)\n",
            "Requirement already satisfied: Flask<3.1,>=1.0.4 in /usr/local/lib/python3.10/dist-packages (from dash>=2.9.0->plotly-resampler>=0.8.3.1->pycaret) (2.2.5)\n",
            "Requirement already satisfied: Werkzeug<3.1 in /usr/local/lib/python3.10/dist-packages (from dash>=2.9.0->plotly-resampler>=0.8.3.1->pycaret) (3.0.4)\n",
            "Collecting dash-html-components==2.0.0 (from dash>=2.9.0->plotly-resampler>=0.8.3.1->pycaret)\n",
            "  Downloading dash_html_components-2.0.0-py3-none-any.whl.metadata (3.8 kB)\n",
            "Collecting dash-core-components==2.0.0 (from dash>=2.9.0->plotly-resampler>=0.8.3.1->pycaret)\n",
            "  Downloading dash_core_components-2.0.0-py3-none-any.whl.metadata (2.9 kB)\n",
            "Collecting dash-table==5.0.0 (from dash>=2.9.0->plotly-resampler>=0.8.3.1->pycaret)\n",
            "  Downloading dash_table-5.0.0-py3-none-any.whl.metadata (2.4 kB)\n",
            "Requirement already satisfied: typing-extensions>=4.1.1 in /usr/local/lib/python3.10/dist-packages (from dash>=2.9.0->plotly-resampler>=0.8.3.1->pycaret) (4.12.2)\n",
            "Collecting retrying (from dash>=2.9.0->plotly-resampler>=0.8.3.1->pycaret)\n",
            "  Downloading retrying-1.3.4-py3-none-any.whl.metadata (6.9 kB)\n",
            "Requirement already satisfied: nest-asyncio in /usr/local/lib/python3.10/dist-packages (from dash>=2.9.0->plotly-resampler>=0.8.3.1->pycaret) (1.6.0)\n",
            "Requirement already satisfied: jupyter-client in /usr/local/lib/python3.10/dist-packages (from ipykernel>=4.5.1->ipywidgets>=7.6.5->pycaret) (6.1.12)\n",
            "Requirement already satisfied: tornado>=4.2 in /usr/local/lib/python3.10/dist-packages (from ipykernel>=4.5.1->ipywidgets>=7.6.5->pycaret) (6.3.3)\n",
            "Requirement already satisfied: parso<0.9.0,>=0.8.3 in /usr/local/lib/python3.10/dist-packages (from jedi>=0.16->ipython>=5.5.0->pycaret) (0.8.4)\n",
            "Requirement already satisfied: attrs>=22.2.0 in /usr/local/lib/python3.10/dist-packages (from jsonschema>=2.6->nbformat>=4.2.0->pycaret) (24.2.0)\n",
            "Requirement already satisfied: jsonschema-specifications>=2023.03.6 in /usr/local/lib/python3.10/dist-packages (from jsonschema>=2.6->nbformat>=4.2.0->pycaret) (2023.12.1)\n",
            "Requirement already satisfied: referencing>=0.28.4 in /usr/local/lib/python3.10/dist-packages (from jsonschema>=2.6->nbformat>=4.2.0->pycaret) (0.35.1)\n",
            "Requirement already satisfied: rpds-py>=0.7.1 in /usr/local/lib/python3.10/dist-packages (from jsonschema>=2.6->nbformat>=4.2.0->pycaret) (0.20.0)\n",
            "Requirement already satisfied: platformdirs>=2.5 in /usr/local/lib/python3.10/dist-packages (from jupyter-core!=5.0.*,>=4.12->nbformat>=4.2.0->pycaret) (4.3.6)\n",
            "Requirement already satisfied: six in /usr/local/lib/python3.10/dist-packages (from patsy>=0.5.1->category-encoders>=2.4.0->pycaret) (1.16.0)\n",
            "Requirement already satisfied: ptyprocess>=0.5 in /usr/local/lib/python3.10/dist-packages (from pexpect>4.3->ipython>=5.5.0->pycaret) (0.7.0)\n",
            "Requirement already satisfied: wcwidth in /usr/local/lib/python3.10/dist-packages (from prompt-toolkit!=3.0.0,!=3.0.1,<3.1.0,>=2.0.0->ipython>=5.5.0->pycaret) (0.2.13)\n",
            "Requirement already satisfied: notebook>=4.4.1 in /usr/local/lib/python3.10/dist-packages (from widgetsnbextension~=3.6.0->ipywidgets>=7.6.5->pycaret) (6.5.5)\n",
            "Requirement already satisfied: itsdangerous>=2.0 in /usr/local/lib/python3.10/dist-packages (from Flask<3.1,>=1.0.4->dash>=2.9.0->plotly-resampler>=0.8.3.1->pycaret) (2.2.0)\n",
            "Requirement already satisfied: click>=8.0 in /usr/local/lib/python3.10/dist-packages (from Flask<3.1,>=1.0.4->dash>=2.9.0->plotly-resampler>=0.8.3.1->pycaret) (8.1.7)\n",
            "Requirement already satisfied: pyzmq<25,>=17 in /usr/local/lib/python3.10/dist-packages (from notebook>=4.4.1->widgetsnbextension~=3.6.0->ipywidgets>=7.6.5->pycaret) (24.0.1)\n",
            "Requirement already satisfied: argon2-cffi in /usr/local/lib/python3.10/dist-packages (from notebook>=4.4.1->widgetsnbextension~=3.6.0->ipywidgets>=7.6.5->pycaret) (23.1.0)\n",
            "Requirement already satisfied: nbconvert>=5 in /usr/local/lib/python3.10/dist-packages (from notebook>=4.4.1->widgetsnbextension~=3.6.0->ipywidgets>=7.6.5->pycaret) (6.5.4)\n",
            "Requirement already satisfied: Send2Trash>=1.8.0 in /usr/local/lib/python3.10/dist-packages (from notebook>=4.4.1->widgetsnbextension~=3.6.0->ipywidgets>=7.6.5->pycaret) (1.8.3)\n",
            "Requirement already satisfied: terminado>=0.8.3 in /usr/local/lib/python3.10/dist-packages (from notebook>=4.4.1->widgetsnbextension~=3.6.0->ipywidgets>=7.6.5->pycaret) (0.18.1)\n",
            "Requirement already satisfied: prometheus-client in /usr/local/lib/python3.10/dist-packages (from notebook>=4.4.1->widgetsnbextension~=3.6.0->ipywidgets>=7.6.5->pycaret) (0.21.0)\n",
            "Requirement already satisfied: nbclassic>=0.4.7 in /usr/local/lib/python3.10/dist-packages (from notebook>=4.4.1->widgetsnbextension~=3.6.0->ipywidgets>=7.6.5->pycaret) (1.1.0)\n",
            "Requirement already satisfied: notebook-shim>=0.2.3 in /usr/local/lib/python3.10/dist-packages (from nbclassic>=0.4.7->notebook>=4.4.1->widgetsnbextension~=3.6.0->ipywidgets>=7.6.5->pycaret) (0.2.4)\n",
            "Requirement already satisfied: lxml in /usr/local/lib/python3.10/dist-packages (from nbconvert>=5->notebook>=4.4.1->widgetsnbextension~=3.6.0->ipywidgets>=7.6.5->pycaret) (4.9.4)\n",
            "Requirement already satisfied: beautifulsoup4 in /usr/local/lib/python3.10/dist-packages (from nbconvert>=5->notebook>=4.4.1->widgetsnbextension~=3.6.0->ipywidgets>=7.6.5->pycaret) (4.12.3)\n",
            "Requirement already satisfied: bleach in /usr/local/lib/python3.10/dist-packages (from nbconvert>=5->notebook>=4.4.1->widgetsnbextension~=3.6.0->ipywidgets>=7.6.5->pycaret) (6.1.0)\n",
            "Requirement already satisfied: defusedxml in /usr/local/lib/python3.10/dist-packages (from nbconvert>=5->notebook>=4.4.1->widgetsnbextension~=3.6.0->ipywidgets>=7.6.5->pycaret) (0.7.1)\n",
            "Requirement already satisfied: entrypoints>=0.2.2 in /usr/local/lib/python3.10/dist-packages (from nbconvert>=5->notebook>=4.4.1->widgetsnbextension~=3.6.0->ipywidgets>=7.6.5->pycaret) (0.4)\n",
            "Requirement already satisfied: jupyterlab-pygments in /usr/local/lib/python3.10/dist-packages (from nbconvert>=5->notebook>=4.4.1->widgetsnbextension~=3.6.0->ipywidgets>=7.6.5->pycaret) (0.3.0)\n",
            "Requirement already satisfied: mistune<2,>=0.8.1 in /usr/local/lib/python3.10/dist-packages (from nbconvert>=5->notebook>=4.4.1->widgetsnbextension~=3.6.0->ipywidgets>=7.6.5->pycaret) (0.8.4)\n",
            "Requirement already satisfied: nbclient>=0.5.0 in /usr/local/lib/python3.10/dist-packages (from nbconvert>=5->notebook>=4.4.1->widgetsnbextension~=3.6.0->ipywidgets>=7.6.5->pycaret) (0.10.0)\n",
            "Requirement already satisfied: pandocfilters>=1.4.1 in /usr/local/lib/python3.10/dist-packages (from nbconvert>=5->notebook>=4.4.1->widgetsnbextension~=3.6.0->ipywidgets>=7.6.5->pycaret) (1.5.1)\n",
            "Requirement already satisfied: tinycss2 in /usr/local/lib/python3.10/dist-packages (from nbconvert>=5->notebook>=4.4.1->widgetsnbextension~=3.6.0->ipywidgets>=7.6.5->pycaret) (1.3.0)\n",
            "Requirement already satisfied: argon2-cffi-bindings in /usr/local/lib/python3.10/dist-packages (from argon2-cffi->notebook>=4.4.1->widgetsnbextension~=3.6.0->ipywidgets>=7.6.5->pycaret) (21.2.0)\n",
            "Requirement already satisfied: jupyter-server<3,>=1.8 in /usr/local/lib/python3.10/dist-packages (from notebook-shim>=0.2.3->nbclassic>=0.4.7->notebook>=4.4.1->widgetsnbextension~=3.6.0->ipywidgets>=7.6.5->pycaret) (1.24.0)\n",
            "Requirement already satisfied: cffi>=1.0.1 in /usr/local/lib/python3.10/dist-packages (from argon2-cffi-bindings->argon2-cffi->notebook>=4.4.1->widgetsnbextension~=3.6.0->ipywidgets>=7.6.5->pycaret) (1.17.1)\n",
            "Requirement already satisfied: soupsieve>1.2 in /usr/local/lib/python3.10/dist-packages (from beautifulsoup4->nbconvert>=5->notebook>=4.4.1->widgetsnbextension~=3.6.0->ipywidgets>=7.6.5->pycaret) (2.6)\n",
            "Requirement already satisfied: webencodings in /usr/local/lib/python3.10/dist-packages (from bleach->nbconvert>=5->notebook>=4.4.1->widgetsnbextension~=3.6.0->ipywidgets>=7.6.5->pycaret) (0.5.1)\n",
            "Requirement already satisfied: pycparser in /usr/local/lib/python3.10/dist-packages (from cffi>=1.0.1->argon2-cffi-bindings->argon2-cffi->notebook>=4.4.1->widgetsnbextension~=3.6.0->ipywidgets>=7.6.5->pycaret) (2.22)\n",
            "Requirement already satisfied: anyio<4,>=3.1.0 in /usr/local/lib/python3.10/dist-packages (from jupyter-server<3,>=1.8->notebook-shim>=0.2.3->nbclassic>=0.4.7->notebook>=4.4.1->widgetsnbextension~=3.6.0->ipywidgets>=7.6.5->pycaret) (3.7.1)\n",
            "Requirement already satisfied: websocket-client in /usr/local/lib/python3.10/dist-packages (from jupyter-server<3,>=1.8->notebook-shim>=0.2.3->nbclassic>=0.4.7->notebook>=4.4.1->widgetsnbextension~=3.6.0->ipywidgets>=7.6.5->pycaret) (1.8.0)\n",
            "Requirement already satisfied: sniffio>=1.1 in /usr/local/lib/python3.10/dist-packages (from anyio<4,>=3.1.0->jupyter-server<3,>=1.8->notebook-shim>=0.2.3->nbclassic>=0.4.7->notebook>=4.4.1->widgetsnbextension~=3.6.0->ipywidgets>=7.6.5->pycaret) (1.3.1)\n",
            "Requirement already satisfied: exceptiongroup in /usr/local/lib/python3.10/dist-packages (from anyio<4,>=3.1.0->jupyter-server<3,>=1.8->notebook-shim>=0.2.3->nbclassic>=0.4.7->notebook>=4.4.1->widgetsnbextension~=3.6.0->ipywidgets>=7.6.5->pycaret) (1.2.2)\n",
            "Downloading pycaret-3.3.2-py3-none-any.whl (486 kB)\n",
            "\u001b[2K   \u001b[90m━━━━━━━━━━━━━━━━━━━━━━━━━━━━━━━━━━━━━━━━\u001b[0m \u001b[32m486.1/486.1 kB\u001b[0m \u001b[31m13.6 MB/s\u001b[0m eta \u001b[36m0:00:00\u001b[0m\n",
            "\u001b[?25hDownloading schemdraw-0.15-py3-none-any.whl (106 kB)\n",
            "\u001b[2K   \u001b[90m━━━━━━━━━━━━━━━━━━━━━━━━━━━━━━━━━━━━━━━━\u001b[0m \u001b[32m106.8/106.8 kB\u001b[0m \u001b[31m7.4 MB/s\u001b[0m eta \u001b[36m0:00:00\u001b[0m\n",
            "\u001b[?25hDownloading sktime-0.26.0-py3-none-any.whl (21.8 MB)\n",
            "\u001b[2K   \u001b[90m━━━━━━━━━━━━━━━━━━━━━━━━━━━━━━━━━━━━━━━━\u001b[0m \u001b[32m21.8/21.8 MB\u001b[0m \u001b[31m28.2 MB/s\u001b[0m eta \u001b[36m0:00:00\u001b[0m\n",
            "\u001b[?25hDownloading category_encoders-2.6.4-py2.py3-none-any.whl (82 kB)\n",
            "\u001b[2K   \u001b[90m━━━━━━━━━━━━━━━━━━━━━━━━━━━━━━━━━━━━━━━━\u001b[0m \u001b[32m82.0/82.0 kB\u001b[0m \u001b[31m5.2 MB/s\u001b[0m eta \u001b[36m0:00:00\u001b[0m\n",
            "\u001b[?25hDownloading deprecation-2.1.0-py2.py3-none-any.whl (11 kB)\n",
            "Downloading joblib-1.3.2-py3-none-any.whl (302 kB)\n",
            "\u001b[2K   \u001b[90m━━━━━━━━━━━━━━━━━━━━━━━━━━━━━━━━━━━━━━━━\u001b[0m \u001b[32m302.2/302.2 kB\u001b[0m \u001b[31m15.9 MB/s\u001b[0m eta \u001b[36m0:00:00\u001b[0m\n",
            "\u001b[?25hDownloading kaleido-0.2.1-py2.py3-none-manylinux1_x86_64.whl (79.9 MB)\n",
            "\u001b[2K   \u001b[90m━━━━━━━━━━━━━━━━━━━━━━━━━━━━━━━━━━━━━━━━\u001b[0m \u001b[32m79.9/79.9 MB\u001b[0m \u001b[31m5.5 MB/s\u001b[0m eta \u001b[36m0:00:00\u001b[0m\n",
            "\u001b[?25hDownloading pandas-2.1.4-cp310-cp310-manylinux_2_17_x86_64.manylinux2014_x86_64.whl (12.3 MB)\n",
            "\u001b[2K   \u001b[90m━━━━━━━━━━━━━━━━━━━━━━━━━━━━━━━━━━━━━━━━\u001b[0m \u001b[32m12.3/12.3 MB\u001b[0m \u001b[31m17.9 MB/s\u001b[0m eta \u001b[36m0:00:00\u001b[0m\n",
            "\u001b[?25hDownloading plotly_resampler-0.10.0-py3-none-any.whl (80 kB)\n",
            "\u001b[2K   \u001b[90m━━━━━━━━━━━━━━━━━━━━━━━━━━━━━━━━━━━━━━━━\u001b[0m \u001b[32m80.7/80.7 kB\u001b[0m \u001b[31m4.4 MB/s\u001b[0m eta \u001b[36m0:00:00\u001b[0m\n",
            "\u001b[?25hDownloading pmdarima-2.0.4-cp310-cp310-manylinux_2_17_x86_64.manylinux2014_x86_64.manylinux_2_28_x86_64.whl (2.1 MB)\n",
            "\u001b[2K   \u001b[90m━━━━━━━━━━━━━━━━━━━━━━━━━━━━━━━━━━━━━━━━\u001b[0m \u001b[32m2.1/2.1 MB\u001b[0m \u001b[31m14.4 MB/s\u001b[0m eta \u001b[36m0:00:00\u001b[0m\n",
            "\u001b[?25hDownloading scikit_learn-1.4.2-cp310-cp310-manylinux_2_17_x86_64.manylinux2014_x86_64.whl (12.1 MB)\n",
            "\u001b[2K   \u001b[90m━━━━━━━━━━━━━━━━━━━━━━━━━━━━━━━━━━━━━━━━\u001b[0m \u001b[32m12.1/12.1 MB\u001b[0m \u001b[31m13.9 MB/s\u001b[0m eta \u001b[36m0:00:00\u001b[0m\n",
            "\u001b[?25hDownloading scikit_plot-0.3.7-py3-none-any.whl (33 kB)\n",
            "Downloading scipy-1.11.4-cp310-cp310-manylinux_2_17_x86_64.manylinux2014_x86_64.whl (36.4 MB)\n",
            "\u001b[2K   \u001b[90m━━━━━━━━━━━━━━━━━━━━━━━━━━━━━━━━━━━━━━━━\u001b[0m \u001b[32m36.4/36.4 MB\u001b[0m \u001b[31m11.0 MB/s\u001b[0m eta \u001b[36m0:00:00\u001b[0m\n",
            "\u001b[?25hDownloading tbats-1.1.3-py3-none-any.whl (44 kB)\n",
            "\u001b[2K   \u001b[90m━━━━━━━━━━━━━━━━━━━━━━━━━━━━━━━━━━━━━━━━\u001b[0m \u001b[32m44.0/44.0 kB\u001b[0m \u001b[31m3.3 MB/s\u001b[0m eta \u001b[36m0:00:00\u001b[0m\n",
            "\u001b[?25hDownloading wurlitzer-3.1.1-py3-none-any.whl (8.6 kB)\n",
            "Downloading xxhash-3.5.0-cp310-cp310-manylinux_2_17_x86_64.manylinux2014_x86_64.whl (194 kB)\n",
            "\u001b[2K   \u001b[90m━━━━━━━━━━━━━━━━━━━━━━━━━━━━━━━━━━━━━━━━\u001b[0m \u001b[32m194.1/194.1 kB\u001b[0m \u001b[31m15.0 MB/s\u001b[0m eta \u001b[36m0:00:00\u001b[0m\n",
            "\u001b[?25hDownloading dash-2.18.1-py3-none-any.whl (7.5 MB)\n",
            "\u001b[2K   \u001b[90m━━━━━━━━━━━━━━━━━━━━━━━━━━━━━━━━━━━━━━━━\u001b[0m \u001b[32m7.5/7.5 MB\u001b[0m \u001b[31m76.0 MB/s\u001b[0m eta \u001b[36m0:00:00\u001b[0m\n",
            "\u001b[?25hDownloading dash_core_components-2.0.0-py3-none-any.whl (3.8 kB)\n",
            "Downloading dash_html_components-2.0.0-py3-none-any.whl (4.1 kB)\n",
            "Downloading dash_table-5.0.0-py3-none-any.whl (3.9 kB)\n",
            "Using cached jedi-0.19.1-py2.py3-none-any.whl (1.6 MB)\n",
            "Downloading orjson-3.10.7-cp310-cp310-manylinux_2_17_x86_64.manylinux2014_x86_64.whl (141 kB)\n",
            "\u001b[2K   \u001b[90m━━━━━━━━━━━━━━━━━━━━━━━━━━━━━━━━━━━━━━━━\u001b[0m \u001b[32m141.9/141.9 kB\u001b[0m \u001b[31m9.7 MB/s\u001b[0m eta \u001b[36m0:00:00\u001b[0m\n",
            "\u001b[?25hDownloading scikit_base-0.7.8-py3-none-any.whl (130 kB)\n",
            "\u001b[2K   \u001b[90m━━━━━━━━━━━━━━━━━━━━━━━━━━━━━━━━━━━━━━━━\u001b[0m \u001b[32m130.1/130.1 kB\u001b[0m \u001b[31m9.6 MB/s\u001b[0m eta \u001b[36m0:00:00\u001b[0m\n",
            "\u001b[?25hDownloading tsdownsample-0.1.3-cp310-cp310-manylinux_2_17_x86_64.manylinux2014_x86_64.whl (2.1 MB)\n",
            "\u001b[2K   \u001b[90m━━━━━━━━━━━━━━━━━━━━━━━━━━━━━━━━━━━━━━━━\u001b[0m \u001b[32m2.1/2.1 MB\u001b[0m \u001b[31m55.5 MB/s\u001b[0m eta \u001b[36m0:00:00\u001b[0m\n",
            "\u001b[?25hDownloading retrying-1.3.4-py3-none-any.whl (11 kB)\n",
            "Building wheels for collected packages: pyod\n",
            "  Building wheel for pyod (setup.py) ... \u001b[?25l\u001b[?25hdone\n",
            "  Created wheel for pyod: filename=pyod-2.0.2-py3-none-any.whl size=198469 sha256=b997fe143f1a9885183f63508906050a37551dd51cead028f0ef9dd213c22f76\n",
            "  Stored in directory: /root/.cache/pip/wheels/77/c2/20/34d1f15b41b701ba69f42a32304825810d680754d509f91391\n",
            "Successfully built pyod\n",
            "Installing collected packages: kaleido, dash-table, dash-html-components, dash-core-components, xxhash, wurlitzer, tsdownsample, scipy, scikit-base, schemdraw, retrying, orjson, joblib, jedi, deprecation, scikit-learn, pandas, sktime, scikit-plot, pyod, dash, pmdarima, plotly-resampler, category-encoders, tbats, pycaret\n",
            "  Attempting uninstall: scipy\n",
            "    Found existing installation: scipy 1.13.1\n",
            "    Uninstalling scipy-1.13.1:\n",
            "      Successfully uninstalled scipy-1.13.1\n",
            "  Attempting uninstall: joblib\n",
            "    Found existing installation: joblib 1.4.2\n",
            "    Uninstalling joblib-1.4.2:\n",
            "      Successfully uninstalled joblib-1.4.2\n",
            "  Attempting uninstall: scikit-learn\n",
            "    Found existing installation: scikit-learn 1.5.2\n",
            "    Uninstalling scikit-learn-1.5.2:\n",
            "      Successfully uninstalled scikit-learn-1.5.2\n",
            "  Attempting uninstall: pandas\n",
            "    Found existing installation: pandas 2.2.2\n",
            "    Uninstalling pandas-2.2.2:\n",
            "      Successfully uninstalled pandas-2.2.2\n",
            "\u001b[31mERROR: pip's dependency resolver does not currently take into account all the packages that are installed. This behaviour is the source of the following dependency conflicts.\n",
            "google-colab 1.0.0 requires pandas==2.2.2, but you have pandas 2.1.4 which is incompatible.\u001b[0m\u001b[31m\n",
            "\u001b[0mSuccessfully installed category-encoders-2.6.4 dash-2.18.1 dash-core-components-2.0.0 dash-html-components-2.0.0 dash-table-5.0.0 deprecation-2.1.0 jedi-0.19.1 joblib-1.3.2 kaleido-0.2.1 orjson-3.10.7 pandas-2.1.4 plotly-resampler-0.10.0 pmdarima-2.0.4 pycaret-3.3.2 pyod-2.0.2 retrying-1.3.4 schemdraw-0.15 scikit-base-0.7.8 scikit-learn-1.4.2 scikit-plot-0.3.7 scipy-1.11.4 sktime-0.26.0 tbats-1.1.3 tsdownsample-0.1.3 wurlitzer-3.1.1 xxhash-3.5.0\n"
          ]
        },
        {
          "output_type": "display_data",
          "data": {
            "application/vnd.colab-display-data+json": {
              "pip_warning": {
                "packages": [
                  "joblib",
                  "sklearn"
                ]
              },
              "id": "2a9d5782d57f4fc7a36af4d32aa5c7c2"
            }
          },
          "metadata": {}
        }
      ]
    },
    {
      "cell_type": "code",
      "source": [
        "from pycaret.classification import *\n",
        "pcrt = setup(data=X,target=reasons,session_id=42, verbose=True,imputation_type=None,memory=False,feature_selection=False )\n",
        "compare_models(verbose=True)"
      ],
      "metadata": {
        "colab": {
          "base_uri": "https://localhost:8080/",
          "height": 1000,
          "referenced_widgets": [
            "ade62a2da49f43519cb15508563d14c3",
            "1edc3bf5df594fbfa5799130b4c37ba0",
            "c09470f2068c4737a07da9379362d40e",
            "fb402eb32158486b996211e510fb0d55",
            "c5a38dc8b6f54a82863c66988425e2d6",
            "adbfabed0d0a4266af9487bc150079f7",
            "ace9ecca299149b09f16b019f259e4e4",
            "4bc33dae9b704041b2586b30206dc358",
            "77c6b6c6a6b64032ab68b6afd3d48dd0",
            "800a0ee6233141d0aab3d2e1a0886287",
            "5ed099c96fc44e5abf4f48379f1acdef"
          ]
        },
        "id": "zpnanOk-M9zB",
        "outputId": "e2032dca-32c8-4ed6-c50b-4646e7db55d2"
      },
      "execution_count": null,
      "outputs": [
        {
          "output_type": "display_data",
          "data": {
            "text/plain": [
              "<pandas.io.formats.style.Styler at 0x78068c164a90>"
            ],
            "text/html": [
              "<style type=\"text/css\">\n",
              "#T_d841a_row9_col1 {\n",
              "  background-color: lightgreen;\n",
              "}\n",
              "</style>\n",
              "<table id=\"T_d841a\" class=\"dataframe\">\n",
              "  <thead>\n",
              "    <tr>\n",
              "      <th class=\"blank level0\" >&nbsp;</th>\n",
              "      <th id=\"T_d841a_level0_col0\" class=\"col_heading level0 col0\" >Description</th>\n",
              "      <th id=\"T_d841a_level0_col1\" class=\"col_heading level0 col1\" >Value</th>\n",
              "    </tr>\n",
              "  </thead>\n",
              "  <tbody>\n",
              "    <tr>\n",
              "      <th id=\"T_d841a_level0_row0\" class=\"row_heading level0 row0\" >0</th>\n",
              "      <td id=\"T_d841a_row0_col0\" class=\"data row0 col0\" >Session id</td>\n",
              "      <td id=\"T_d841a_row0_col1\" class=\"data row0 col1\" >42</td>\n",
              "    </tr>\n",
              "    <tr>\n",
              "      <th id=\"T_d841a_level0_row1\" class=\"row_heading level0 row1\" >1</th>\n",
              "      <td id=\"T_d841a_row1_col0\" class=\"data row1 col0\" >Target</td>\n",
              "      <td id=\"T_d841a_row1_col1\" class=\"data row1 col1\" >target</td>\n",
              "    </tr>\n",
              "    <tr>\n",
              "      <th id=\"T_d841a_level0_row2\" class=\"row_heading level0 row2\" >2</th>\n",
              "      <td id=\"T_d841a_row2_col0\" class=\"data row2 col0\" >Target type</td>\n",
              "      <td id=\"T_d841a_row2_col1\" class=\"data row2 col1\" >Multiclass</td>\n",
              "    </tr>\n",
              "    <tr>\n",
              "      <th id=\"T_d841a_level0_row3\" class=\"row_heading level0 row3\" >3</th>\n",
              "      <td id=\"T_d841a_row3_col0\" class=\"data row3 col0\" >Target mapping</td>\n",
              "      <td id=\"T_d841a_row3_col1\" class=\"data row3 col1\" >baggage: 0, booking: 1, check: 2, checkout: 3, communications: 4, digital support: 5, disability: 6, etc: 7, irrops: 8, mileage plus: 9, post flight: 10, products services: 11, schedule change: 12, seating: 13, topics: 14, traveler updates: 15, unaccompanied minor: 16, upgrade: 17, voluntary cancel: 18, voluntary change: 19</td>\n",
              "    </tr>\n",
              "    <tr>\n",
              "      <th id=\"T_d841a_level0_row4\" class=\"row_heading level0 row4\" >4</th>\n",
              "      <td id=\"T_d841a_row4_col0\" class=\"data row4 col0\" >Original data shape</td>\n",
              "      <td id=\"T_d841a_row4_col1\" class=\"data row4 col1\" >(66552, 32615)</td>\n",
              "    </tr>\n",
              "    <tr>\n",
              "      <th id=\"T_d841a_level0_row5\" class=\"row_heading level0 row5\" >5</th>\n",
              "      <td id=\"T_d841a_row5_col0\" class=\"data row5 col0\" >Transformed data shape</td>\n",
              "      <td id=\"T_d841a_row5_col1\" class=\"data row5 col1\" >(66552, 32615)</td>\n",
              "    </tr>\n",
              "    <tr>\n",
              "      <th id=\"T_d841a_level0_row6\" class=\"row_heading level0 row6\" >6</th>\n",
              "      <td id=\"T_d841a_row6_col0\" class=\"data row6 col0\" >Transformed train set shape</td>\n",
              "      <td id=\"T_d841a_row6_col1\" class=\"data row6 col1\" >(46586, 32615)</td>\n",
              "    </tr>\n",
              "    <tr>\n",
              "      <th id=\"T_d841a_level0_row7\" class=\"row_heading level0 row7\" >7</th>\n",
              "      <td id=\"T_d841a_row7_col0\" class=\"data row7 col0\" >Transformed test set shape</td>\n",
              "      <td id=\"T_d841a_row7_col1\" class=\"data row7 col1\" >(19966, 32615)</td>\n",
              "    </tr>\n",
              "    <tr>\n",
              "      <th id=\"T_d841a_level0_row8\" class=\"row_heading level0 row8\" >8</th>\n",
              "      <td id=\"T_d841a_row8_col0\" class=\"data row8 col0\" >Numeric features</td>\n",
              "      <td id=\"T_d841a_row8_col1\" class=\"data row8 col1\" >32614</td>\n",
              "    </tr>\n",
              "    <tr>\n",
              "      <th id=\"T_d841a_level0_row9\" class=\"row_heading level0 row9\" >9</th>\n",
              "      <td id=\"T_d841a_row9_col0\" class=\"data row9 col0\" >Preprocess</td>\n",
              "      <td id=\"T_d841a_row9_col1\" class=\"data row9 col1\" >True</td>\n",
              "    </tr>\n",
              "    <tr>\n",
              "      <th id=\"T_d841a_level0_row10\" class=\"row_heading level0 row10\" >10</th>\n",
              "      <td id=\"T_d841a_row10_col0\" class=\"data row10 col0\" >Imputation type</td>\n",
              "      <td id=\"T_d841a_row10_col1\" class=\"data row10 col1\" >None</td>\n",
              "    </tr>\n",
              "    <tr>\n",
              "      <th id=\"T_d841a_level0_row11\" class=\"row_heading level0 row11\" >11</th>\n",
              "      <td id=\"T_d841a_row11_col0\" class=\"data row11 col0\" >Fold Generator</td>\n",
              "      <td id=\"T_d841a_row11_col1\" class=\"data row11 col1\" >StratifiedKFold</td>\n",
              "    </tr>\n",
              "    <tr>\n",
              "      <th id=\"T_d841a_level0_row12\" class=\"row_heading level0 row12\" >12</th>\n",
              "      <td id=\"T_d841a_row12_col0\" class=\"data row12 col0\" >Fold Number</td>\n",
              "      <td id=\"T_d841a_row12_col1\" class=\"data row12 col1\" >10</td>\n",
              "    </tr>\n",
              "    <tr>\n",
              "      <th id=\"T_d841a_level0_row13\" class=\"row_heading level0 row13\" >13</th>\n",
              "      <td id=\"T_d841a_row13_col0\" class=\"data row13 col0\" >CPU Jobs</td>\n",
              "      <td id=\"T_d841a_row13_col1\" class=\"data row13 col1\" >-1</td>\n",
              "    </tr>\n",
              "    <tr>\n",
              "      <th id=\"T_d841a_level0_row14\" class=\"row_heading level0 row14\" >14</th>\n",
              "      <td id=\"T_d841a_row14_col0\" class=\"data row14 col0\" >Use GPU</td>\n",
              "      <td id=\"T_d841a_row14_col1\" class=\"data row14 col1\" >False</td>\n",
              "    </tr>\n",
              "    <tr>\n",
              "      <th id=\"T_d841a_level0_row15\" class=\"row_heading level0 row15\" >15</th>\n",
              "      <td id=\"T_d841a_row15_col0\" class=\"data row15 col0\" >Log Experiment</td>\n",
              "      <td id=\"T_d841a_row15_col1\" class=\"data row15 col1\" >False</td>\n",
              "    </tr>\n",
              "    <tr>\n",
              "      <th id=\"T_d841a_level0_row16\" class=\"row_heading level0 row16\" >16</th>\n",
              "      <td id=\"T_d841a_row16_col0\" class=\"data row16 col0\" >Experiment Name</td>\n",
              "      <td id=\"T_d841a_row16_col1\" class=\"data row16 col1\" >clf-default-name</td>\n",
              "    </tr>\n",
              "    <tr>\n",
              "      <th id=\"T_d841a_level0_row17\" class=\"row_heading level0 row17\" >17</th>\n",
              "      <td id=\"T_d841a_row17_col0\" class=\"data row17 col0\" >USI</td>\n",
              "      <td id=\"T_d841a_row17_col1\" class=\"data row17 col1\" >b647</td>\n",
              "    </tr>\n",
              "  </tbody>\n",
              "</table>\n"
            ]
          },
          "metadata": {}
        },
        {
          "output_type": "display_data",
          "data": {
            "text/plain": [
              "                                                                            \n",
              "                                                                            \n",
              "Initiated  . . . . . . . . . . . . . . . . . .                      18:22:22\n",
              "Status     . . . . . . . . . . . . . . . . . .              Fitting 10 Folds\n",
              "Estimator  . . . . . . . . . . . . . . . . . .  Gradient Boosting Classifier"
            ],
            "text/html": [
              "\n",
              "  <div id=\"df-1a4710f0-2ac1-47e7-a5d3-09a8473e7cdd\" class=\"colab-df-container\">\n",
              "    <div>\n",
              "<style scoped>\n",
              "    .dataframe tbody tr th:only-of-type {\n",
              "        vertical-align: middle;\n",
              "    }\n",
              "\n",
              "    .dataframe tbody tr th {\n",
              "        vertical-align: top;\n",
              "    }\n",
              "\n",
              "    .dataframe thead th {\n",
              "        text-align: right;\n",
              "    }\n",
              "</style>\n",
              "<table border=\"1\" class=\"dataframe\">\n",
              "  <thead>\n",
              "    <tr style=\"text-align: right;\">\n",
              "      <th></th>\n",
              "      <th></th>\n",
              "      <th></th>\n",
              "    </tr>\n",
              "    <tr>\n",
              "      <th></th>\n",
              "      <th></th>\n",
              "      <th></th>\n",
              "    </tr>\n",
              "  </thead>\n",
              "  <tbody>\n",
              "    <tr>\n",
              "      <th>Initiated</th>\n",
              "      <td>. . . . . . . . . . . . . . . . . .</td>\n",
              "      <td>18:22:22</td>\n",
              "    </tr>\n",
              "    <tr>\n",
              "      <th>Status</th>\n",
              "      <td>. . . . . . . . . . . . . . . . . .</td>\n",
              "      <td>Fitting 10 Folds</td>\n",
              "    </tr>\n",
              "    <tr>\n",
              "      <th>Estimator</th>\n",
              "      <td>. . . . . . . . . . . . . . . . . .</td>\n",
              "      <td>Gradient Boosting Classifier</td>\n",
              "    </tr>\n",
              "  </tbody>\n",
              "</table>\n",
              "</div>\n",
              "    <div class=\"colab-df-buttons\">\n",
              "\n",
              "  <div class=\"colab-df-container\">\n",
              "    <button class=\"colab-df-convert\" onclick=\"convertToInteractive('df-1a4710f0-2ac1-47e7-a5d3-09a8473e7cdd')\"\n",
              "            title=\"Convert this dataframe to an interactive table.\"\n",
              "            style=\"display:none;\">\n",
              "\n",
              "  <svg xmlns=\"http://www.w3.org/2000/svg\" height=\"24px\" viewBox=\"0 -960 960 960\">\n",
              "    <path d=\"M120-120v-720h720v720H120Zm60-500h600v-160H180v160Zm220 220h160v-160H400v160Zm0 220h160v-160H400v160ZM180-400h160v-160H180v160Zm440 0h160v-160H620v160ZM180-180h160v-160H180v160Zm440 0h160v-160H620v160Z\"/>\n",
              "  </svg>\n",
              "    </button>\n",
              "\n",
              "  <style>\n",
              "    .colab-df-container {\n",
              "      display:flex;\n",
              "      gap: 12px;\n",
              "    }\n",
              "\n",
              "    .colab-df-convert {\n",
              "      background-color: #E8F0FE;\n",
              "      border: none;\n",
              "      border-radius: 50%;\n",
              "      cursor: pointer;\n",
              "      display: none;\n",
              "      fill: #1967D2;\n",
              "      height: 32px;\n",
              "      padding: 0 0 0 0;\n",
              "      width: 32px;\n",
              "    }\n",
              "\n",
              "    .colab-df-convert:hover {\n",
              "      background-color: #E2EBFA;\n",
              "      box-shadow: 0px 1px 2px rgba(60, 64, 67, 0.3), 0px 1px 3px 1px rgba(60, 64, 67, 0.15);\n",
              "      fill: #174EA6;\n",
              "    }\n",
              "\n",
              "    .colab-df-buttons div {\n",
              "      margin-bottom: 4px;\n",
              "    }\n",
              "\n",
              "    [theme=dark] .colab-df-convert {\n",
              "      background-color: #3B4455;\n",
              "      fill: #D2E3FC;\n",
              "    }\n",
              "\n",
              "    [theme=dark] .colab-df-convert:hover {\n",
              "      background-color: #434B5C;\n",
              "      box-shadow: 0px 1px 3px 1px rgba(0, 0, 0, 0.15);\n",
              "      filter: drop-shadow(0px 1px 2px rgba(0, 0, 0, 0.3));\n",
              "      fill: #FFFFFF;\n",
              "    }\n",
              "  </style>\n",
              "\n",
              "    <script>\n",
              "      const buttonEl =\n",
              "        document.querySelector('#df-1a4710f0-2ac1-47e7-a5d3-09a8473e7cdd button.colab-df-convert');\n",
              "      buttonEl.style.display =\n",
              "        google.colab.kernel.accessAllowed ? 'block' : 'none';\n",
              "\n",
              "      async function convertToInteractive(key) {\n",
              "        const element = document.querySelector('#df-1a4710f0-2ac1-47e7-a5d3-09a8473e7cdd');\n",
              "        const dataTable =\n",
              "          await google.colab.kernel.invokeFunction('convertToInteractive',\n",
              "                                                    [key], {});\n",
              "        if (!dataTable) return;\n",
              "\n",
              "        const docLinkHtml = 'Like what you see? Visit the ' +\n",
              "          '<a target=\"_blank\" href=https://colab.research.google.com/notebooks/data_table.ipynb>data table notebook</a>'\n",
              "          + ' to learn more about interactive tables.';\n",
              "        element.innerHTML = '';\n",
              "        dataTable['output_type'] = 'display_data';\n",
              "        await google.colab.output.renderOutput(dataTable, element);\n",
              "        const docLink = document.createElement('div');\n",
              "        docLink.innerHTML = docLinkHtml;\n",
              "        element.appendChild(docLink);\n",
              "      }\n",
              "    </script>\n",
              "  </div>\n",
              "\n",
              "\n",
              "<div id=\"df-9003518a-f59a-436d-ad2e-e32fd455e454\">\n",
              "  <button class=\"colab-df-quickchart\" onclick=\"quickchart('df-9003518a-f59a-436d-ad2e-e32fd455e454')\"\n",
              "            title=\"Suggest charts\"\n",
              "            style=\"display:none;\">\n",
              "\n",
              "<svg xmlns=\"http://www.w3.org/2000/svg\" height=\"24px\"viewBox=\"0 0 24 24\"\n",
              "     width=\"24px\">\n",
              "    <g>\n",
              "        <path d=\"M19 3H5c-1.1 0-2 .9-2 2v14c0 1.1.9 2 2 2h14c1.1 0 2-.9 2-2V5c0-1.1-.9-2-2-2zM9 17H7v-7h2v7zm4 0h-2V7h2v10zm4 0h-2v-4h2v4z\"/>\n",
              "    </g>\n",
              "</svg>\n",
              "  </button>\n",
              "\n",
              "<style>\n",
              "  .colab-df-quickchart {\n",
              "      --bg-color: #E8F0FE;\n",
              "      --fill-color: #1967D2;\n",
              "      --hover-bg-color: #E2EBFA;\n",
              "      --hover-fill-color: #174EA6;\n",
              "      --disabled-fill-color: #AAA;\n",
              "      --disabled-bg-color: #DDD;\n",
              "  }\n",
              "\n",
              "  [theme=dark] .colab-df-quickchart {\n",
              "      --bg-color: #3B4455;\n",
              "      --fill-color: #D2E3FC;\n",
              "      --hover-bg-color: #434B5C;\n",
              "      --hover-fill-color: #FFFFFF;\n",
              "      --disabled-bg-color: #3B4455;\n",
              "      --disabled-fill-color: #666;\n",
              "  }\n",
              "\n",
              "  .colab-df-quickchart {\n",
              "    background-color: var(--bg-color);\n",
              "    border: none;\n",
              "    border-radius: 50%;\n",
              "    cursor: pointer;\n",
              "    display: none;\n",
              "    fill: var(--fill-color);\n",
              "    height: 32px;\n",
              "    padding: 0;\n",
              "    width: 32px;\n",
              "  }\n",
              "\n",
              "  .colab-df-quickchart:hover {\n",
              "    background-color: var(--hover-bg-color);\n",
              "    box-shadow: 0 1px 2px rgba(60, 64, 67, 0.3), 0 1px 3px 1px rgba(60, 64, 67, 0.15);\n",
              "    fill: var(--button-hover-fill-color);\n",
              "  }\n",
              "\n",
              "  .colab-df-quickchart-complete:disabled,\n",
              "  .colab-df-quickchart-complete:disabled:hover {\n",
              "    background-color: var(--disabled-bg-color);\n",
              "    fill: var(--disabled-fill-color);\n",
              "    box-shadow: none;\n",
              "  }\n",
              "\n",
              "  .colab-df-spinner {\n",
              "    border: 2px solid var(--fill-color);\n",
              "    border-color: transparent;\n",
              "    border-bottom-color: var(--fill-color);\n",
              "    animation:\n",
              "      spin 1s steps(1) infinite;\n",
              "  }\n",
              "\n",
              "  @keyframes spin {\n",
              "    0% {\n",
              "      border-color: transparent;\n",
              "      border-bottom-color: var(--fill-color);\n",
              "      border-left-color: var(--fill-color);\n",
              "    }\n",
              "    20% {\n",
              "      border-color: transparent;\n",
              "      border-left-color: var(--fill-color);\n",
              "      border-top-color: var(--fill-color);\n",
              "    }\n",
              "    30% {\n",
              "      border-color: transparent;\n",
              "      border-left-color: var(--fill-color);\n",
              "      border-top-color: var(--fill-color);\n",
              "      border-right-color: var(--fill-color);\n",
              "    }\n",
              "    40% {\n",
              "      border-color: transparent;\n",
              "      border-right-color: var(--fill-color);\n",
              "      border-top-color: var(--fill-color);\n",
              "    }\n",
              "    60% {\n",
              "      border-color: transparent;\n",
              "      border-right-color: var(--fill-color);\n",
              "    }\n",
              "    80% {\n",
              "      border-color: transparent;\n",
              "      border-right-color: var(--fill-color);\n",
              "      border-bottom-color: var(--fill-color);\n",
              "    }\n",
              "    90% {\n",
              "      border-color: transparent;\n",
              "      border-bottom-color: var(--fill-color);\n",
              "    }\n",
              "  }\n",
              "</style>\n",
              "\n",
              "  <script>\n",
              "    async function quickchart(key) {\n",
              "      const quickchartButtonEl =\n",
              "        document.querySelector('#' + key + ' button');\n",
              "      quickchartButtonEl.disabled = true;  // To prevent multiple clicks.\n",
              "      quickchartButtonEl.classList.add('colab-df-spinner');\n",
              "      try {\n",
              "        const charts = await google.colab.kernel.invokeFunction(\n",
              "            'suggestCharts', [key], {});\n",
              "      } catch (error) {\n",
              "        console.error('Error during call to suggestCharts:', error);\n",
              "      }\n",
              "      quickchartButtonEl.classList.remove('colab-df-spinner');\n",
              "      quickchartButtonEl.classList.add('colab-df-quickchart-complete');\n",
              "    }\n",
              "    (() => {\n",
              "      let quickchartButtonEl =\n",
              "        document.querySelector('#df-9003518a-f59a-436d-ad2e-e32fd455e454 button');\n",
              "      quickchartButtonEl.style.display =\n",
              "        google.colab.kernel.accessAllowed ? 'block' : 'none';\n",
              "    })();\n",
              "  </script>\n",
              "</div>\n",
              "\n",
              "    </div>\n",
              "  </div>\n"
            ],
            "application/vnd.google.colaboratory.intrinsic+json": {
              "type": "dataframe",
              "summary": "{\n  \"name\": \"compare_models(verbose=True)\",\n  \"rows\": 3,\n  \"fields\": [\n    {\n      \"column\": \" \",\n      \"properties\": {\n        \"dtype\": \"category\",\n        \"num_unique_values\": 1,\n        \"samples\": [\n          \". . . . . . . . . . . . . . . . . .\"\n        ],\n        \"semantic_type\": \"\",\n        \"description\": \"\"\n      }\n    },\n    {\n      \"column\": \"  \",\n      \"properties\": {\n        \"dtype\": \"string\",\n        \"num_unique_values\": 3,\n        \"samples\": [\n          \"18:22:22\"\n        ],\n        \"semantic_type\": \"\",\n        \"description\": \"\"\n      }\n    }\n  ]\n}"
            }
          },
          "metadata": {}
        },
        {
          "output_type": "display_data",
          "data": {
            "text/plain": [
              "<pandas.io.formats.style.Styler at 0x78068b820970>"
            ],
            "text/html": [
              "<style type=\"text/css\">\n",
              "#T_00148 th {\n",
              "  text-align: left;\n",
              "}\n",
              "#T_00148_row0_col0, #T_00148_row0_col1, #T_00148_row0_col2, #T_00148_row0_col3, #T_00148_row0_col4, #T_00148_row0_col5, #T_00148_row0_col6, #T_00148_row0_col7, #T_00148_row0_col8, #T_00148_row1_col0, #T_00148_row1_col1, #T_00148_row1_col2, #T_00148_row1_col3, #T_00148_row1_col4, #T_00148_row1_col5, #T_00148_row1_col6, #T_00148_row1_col7, #T_00148_row1_col8, #T_00148_row2_col0, #T_00148_row2_col1, #T_00148_row2_col2, #T_00148_row2_col3, #T_00148_row2_col4, #T_00148_row2_col5, #T_00148_row2_col6, #T_00148_row2_col7, #T_00148_row2_col8, #T_00148_row3_col0, #T_00148_row3_col1, #T_00148_row3_col2, #T_00148_row3_col3, #T_00148_row3_col4, #T_00148_row3_col5, #T_00148_row3_col6, #T_00148_row3_col7, #T_00148_row3_col8, #T_00148_row4_col0, #T_00148_row4_col1, #T_00148_row4_col2, #T_00148_row4_col3, #T_00148_row4_col4, #T_00148_row4_col5, #T_00148_row4_col6, #T_00148_row4_col7, #T_00148_row4_col8, #T_00148_row5_col0, #T_00148_row5_col1, #T_00148_row5_col2, #T_00148_row5_col3, #T_00148_row5_col4, #T_00148_row5_col5, #T_00148_row5_col6, #T_00148_row5_col7, #T_00148_row5_col8, #T_00148_row6_col0, #T_00148_row6_col1, #T_00148_row6_col2, #T_00148_row6_col3, #T_00148_row6_col4, #T_00148_row6_col5, #T_00148_row6_col6, #T_00148_row6_col7, #T_00148_row6_col8 {\n",
              "  text-align: left;\n",
              "}\n",
              "</style>\n",
              "<table id=\"T_00148\" class=\"dataframe\">\n",
              "  <thead>\n",
              "    <tr>\n",
              "      <th class=\"blank level0\" >&nbsp;</th>\n",
              "      <th id=\"T_00148_level0_col0\" class=\"col_heading level0 col0\" >Model</th>\n",
              "      <th id=\"T_00148_level0_col1\" class=\"col_heading level0 col1\" >Accuracy</th>\n",
              "      <th id=\"T_00148_level0_col2\" class=\"col_heading level0 col2\" >AUC</th>\n",
              "      <th id=\"T_00148_level0_col3\" class=\"col_heading level0 col3\" >Recall</th>\n",
              "      <th id=\"T_00148_level0_col4\" class=\"col_heading level0 col4\" >Prec.</th>\n",
              "      <th id=\"T_00148_level0_col5\" class=\"col_heading level0 col5\" >F1</th>\n",
              "      <th id=\"T_00148_level0_col6\" class=\"col_heading level0 col6\" >Kappa</th>\n",
              "      <th id=\"T_00148_level0_col7\" class=\"col_heading level0 col7\" >MCC</th>\n",
              "      <th id=\"T_00148_level0_col8\" class=\"col_heading level0 col8\" >TT (Sec)</th>\n",
              "    </tr>\n",
              "  </thead>\n",
              "  <tbody>\n",
              "    <tr>\n",
              "      <th id=\"T_00148_level0_row0\" class=\"row_heading level0 row0\" >lr</th>\n",
              "      <td id=\"T_00148_row0_col0\" class=\"data row0 col0\" >Logistic Regression</td>\n",
              "      <td id=\"T_00148_row0_col1\" class=\"data row0 col1\" >0.2056</td>\n",
              "      <td id=\"T_00148_row0_col2\" class=\"data row0 col2\" >0.0000</td>\n",
              "      <td id=\"T_00148_row0_col3\" class=\"data row0 col3\" >0.2056</td>\n",
              "      <td id=\"T_00148_row0_col4\" class=\"data row0 col4\" >0.1197</td>\n",
              "      <td id=\"T_00148_row0_col5\" class=\"data row0 col5\" >0.1196</td>\n",
              "      <td id=\"T_00148_row0_col6\" class=\"data row0 col6\" >0.0307</td>\n",
              "      <td id=\"T_00148_row0_col7\" class=\"data row0 col7\" >0.0367</td>\n",
              "      <td id=\"T_00148_row0_col8\" class=\"data row0 col8\" >126.1520</td>\n",
              "    </tr>\n",
              "    <tr>\n",
              "      <th id=\"T_00148_level0_row1\" class=\"row_heading level0 row1\" >ada</th>\n",
              "      <td id=\"T_00148_row1_col0\" class=\"data row1 col0\" >Ada Boost Classifier</td>\n",
              "      <td id=\"T_00148_row1_col1\" class=\"data row1 col1\" >0.2037</td>\n",
              "      <td id=\"T_00148_row1_col2\" class=\"data row1 col2\" >0.0000</td>\n",
              "      <td id=\"T_00148_row1_col3\" class=\"data row1 col3\" >0.2037</td>\n",
              "      <td id=\"T_00148_row1_col4\" class=\"data row1 col4\" >0.0881</td>\n",
              "      <td id=\"T_00148_row1_col5\" class=\"data row1 col5\" >0.1082</td>\n",
              "      <td id=\"T_00148_row1_col6\" class=\"data row1 col6\" >0.0241</td>\n",
              "      <td id=\"T_00148_row1_col7\" class=\"data row1 col7\" >0.0298</td>\n",
              "      <td id=\"T_00148_row1_col8\" class=\"data row1 col8\" >233.7160</td>\n",
              "    </tr>\n",
              "    <tr>\n",
              "      <th id=\"T_00148_level0_row2\" class=\"row_heading level0 row2\" >rf</th>\n",
              "      <td id=\"T_00148_row2_col0\" class=\"data row2 col0\" >Random Forest Classifier</td>\n",
              "      <td id=\"T_00148_row2_col1\" class=\"data row2 col1\" >0.1983</td>\n",
              "      <td id=\"T_00148_row2_col2\" class=\"data row2 col2\" >0.5229</td>\n",
              "      <td id=\"T_00148_row2_col3\" class=\"data row2 col3\" >0.1983</td>\n",
              "      <td id=\"T_00148_row2_col4\" class=\"data row2 col4\" >0.0935</td>\n",
              "      <td id=\"T_00148_row2_col5\" class=\"data row2 col5\" >0.1025</td>\n",
              "      <td id=\"T_00148_row2_col6\" class=\"data row2 col6\" >0.0121</td>\n",
              "      <td id=\"T_00148_row2_col7\" class=\"data row2 col7\" >0.0163</td>\n",
              "      <td id=\"T_00148_row2_col8\" class=\"data row2 col8\" >310.8730</td>\n",
              "    </tr>\n",
              "    <tr>\n",
              "      <th id=\"T_00148_level0_row3\" class=\"row_heading level0 row3\" >ridge</th>\n",
              "      <td id=\"T_00148_row3_col0\" class=\"data row3 col0\" >Ridge Classifier</td>\n",
              "      <td id=\"T_00148_row3_col1\" class=\"data row3 col1\" >0.1926</td>\n",
              "      <td id=\"T_00148_row3_col2\" class=\"data row3 col2\" >0.0000</td>\n",
              "      <td id=\"T_00148_row3_col3\" class=\"data row3 col3\" >0.1926</td>\n",
              "      <td id=\"T_00148_row3_col4\" class=\"data row3 col4\" >0.1246</td>\n",
              "      <td id=\"T_00148_row3_col5\" class=\"data row3 col5\" >0.1287</td>\n",
              "      <td id=\"T_00148_row3_col6\" class=\"data row3 col6\" >0.0302</td>\n",
              "      <td id=\"T_00148_row3_col7\" class=\"data row3 col7\" >0.0335</td>\n",
              "      <td id=\"T_00148_row3_col8\" class=\"data row3 col8\" >93.1410</td>\n",
              "    </tr>\n",
              "    <tr>\n",
              "      <th id=\"T_00148_level0_row4\" class=\"row_heading level0 row4\" >svm</th>\n",
              "      <td id=\"T_00148_row4_col0\" class=\"data row4 col0\" >SVM - Linear Kernel</td>\n",
              "      <td id=\"T_00148_row4_col1\" class=\"data row4 col1\" >0.1222</td>\n",
              "      <td id=\"T_00148_row4_col2\" class=\"data row4 col2\" >0.0000</td>\n",
              "      <td id=\"T_00148_row4_col3\" class=\"data row4 col3\" >0.1222</td>\n",
              "      <td id=\"T_00148_row4_col4\" class=\"data row4 col4\" >0.1203</td>\n",
              "      <td id=\"T_00148_row4_col5\" class=\"data row4 col5\" >0.0975</td>\n",
              "      <td id=\"T_00148_row4_col6\" class=\"data row4 col6\" >0.0178</td>\n",
              "      <td id=\"T_00148_row4_col7\" class=\"data row4 col7\" >0.0191</td>\n",
              "      <td id=\"T_00148_row4_col8\" class=\"data row4 col8\" >55.9260</td>\n",
              "    </tr>\n",
              "    <tr>\n",
              "      <th id=\"T_00148_level0_row5\" class=\"row_heading level0 row5\" >knn</th>\n",
              "      <td id=\"T_00148_row5_col0\" class=\"data row5 col0\" >K Neighbors Classifier</td>\n",
              "      <td id=\"T_00148_row5_col1\" class=\"data row5 col1\" >0.1163</td>\n",
              "      <td id=\"T_00148_row5_col2\" class=\"data row5 col2\" >0.5071</td>\n",
              "      <td id=\"T_00148_row5_col3\" class=\"data row5 col3\" >0.1163</td>\n",
              "      <td id=\"T_00148_row5_col4\" class=\"data row5 col4\" >0.1073</td>\n",
              "      <td id=\"T_00148_row5_col5\" class=\"data row5 col5\" >0.1060</td>\n",
              "      <td id=\"T_00148_row5_col6\" class=\"data row5 col6\" >0.0068</td>\n",
              "      <td id=\"T_00148_row5_col7\" class=\"data row5 col7\" >0.0069</td>\n",
              "      <td id=\"T_00148_row5_col8\" class=\"data row5 col8\" >200.5040</td>\n",
              "    </tr>\n",
              "    <tr>\n",
              "      <th id=\"T_00148_level0_row6\" class=\"row_heading level0 row6\" >dt</th>\n",
              "      <td id=\"T_00148_row6_col0\" class=\"data row6 col0\" >Decision Tree Classifier</td>\n",
              "      <td id=\"T_00148_row6_col1\" class=\"data row6 col1\" >0.1085</td>\n",
              "      <td id=\"T_00148_row6_col2\" class=\"data row6 col2\" >0.5031</td>\n",
              "      <td id=\"T_00148_row6_col3\" class=\"data row6 col3\" >0.1085</td>\n",
              "      <td id=\"T_00148_row6_col4\" class=\"data row6 col4\" >0.1066</td>\n",
              "      <td id=\"T_00148_row6_col5\" class=\"data row6 col5\" >0.1075</td>\n",
              "      <td id=\"T_00148_row6_col6\" class=\"data row6 col6\" >0.0057</td>\n",
              "      <td id=\"T_00148_row6_col7\" class=\"data row6 col7\" >0.0057</td>\n",
              "      <td id=\"T_00148_row6_col8\" class=\"data row6 col8\" >237.6190</td>\n",
              "    </tr>\n",
              "  </tbody>\n",
              "</table>\n"
            ]
          },
          "metadata": {}
        },
        {
          "output_type": "display_data",
          "data": {
            "text/plain": [
              "Processing:   0%|          | 0/65 [00:00<?, ?it/s]"
            ],
            "application/vnd.jupyter.widget-view+json": {
              "version_major": 2,
              "version_minor": 0,
              "model_id": "ade62a2da49f43519cb15508563d14c3"
            }
          },
          "metadata": {
            "application/vnd.jupyter.widget-view+json": {
              "colab": {
                "custom_widget_manager": {
                  "url": "https://ssl.gstatic.com/colaboratory-static/widgets/colab-cdn-widget-manager/2b70e893a8ba7c0f/manager.min.js"
                }
              }
            }
          }
        }
      ]
    },
    {
      "cell_type": "markdown",
      "source": [
        "#Approach 3 Using LDA"
      ],
      "metadata": {
        "id": "oiXvToArd0qP"
      }
    },
    {
      "cell_type": "code",
      "source": [
        "!pip install nltk gensim scikit-learn"
      ],
      "metadata": {
        "id": "bm6VAAOQhjtr",
        "colab": {
          "base_uri": "https://localhost:8080/"
        },
        "outputId": "4719ef85-b079-4043-a775-86d781a9d4b2"
      },
      "execution_count": null,
      "outputs": [
        {
          "output_type": "stream",
          "name": "stdout",
          "text": [
            "Requirement already satisfied: nltk in /usr/local/lib/python3.10/dist-packages (3.8.1)\n",
            "Requirement already satisfied: gensim in /usr/local/lib/python3.10/dist-packages (4.3.3)\n",
            "Requirement already satisfied: scikit-learn in /usr/local/lib/python3.10/dist-packages (1.5.2)\n",
            "Requirement already satisfied: click in /usr/local/lib/python3.10/dist-packages (from nltk) (8.1.7)\n",
            "Requirement already satisfied: joblib in /usr/local/lib/python3.10/dist-packages (from nltk) (1.4.2)\n",
            "Requirement already satisfied: regex>=2021.8.3 in /usr/local/lib/python3.10/dist-packages (from nltk) (2024.9.11)\n",
            "Requirement already satisfied: tqdm in /usr/local/lib/python3.10/dist-packages (from nltk) (4.66.5)\n",
            "Requirement already satisfied: numpy<2.0,>=1.18.5 in /usr/local/lib/python3.10/dist-packages (from gensim) (1.26.4)\n",
            "Requirement already satisfied: scipy<1.14.0,>=1.7.0 in /usr/local/lib/python3.10/dist-packages (from gensim) (1.13.1)\n",
            "Requirement already satisfied: smart-open>=1.8.1 in /usr/local/lib/python3.10/dist-packages (from gensim) (7.0.4)\n",
            "Requirement already satisfied: threadpoolctl>=3.1.0 in /usr/local/lib/python3.10/dist-packages (from scikit-learn) (3.5.0)\n",
            "Requirement already satisfied: wrapt in /usr/local/lib/python3.10/dist-packages (from smart-open>=1.8.1->gensim) (1.14.1)\n"
          ]
        }
      ]
    },
    {
      "cell_type": "code",
      "source": [
        "import nltk\n",
        "from nltk.corpus import stopwords\n",
        "from nltk.stem import WordNetLemmatizer\n",
        "from gensim import corpora, models\n",
        "from sklearn.model_selection import train_test_split\n",
        "from sklearn.metrics import accuracy_score\n",
        "\n",
        "nltk.download('stopwords')\n",
        "nltk.download('wordnet')"
      ],
      "metadata": {
        "colab": {
          "base_uri": "https://localhost:8080/"
        },
        "id": "LCrmNsnYGVGR",
        "outputId": "f7019822-b4c7-4a82-835d-cfd789a95b6a"
      },
      "execution_count": null,
      "outputs": [
        {
          "output_type": "stream",
          "name": "stderr",
          "text": [
            "[nltk_data] Downloading package stopwords to /root/nltk_data...\n",
            "[nltk_data]   Package stopwords is already up-to-date!\n",
            "[nltk_data] Downloading package wordnet to /root/nltk_data...\n"
          ]
        },
        {
          "output_type": "execute_result",
          "data": {
            "text/plain": [
              "True"
            ]
          },
          "metadata": {},
          "execution_count": 18
        }
      ]
    },
    {
      "cell_type": "code",
      "source": [
        "transcripts = merged_df.iloc[0:40,:]['call_transcript'].to_list()"
      ],
      "metadata": {
        "id": "kh9dny0aHo7B"
      },
      "execution_count": null,
      "outputs": []
    },
    {
      "cell_type": "code",
      "source": [
        "print(transcripts)"
      ],
      "metadata": {
        "colab": {
          "base_uri": "https://localhost:8080/"
        },
        "id": "dYbovzwPHzzR",
        "outputId": "34a01039-6556-43e5-bb79-a2dbdabd0eee"
      },
      "execution_count": null,
      "outputs": [
        {
          "output_type": "stream",
          "name": "stdout",
          "text": [
            "[\"\\n\\nAgent: Thank you for calling United Airlines customer service, my name is Sarah how may I help you?\\n\\nCustomer: Hi, yeah I'm calling because my flight from Chicago to New York was delayed by over 3 hours! This is ridiculous, I'm missing important meetings because of this. \\n\\nAgent: I'm so sorry to hear about the delay, that's definitely frustrating. Umm, let me pull up your reservation and take a look at what happened. *typing sounds* Okay, it looks like there was severe weather in Chicago that caused multiple flight cancellations and delays across the board for all the airlines. Ahh shoot, yeah your original flight was scheduled to depart at 2pm but didn't actually take off until after 5pm.\\n\\nCustomer: Ugh this is such poor planning on United's part, you should have rerouted passengers or put us on other flights that weren't delayed. Now I've wasted a whole day. \\n\\nAgent: I understand your frustration sir, delays are never fun. Let me see what options I have available to help make this up to you. Hmm, it looks like I can get you booked on a flight leaving at 3pm tomorrow that will have you landing in New York by 5pm. I'll waive the change fee and provide you with a travel voucher for $200 to help cover expenses from the missed meetings today. Does that work for your schedule?\\n\\nCustomer: I guess that's better than nothing. But you really need to get your act together, this is unacceptable customer service from United. Your delays are costing people time and money. \\n\\nAgent: You're right, we want to do better for our customers. I apologize again for the delay and inconvenience. Thank you for flying with us and I hope the rescheduled flight and travel credit help make up for some of the trouble today. Please feel free to reach back out if you have any other issues. Thanks for your patience and for understanding - I appreciate you taking the time to work through this with me.\\n\\nCustomer: Alright fine. This better not happen again next time I fly United. \\n\\nAgent: I'll be sure to note your record so we can try and avoid any repeats going forward. Take care and have a good rest of your day.\\n\\nCustomer: Yeah, you too. *hangs up*\\n\\nAgent: Thank you for your call, next caller please. *pretends to answer another call* Hi there, thank you for calling United how can I help?\", \"\\n\\nAgent: Thank you for calling United Airlines, my name is Sam, how can I help you today?\\n\\nCustomer: Hi Sam, yeah I'm calling because I need to change the dates on my upcoming flight. My flight is booked for next Thursday but something came up and I need to fly out on Monday instead.\\n\\nAgent: No problem, let me pull up your reservation so I can take a look. Can I get your last name and confirmation number please? \\n\\nCustomer: Sure, last name is Smith, confirmation number is ASDF456. *makes noise in background* Sorry, the kids are being loud over here. \\n\\nAgent: No worries, let me see... Okay Mr. Smith, I've got your reservation here for flight UA128 next Thursday. Just giving the availability a check for Monday... Umm it looks like we do have seats available on a flight leaving earlier that day. The fare would be an additional $100 each way though. How does that work for you?\\n\\nCustomer: Ah man, an extra $100? That's more than I was hoping to pay. Is there any way to get on that flight for the same price as my original ticket? Money is a little tight right now. \\n\\nAgent: I understand, flight changes usually do incur a fee unfortunately. Let me take a look at some other options... Hmm it looks like the only flight on Monday that wouldn't have a fare increase leaves quite a bit later in the evening. Would a 9pm departure work instead of the original mid-day flight?\\n\\nCustomer: Ehh that's pretty late. I was trying to get an earlier flight so I have more time once I land. What if I moved my return date back instead of changing the departure? Would that avoid the extra cost?\\n\\nAgent: Good thinking, let me check return dates... *types silently for a few seconds* Okay, it looks like if you move your return date back by two days there would be no change fee. Your new return flight would then be Saturday instead of Thursday. How does that work for your schedule?\\n\\nCustomer: Saturday return works great actually, that'll give me more time there too which is nice. Alright, let's go ahead and switch it to depart on the original date but return on Saturday instead. I appreciate you looking into some options to avoid the extra fees.\\n\\nAgent: No problem, I'm glad we could find a solution that works with your schedule and budget. Okay, I've made those changes to your itinerary. Your new reservation is all set with a Monday departure and Saturday return. Is there anything else I can help with today?\\n\\nCustomer: No, I think that covers it. Thanks so much for your help, Sam!\\n\\nAgent: You're very welcome. Enjoy your trip and have a great rest of your day!\\n\\nCustomer: You too, thanks again! *hangs up*\\n\\nAgent: Thank you for calling United, have a good one! *hangs up*\", \"\\n\\nAgent: Thank you for calling United Airlines customer service, my name is Steve, how may I help you today?\\n\\nCustomer: Hi Steve, uh, I'm calling because I need to make a change to my upcoming flight. My flight is this coming Saturday and I need to change it to a later date.\\n\\nAgent: No problem, let me pull up your reservation. Can I get your last name and confirmation number please?\\n\\nCustomer: Sure, last name is Smith, confirmation number is HFG49821. \\n\\nAgent: Okay, let me take a look here...Smith, HFG49821...yep, I see your reservation for this Saturday. What date did you need to change your flight to? Let me check availability for those dates first.\\n\\nCustomer: Umm, ahh I was hoping to change it to maybe two or three weeks later, like the first or second week of June. Is there anything available then?\\n\\nAgent: *typing noises* Let me see...for the first week of June it looks like we only have a few seats left on certain days. How's Tuesday, June 4th? We have economy seats available leaving at 10am and arriving at 1pm.\\n\\nCustomer: June 4th could work, what would the change fee be for that date? I'm hoping it's not too expensive since it's still over two weeks away.\\n\\nAgent: Let me take a look at the fare rules for your ticket. *more typing* Okay, since you're changing your flight more than 14 days in advance, the change fee would be $150 plus any difference in fare. The fare for June 4th looks to be about $25 more than your original flight, so the total to change would be around $175. Does that work for you?\\n\\nCustomer: Hmm, $175 is a bit more than I was wanting to pay. Is there any way you could possibly waive the change fee since I'm a frequent flyer? I fly with United a few times a year for work.\\n\\nAgent: I understand, change fees can really add up. Let me take a look at your frequent flyer account really quickly...*typing* Okay, it looks like you do have Silver status with us based on the number of flights you took last year. In that case, as a one-time courtesy, I'd be happy to waive the change fee for you. So the total to change your flight to June 4th would just be the $25 difference in fare.\\n\\nCustomer: Oh wow, thank you so much Steve, I really appreciate you waiving the fee. June 4th will work perfectly then. How can I complete the change?\\n\\nAgent: You're very welcome, I'm glad I could help save you some money today. To complete the change, I just need to read back your new itinerary details and then I'll send a confirmation email with your new boarding pass. Your new flight will depart Chicago O'Hare on June 4th at 10am and arrive in Denver at 1pm. This will be on the same flight number as your original reservation. Does this all look correct?\\n\\nCustomer: Yes, that all sounds perfect. Thank you so much for your help, I really appreciate you taking the time to find me an available flight and waiving the fee. You've made this process really easy.\\n\\nAgent: You're very welcome, it was my pleasure. Thank you for being such a loyal United customer. I hope you have a great rest of your day and enjoy your flight in June!\\n\\nCustomer: Thanks Steve, you too! Goodbye.\\n\\nAgent: Goodbye!\", \"\\n\\nAgent: Thank you for calling United Airlines customer service, my name is James. How may I help you today?\\n\\nCustomer: Hi, yeah I'm calling because I'm having some issues with a flight I booked. *sighs* Ugh, this is so frustrating.\\n\\nAgent: I understand your frustration sir. Can you provide me with your confirmation number so I can pull up your reservation?\\n\\nCustomer: Yeah it's PX45T6789. I booked a flight from Chicago to LA for next Wednesday but now I need to change it.\\n\\nAgent: Okay, let me take a look here... *typing noises* Alright, I see your reservation. What type of change did you need to make?\\n\\nCustomer: Well the problem is, something came up at work and I need to fly out on Monday instead of Wednesday. But when I try to change it online, it's saying the Monday flight is full and it won't let me switch to it. \\n\\nAgent: I see. Monday is typically a busier travel day so those seats do fill up quickly. Let me take a look and see if there's any availability I can move you over to. *more typing* Hmm, it looks like the direct flight on Monday is unfortunately booked up. Would you consider an alternate routing with a connection?\\n\\nCustomer: Ugh really? I was hoping to avoid a layover. *sigh* Alright, what other options you got? This is so frustrating, I just want to get home on time for this meeting.\\n\\nAgent: I understand the frustration sir. Just give me one moment while I check a few otherflight options for you on Monday... *types rapidly* Okay, it looks like I may have found you a workable option. There's one flight that would get you into LAX Monday evening with only a one hour layover in Denver. Would that routing work for your travel needs?\\n\\nCustomer: *pause* Yeah I guess that'll have to do. What's the cost to change it to that flight? There better not be some crazy high change fee.\\n\\nAgent: Let me take a look at the rebooking fee for that itinerary. *more typing* It looks like with the fare differences and change fees assessed, the total to move you to that Monday flight would be an additional $150. I know that's not ideal, but hopefully it's doable given the last minute nature of the change.\\n\\nCustomer: Ugh $150? That's ridiculous. Isn't there any way you can waive that fee or give me a credit of some kind? This is really putting me out here.\\n\\nAgent: I understand your frustration sir. Unfortunately with how close to departure your travel date is, our policies don't allow me to waive change fees. However, let me check one other thing for you...*typing* It looks like I may be able to offer you a $75 travel voucher that could be used on your next United booking to offset the fee. Would that work for you?\\n\\nCustomer: *long sigh* Yeah I guess that'll have to do. Alright, go ahead and change it to that Monday flight then. And send over the details for the voucher too.\\n\\nAgent: No problem, I have you switched over to that Monday itinerary with the one hour layover in Denver now. The additional $150 charge plus $75 travel voucher have been applied to your reservation. Is there anything else I can help with today?\\n\\nCustomer: No, I think that's it. Thanks for your help, even if your change fees are ridiculous. *hangs up abruptly*\\n\\nAgent: You're very welcome, and thank you for flying United. We appreciate your business. *call disconnects*\", \"\\n\\nAgent: Thank you for calling United Airlines customer service, my name is Sarah how may I help you?\\n\\nCustomer: Hi Sarah, thanks for taking my call. I'm calling about a flight I have coming up next week from Chicago to Los Angeles. \\n\\nAgent: Okay, no problem. What would you like to know about your flight?\\n\\nCustomer: Well, umm I booked the flight a few months ago but I've had some changes in my schedule come up. Is there any way I can change the date of my flight to a few days later? \\n\\nAgent: Let me take a look at your reservation and see what options we have for changing the date. *typing can be heard* What's the name the reservation is under?\\n\\nCustomer: John Smith. The original flight was scheduled to leave O'Hare on March 15th.\\n\\nAgent: Okay, I've pulled up your reservation Mr. Smith. It looks like we do have some seats available on flights leaving a few days later. Would the 17th or 18th work better for your new travel plans?\\n\\nCustomer: Hmm let me think, the 17th might work better. What would the costs be to change it to that date? I'm hoping it wouldn't be too expensive since I'm only changing it by a couple days.\\n\\nAgent: Let me check the fare difference for changing it to the 17th. *more typing* It looks like there is a $100 change fee that would apply since you're within the refund/change window. But the fare itself hasn't increased too much, it's only a $50 difference from what you originally paid. So the total to change it would be $150. Does that work for your budget?\\n\\nCustomer: Ah man, $150 is a bit more than I was hoping to pay. Any chance you could waive any of those fees since I'm a loyal united customer? I fly with you guys a few times a year.\\n\\nAgent: I understand the change fees can be frustrating. Let me take a look at your account history really quickly to see if there's anything I can do. *typing for a bit* It looks like you do fly with us regularly and always check a bag, so you've built up some frequent flyer miles. I'm happy to waive the $100 change fee since you're a loyal customer. The fare difference of $50 would still apply but at least that saves you $100. Does that work?\\n\\nCustomer: Yeah, that would work! Thank you so much for being willing to help out, I really appreciate it. You just saved me a good chunk of money.\\n\\nAgent: You're very welcome, I'm glad I could help! I'll go ahead and process that change for you now to the March 17th flight. Is there anything else I can help with while we have you on the phone?\\n\\nCustomer: No, I think that covers everything I needed. Thanks again for your time and for being so helpful. Have a good rest of your day!\\n\\nAgent: You're so very welcome. Thanks for flying United and I hope you have a wonderful trip. Enjoy the rest of your day as well!\\n\\nCustomer: You too, goodbye!\\n\\nAgent: Goodbye!\\n\\n*the call disconnects*\", \"\\n\\nAgent: Thank you for calling United Airlines customer service, my name is Aaron. How can I help you today?\\n\\nCustomer: Hi Aaron, yeah I'm calling about a flight I have booked from Chicago to London next Monday. Umm, so I recently found out I'll be unable to travel due to a work thing coming up. I was hoping there was a way I could change or cancel my flight.\\n\\nAgent: No problem, let me pull up your reservation. *typing noises* Okay, I've got your flight here from O'Hare to Heathrow next Monday. Unfortunately that flight is non-refundable so your options for changing it would either be to switch to another travel date within the next year for a $150 change fee, or you could apply the value of your ticket as a travel credit that's good for future travel within the next 12 months. How does that sound?\\n\\nCustomer: *sighs* Yeah that's kinda what I was afraid of. Travel credits aren't super helpful for me since I don't know when I'll be able to go to London next. Would there be any way to maybe get a partial refund or anything instead? Money's a bit tight with this work thing coming up.\\n\\nAgent: I understand the frustration, travel changes are never ideal. Let me take a look here at any other options...hmm it doesn't look like we have any refund availability on this specific fare class. I could check with my colleagues in our refunds department to see if there's any leeway but I wouldn't want to promise anything. Would you like me to put in a request to see if a partial refund is possible? There may be a fee for processing it but it couldn't hurt to ask.\\n\\nCustomer: Ugh yeah, I guess it wouldn't hurt to ask them. This is kind of annoying...I know it's not your fault and all but these big airlines really gouge you on fees, you know? Makes it tough when unexpected life stuff comes up. But yeah, please go ahead and put in that refund request if you don't mind, and let me know what they say. I appreciate you taking a look!\\n\\nAgent: No problem, I completely understand the frustration. Airline policies can definitely be rigid. Let me go ahead and submit that refund request for you now. It may take a day or two for a response. In the meantime, just to reiterate your options - you're welcome to change flights for a $150 fee or accept a travel credit. But I'll cross my fingers that refunds comes back with something more helpful. Can I get your email so I can follow up once I hear back?\\n\\nCustomer: Yeah, fingers crossed! My email is jsmith@email.com. And if refunds can't do anything, I guess I'll probably just go with the travel credit for now since I don't want to lose the full value. Thanks so much for your help Aaron, I really appreciate you taking the time to look into this.\\n\\nAgent: You're very welcome, I'm happy I could help explore some options for you. I'll be sure to reach out to that email address within the next couple days once I have an answer from refunds. And don't hesitate to call back if you have any other questions. Safe travels and I hope your work stuff gets resolved smoothly. Have a great rest of your day!\\n\\nCustomer: You too, thanks again!\\n\\nAgent: You're very welcome. Have a good one!\\n\\n*phone call disconnects*\", \"\\n\\nAgent: Thank you for calling United Airlines customer service, my name is Sam how can I help you today?\\n\\nCustomer: Hi, yeah I'm calling because I'm having some issues with a flight I booked. *sigh* It's just been a nightmare.\\n\\nAgent: I'm sorry to hear you're having problems. What seems to be the issue with your flight?\\n\\nCustomer: Well umm, I booked a flight from New York to LA for next Wednesday but now when I log into my account, it's showing the flight as canceled. I never canceled it! \\n\\nAgent: Okay, let me pull up your reservation. *typing sounds* Hmm, it looks like that flight was unfortunately overbooked and had to be canceled. One moment while I take a look at alternative flights for you. *more typing* It seems there is still space on the 6pm flight that day, would moving to that one work for your travel plans?\\n\\nCustomer: 6pm? Ugh, that's so much later than I planned for. I was supposed to land at noon so I'd have the afternoon in LA. is there anything earlier you can put me on?\\n\\nAgent: I understand the frustration with the change, let me see what other options there might be. *more typing* Unfortunately the 6pm is the earliest flight I show with availability. All the morning and midday flights are fully booked. I could look at flying out the day before if you're able to change your travel dates. Would an overnight in LA before your original travel plans work? Or is there no flexibility there?\\n\\nCustomer: Are you kidding me? An overnight? That wasn't in the budget. This is ridiculous, you guys canceled my flight, the least you could do is get me on something earlier that day. What am I supposed to do for half a day in the airport? \\n\\nAgent: I apologize for the inconvenience. Let me check a few other things...*typing for a bit* It looks like we may have an option to get you there earlier after all. If you're open to flying into Burbank airport instead of LAX, there is a 10am flight with open seats. I could transfer your reservation to that routing at no additional cost. The Burbank airport is only about 20 minutes north of LAX so you'd still get in around midday. Would that work better for your travel plans?\\n\\nCustomer: *long sigh* I guess Burbank would have to do then. At least it's something. It's just so frustrating that I even have to change anything, this all your airlines fault for canceling my original flight. \\n\\nAgent: You're right to be annoyed about the change, it's certainly not ideal. I'm going to go ahead and transfer your reservation now to the 10am flight into Burbank. Please let me know once you receive the confirmation email and you've had a chance to review the new itinerary details. As an apology for the inconvenience, I'm also going to credit your account with a $75 travel voucher that can be used on a future United purchase. Thank you for your patience and for flying with us. Hopefully the earlier flight into Burbank will help make the rest of your trip go smoother.\\n\\nCustomer: Thanks I guess. Not like the voucher really makes up for this headache but whatever. At least I'll be there earlier. I'll keep an eye out for that email. \\n\\nAgent: You're very welcome, and I do hope the rest of your travel plans go well. Thank you for contacting us and please don't hesitate to reach back out if any other issues come up. You have a good rest of your day.\\n\\nCustomer: Yeah, thanks. You too. *call disconnects*\\n\\nAgent: Thank you for your call. *call ends*\", \"\\n\\nAgent: Thank you for calling United Airlines customer service, my name is Steve. How may I help you today?\\n\\nCustomer: Hi, yeah I'm calling because I have a flight booked from Chicago to LA next Thursday and I'm trying to change it.\\n\\nAgent: Okay, no problem. May I have your confirmation number so I can pull up your booking?\\n\\nCustomer: Uhh yeah, it's P4567891. *noise in background* Stupid thing, it's not working. \\n\\nAgent: No worries, give me just a second here...alright, I've got your booking. What change were you looking to make to the flight?\\n\\nCustomer: Well the thing is, something came up at work and they need me to stay in Chicago until the following Monday. So I need to move my flight to that day instead of Thursday. \\n\\nAgent: I understand, work trips changing last minute can definitely be frustrating. Let me take a look at our flight options for the following Monday... *typing noises* Unfortunately it looks like all the flights that day are completely full. The best I can offer is to put you on the Tuesday morning flight instead. How does that sound?\\n\\nCustomer: Are you kidding me? Tuesday? That doesn't really help me at all. This is ridiculous, I booked this flight months ago and now you're telling me you can't get me out any earlier? Come on man, there has to be something you can do. \\n\\nAgent: I apologize for the inconvenience, sir. I know changing travel plans last minute is never ideal. Let me check a few other airlines and see if any of them have availability on an earlier flight. *more typing* It looks like Delta has one seat left on their Sunday red-eye flight arriving in LA around 6am on Monday. I could switch your ticket over to that flight instead at the same fare, if that works a little better for you?\\n\\nCustomer: Ugh, a red-eye, are you serious? That's even worse. This is such bullshit. Why can't you guys ever get your shit together? I pay good money for these tickets and now you're going to make me be all jet lagged and exhausted at work on Monday. This is unacceptable.  \\n\\nAgent: I understand your frustration, sir. Dealing with travel changes is never ideal. Perhaps I could look into getting you rebooked on an alternative itinerary, like flying into a different California airport on Sunday or Monday instead? That might open up some additional flight options. It may take a little longer drive but could avoid the overnight flight. Let me pull up a few other routes and see what's available. *extended pause as agent searches other flight options* Okay, it looks like we have a few seats left on a flight departing O'Hare Sunday afternoon arriving in San Diego around 7pm. I could switch your ticket to land there instead, and then you'd have the full Monday in California before needing to travel further for work. Does that potentially work better for your schedule?\\n\\nCustomer: Ugghh, finally something that's not completely terrible I guess. Alright fine, switch me to that San Diego flight then. But you guys really dropped the ball on this one. I expect some sort of compensation for all this trouble. \\n\\nAgent: I understand, and I sincerely apologize again for the inconvenience. As a courtesy for having to change your plans at the last minute, I'd be happy to provide you with a $100 travel voucher to put towards future bookings with us. Does that sound fair to help make up for the disruption?\\n\\nCustomer: *long sigh* Yeah I guess $100 will have to do. Just don't let this happen again okay? You guys really lost a customer today. \\n\\nAgent: You have my word we'll work harder to avoid situations like this going forward. Thank you for your patience and for continuing to fly with us. I've gone ahead and processed the change to your new itinerary arriving in San Diego on Sunday. Your confirmation and travel voucher will be emailed over shortly. Please don't hesitate to reach back out if any other issues come up. Thanks again and have a good rest of your day.\\n\\nCustomer: Yeah whatever, thanks. \\n\\nAgent: You're very welcome. Take care!\\n\\n*click*\", \"\\n\\nAgent: Thank you for calling United Airlines customer service, this is Steve how can I help you?\\n\\nCustomer: Hi Steve, yeah I'm calling about a flight I have booked from Chicago to London next week. \\n\\nAgent: Okay, no problem. What would you like to know about that flight?\\n\\nCustomer: Well umm, I've been keeping an eye on the weather reports and it looks like there could be some storms coming through Chicago during my departure time. I'm a little worried the flight might get delayed or canceled. \\n\\nAgent: Ah I see, no that's a valid concern. Let me pull up your reservation and take a look at your flight details. *types on keyboard* Okay, so your flight is scheduled to depart O'Hare at 3:45pm next Thursday. The current forecast does show a chance of storms moving through the area that afternoon. Why don't I go ahead and get you set up with an alert for any updates to the status of that flight. Then if there are any delays or cancellations, we'll contact you right away to discuss your options. Does that sound good?\\n\\nCustomer: Yeah, that would be great. I'm just a little nervous about missing my connection in London. This is an important business trip and I really need to make that meeting on Friday. \\n\\nAgent: No I completely understand the importance. Missing an international connection can really throw a wrench in your plans. Let me see here...the flight from Chicago lands in London at 6:15am on Friday and your connecting flight to wherever you're heading next is at 10am. Even allowing some time for customs and getting to the next gate, that should still be plenty of time as long as the first flight isn't too delayed. But I'll make sure to note the tight connection in your file as well, so if there are any issues they'll know to get you rebooked promptly. How does that sound?\\n\\nCustomer: Yeah, that makes me feel a lot better. As long as you guys will rebook me right away if there are any major delays, I think I'll be okay. These storms can be pretty unpredictable though, so I just want to have a backup plan.\\n\\nAgent: Absolutely, that's a smart way to approach it. Let me go ahead and get you on a standby list for the same flight the next day just in case. That way if anything causes more than a 2 or 3 hour delay and it looks like you might miss that connection, we've already got an alternate routing in place for you. Just be sure to keep an eye on your phone and email in case we need to confirm getting you switched over. Other than that, is there anything else I can help with today?\\n\\nCustomer: No, I think you covered everything. I feel a lot better about my trip now. Thanks so much for taking the time to help me plan for potential issues, Steve. I really appreciate United having great customer service agents like you to help sort things out.\\n\\nAgent: You're very welcome, I'm always happy I could help put your mind at ease. Safe travels and I hope you have a smooth flight and productive business meeting. Thanks for flying United, you have a great rest of your day!\\n\\nCustomer: You too, thanks again! *hangs up*\\n\\nAgent: *hangs up*\\n\\nSo in summary - the call duration was around 12 minutes and 30 seconds which fits within the given call duration time of 797 seconds. I tried to make the conversation flow naturally between the agent and customer with pauses and filler words. The customer's question and concerns centered around the potential for flight delays due to weather. And the agent was able to rebook the customer on an alternate flight and set them up with alerts, making for a reasonably positive sentiment score of 0.06. Let me know if any part of the transcript needs adjustment or expansion to better fit the criteria.\", \"\\n\\nAgent: Thank you for calling United Airlines, this is Jake speaking. How may I help you today?\\n\\nCustomer: Hi, I'm calling to complain about my recent flight from Chicago to New York. The flight was delayed for over 3 hours with no explanation given. We were just left sitting on the plane! This is unacceptable. \\n\\nAgent: I understand your frustration with the long delay, sir. Umm, let me pull up the flight details. What was the date of your flight? \\n\\nCustomer: It was last Wednesday, the 15th. Flight number UA108. \\n\\nAgent: Okay, let me see... *typing noises* According to our records, that flight experienced significant weather delays in Chicago which caused a system-wide ripple effect across our network. I apologize for the lack of communication during the long wait on the plane. In situations like this where delays are within our control, passengers deserve more timely updates. \\n\\nCustomer: I don't really care about the reason for the delay - things happen. But three hours is ridiculous! And then being left in the dark the whole time just made it that much worse. You're darn right you should have communicated with us. \\n\\nAgent: You're absolutely right, sir. Ah, we failed to meet our customer service standards in this situation. Is there anything I can do to assist in making this up to you? I'd be happy to provide a refund for the cost of the ticket or offer you future travel credits if you plan to fly with us again.\\n\\nCustomer: Honestly, I'm not sure I want to fly United again after this experience. But I guess a travel credit would be better than nothing in case I don't have another option one day. How does 200 dollars sound?\\n\\nAgent: I'll be honest, I don't have the authority to offer a credit that large on my own. Let me check with my supervisor and see if we can offer $175, would that work for you? Just a moment please while I call them... *pretends to be on hold* Okay, they've approved $175, does that seem reasonable given the delay and lack of communication you experienced? \\n\\nCustomer: You know what, fine. $175 credit it is. But you guys really need to get your act together on customer service. People pay good money for these tickets and then you leave them hanging for hours - it's not okay. \\n\\nAgent: You're completely right, and I sincerely apologize again on behalf of United. Customer experience is a top priority for us, and incidents like this undermine the trust passengers place in us. Thank you for taking the time to share your feedback - it will be reported to the relevant teams to ensure we can improve. Is there anything else I can help with today?\\n\\nCustomer: No, I think that about covers it. Just don't let it happen again! \\n\\nAgent: You have my word we'll work hard to avoid similar situations going forward. Thank you for flying United, despite the delay, and enjoy the rest of your day.\\n\\nCustomer: Alright, goodbye. \\n\\nAgent: Thank you for your call. Have a good one! *pretend call ends*\"]\n"
          ]
        }
      ]
    },
    {
      "cell_type": "code",
      "source": [
        "reasons = merged_df.iloc[0:40,:]['primary_call_reason'].to_list()"
      ],
      "metadata": {
        "id": "H94QUp7OH4eB"
      },
      "execution_count": null,
      "outputs": []
    },
    {
      "cell_type": "code",
      "source": [
        "print(reasons)"
      ],
      "metadata": {
        "colab": {
          "base_uri": "https://localhost:8080/"
        },
        "id": "cd8iSvkWKHEB",
        "outputId": "e3475670-94f4-4302-d87b-11c0644e0ba6"
      },
      "execution_count": null,
      "outputs": [
        {
          "output_type": "stream",
          "name": "stdout",
          "text": [
            "['voluntary cancel', 'booking', 'irrops', 'upgrade', 'seating', 'mileage plus', 'checkout', 'mileage plus', 'mileage plus', 'irrops', 'irrops', 'voluntary change', 'post flight', 'seating', 'check', 'post flight', 'checkout', 'topics', 'check', 'post flight', 'irrops', 'seating', 'post flight', 'communications', 'check', 'voluntary change', 'schedule change', 'mileage plus', 'products services', 'seating', 'upgrade', 'products services', 'mileage plus', 'upgrade', 'seating', 'mileage plus', 'voluntary cancel', 'post flight', 'communications', 'seating']\n"
          ]
        }
      ]
    },
    {
      "cell_type": "code",
      "source": [
        "def preprocess_text(text):\n",
        "    tokens = nltk.word_tokenize(text.lower())\n",
        "    stop_words = set(stopwords.words('english'))\n",
        "    tokens = [token for token in tokens if token not in stop_words and token.isalnum()]\n",
        "    lemmatizer = WordNetLemmatizer()\n",
        "    tokens = [lemmatizer.lemmatize(token) for token in tokens]\n",
        "    return tokens\n",
        "\n",
        "# Preprocess all transcripts\n",
        "processed_transcripts = [preprocess_text(transcript) for transcript in transcripts]"
      ],
      "metadata": {
        "id": "N4pgm7KFGdMx"
      },
      "execution_count": null,
      "outputs": []
    },
    {
      "cell_type": "code",
      "source": [
        "len(processed_transcripts)"
      ],
      "metadata": {
        "colab": {
          "base_uri": "https://localhost:8080/"
        },
        "id": "1wCaSvmJKNx4",
        "outputId": "d9646f2f-4e43-41e4-f63f-ce5da28f4516"
      },
      "execution_count": null,
      "outputs": [
        {
          "output_type": "execute_result",
          "data": {
            "text/plain": [
              "40"
            ]
          },
          "metadata": {},
          "execution_count": 61
        }
      ]
    },
    {
      "cell_type": "code",
      "source": [
        "# Create a dictionary from the processed transcripts\n",
        "dictionary = corpora.Dictionary(processed_transcripts)\n",
        "\n",
        "# Create a corpus (document-term matrix)\n",
        "corpus = [dictionary.doc2bow(text) for text in processed_transcripts]"
      ],
      "metadata": {
        "id": "GxCnDnbIGfd5"
      },
      "execution_count": null,
      "outputs": []
    },
    {
      "cell_type": "code",
      "source": [
        "# num_topics = 10  # You can adjust this number based on your data\n",
        "lda_model = models.LdaModel(corpus,id2word=dictionary, passes=15)\n",
        "\n",
        "# Print the topics\n",
        "for topic in lda_model.print_topics():\n",
        "    print(topic)"
      ],
      "metadata": {
        "colab": {
          "base_uri": "https://localhost:8080/"
        },
        "id": "li3I1XEGGiMB",
        "outputId": "1ab63ccc-21ba-4a6e-f069-2b9131606270"
      },
      "execution_count": null,
      "outputs": [
        {
          "output_type": "stream",
          "name": "stdout",
          "text": [
            "(78, '0.001*\"change\" + 0.001*\"monday\" + 0.001*\"agent\" + 0.001*\"customer\" + 0.001*\"fee\" + 0.001*\"flight\" + 0.001*\"need\" + 0.001*\"would\" + 0.001*\"yeah\" + 0.001*\"travel\"')\n",
            "(90, '0.002*\"flight\" + 0.002*\"customer\" + 0.002*\"agent\" + 0.002*\"monday\" + 0.002*\"work\" + 0.002*\"instead\" + 0.002*\"let\" + 0.002*\"change\" + 0.002*\"like\" + 0.002*\"look\"')\n",
            "(98, '0.001*\"flight\" + 0.001*\"agent\" + 0.001*\"customer\" + 0.001*\"help\" + 0.001*\"let\" + 0.001*\"next\" + 0.001*\"time\" + 0.001*\"thanks\" + 0.001*\"delay\" + 0.001*\"make\"')\n",
            "(48, '0.001*\"value\" + 0.001*\"6pm\" + 0.001*\"specific\" + 0.001*\"stuff\" + 0.001*\"submit\" + 0.001*\"super\" + 0.001*\"tough\" + 0.001*\"unable\" + 0.001*\"unexpected\" + 0.001*\"say\"')\n",
            "(60, '0.002*\"change\" + 0.002*\"customer\" + 0.002*\"flight\" + 0.002*\"june\" + 0.002*\"agent\" + 0.002*\"fee\" + 0.002*\"let\" + 0.002*\"look\" + 0.002*\"really\" + 0.002*\"4th\"')\n",
            "(73, '0.025*\"flight\" + 0.024*\"change\" + 0.024*\"customer\" + 0.023*\"agent\" + 0.017*\"look\" + 0.016*\"travel\" + 0.016*\"let\" + 0.016*\"could\" + 0.015*\"fee\" + 0.013*\"refund\"')\n",
            "(95, '0.002*\"flight\" + 0.002*\"agent\" + 0.002*\"change\" + 0.002*\"look\" + 0.002*\"june\" + 0.002*\"customer\" + 0.002*\"4th\" + 0.002*\"fee\" + 0.002*\"let\" + 0.002*\"thank\"')\n",
            "(89, '0.002*\"change\" + 0.002*\"customer\" + 0.002*\"flight\" + 0.002*\"agent\" + 0.002*\"look\" + 0.002*\"monday\" + 0.001*\"fee\" + 0.001*\"would\" + 0.001*\"let\" + 0.001*\"work\"')\n",
            "(41, '0.001*\"value\" + 0.001*\"6pm\" + 0.001*\"specific\" + 0.001*\"stuff\" + 0.001*\"submit\" + 0.001*\"super\" + 0.001*\"tough\" + 0.001*\"unable\" + 0.001*\"unexpected\" + 0.001*\"say\"')\n",
            "(45, '0.002*\"flight\" + 0.002*\"customer\" + 0.002*\"agent\" + 0.002*\"travel\" + 0.002*\"earlier\" + 0.002*\"day\" + 0.002*\"burbank\" + 0.002*\"typing\" + 0.002*\"change\" + 0.002*\"would\"')\n",
            "(62, '0.001*\"value\" + 0.001*\"6pm\" + 0.001*\"specific\" + 0.001*\"stuff\" + 0.001*\"submit\" + 0.001*\"super\" + 0.001*\"tough\" + 0.001*\"unable\" + 0.001*\"unexpected\" + 0.001*\"say\"')\n",
            "(91, '0.001*\"value\" + 0.001*\"6pm\" + 0.001*\"specific\" + 0.001*\"stuff\" + 0.001*\"submit\" + 0.001*\"super\" + 0.001*\"tough\" + 0.001*\"unable\" + 0.001*\"unexpected\" + 0.001*\"say\"')\n",
            "(70, '0.001*\"flight\" + 0.001*\"agent\" + 0.001*\"customer\" + 0.001*\"travel\" + 0.001*\"earlier\" + 0.001*\"burbank\" + 0.001*\"thank\" + 0.001*\"plan\" + 0.001*\"typing\" + 0.001*\"canceled\"')\n",
            "(36, '0.002*\"change\" + 0.002*\"monday\" + 0.002*\"customer\" + 0.002*\"agent\" + 0.002*\"look\" + 0.002*\"flight\" + 0.002*\"fee\" + 0.002*\"would\" + 0.002*\"typing\" + 0.002*\"like\"')\n",
            "(24, '0.002*\"customer\" + 0.002*\"flight\" + 0.002*\"agent\" + 0.002*\"look\" + 0.002*\"change\" + 0.002*\"work\" + 0.001*\"day\" + 0.001*\"let\" + 0.001*\"help\" + 0.001*\"like\"')\n",
            "(55, '0.002*\"flight\" + 0.002*\"customer\" + 0.002*\"agent\" + 0.002*\"would\" + 0.002*\"let\" + 0.002*\"look\" + 0.002*\"travel\" + 0.001*\"go\" + 0.001*\"day\" + 0.001*\"next\"')\n",
            "(56, '0.002*\"customer\" + 0.002*\"agent\" + 0.002*\"help\" + 0.002*\"delay\" + 0.002*\"thank\" + 0.002*\"united\" + 0.002*\"flight\" + 0.002*\"better\" + 0.002*\"look\" + 0.002*\"take\"')\n",
            "(26, '0.001*\"value\" + 0.001*\"6pm\" + 0.001*\"specific\" + 0.001*\"stuff\" + 0.001*\"submit\" + 0.001*\"super\" + 0.001*\"tough\" + 0.001*\"unable\" + 0.001*\"unexpected\" + 0.001*\"say\"')\n",
            "(38, '0.002*\"customer\" + 0.002*\"agent\" + 0.002*\"flight\" + 0.002*\"help\" + 0.002*\"delay\" + 0.002*\"time\" + 0.002*\"united\" + 0.002*\"next\" + 0.002*\"let\" + 0.002*\"make\"')\n",
            "(61, '0.002*\"flight\" + 0.002*\"agent\" + 0.002*\"customer\" + 0.002*\"work\" + 0.002*\"monday\" + 0.002*\"look\" + 0.002*\"change\" + 0.002*\"let\" + 0.002*\"like\" + 0.002*\"instead\"')\n"
          ]
        }
      ]
    },
    {
      "cell_type": "code",
      "source": [
        "# Extract LDA topic distributions as features\n",
        "lda_features = [lda_model.get_document_topics(bow, minimum_probability=0) for bow in corpus]\n",
        "lda_features = [[topic_prob[1] for topic_prob in doc_topics] for doc_topics in lda_features]\n",
        "\n",
        "# Ensure all sub-lists in lda_features have the same length by padding with zeros\n",
        "num_topics = lda_model.num_topics\n",
        "print(num_topics)\n",
        "lda_features = [x + [0.0] * (num_topics - len(x)) if len(x) < num_topics else x for x in lda_features]\n",
        "\n",
        "\n",
        "# Split data into training and testing sets\n",
        "X_train, X_test, y_train, y_test = train_test_split(lda_features, reasons, test_size=0.2, random_state=42)\n",
        "\n",
        "# Train a classifier (e.g., Logistic Regression)\n",
        "from sklearn.linear_model import LogisticRegression\n",
        "classifier = LogisticRegression(max_iter=1000)\n",
        "classifier.fit(X_train, y_train)\n",
        "\n",
        "# Make predictions\n",
        "y_pred = classifier.predict(X_test)\n",
        "\n",
        "# Evaluate the model\n",
        "accuracy = accuracy_score(y_test, y_pred)\n",
        "print(f\"Accuracy: {accuracy}\")"
      ],
      "metadata": {
        "colab": {
          "base_uri": "https://localhost:8080/"
        },
        "id": "duoyHuKfG-Vh",
        "outputId": "3c35cfaa-8b43-410f-b9bd-4027bff04920"
      },
      "execution_count": null,
      "outputs": [
        {
          "output_type": "stream",
          "name": "stdout",
          "text": [
            "100\n",
            "Accuracy: 0.5\n"
          ]
        }
      ]
    },
    {
      "cell_type": "code",
      "source": [
        "import gensim\n",
        "from gensim.models import Word2Vec\n",
        "from nltk.tokenize import word_tokenize\n",
        "import nltk\n",
        "\n",
        "nltk.download('punkt')\n",
        "\n",
        "# Example paragraph and target word\n",
        "paragraphs = [\n",
        "    \"Artificial Intelligence is transforming the world with remarkable innovations.\",\n",
        "    \"Machine learning is a subset of AI focused on data analysis and prediction.\",\n",
        "    \"Deep learning is a type of machine learning that uses neural networks.\",\n",
        "]\n",
        "\n",
        "# Preprocess and tokenize each paragraph\n",
        "tokenized_paragraphs = [word_tokenize(paragraph.lower()) for paragraph in paragraphs]\n",
        "\n",
        "# Train a Word2Vec model\n",
        "word2vec_model = Word2Vec(tokenized_paragraphs, vector_size=100, window=5, min_count=1, workers=4)\n",
        "\n",
        "# Train the model to associate the context of a word\n",
        "target_word = \"learning\"\n",
        "word_vector = word2vec_model.wv[target_word]  # Vector for the target word\n",
        "\n",
        "# Find words that are contextually similar to the target word\n",
        "similar_words = word2vec_model.wv.most_similar(target_word)\n",
        "\n",
        "print(f\"Words similar to '{target_word}':\")\n",
        "for word, similarity in similar_words:\n",
        "    print(f\"{word}: {similarity}\")"
      ],
      "metadata": {
        "colab": {
          "base_uri": "https://localhost:8080/"
        },
        "id": "7dmMVIppIbeC",
        "outputId": "a43d5006-180e-4809-b859-2148afb3e97d"
      },
      "execution_count": null,
      "outputs": [
        {
          "output_type": "stream",
          "name": "stdout",
          "text": [
            "Words similar to 'learning':\n",
            "and: 0.21869774162769318\n",
            "neural: 0.21683292090892792\n",
            "artificial: 0.09979760646820068\n",
            "focused: 0.09390734136104584\n",
            "deep: 0.0928446501493454\n",
            "innovations: 0.08400551229715347\n",
            "that: 0.08026852458715439\n",
            "remarkable: 0.06485794484615326\n",
            "uses: 0.06296632438898087\n",
            "analysis: 0.055060409009456635\n"
          ]
        },
        {
          "output_type": "stream",
          "name": "stderr",
          "text": [
            "[nltk_data] Downloading package punkt to /root/nltk_data...\n",
            "[nltk_data]   Package punkt is already up-to-date!\n"
          ]
        }
      ]
    },
    {
      "cell_type": "markdown",
      "source": [
        "#Approach 4 Using Bert"
      ],
      "metadata": {
        "id": "Mgk8j81eeAGI"
      }
    },
    {
      "cell_type": "code",
      "source": [
        "from transformers import BertTokenizer, BertModel\n",
        "import torch\n",
        "\n",
        "# Load pre-trained BERT tokenizer and model\n",
        "tokenizer = BertTokenizer.from_pretrained('bert-base-uncased')\n",
        "model = BertModel.from_pretrained('bert-base-uncased')\n",
        "\n",
        "\n",
        "# Tokenize the paragraph\n",
        "inputs = tokenizer(transcript, return_tensors='pt')\n",
        "\n",
        "# Get the embeddings from BERT\n",
        "with torch.no_grad():\n",
        "    outputs = model(**inputs)\n",
        "embeddings = outputs.last_hidden_state\n",
        "\n",
        "print(\"BERT Embeddings for the paragraph are generated!\")"
      ],
      "metadata": {
        "colab": {
          "base_uri": "https://localhost:8080/",
          "height": 353,
          "referenced_widgets": [
            "6eeb44992f0e42129704510364ce13ec",
            "e84b3d3ff3534f8f90bef6b9b80890ce",
            "6fc7d0848dfa40569d5a619c85c00aac",
            "106c3b782ed54e7d9011db934c3ea27b",
            "2c9e9cee6067463e81467aea74f89da3",
            "1e5e74c5af3d4a05aceda70949bdefb8",
            "c06ffa2cd7b14373bb3fcc5d348b179c",
            "353e6fa2cf0b42e383aac09ee3814faa",
            "1555df132f3f4932b189730b751ba011",
            "75fef941586741a997381b7fde87be9c",
            "ba541a6b6d4243d988db85b50040f9a9",
            "e3b5b5e6da804671a9c5e6ba35e87471",
            "27106d736ec04df6810727bee77cbf51",
            "f13a219be41645fdb8e50679fdc05458",
            "582525979a5542cab5f8e490ea77d2fd",
            "68e180703ed046f887579f45e02677c0",
            "0f9d34c09ad54df593eb04eff5981fdf",
            "bbb18f84e02e43da8da255cd0e91c661",
            "7a5d9f244324499599a681f21b00d8a1",
            "68caa50b1bfe4f888fb8f02ce42ab2b6",
            "bd8b3dc887464081bf1f24502d2c115c",
            "422f124c6843461d8ef40bf05f5707a9",
            "cfe7634464f3426f88a5623469d2d61e",
            "b72439eaa07c43c79310f89dd35af713",
            "e088367628be408c8ac9681c19a76925",
            "9f17d2fd77d24e0cba40520033da8089",
            "cd0815aee4a54cf69c21b10b69a42a1d",
            "e1dee715ebac47eaaaacd080fcc54cac",
            "d44036eed9bc4122991476f21269d382",
            "8f661830391e469c8bea9615de84ab45",
            "46df7ffdd7bd49809486cf3bc5e01081",
            "e271706df9d04be4a9af9bf6404778f5",
            "82707cefbb93402fb841332b9508786c",
            "23575ed86c0a42018784ee8aa98fc5e9",
            "2eff3698d14a4d919b65de5fe9d0ea0e",
            "843c1ca9b9234c3b9ac1114f0995051a",
            "a0acf2c843d548d5bed46a2587aa88c0",
            "ec2d6e5c03014ac6b6a3f98d3171db5b",
            "d6a56347230e48f5ae224165a7080cf9",
            "27d01c7c9860491ca654e13311b88a61",
            "fa3fec74d45d4f7ea5b4674b24f52368",
            "3e93e5a171024b26b2cba7680f0a5359",
            "53187ff116ef42dfa9dbf7a58caa8910",
            "3461c8af2a4c4af186f5749f310526e4",
            "6bdb636241c9454ba60ab98e4a505f10",
            "2e2bcdec79dc43ac806912a3addc194e",
            "189f5d77da5d4f34b66e81daaec803b9",
            "7f002f91ce71483c88412593c71cce77",
            "f1418b7c19984d38a332cbceb7055836",
            "2a2d38f3dc3749beb63673cc6e4c18cd",
            "d8f32a1ff0a34b1dbc109208cc8a3fc2",
            "a605cabaa63345bc95bde9afe12c953f",
            "cc63fa10c2084a5db481a3fce10e46e9",
            "62a9540894df4e80b3b3e3df3f028c3d",
            "78a4c786fc4b4c7f8dcd324b0163f3d3"
          ]
        },
        "id": "yfVfCU2CLWM5",
        "outputId": "06c56971-e424-46da-d9ca-d5afda2a5be9"
      },
      "execution_count": null,
      "outputs": [
        {
          "output_type": "stream",
          "name": "stderr",
          "text": [
            "/usr/local/lib/python3.10/dist-packages/torch_xla/__init__.py:202: UserWarning: `tensorflow` can conflict with `torch-xla`. Prefer `tensorflow-cpu` when using PyTorch/XLA. To silence this warning, `pip uninstall -y tensorflow && pip install tensorflow-cpu`. If you are in a notebook environment such as Colab or Kaggle, restart your notebook runtime afterwards.\n",
            "  warnings.warn(\n",
            "/usr/local/lib/python3.10/dist-packages/huggingface_hub/utils/_token.py:89: UserWarning: \n",
            "The secret `HF_TOKEN` does not exist in your Colab secrets.\n",
            "To authenticate with the Hugging Face Hub, create a token in your settings tab (https://huggingface.co/settings/tokens), set it as secret in your Google Colab and restart your session.\n",
            "You will be able to reuse this secret in all of your notebooks.\n",
            "Please note that authentication is recommended but still optional to access public models or datasets.\n",
            "  warnings.warn(\n"
          ]
        },
        {
          "output_type": "display_data",
          "data": {
            "text/plain": [
              "tokenizer_config.json:   0%|          | 0.00/48.0 [00:00<?, ?B/s]"
            ],
            "application/vnd.jupyter.widget-view+json": {
              "version_major": 2,
              "version_minor": 0,
              "model_id": "6eeb44992f0e42129704510364ce13ec"
            }
          },
          "metadata": {}
        },
        {
          "output_type": "display_data",
          "data": {
            "text/plain": [
              "vocab.txt:   0%|          | 0.00/232k [00:00<?, ?B/s]"
            ],
            "application/vnd.jupyter.widget-view+json": {
              "version_major": 2,
              "version_minor": 0,
              "model_id": "e3b5b5e6da804671a9c5e6ba35e87471"
            }
          },
          "metadata": {}
        },
        {
          "output_type": "display_data",
          "data": {
            "text/plain": [
              "tokenizer.json:   0%|          | 0.00/466k [00:00<?, ?B/s]"
            ],
            "application/vnd.jupyter.widget-view+json": {
              "version_major": 2,
              "version_minor": 0,
              "model_id": "cfe7634464f3426f88a5623469d2d61e"
            }
          },
          "metadata": {}
        },
        {
          "output_type": "display_data",
          "data": {
            "text/plain": [
              "config.json:   0%|          | 0.00/570 [00:00<?, ?B/s]"
            ],
            "application/vnd.jupyter.widget-view+json": {
              "version_major": 2,
              "version_minor": 0,
              "model_id": "23575ed86c0a42018784ee8aa98fc5e9"
            }
          },
          "metadata": {}
        },
        {
          "output_type": "display_data",
          "data": {
            "text/plain": [
              "model.safetensors:   0%|          | 0.00/440M [00:00<?, ?B/s]"
            ],
            "application/vnd.jupyter.widget-view+json": {
              "version_major": 2,
              "version_minor": 0,
              "model_id": "6bdb636241c9454ba60ab98e4a505f10"
            }
          },
          "metadata": {}
        },
        {
          "output_type": "stream",
          "name": "stdout",
          "text": [
            "BERT Embeddings for the paragraph are generated!\n"
          ]
        }
      ]
    },
    {
      "cell_type": "code",
      "source": [
        "print(embeddings)"
      ],
      "metadata": {
        "colab": {
          "base_uri": "https://localhost:8080/"
        },
        "id": "1-stY6EtMWEp",
        "outputId": "48f06ddd-782f-4e4b-8e62-c5dc9c269abf"
      },
      "execution_count": null,
      "outputs": [
        {
          "output_type": "stream",
          "name": "stdout",
          "text": [
            "tensor([[[-0.1084,  0.0077, -0.1080,  ..., -0.6402,  0.4346,  0.0963],\n",
            "         [ 0.2077,  0.2555, -0.1516,  ..., -0.3088,  0.5757,  0.5379],\n",
            "         [ 0.1120,  0.1790,  0.1266,  ..., -1.5448,  0.2909,  0.1406],\n",
            "         ...,\n",
            "         [-0.2487, -0.0029,  0.5713,  ..., -0.6210, -0.0807, -0.4504],\n",
            "         [ 0.6755,  0.0098, -0.3098,  ..., -0.0733, -0.5078, -0.3830],\n",
            "         [ 0.7241,  0.0484, -0.1655,  ..., -0.0872, -0.6031, -0.3665]]])\n"
          ]
        }
      ]
    },
    {
      "cell_type": "code",
      "source": [
        "from transformers import BertTokenizer, BertForSequenceClassification, Trainer, TrainingArguments\n",
        "from sklearn.model_selection import train_test_split\n",
        "import torch\n",
        "from sklearn.preprocessing import LabelEncoder\n",
        "from torch.utils.data import Dataset\n",
        "\n",
        "# Example dataset: transcripts and corresponding reasons\n",
        "transcripts = merged_df['call_transcript'].to_list()\n",
        "reasons = merged_df['primary_call_reason'].to_list()\n",
        "\n",
        "# Load the BERT tokenizer\n",
        "tokenizer = BertTokenizer.from_pretrained('bert-base-uncased')\n",
        "\n",
        "# Tokenize the dataset\n",
        "X = tokenizer(transcripts, padding=True, truncation=True, return_tensors=\"pt\", max_length=512)\n",
        "\n",
        "# Initialize Label Encoder\n",
        "le = LabelEncoder()\n",
        "\n",
        "# Fit and transform the labels to numerical representations\n",
        "y = le.fit_transform(reasons)\n",
        "\n",
        "# Split the dataset\n",
        "X_train, X_test, y_train, y_test = train_test_split(X['input_ids'], y, test_size=0.2, random_state=42)\n",
        "\n",
        "\n",
        "# Define a custom dataset class\n",
        "class CallTranscriptDataset(Dataset):\n",
        "    def __init__(self, encodings, labels):\n",
        "        self.encodings = encodings\n",
        "        self.labels = labels\n",
        "\n",
        "    def __getitem__(self, idx):\n",
        "        item = {key: torch.tensor(val[idx]) for key, val in self.encodings.items()}\n",
        "        item['labels'] = torch.tensor(self.labels[idx])\n",
        "        return item\n",
        "\n",
        "    def __len__(self):\n",
        "        return len(self.labels)\n",
        "\n",
        "\n",
        "# Create dataset objects\n",
        "train_dataset = CallTranscriptDataset(X, y_train)  # Use X instead of X['input_ids']\n",
        "eval_dataset = CallTranscriptDataset(X, y_test)   # Use X instead of X['input_ids']\n",
        "\n",
        "\n",
        "num_labels = len(le.classes_)\n",
        "model = BertForSequenceClassification.from_pretrained('bert-base-uncased', num_labels=num_labels) # Use num_labels here\n",
        "\n",
        "\n",
        "# Load the BERT model for sequence classification\n",
        "# model = BertForSequenceClassification.from_pretrained('bert-base-uncased', num_labels=3)\n",
        "\n",
        "# Set up the training arguments\n",
        "training_args = TrainingArguments(\n",
        "    output_dir='./results',\n",
        "    num_train_epochs=3,\n",
        "    per_device_train_batch_size=4,\n",
        "    per_device_eval_batch_size=4,\n",
        "    evaluation_strategy=\"epoch\",\n",
        "    save_total_limit=1,\n",
        ")\n",
        "\n",
        "# Prepare the Trainer object\n",
        "trainer = Trainer(\n",
        "    model=model,\n",
        "    args=training_args,\n",
        "    train_dataset=train_dataset,  # Pass the custom dataset objects\n",
        "    eval_dataset=eval_dataset\n",
        ")\n",
        "\n",
        "# Fine-tune the model\n",
        "trainer.train()\n",
        "val_results = trainer.evaluate()\n",
        "\n",
        "# Print the accuracy\n",
        "print(f\"Accuracy: {eval_results['eval_accuracy']}\")"
      ],
      "metadata": {
        "colab": {
          "base_uri": "https://localhost:8080/",
          "height": 338
        },
        "id": "YCVfxq6C8r7m",
        "outputId": "f9b05748-3064-48c7-eea4-a8a21620302c"
      },
      "execution_count": null,
      "outputs": [
        {
          "output_type": "stream",
          "name": "stderr",
          "text": [
            "/usr/local/lib/python3.10/dist-packages/transformers/tokenization_utils_base.py:1601: FutureWarning: `clean_up_tokenization_spaces` was not set. It will be set to `True` by default. This behavior will be depracted in transformers v4.45, and will be then set to `False` by default. For more details check this issue: https://github.com/huggingface/transformers/issues/31884\n",
            "  warnings.warn(\n",
            "Some weights of BertForSequenceClassification were not initialized from the model checkpoint at bert-base-uncased and are newly initialized: ['classifier.bias', 'classifier.weight']\n",
            "You should probably TRAIN this model on a down-stream task to be able to use it for predictions and inference.\n",
            "/usr/local/lib/python3.10/dist-packages/transformers/training_args.py:1525: FutureWarning: `evaluation_strategy` is deprecated and will be removed in version 4.46 of 🤗 Transformers. Use `eval_strategy` instead\n",
            "  warnings.warn(\n",
            "<ipython-input-15-5e071c9e35a1>:34: UserWarning: To copy construct from a tensor, it is recommended to use sourceTensor.clone().detach() or sourceTensor.clone().detach().requires_grad_(True), rather than torch.tensor(sourceTensor).\n",
            "  item = {key: torch.tensor(val[idx]) for key, val in self.encodings.items()}\n"
          ]
        },
        {
          "output_type": "display_data",
          "data": {
            "text/plain": [
              "<IPython.core.display.HTML object>"
            ],
            "text/html": [
              "\n",
              "    <div>\n",
              "      \n",
              "      <progress value='1564' max='39933' style='width:300px; height:20px; vertical-align: middle;'></progress>\n",
              "      [ 1564/39933 7:05:12 < 174:04:58, 0.06 it/s, Epoch 0.12/3]\n",
              "    </div>\n",
              "    <table border=\"1\" class=\"dataframe\">\n",
              "  <thead>\n",
              " <tr style=\"text-align: left;\">\n",
              "      <th>Epoch</th>\n",
              "      <th>Training Loss</th>\n",
              "      <th>Validation Loss</th>\n",
              "    </tr>\n",
              "  </thead>\n",
              "  <tbody>\n",
              "  </tbody>\n",
              "</table><p>"
            ]
          },
          "metadata": {}
        },
        {
          "output_type": "stream",
          "name": "stderr",
          "text": [
            "<ipython-input-15-5e071c9e35a1>:34: UserWarning: To copy construct from a tensor, it is recommended to use sourceTensor.clone().detach() or sourceTensor.clone().detach().requires_grad_(True), rather than torch.tensor(sourceTensor).\n",
            "  item = {key: torch.tensor(val[idx]) for key, val in self.encodings.items()}\n",
            "<ipython-input-15-5e071c9e35a1>:34: UserWarning: To copy construct from a tensor, it is recommended to use sourceTensor.clone().detach() or sourceTensor.clone().detach().requires_grad_(True), rather than torch.tensor(sourceTensor).\n",
            "  item = {key: torch.tensor(val[idx]) for key, val in self.encodings.items()}\n",
            "<ipython-input-15-5e071c9e35a1>:34: UserWarning: To copy construct from a tensor, it is recommended to use sourceTensor.clone().detach() or sourceTensor.clone().detach().requires_grad_(True), rather than torch.tensor(sourceTensor).\n",
            "  item = {key: torch.tensor(val[idx]) for key, val in self.encodings.items()}\n"
          ]
        }
      ]
    },
    {
      "cell_type": "markdown",
      "source": [
        "#Predicting test predictions using approach 4"
      ],
      "metadata": {
        "id": "jiooP-yPe2cP"
      }
    },
    {
      "cell_type": "code",
      "source": [
        "# Load the test DataFrame\n",
        "test_df = pd.read_csv('/content/drive/MyDrive/United Airlines/testbc7185d.csv')\n",
        "\n",
        "# Extract call IDs from the test file\n",
        "test_call_ids = test_df['call_id'].tolist()\n",
        "\n",
        "# Filter the merged DataFrame to get transcripts for the test call IDs\n",
        "test_dataset = merged_df[merged_df['call_id'].isin(test_call_ids)]['call_transcript']"
      ],
      "metadata": {
        "id": "i4d8VnRfe10I"
      },
      "execution_count": null,
      "outputs": []
    },
    {
      "cell_type": "code",
      "source": [
        "# Evaluate the model\n",
        "preds = trainer.predict(test_dataset)\n",
        "y_pred = preds.predictions.argmax(-1)\n",
        "test_df['predicted_reason']= y_pred\n",
        "test_df.to_csv('/content/drive/MyDrive/United Airlines/test_predictions.csv', index=False)\n",
        "# Calculate accuracy\n",
        "accuracy = accuracy_score(y_test, y_pred) * 100\n",
        "print(f\"Accuracy: {accuracy:.2f}%\")\n"
      ],
      "metadata": {
        "id": "QOHX7C69_Rn-"
      },
      "execution_count": null,
      "outputs": []
    }
  ],
  "metadata": {
    "colab": {
      "provenance": [],
      "toc_visible": true
    },
    "kernelspec": {
      "display_name": "Python 3",
      "name": "python3"
    },
    "language_info": {
      "name": "python"
    },
    "widgets": {
      "application/vnd.jupyter.widget-state+json": {
        "6eeb44992f0e42129704510364ce13ec": {
          "model_module": "@jupyter-widgets/controls",
          "model_name": "HBoxModel",
          "model_module_version": "1.5.0",
          "state": {
            "_dom_classes": [],
            "_model_module": "@jupyter-widgets/controls",
            "_model_module_version": "1.5.0",
            "_model_name": "HBoxModel",
            "_view_count": null,
            "_view_module": "@jupyter-widgets/controls",
            "_view_module_version": "1.5.0",
            "_view_name": "HBoxView",
            "box_style": "",
            "children": [
              "IPY_MODEL_e84b3d3ff3534f8f90bef6b9b80890ce",
              "IPY_MODEL_6fc7d0848dfa40569d5a619c85c00aac",
              "IPY_MODEL_106c3b782ed54e7d9011db934c3ea27b"
            ],
            "layout": "IPY_MODEL_2c9e9cee6067463e81467aea74f89da3"
          }
        },
        "e84b3d3ff3534f8f90bef6b9b80890ce": {
          "model_module": "@jupyter-widgets/controls",
          "model_name": "HTMLModel",
          "model_module_version": "1.5.0",
          "state": {
            "_dom_classes": [],
            "_model_module": "@jupyter-widgets/controls",
            "_model_module_version": "1.5.0",
            "_model_name": "HTMLModel",
            "_view_count": null,
            "_view_module": "@jupyter-widgets/controls",
            "_view_module_version": "1.5.0",
            "_view_name": "HTMLView",
            "description": "",
            "description_tooltip": null,
            "layout": "IPY_MODEL_1e5e74c5af3d4a05aceda70949bdefb8",
            "placeholder": "​",
            "style": "IPY_MODEL_c06ffa2cd7b14373bb3fcc5d348b179c",
            "value": "tokenizer_config.json: 100%"
          }
        },
        "6fc7d0848dfa40569d5a619c85c00aac": {
          "model_module": "@jupyter-widgets/controls",
          "model_name": "FloatProgressModel",
          "model_module_version": "1.5.0",
          "state": {
            "_dom_classes": [],
            "_model_module": "@jupyter-widgets/controls",
            "_model_module_version": "1.5.0",
            "_model_name": "FloatProgressModel",
            "_view_count": null,
            "_view_module": "@jupyter-widgets/controls",
            "_view_module_version": "1.5.0",
            "_view_name": "ProgressView",
            "bar_style": "success",
            "description": "",
            "description_tooltip": null,
            "layout": "IPY_MODEL_353e6fa2cf0b42e383aac09ee3814faa",
            "max": 48,
            "min": 0,
            "orientation": "horizontal",
            "style": "IPY_MODEL_1555df132f3f4932b189730b751ba011",
            "value": 48
          }
        },
        "106c3b782ed54e7d9011db934c3ea27b": {
          "model_module": "@jupyter-widgets/controls",
          "model_name": "HTMLModel",
          "model_module_version": "1.5.0",
          "state": {
            "_dom_classes": [],
            "_model_module": "@jupyter-widgets/controls",
            "_model_module_version": "1.5.0",
            "_model_name": "HTMLModel",
            "_view_count": null,
            "_view_module": "@jupyter-widgets/controls",
            "_view_module_version": "1.5.0",
            "_view_name": "HTMLView",
            "description": "",
            "description_tooltip": null,
            "layout": "IPY_MODEL_75fef941586741a997381b7fde87be9c",
            "placeholder": "​",
            "style": "IPY_MODEL_ba541a6b6d4243d988db85b50040f9a9",
            "value": " 48.0/48.0 [00:00&lt;00:00, 4.19kB/s]"
          }
        },
        "2c9e9cee6067463e81467aea74f89da3": {
          "model_module": "@jupyter-widgets/base",
          "model_name": "LayoutModel",
          "model_module_version": "1.2.0",
          "state": {
            "_model_module": "@jupyter-widgets/base",
            "_model_module_version": "1.2.0",
            "_model_name": "LayoutModel",
            "_view_count": null,
            "_view_module": "@jupyter-widgets/base",
            "_view_module_version": "1.2.0",
            "_view_name": "LayoutView",
            "align_content": null,
            "align_items": null,
            "align_self": null,
            "border": null,
            "bottom": null,
            "display": null,
            "flex": null,
            "flex_flow": null,
            "grid_area": null,
            "grid_auto_columns": null,
            "grid_auto_flow": null,
            "grid_auto_rows": null,
            "grid_column": null,
            "grid_gap": null,
            "grid_row": null,
            "grid_template_areas": null,
            "grid_template_columns": null,
            "grid_template_rows": null,
            "height": null,
            "justify_content": null,
            "justify_items": null,
            "left": null,
            "margin": null,
            "max_height": null,
            "max_width": null,
            "min_height": null,
            "min_width": null,
            "object_fit": null,
            "object_position": null,
            "order": null,
            "overflow": null,
            "overflow_x": null,
            "overflow_y": null,
            "padding": null,
            "right": null,
            "top": null,
            "visibility": null,
            "width": null
          }
        },
        "1e5e74c5af3d4a05aceda70949bdefb8": {
          "model_module": "@jupyter-widgets/base",
          "model_name": "LayoutModel",
          "model_module_version": "1.2.0",
          "state": {
            "_model_module": "@jupyter-widgets/base",
            "_model_module_version": "1.2.0",
            "_model_name": "LayoutModel",
            "_view_count": null,
            "_view_module": "@jupyter-widgets/base",
            "_view_module_version": "1.2.0",
            "_view_name": "LayoutView",
            "align_content": null,
            "align_items": null,
            "align_self": null,
            "border": null,
            "bottom": null,
            "display": null,
            "flex": null,
            "flex_flow": null,
            "grid_area": null,
            "grid_auto_columns": null,
            "grid_auto_flow": null,
            "grid_auto_rows": null,
            "grid_column": null,
            "grid_gap": null,
            "grid_row": null,
            "grid_template_areas": null,
            "grid_template_columns": null,
            "grid_template_rows": null,
            "height": null,
            "justify_content": null,
            "justify_items": null,
            "left": null,
            "margin": null,
            "max_height": null,
            "max_width": null,
            "min_height": null,
            "min_width": null,
            "object_fit": null,
            "object_position": null,
            "order": null,
            "overflow": null,
            "overflow_x": null,
            "overflow_y": null,
            "padding": null,
            "right": null,
            "top": null,
            "visibility": null,
            "width": null
          }
        },
        "c06ffa2cd7b14373bb3fcc5d348b179c": {
          "model_module": "@jupyter-widgets/controls",
          "model_name": "DescriptionStyleModel",
          "model_module_version": "1.5.0",
          "state": {
            "_model_module": "@jupyter-widgets/controls",
            "_model_module_version": "1.5.0",
            "_model_name": "DescriptionStyleModel",
            "_view_count": null,
            "_view_module": "@jupyter-widgets/base",
            "_view_module_version": "1.2.0",
            "_view_name": "StyleView",
            "description_width": ""
          }
        },
        "353e6fa2cf0b42e383aac09ee3814faa": {
          "model_module": "@jupyter-widgets/base",
          "model_name": "LayoutModel",
          "model_module_version": "1.2.0",
          "state": {
            "_model_module": "@jupyter-widgets/base",
            "_model_module_version": "1.2.0",
            "_model_name": "LayoutModel",
            "_view_count": null,
            "_view_module": "@jupyter-widgets/base",
            "_view_module_version": "1.2.0",
            "_view_name": "LayoutView",
            "align_content": null,
            "align_items": null,
            "align_self": null,
            "border": null,
            "bottom": null,
            "display": null,
            "flex": null,
            "flex_flow": null,
            "grid_area": null,
            "grid_auto_columns": null,
            "grid_auto_flow": null,
            "grid_auto_rows": null,
            "grid_column": null,
            "grid_gap": null,
            "grid_row": null,
            "grid_template_areas": null,
            "grid_template_columns": null,
            "grid_template_rows": null,
            "height": null,
            "justify_content": null,
            "justify_items": null,
            "left": null,
            "margin": null,
            "max_height": null,
            "max_width": null,
            "min_height": null,
            "min_width": null,
            "object_fit": null,
            "object_position": null,
            "order": null,
            "overflow": null,
            "overflow_x": null,
            "overflow_y": null,
            "padding": null,
            "right": null,
            "top": null,
            "visibility": null,
            "width": null
          }
        },
        "1555df132f3f4932b189730b751ba011": {
          "model_module": "@jupyter-widgets/controls",
          "model_name": "ProgressStyleModel",
          "model_module_version": "1.5.0",
          "state": {
            "_model_module": "@jupyter-widgets/controls",
            "_model_module_version": "1.5.0",
            "_model_name": "ProgressStyleModel",
            "_view_count": null,
            "_view_module": "@jupyter-widgets/base",
            "_view_module_version": "1.2.0",
            "_view_name": "StyleView",
            "bar_color": null,
            "description_width": ""
          }
        },
        "75fef941586741a997381b7fde87be9c": {
          "model_module": "@jupyter-widgets/base",
          "model_name": "LayoutModel",
          "model_module_version": "1.2.0",
          "state": {
            "_model_module": "@jupyter-widgets/base",
            "_model_module_version": "1.2.0",
            "_model_name": "LayoutModel",
            "_view_count": null,
            "_view_module": "@jupyter-widgets/base",
            "_view_module_version": "1.2.0",
            "_view_name": "LayoutView",
            "align_content": null,
            "align_items": null,
            "align_self": null,
            "border": null,
            "bottom": null,
            "display": null,
            "flex": null,
            "flex_flow": null,
            "grid_area": null,
            "grid_auto_columns": null,
            "grid_auto_flow": null,
            "grid_auto_rows": null,
            "grid_column": null,
            "grid_gap": null,
            "grid_row": null,
            "grid_template_areas": null,
            "grid_template_columns": null,
            "grid_template_rows": null,
            "height": null,
            "justify_content": null,
            "justify_items": null,
            "left": null,
            "margin": null,
            "max_height": null,
            "max_width": null,
            "min_height": null,
            "min_width": null,
            "object_fit": null,
            "object_position": null,
            "order": null,
            "overflow": null,
            "overflow_x": null,
            "overflow_y": null,
            "padding": null,
            "right": null,
            "top": null,
            "visibility": null,
            "width": null
          }
        },
        "ba541a6b6d4243d988db85b50040f9a9": {
          "model_module": "@jupyter-widgets/controls",
          "model_name": "DescriptionStyleModel",
          "model_module_version": "1.5.0",
          "state": {
            "_model_module": "@jupyter-widgets/controls",
            "_model_module_version": "1.5.0",
            "_model_name": "DescriptionStyleModel",
            "_view_count": null,
            "_view_module": "@jupyter-widgets/base",
            "_view_module_version": "1.2.0",
            "_view_name": "StyleView",
            "description_width": ""
          }
        },
        "e3b5b5e6da804671a9c5e6ba35e87471": {
          "model_module": "@jupyter-widgets/controls",
          "model_name": "HBoxModel",
          "model_module_version": "1.5.0",
          "state": {
            "_dom_classes": [],
            "_model_module": "@jupyter-widgets/controls",
            "_model_module_version": "1.5.0",
            "_model_name": "HBoxModel",
            "_view_count": null,
            "_view_module": "@jupyter-widgets/controls",
            "_view_module_version": "1.5.0",
            "_view_name": "HBoxView",
            "box_style": "",
            "children": [
              "IPY_MODEL_27106d736ec04df6810727bee77cbf51",
              "IPY_MODEL_f13a219be41645fdb8e50679fdc05458",
              "IPY_MODEL_582525979a5542cab5f8e490ea77d2fd"
            ],
            "layout": "IPY_MODEL_68e180703ed046f887579f45e02677c0"
          }
        },
        "27106d736ec04df6810727bee77cbf51": {
          "model_module": "@jupyter-widgets/controls",
          "model_name": "HTMLModel",
          "model_module_version": "1.5.0",
          "state": {
            "_dom_classes": [],
            "_model_module": "@jupyter-widgets/controls",
            "_model_module_version": "1.5.0",
            "_model_name": "HTMLModel",
            "_view_count": null,
            "_view_module": "@jupyter-widgets/controls",
            "_view_module_version": "1.5.0",
            "_view_name": "HTMLView",
            "description": "",
            "description_tooltip": null,
            "layout": "IPY_MODEL_0f9d34c09ad54df593eb04eff5981fdf",
            "placeholder": "​",
            "style": "IPY_MODEL_bbb18f84e02e43da8da255cd0e91c661",
            "value": "vocab.txt: 100%"
          }
        },
        "f13a219be41645fdb8e50679fdc05458": {
          "model_module": "@jupyter-widgets/controls",
          "model_name": "FloatProgressModel",
          "model_module_version": "1.5.0",
          "state": {
            "_dom_classes": [],
            "_model_module": "@jupyter-widgets/controls",
            "_model_module_version": "1.5.0",
            "_model_name": "FloatProgressModel",
            "_view_count": null,
            "_view_module": "@jupyter-widgets/controls",
            "_view_module_version": "1.5.0",
            "_view_name": "ProgressView",
            "bar_style": "success",
            "description": "",
            "description_tooltip": null,
            "layout": "IPY_MODEL_7a5d9f244324499599a681f21b00d8a1",
            "max": 231508,
            "min": 0,
            "orientation": "horizontal",
            "style": "IPY_MODEL_68caa50b1bfe4f888fb8f02ce42ab2b6",
            "value": 231508
          }
        },
        "582525979a5542cab5f8e490ea77d2fd": {
          "model_module": "@jupyter-widgets/controls",
          "model_name": "HTMLModel",
          "model_module_version": "1.5.0",
          "state": {
            "_dom_classes": [],
            "_model_module": "@jupyter-widgets/controls",
            "_model_module_version": "1.5.0",
            "_model_name": "HTMLModel",
            "_view_count": null,
            "_view_module": "@jupyter-widgets/controls",
            "_view_module_version": "1.5.0",
            "_view_name": "HTMLView",
            "description": "",
            "description_tooltip": null,
            "layout": "IPY_MODEL_bd8b3dc887464081bf1f24502d2c115c",
            "placeholder": "​",
            "style": "IPY_MODEL_422f124c6843461d8ef40bf05f5707a9",
            "value": " 232k/232k [00:00&lt;00:00, 3.68MB/s]"
          }
        },
        "68e180703ed046f887579f45e02677c0": {
          "model_module": "@jupyter-widgets/base",
          "model_name": "LayoutModel",
          "model_module_version": "1.2.0",
          "state": {
            "_model_module": "@jupyter-widgets/base",
            "_model_module_version": "1.2.0",
            "_model_name": "LayoutModel",
            "_view_count": null,
            "_view_module": "@jupyter-widgets/base",
            "_view_module_version": "1.2.0",
            "_view_name": "LayoutView",
            "align_content": null,
            "align_items": null,
            "align_self": null,
            "border": null,
            "bottom": null,
            "display": null,
            "flex": null,
            "flex_flow": null,
            "grid_area": null,
            "grid_auto_columns": null,
            "grid_auto_flow": null,
            "grid_auto_rows": null,
            "grid_column": null,
            "grid_gap": null,
            "grid_row": null,
            "grid_template_areas": null,
            "grid_template_columns": null,
            "grid_template_rows": null,
            "height": null,
            "justify_content": null,
            "justify_items": null,
            "left": null,
            "margin": null,
            "max_height": null,
            "max_width": null,
            "min_height": null,
            "min_width": null,
            "object_fit": null,
            "object_position": null,
            "order": null,
            "overflow": null,
            "overflow_x": null,
            "overflow_y": null,
            "padding": null,
            "right": null,
            "top": null,
            "visibility": null,
            "width": null
          }
        },
        "0f9d34c09ad54df593eb04eff5981fdf": {
          "model_module": "@jupyter-widgets/base",
          "model_name": "LayoutModel",
          "model_module_version": "1.2.0",
          "state": {
            "_model_module": "@jupyter-widgets/base",
            "_model_module_version": "1.2.0",
            "_model_name": "LayoutModel",
            "_view_count": null,
            "_view_module": "@jupyter-widgets/base",
            "_view_module_version": "1.2.0",
            "_view_name": "LayoutView",
            "align_content": null,
            "align_items": null,
            "align_self": null,
            "border": null,
            "bottom": null,
            "display": null,
            "flex": null,
            "flex_flow": null,
            "grid_area": null,
            "grid_auto_columns": null,
            "grid_auto_flow": null,
            "grid_auto_rows": null,
            "grid_column": null,
            "grid_gap": null,
            "grid_row": null,
            "grid_template_areas": null,
            "grid_template_columns": null,
            "grid_template_rows": null,
            "height": null,
            "justify_content": null,
            "justify_items": null,
            "left": null,
            "margin": null,
            "max_height": null,
            "max_width": null,
            "min_height": null,
            "min_width": null,
            "object_fit": null,
            "object_position": null,
            "order": null,
            "overflow": null,
            "overflow_x": null,
            "overflow_y": null,
            "padding": null,
            "right": null,
            "top": null,
            "visibility": null,
            "width": null
          }
        },
        "bbb18f84e02e43da8da255cd0e91c661": {
          "model_module": "@jupyter-widgets/controls",
          "model_name": "DescriptionStyleModel",
          "model_module_version": "1.5.0",
          "state": {
            "_model_module": "@jupyter-widgets/controls",
            "_model_module_version": "1.5.0",
            "_model_name": "DescriptionStyleModel",
            "_view_count": null,
            "_view_module": "@jupyter-widgets/base",
            "_view_module_version": "1.2.0",
            "_view_name": "StyleView",
            "description_width": ""
          }
        },
        "7a5d9f244324499599a681f21b00d8a1": {
          "model_module": "@jupyter-widgets/base",
          "model_name": "LayoutModel",
          "model_module_version": "1.2.0",
          "state": {
            "_model_module": "@jupyter-widgets/base",
            "_model_module_version": "1.2.0",
            "_model_name": "LayoutModel",
            "_view_count": null,
            "_view_module": "@jupyter-widgets/base",
            "_view_module_version": "1.2.0",
            "_view_name": "LayoutView",
            "align_content": null,
            "align_items": null,
            "align_self": null,
            "border": null,
            "bottom": null,
            "display": null,
            "flex": null,
            "flex_flow": null,
            "grid_area": null,
            "grid_auto_columns": null,
            "grid_auto_flow": null,
            "grid_auto_rows": null,
            "grid_column": null,
            "grid_gap": null,
            "grid_row": null,
            "grid_template_areas": null,
            "grid_template_columns": null,
            "grid_template_rows": null,
            "height": null,
            "justify_content": null,
            "justify_items": null,
            "left": null,
            "margin": null,
            "max_height": null,
            "max_width": null,
            "min_height": null,
            "min_width": null,
            "object_fit": null,
            "object_position": null,
            "order": null,
            "overflow": null,
            "overflow_x": null,
            "overflow_y": null,
            "padding": null,
            "right": null,
            "top": null,
            "visibility": null,
            "width": null
          }
        },
        "68caa50b1bfe4f888fb8f02ce42ab2b6": {
          "model_module": "@jupyter-widgets/controls",
          "model_name": "ProgressStyleModel",
          "model_module_version": "1.5.0",
          "state": {
            "_model_module": "@jupyter-widgets/controls",
            "_model_module_version": "1.5.0",
            "_model_name": "ProgressStyleModel",
            "_view_count": null,
            "_view_module": "@jupyter-widgets/base",
            "_view_module_version": "1.2.0",
            "_view_name": "StyleView",
            "bar_color": null,
            "description_width": ""
          }
        },
        "bd8b3dc887464081bf1f24502d2c115c": {
          "model_module": "@jupyter-widgets/base",
          "model_name": "LayoutModel",
          "model_module_version": "1.2.0",
          "state": {
            "_model_module": "@jupyter-widgets/base",
            "_model_module_version": "1.2.0",
            "_model_name": "LayoutModel",
            "_view_count": null,
            "_view_module": "@jupyter-widgets/base",
            "_view_module_version": "1.2.0",
            "_view_name": "LayoutView",
            "align_content": null,
            "align_items": null,
            "align_self": null,
            "border": null,
            "bottom": null,
            "display": null,
            "flex": null,
            "flex_flow": null,
            "grid_area": null,
            "grid_auto_columns": null,
            "grid_auto_flow": null,
            "grid_auto_rows": null,
            "grid_column": null,
            "grid_gap": null,
            "grid_row": null,
            "grid_template_areas": null,
            "grid_template_columns": null,
            "grid_template_rows": null,
            "height": null,
            "justify_content": null,
            "justify_items": null,
            "left": null,
            "margin": null,
            "max_height": null,
            "max_width": null,
            "min_height": null,
            "min_width": null,
            "object_fit": null,
            "object_position": null,
            "order": null,
            "overflow": null,
            "overflow_x": null,
            "overflow_y": null,
            "padding": null,
            "right": null,
            "top": null,
            "visibility": null,
            "width": null
          }
        },
        "422f124c6843461d8ef40bf05f5707a9": {
          "model_module": "@jupyter-widgets/controls",
          "model_name": "DescriptionStyleModel",
          "model_module_version": "1.5.0",
          "state": {
            "_model_module": "@jupyter-widgets/controls",
            "_model_module_version": "1.5.0",
            "_model_name": "DescriptionStyleModel",
            "_view_count": null,
            "_view_module": "@jupyter-widgets/base",
            "_view_module_version": "1.2.0",
            "_view_name": "StyleView",
            "description_width": ""
          }
        },
        "cfe7634464f3426f88a5623469d2d61e": {
          "model_module": "@jupyter-widgets/controls",
          "model_name": "HBoxModel",
          "model_module_version": "1.5.0",
          "state": {
            "_dom_classes": [],
            "_model_module": "@jupyter-widgets/controls",
            "_model_module_version": "1.5.0",
            "_model_name": "HBoxModel",
            "_view_count": null,
            "_view_module": "@jupyter-widgets/controls",
            "_view_module_version": "1.5.0",
            "_view_name": "HBoxView",
            "box_style": "",
            "children": [
              "IPY_MODEL_b72439eaa07c43c79310f89dd35af713",
              "IPY_MODEL_e088367628be408c8ac9681c19a76925",
              "IPY_MODEL_9f17d2fd77d24e0cba40520033da8089"
            ],
            "layout": "IPY_MODEL_cd0815aee4a54cf69c21b10b69a42a1d"
          }
        },
        "b72439eaa07c43c79310f89dd35af713": {
          "model_module": "@jupyter-widgets/controls",
          "model_name": "HTMLModel",
          "model_module_version": "1.5.0",
          "state": {
            "_dom_classes": [],
            "_model_module": "@jupyter-widgets/controls",
            "_model_module_version": "1.5.0",
            "_model_name": "HTMLModel",
            "_view_count": null,
            "_view_module": "@jupyter-widgets/controls",
            "_view_module_version": "1.5.0",
            "_view_name": "HTMLView",
            "description": "",
            "description_tooltip": null,
            "layout": "IPY_MODEL_e1dee715ebac47eaaaacd080fcc54cac",
            "placeholder": "​",
            "style": "IPY_MODEL_d44036eed9bc4122991476f21269d382",
            "value": "tokenizer.json: 100%"
          }
        },
        "e088367628be408c8ac9681c19a76925": {
          "model_module": "@jupyter-widgets/controls",
          "model_name": "FloatProgressModel",
          "model_module_version": "1.5.0",
          "state": {
            "_dom_classes": [],
            "_model_module": "@jupyter-widgets/controls",
            "_model_module_version": "1.5.0",
            "_model_name": "FloatProgressModel",
            "_view_count": null,
            "_view_module": "@jupyter-widgets/controls",
            "_view_module_version": "1.5.0",
            "_view_name": "ProgressView",
            "bar_style": "success",
            "description": "",
            "description_tooltip": null,
            "layout": "IPY_MODEL_8f661830391e469c8bea9615de84ab45",
            "max": 466062,
            "min": 0,
            "orientation": "horizontal",
            "style": "IPY_MODEL_46df7ffdd7bd49809486cf3bc5e01081",
            "value": 466062
          }
        },
        "9f17d2fd77d24e0cba40520033da8089": {
          "model_module": "@jupyter-widgets/controls",
          "model_name": "HTMLModel",
          "model_module_version": "1.5.0",
          "state": {
            "_dom_classes": [],
            "_model_module": "@jupyter-widgets/controls",
            "_model_module_version": "1.5.0",
            "_model_name": "HTMLModel",
            "_view_count": null,
            "_view_module": "@jupyter-widgets/controls",
            "_view_module_version": "1.5.0",
            "_view_name": "HTMLView",
            "description": "",
            "description_tooltip": null,
            "layout": "IPY_MODEL_e271706df9d04be4a9af9bf6404778f5",
            "placeholder": "​",
            "style": "IPY_MODEL_82707cefbb93402fb841332b9508786c",
            "value": " 466k/466k [00:00&lt;00:00, 18.4MB/s]"
          }
        },
        "cd0815aee4a54cf69c21b10b69a42a1d": {
          "model_module": "@jupyter-widgets/base",
          "model_name": "LayoutModel",
          "model_module_version": "1.2.0",
          "state": {
            "_model_module": "@jupyter-widgets/base",
            "_model_module_version": "1.2.0",
            "_model_name": "LayoutModel",
            "_view_count": null,
            "_view_module": "@jupyter-widgets/base",
            "_view_module_version": "1.2.0",
            "_view_name": "LayoutView",
            "align_content": null,
            "align_items": null,
            "align_self": null,
            "border": null,
            "bottom": null,
            "display": null,
            "flex": null,
            "flex_flow": null,
            "grid_area": null,
            "grid_auto_columns": null,
            "grid_auto_flow": null,
            "grid_auto_rows": null,
            "grid_column": null,
            "grid_gap": null,
            "grid_row": null,
            "grid_template_areas": null,
            "grid_template_columns": null,
            "grid_template_rows": null,
            "height": null,
            "justify_content": null,
            "justify_items": null,
            "left": null,
            "margin": null,
            "max_height": null,
            "max_width": null,
            "min_height": null,
            "min_width": null,
            "object_fit": null,
            "object_position": null,
            "order": null,
            "overflow": null,
            "overflow_x": null,
            "overflow_y": null,
            "padding": null,
            "right": null,
            "top": null,
            "visibility": null,
            "width": null
          }
        },
        "e1dee715ebac47eaaaacd080fcc54cac": {
          "model_module": "@jupyter-widgets/base",
          "model_name": "LayoutModel",
          "model_module_version": "1.2.0",
          "state": {
            "_model_module": "@jupyter-widgets/base",
            "_model_module_version": "1.2.0",
            "_model_name": "LayoutModel",
            "_view_count": null,
            "_view_module": "@jupyter-widgets/base",
            "_view_module_version": "1.2.0",
            "_view_name": "LayoutView",
            "align_content": null,
            "align_items": null,
            "align_self": null,
            "border": null,
            "bottom": null,
            "display": null,
            "flex": null,
            "flex_flow": null,
            "grid_area": null,
            "grid_auto_columns": null,
            "grid_auto_flow": null,
            "grid_auto_rows": null,
            "grid_column": null,
            "grid_gap": null,
            "grid_row": null,
            "grid_template_areas": null,
            "grid_template_columns": null,
            "grid_template_rows": null,
            "height": null,
            "justify_content": null,
            "justify_items": null,
            "left": null,
            "margin": null,
            "max_height": null,
            "max_width": null,
            "min_height": null,
            "min_width": null,
            "object_fit": null,
            "object_position": null,
            "order": null,
            "overflow": null,
            "overflow_x": null,
            "overflow_y": null,
            "padding": null,
            "right": null,
            "top": null,
            "visibility": null,
            "width": null
          }
        },
        "d44036eed9bc4122991476f21269d382": {
          "model_module": "@jupyter-widgets/controls",
          "model_name": "DescriptionStyleModel",
          "model_module_version": "1.5.0",
          "state": {
            "_model_module": "@jupyter-widgets/controls",
            "_model_module_version": "1.5.0",
            "_model_name": "DescriptionStyleModel",
            "_view_count": null,
            "_view_module": "@jupyter-widgets/base",
            "_view_module_version": "1.2.0",
            "_view_name": "StyleView",
            "description_width": ""
          }
        },
        "8f661830391e469c8bea9615de84ab45": {
          "model_module": "@jupyter-widgets/base",
          "model_name": "LayoutModel",
          "model_module_version": "1.2.0",
          "state": {
            "_model_module": "@jupyter-widgets/base",
            "_model_module_version": "1.2.0",
            "_model_name": "LayoutModel",
            "_view_count": null,
            "_view_module": "@jupyter-widgets/base",
            "_view_module_version": "1.2.0",
            "_view_name": "LayoutView",
            "align_content": null,
            "align_items": null,
            "align_self": null,
            "border": null,
            "bottom": null,
            "display": null,
            "flex": null,
            "flex_flow": null,
            "grid_area": null,
            "grid_auto_columns": null,
            "grid_auto_flow": null,
            "grid_auto_rows": null,
            "grid_column": null,
            "grid_gap": null,
            "grid_row": null,
            "grid_template_areas": null,
            "grid_template_columns": null,
            "grid_template_rows": null,
            "height": null,
            "justify_content": null,
            "justify_items": null,
            "left": null,
            "margin": null,
            "max_height": null,
            "max_width": null,
            "min_height": null,
            "min_width": null,
            "object_fit": null,
            "object_position": null,
            "order": null,
            "overflow": null,
            "overflow_x": null,
            "overflow_y": null,
            "padding": null,
            "right": null,
            "top": null,
            "visibility": null,
            "width": null
          }
        },
        "46df7ffdd7bd49809486cf3bc5e01081": {
          "model_module": "@jupyter-widgets/controls",
          "model_name": "ProgressStyleModel",
          "model_module_version": "1.5.0",
          "state": {
            "_model_module": "@jupyter-widgets/controls",
            "_model_module_version": "1.5.0",
            "_model_name": "ProgressStyleModel",
            "_view_count": null,
            "_view_module": "@jupyter-widgets/base",
            "_view_module_version": "1.2.0",
            "_view_name": "StyleView",
            "bar_color": null,
            "description_width": ""
          }
        },
        "e271706df9d04be4a9af9bf6404778f5": {
          "model_module": "@jupyter-widgets/base",
          "model_name": "LayoutModel",
          "model_module_version": "1.2.0",
          "state": {
            "_model_module": "@jupyter-widgets/base",
            "_model_module_version": "1.2.0",
            "_model_name": "LayoutModel",
            "_view_count": null,
            "_view_module": "@jupyter-widgets/base",
            "_view_module_version": "1.2.0",
            "_view_name": "LayoutView",
            "align_content": null,
            "align_items": null,
            "align_self": null,
            "border": null,
            "bottom": null,
            "display": null,
            "flex": null,
            "flex_flow": null,
            "grid_area": null,
            "grid_auto_columns": null,
            "grid_auto_flow": null,
            "grid_auto_rows": null,
            "grid_column": null,
            "grid_gap": null,
            "grid_row": null,
            "grid_template_areas": null,
            "grid_template_columns": null,
            "grid_template_rows": null,
            "height": null,
            "justify_content": null,
            "justify_items": null,
            "left": null,
            "margin": null,
            "max_height": null,
            "max_width": null,
            "min_height": null,
            "min_width": null,
            "object_fit": null,
            "object_position": null,
            "order": null,
            "overflow": null,
            "overflow_x": null,
            "overflow_y": null,
            "padding": null,
            "right": null,
            "top": null,
            "visibility": null,
            "width": null
          }
        },
        "82707cefbb93402fb841332b9508786c": {
          "model_module": "@jupyter-widgets/controls",
          "model_name": "DescriptionStyleModel",
          "model_module_version": "1.5.0",
          "state": {
            "_model_module": "@jupyter-widgets/controls",
            "_model_module_version": "1.5.0",
            "_model_name": "DescriptionStyleModel",
            "_view_count": null,
            "_view_module": "@jupyter-widgets/base",
            "_view_module_version": "1.2.0",
            "_view_name": "StyleView",
            "description_width": ""
          }
        },
        "23575ed86c0a42018784ee8aa98fc5e9": {
          "model_module": "@jupyter-widgets/controls",
          "model_name": "HBoxModel",
          "model_module_version": "1.5.0",
          "state": {
            "_dom_classes": [],
            "_model_module": "@jupyter-widgets/controls",
            "_model_module_version": "1.5.0",
            "_model_name": "HBoxModel",
            "_view_count": null,
            "_view_module": "@jupyter-widgets/controls",
            "_view_module_version": "1.5.0",
            "_view_name": "HBoxView",
            "box_style": "",
            "children": [
              "IPY_MODEL_2eff3698d14a4d919b65de5fe9d0ea0e",
              "IPY_MODEL_843c1ca9b9234c3b9ac1114f0995051a",
              "IPY_MODEL_a0acf2c843d548d5bed46a2587aa88c0"
            ],
            "layout": "IPY_MODEL_ec2d6e5c03014ac6b6a3f98d3171db5b"
          }
        },
        "2eff3698d14a4d919b65de5fe9d0ea0e": {
          "model_module": "@jupyter-widgets/controls",
          "model_name": "HTMLModel",
          "model_module_version": "1.5.0",
          "state": {
            "_dom_classes": [],
            "_model_module": "@jupyter-widgets/controls",
            "_model_module_version": "1.5.0",
            "_model_name": "HTMLModel",
            "_view_count": null,
            "_view_module": "@jupyter-widgets/controls",
            "_view_module_version": "1.5.0",
            "_view_name": "HTMLView",
            "description": "",
            "description_tooltip": null,
            "layout": "IPY_MODEL_d6a56347230e48f5ae224165a7080cf9",
            "placeholder": "​",
            "style": "IPY_MODEL_27d01c7c9860491ca654e13311b88a61",
            "value": "config.json: 100%"
          }
        },
        "843c1ca9b9234c3b9ac1114f0995051a": {
          "model_module": "@jupyter-widgets/controls",
          "model_name": "FloatProgressModel",
          "model_module_version": "1.5.0",
          "state": {
            "_dom_classes": [],
            "_model_module": "@jupyter-widgets/controls",
            "_model_module_version": "1.5.0",
            "_model_name": "FloatProgressModel",
            "_view_count": null,
            "_view_module": "@jupyter-widgets/controls",
            "_view_module_version": "1.5.0",
            "_view_name": "ProgressView",
            "bar_style": "success",
            "description": "",
            "description_tooltip": null,
            "layout": "IPY_MODEL_fa3fec74d45d4f7ea5b4674b24f52368",
            "max": 570,
            "min": 0,
            "orientation": "horizontal",
            "style": "IPY_MODEL_3e93e5a171024b26b2cba7680f0a5359",
            "value": 570
          }
        },
        "a0acf2c843d548d5bed46a2587aa88c0": {
          "model_module": "@jupyter-widgets/controls",
          "model_name": "HTMLModel",
          "model_module_version": "1.5.0",
          "state": {
            "_dom_classes": [],
            "_model_module": "@jupyter-widgets/controls",
            "_model_module_version": "1.5.0",
            "_model_name": "HTMLModel",
            "_view_count": null,
            "_view_module": "@jupyter-widgets/controls",
            "_view_module_version": "1.5.0",
            "_view_name": "HTMLView",
            "description": "",
            "description_tooltip": null,
            "layout": "IPY_MODEL_53187ff116ef42dfa9dbf7a58caa8910",
            "placeholder": "​",
            "style": "IPY_MODEL_3461c8af2a4c4af186f5749f310526e4",
            "value": " 570/570 [00:00&lt;00:00, 62.7kB/s]"
          }
        },
        "ec2d6e5c03014ac6b6a3f98d3171db5b": {
          "model_module": "@jupyter-widgets/base",
          "model_name": "LayoutModel",
          "model_module_version": "1.2.0",
          "state": {
            "_model_module": "@jupyter-widgets/base",
            "_model_module_version": "1.2.0",
            "_model_name": "LayoutModel",
            "_view_count": null,
            "_view_module": "@jupyter-widgets/base",
            "_view_module_version": "1.2.0",
            "_view_name": "LayoutView",
            "align_content": null,
            "align_items": null,
            "align_self": null,
            "border": null,
            "bottom": null,
            "display": null,
            "flex": null,
            "flex_flow": null,
            "grid_area": null,
            "grid_auto_columns": null,
            "grid_auto_flow": null,
            "grid_auto_rows": null,
            "grid_column": null,
            "grid_gap": null,
            "grid_row": null,
            "grid_template_areas": null,
            "grid_template_columns": null,
            "grid_template_rows": null,
            "height": null,
            "justify_content": null,
            "justify_items": null,
            "left": null,
            "margin": null,
            "max_height": null,
            "max_width": null,
            "min_height": null,
            "min_width": null,
            "object_fit": null,
            "object_position": null,
            "order": null,
            "overflow": null,
            "overflow_x": null,
            "overflow_y": null,
            "padding": null,
            "right": null,
            "top": null,
            "visibility": null,
            "width": null
          }
        },
        "d6a56347230e48f5ae224165a7080cf9": {
          "model_module": "@jupyter-widgets/base",
          "model_name": "LayoutModel",
          "model_module_version": "1.2.0",
          "state": {
            "_model_module": "@jupyter-widgets/base",
            "_model_module_version": "1.2.0",
            "_model_name": "LayoutModel",
            "_view_count": null,
            "_view_module": "@jupyter-widgets/base",
            "_view_module_version": "1.2.0",
            "_view_name": "LayoutView",
            "align_content": null,
            "align_items": null,
            "align_self": null,
            "border": null,
            "bottom": null,
            "display": null,
            "flex": null,
            "flex_flow": null,
            "grid_area": null,
            "grid_auto_columns": null,
            "grid_auto_flow": null,
            "grid_auto_rows": null,
            "grid_column": null,
            "grid_gap": null,
            "grid_row": null,
            "grid_template_areas": null,
            "grid_template_columns": null,
            "grid_template_rows": null,
            "height": null,
            "justify_content": null,
            "justify_items": null,
            "left": null,
            "margin": null,
            "max_height": null,
            "max_width": null,
            "min_height": null,
            "min_width": null,
            "object_fit": null,
            "object_position": null,
            "order": null,
            "overflow": null,
            "overflow_x": null,
            "overflow_y": null,
            "padding": null,
            "right": null,
            "top": null,
            "visibility": null,
            "width": null
          }
        },
        "27d01c7c9860491ca654e13311b88a61": {
          "model_module": "@jupyter-widgets/controls",
          "model_name": "DescriptionStyleModel",
          "model_module_version": "1.5.0",
          "state": {
            "_model_module": "@jupyter-widgets/controls",
            "_model_module_version": "1.5.0",
            "_model_name": "DescriptionStyleModel",
            "_view_count": null,
            "_view_module": "@jupyter-widgets/base",
            "_view_module_version": "1.2.0",
            "_view_name": "StyleView",
            "description_width": ""
          }
        },
        "fa3fec74d45d4f7ea5b4674b24f52368": {
          "model_module": "@jupyter-widgets/base",
          "model_name": "LayoutModel",
          "model_module_version": "1.2.0",
          "state": {
            "_model_module": "@jupyter-widgets/base",
            "_model_module_version": "1.2.0",
            "_model_name": "LayoutModel",
            "_view_count": null,
            "_view_module": "@jupyter-widgets/base",
            "_view_module_version": "1.2.0",
            "_view_name": "LayoutView",
            "align_content": null,
            "align_items": null,
            "align_self": null,
            "border": null,
            "bottom": null,
            "display": null,
            "flex": null,
            "flex_flow": null,
            "grid_area": null,
            "grid_auto_columns": null,
            "grid_auto_flow": null,
            "grid_auto_rows": null,
            "grid_column": null,
            "grid_gap": null,
            "grid_row": null,
            "grid_template_areas": null,
            "grid_template_columns": null,
            "grid_template_rows": null,
            "height": null,
            "justify_content": null,
            "justify_items": null,
            "left": null,
            "margin": null,
            "max_height": null,
            "max_width": null,
            "min_height": null,
            "min_width": null,
            "object_fit": null,
            "object_position": null,
            "order": null,
            "overflow": null,
            "overflow_x": null,
            "overflow_y": null,
            "padding": null,
            "right": null,
            "top": null,
            "visibility": null,
            "width": null
          }
        },
        "3e93e5a171024b26b2cba7680f0a5359": {
          "model_module": "@jupyter-widgets/controls",
          "model_name": "ProgressStyleModel",
          "model_module_version": "1.5.0",
          "state": {
            "_model_module": "@jupyter-widgets/controls",
            "_model_module_version": "1.5.0",
            "_model_name": "ProgressStyleModel",
            "_view_count": null,
            "_view_module": "@jupyter-widgets/base",
            "_view_module_version": "1.2.0",
            "_view_name": "StyleView",
            "bar_color": null,
            "description_width": ""
          }
        },
        "53187ff116ef42dfa9dbf7a58caa8910": {
          "model_module": "@jupyter-widgets/base",
          "model_name": "LayoutModel",
          "model_module_version": "1.2.0",
          "state": {
            "_model_module": "@jupyter-widgets/base",
            "_model_module_version": "1.2.0",
            "_model_name": "LayoutModel",
            "_view_count": null,
            "_view_module": "@jupyter-widgets/base",
            "_view_module_version": "1.2.0",
            "_view_name": "LayoutView",
            "align_content": null,
            "align_items": null,
            "align_self": null,
            "border": null,
            "bottom": null,
            "display": null,
            "flex": null,
            "flex_flow": null,
            "grid_area": null,
            "grid_auto_columns": null,
            "grid_auto_flow": null,
            "grid_auto_rows": null,
            "grid_column": null,
            "grid_gap": null,
            "grid_row": null,
            "grid_template_areas": null,
            "grid_template_columns": null,
            "grid_template_rows": null,
            "height": null,
            "justify_content": null,
            "justify_items": null,
            "left": null,
            "margin": null,
            "max_height": null,
            "max_width": null,
            "min_height": null,
            "min_width": null,
            "object_fit": null,
            "object_position": null,
            "order": null,
            "overflow": null,
            "overflow_x": null,
            "overflow_y": null,
            "padding": null,
            "right": null,
            "top": null,
            "visibility": null,
            "width": null
          }
        },
        "3461c8af2a4c4af186f5749f310526e4": {
          "model_module": "@jupyter-widgets/controls",
          "model_name": "DescriptionStyleModel",
          "model_module_version": "1.5.0",
          "state": {
            "_model_module": "@jupyter-widgets/controls",
            "_model_module_version": "1.5.0",
            "_model_name": "DescriptionStyleModel",
            "_view_count": null,
            "_view_module": "@jupyter-widgets/base",
            "_view_module_version": "1.2.0",
            "_view_name": "StyleView",
            "description_width": ""
          }
        },
        "6bdb636241c9454ba60ab98e4a505f10": {
          "model_module": "@jupyter-widgets/controls",
          "model_name": "HBoxModel",
          "model_module_version": "1.5.0",
          "state": {
            "_dom_classes": [],
            "_model_module": "@jupyter-widgets/controls",
            "_model_module_version": "1.5.0",
            "_model_name": "HBoxModel",
            "_view_count": null,
            "_view_module": "@jupyter-widgets/controls",
            "_view_module_version": "1.5.0",
            "_view_name": "HBoxView",
            "box_style": "",
            "children": [
              "IPY_MODEL_2e2bcdec79dc43ac806912a3addc194e",
              "IPY_MODEL_189f5d77da5d4f34b66e81daaec803b9",
              "IPY_MODEL_7f002f91ce71483c88412593c71cce77"
            ],
            "layout": "IPY_MODEL_f1418b7c19984d38a332cbceb7055836"
          }
        },
        "2e2bcdec79dc43ac806912a3addc194e": {
          "model_module": "@jupyter-widgets/controls",
          "model_name": "HTMLModel",
          "model_module_version": "1.5.0",
          "state": {
            "_dom_classes": [],
            "_model_module": "@jupyter-widgets/controls",
            "_model_module_version": "1.5.0",
            "_model_name": "HTMLModel",
            "_view_count": null,
            "_view_module": "@jupyter-widgets/controls",
            "_view_module_version": "1.5.0",
            "_view_name": "HTMLView",
            "description": "",
            "description_tooltip": null,
            "layout": "IPY_MODEL_2a2d38f3dc3749beb63673cc6e4c18cd",
            "placeholder": "​",
            "style": "IPY_MODEL_d8f32a1ff0a34b1dbc109208cc8a3fc2",
            "value": "model.safetensors: 100%"
          }
        },
        "189f5d77da5d4f34b66e81daaec803b9": {
          "model_module": "@jupyter-widgets/controls",
          "model_name": "FloatProgressModel",
          "model_module_version": "1.5.0",
          "state": {
            "_dom_classes": [],
            "_model_module": "@jupyter-widgets/controls",
            "_model_module_version": "1.5.0",
            "_model_name": "FloatProgressModel",
            "_view_count": null,
            "_view_module": "@jupyter-widgets/controls",
            "_view_module_version": "1.5.0",
            "_view_name": "ProgressView",
            "bar_style": "success",
            "description": "",
            "description_tooltip": null,
            "layout": "IPY_MODEL_a605cabaa63345bc95bde9afe12c953f",
            "max": 440449768,
            "min": 0,
            "orientation": "horizontal",
            "style": "IPY_MODEL_cc63fa10c2084a5db481a3fce10e46e9",
            "value": 440449768
          }
        },
        "7f002f91ce71483c88412593c71cce77": {
          "model_module": "@jupyter-widgets/controls",
          "model_name": "HTMLModel",
          "model_module_version": "1.5.0",
          "state": {
            "_dom_classes": [],
            "_model_module": "@jupyter-widgets/controls",
            "_model_module_version": "1.5.0",
            "_model_name": "HTMLModel",
            "_view_count": null,
            "_view_module": "@jupyter-widgets/controls",
            "_view_module_version": "1.5.0",
            "_view_name": "HTMLView",
            "description": "",
            "description_tooltip": null,
            "layout": "IPY_MODEL_62a9540894df4e80b3b3e3df3f028c3d",
            "placeholder": "​",
            "style": "IPY_MODEL_78a4c786fc4b4c7f8dcd324b0163f3d3",
            "value": " 440M/440M [00:01&lt;00:00, 276MB/s]"
          }
        },
        "f1418b7c19984d38a332cbceb7055836": {
          "model_module": "@jupyter-widgets/base",
          "model_name": "LayoutModel",
          "model_module_version": "1.2.0",
          "state": {
            "_model_module": "@jupyter-widgets/base",
            "_model_module_version": "1.2.0",
            "_model_name": "LayoutModel",
            "_view_count": null,
            "_view_module": "@jupyter-widgets/base",
            "_view_module_version": "1.2.0",
            "_view_name": "LayoutView",
            "align_content": null,
            "align_items": null,
            "align_self": null,
            "border": null,
            "bottom": null,
            "display": null,
            "flex": null,
            "flex_flow": null,
            "grid_area": null,
            "grid_auto_columns": null,
            "grid_auto_flow": null,
            "grid_auto_rows": null,
            "grid_column": null,
            "grid_gap": null,
            "grid_row": null,
            "grid_template_areas": null,
            "grid_template_columns": null,
            "grid_template_rows": null,
            "height": null,
            "justify_content": null,
            "justify_items": null,
            "left": null,
            "margin": null,
            "max_height": null,
            "max_width": null,
            "min_height": null,
            "min_width": null,
            "object_fit": null,
            "object_position": null,
            "order": null,
            "overflow": null,
            "overflow_x": null,
            "overflow_y": null,
            "padding": null,
            "right": null,
            "top": null,
            "visibility": null,
            "width": null
          }
        },
        "2a2d38f3dc3749beb63673cc6e4c18cd": {
          "model_module": "@jupyter-widgets/base",
          "model_name": "LayoutModel",
          "model_module_version": "1.2.0",
          "state": {
            "_model_module": "@jupyter-widgets/base",
            "_model_module_version": "1.2.0",
            "_model_name": "LayoutModel",
            "_view_count": null,
            "_view_module": "@jupyter-widgets/base",
            "_view_module_version": "1.2.0",
            "_view_name": "LayoutView",
            "align_content": null,
            "align_items": null,
            "align_self": null,
            "border": null,
            "bottom": null,
            "display": null,
            "flex": null,
            "flex_flow": null,
            "grid_area": null,
            "grid_auto_columns": null,
            "grid_auto_flow": null,
            "grid_auto_rows": null,
            "grid_column": null,
            "grid_gap": null,
            "grid_row": null,
            "grid_template_areas": null,
            "grid_template_columns": null,
            "grid_template_rows": null,
            "height": null,
            "justify_content": null,
            "justify_items": null,
            "left": null,
            "margin": null,
            "max_height": null,
            "max_width": null,
            "min_height": null,
            "min_width": null,
            "object_fit": null,
            "object_position": null,
            "order": null,
            "overflow": null,
            "overflow_x": null,
            "overflow_y": null,
            "padding": null,
            "right": null,
            "top": null,
            "visibility": null,
            "width": null
          }
        },
        "d8f32a1ff0a34b1dbc109208cc8a3fc2": {
          "model_module": "@jupyter-widgets/controls",
          "model_name": "DescriptionStyleModel",
          "model_module_version": "1.5.0",
          "state": {
            "_model_module": "@jupyter-widgets/controls",
            "_model_module_version": "1.5.0",
            "_model_name": "DescriptionStyleModel",
            "_view_count": null,
            "_view_module": "@jupyter-widgets/base",
            "_view_module_version": "1.2.0",
            "_view_name": "StyleView",
            "description_width": ""
          }
        },
        "a605cabaa63345bc95bde9afe12c953f": {
          "model_module": "@jupyter-widgets/base",
          "model_name": "LayoutModel",
          "model_module_version": "1.2.0",
          "state": {
            "_model_module": "@jupyter-widgets/base",
            "_model_module_version": "1.2.0",
            "_model_name": "LayoutModel",
            "_view_count": null,
            "_view_module": "@jupyter-widgets/base",
            "_view_module_version": "1.2.0",
            "_view_name": "LayoutView",
            "align_content": null,
            "align_items": null,
            "align_self": null,
            "border": null,
            "bottom": null,
            "display": null,
            "flex": null,
            "flex_flow": null,
            "grid_area": null,
            "grid_auto_columns": null,
            "grid_auto_flow": null,
            "grid_auto_rows": null,
            "grid_column": null,
            "grid_gap": null,
            "grid_row": null,
            "grid_template_areas": null,
            "grid_template_columns": null,
            "grid_template_rows": null,
            "height": null,
            "justify_content": null,
            "justify_items": null,
            "left": null,
            "margin": null,
            "max_height": null,
            "max_width": null,
            "min_height": null,
            "min_width": null,
            "object_fit": null,
            "object_position": null,
            "order": null,
            "overflow": null,
            "overflow_x": null,
            "overflow_y": null,
            "padding": null,
            "right": null,
            "top": null,
            "visibility": null,
            "width": null
          }
        },
        "cc63fa10c2084a5db481a3fce10e46e9": {
          "model_module": "@jupyter-widgets/controls",
          "model_name": "ProgressStyleModel",
          "model_module_version": "1.5.0",
          "state": {
            "_model_module": "@jupyter-widgets/controls",
            "_model_module_version": "1.5.0",
            "_model_name": "ProgressStyleModel",
            "_view_count": null,
            "_view_module": "@jupyter-widgets/base",
            "_view_module_version": "1.2.0",
            "_view_name": "StyleView",
            "bar_color": null,
            "description_width": ""
          }
        },
        "62a9540894df4e80b3b3e3df3f028c3d": {
          "model_module": "@jupyter-widgets/base",
          "model_name": "LayoutModel",
          "model_module_version": "1.2.0",
          "state": {
            "_model_module": "@jupyter-widgets/base",
            "_model_module_version": "1.2.0",
            "_model_name": "LayoutModel",
            "_view_count": null,
            "_view_module": "@jupyter-widgets/base",
            "_view_module_version": "1.2.0",
            "_view_name": "LayoutView",
            "align_content": null,
            "align_items": null,
            "align_self": null,
            "border": null,
            "bottom": null,
            "display": null,
            "flex": null,
            "flex_flow": null,
            "grid_area": null,
            "grid_auto_columns": null,
            "grid_auto_flow": null,
            "grid_auto_rows": null,
            "grid_column": null,
            "grid_gap": null,
            "grid_row": null,
            "grid_template_areas": null,
            "grid_template_columns": null,
            "grid_template_rows": null,
            "height": null,
            "justify_content": null,
            "justify_items": null,
            "left": null,
            "margin": null,
            "max_height": null,
            "max_width": null,
            "min_height": null,
            "min_width": null,
            "object_fit": null,
            "object_position": null,
            "order": null,
            "overflow": null,
            "overflow_x": null,
            "overflow_y": null,
            "padding": null,
            "right": null,
            "top": null,
            "visibility": null,
            "width": null
          }
        },
        "78a4c786fc4b4c7f8dcd324b0163f3d3": {
          "model_module": "@jupyter-widgets/controls",
          "model_name": "DescriptionStyleModel",
          "model_module_version": "1.5.0",
          "state": {
            "_model_module": "@jupyter-widgets/controls",
            "_model_module_version": "1.5.0",
            "_model_name": "DescriptionStyleModel",
            "_view_count": null,
            "_view_module": "@jupyter-widgets/base",
            "_view_module_version": "1.2.0",
            "_view_name": "StyleView",
            "description_width": ""
          }
        },
        "ade62a2da49f43519cb15508563d14c3": {
          "model_module": "@jupyter-widgets/controls",
          "model_name": "HBoxModel",
          "model_module_version": "1.5.0",
          "state": {
            "_dom_classes": [],
            "_model_module": "@jupyter-widgets/controls",
            "_model_module_version": "1.5.0",
            "_model_name": "HBoxModel",
            "_view_count": null,
            "_view_module": "@jupyter-widgets/controls",
            "_view_module_version": "1.5.0",
            "_view_name": "HBoxView",
            "box_style": "",
            "children": [
              "IPY_MODEL_1edc3bf5df594fbfa5799130b4c37ba0",
              "IPY_MODEL_c09470f2068c4737a07da9379362d40e",
              "IPY_MODEL_fb402eb32158486b996211e510fb0d55"
            ],
            "layout": "IPY_MODEL_c5a38dc8b6f54a82863c66988425e2d6"
          }
        },
        "1edc3bf5df594fbfa5799130b4c37ba0": {
          "model_module": "@jupyter-widgets/controls",
          "model_name": "HTMLModel",
          "model_module_version": "1.5.0",
          "state": {
            "_dom_classes": [],
            "_model_module": "@jupyter-widgets/controls",
            "_model_module_version": "1.5.0",
            "_model_name": "HTMLModel",
            "_view_count": null,
            "_view_module": "@jupyter-widgets/controls",
            "_view_module_version": "1.5.0",
            "_view_name": "HTMLView",
            "description": "",
            "description_tooltip": null,
            "layout": "IPY_MODEL_adbfabed0d0a4266af9487bc150079f7",
            "placeholder": "​",
            "style": "IPY_MODEL_ace9ecca299149b09f16b019f259e4e4",
            "value": "Processing:  60%"
          }
        },
        "c09470f2068c4737a07da9379362d40e": {
          "model_module": "@jupyter-widgets/controls",
          "model_name": "FloatProgressModel",
          "model_module_version": "1.5.0",
          "state": {
            "_dom_classes": [],
            "_model_module": "@jupyter-widgets/controls",
            "_model_module_version": "1.5.0",
            "_model_name": "FloatProgressModel",
            "_view_count": null,
            "_view_module": "@jupyter-widgets/controls",
            "_view_module_version": "1.5.0",
            "_view_name": "ProgressView",
            "bar_style": "",
            "description": "",
            "description_tooltip": null,
            "layout": "IPY_MODEL_4bc33dae9b704041b2586b30206dc358",
            "max": 65,
            "min": 0,
            "orientation": "horizontal",
            "style": "IPY_MODEL_77c6b6c6a6b64032ab68b6afd3d48dd0",
            "value": 39
          }
        },
        "fb402eb32158486b996211e510fb0d55": {
          "model_module": "@jupyter-widgets/controls",
          "model_name": "HTMLModel",
          "model_module_version": "1.5.0",
          "state": {
            "_dom_classes": [],
            "_model_module": "@jupyter-widgets/controls",
            "_model_module_version": "1.5.0",
            "_model_name": "HTMLModel",
            "_view_count": null,
            "_view_module": "@jupyter-widgets/controls",
            "_view_module_version": "1.5.0",
            "_view_name": "HTMLView",
            "description": "",
            "description_tooltip": null,
            "layout": "IPY_MODEL_800a0ee6233141d0aab3d2e1a0886287",
            "placeholder": "​",
            "style": "IPY_MODEL_5ed099c96fc44e5abf4f48379f1acdef",
            "value": " 39/65 [4:24:51&lt;3:14:57, 449.89s/it]"
          }
        },
        "c5a38dc8b6f54a82863c66988425e2d6": {
          "model_module": "@jupyter-widgets/base",
          "model_name": "LayoutModel",
          "model_module_version": "1.2.0",
          "state": {
            "_model_module": "@jupyter-widgets/base",
            "_model_module_version": "1.2.0",
            "_model_name": "LayoutModel",
            "_view_count": null,
            "_view_module": "@jupyter-widgets/base",
            "_view_module_version": "1.2.0",
            "_view_name": "LayoutView",
            "align_content": null,
            "align_items": null,
            "align_self": null,
            "border": null,
            "bottom": null,
            "display": null,
            "flex": null,
            "flex_flow": null,
            "grid_area": null,
            "grid_auto_columns": null,
            "grid_auto_flow": null,
            "grid_auto_rows": null,
            "grid_column": null,
            "grid_gap": null,
            "grid_row": null,
            "grid_template_areas": null,
            "grid_template_columns": null,
            "grid_template_rows": null,
            "height": null,
            "justify_content": null,
            "justify_items": null,
            "left": null,
            "margin": null,
            "max_height": null,
            "max_width": null,
            "min_height": null,
            "min_width": null,
            "object_fit": null,
            "object_position": null,
            "order": null,
            "overflow": null,
            "overflow_x": null,
            "overflow_y": null,
            "padding": null,
            "right": null,
            "top": null,
            "visibility": null,
            "width": null
          }
        },
        "adbfabed0d0a4266af9487bc150079f7": {
          "model_module": "@jupyter-widgets/base",
          "model_name": "LayoutModel",
          "model_module_version": "1.2.0",
          "state": {
            "_model_module": "@jupyter-widgets/base",
            "_model_module_version": "1.2.0",
            "_model_name": "LayoutModel",
            "_view_count": null,
            "_view_module": "@jupyter-widgets/base",
            "_view_module_version": "1.2.0",
            "_view_name": "LayoutView",
            "align_content": null,
            "align_items": null,
            "align_self": null,
            "border": null,
            "bottom": null,
            "display": null,
            "flex": null,
            "flex_flow": null,
            "grid_area": null,
            "grid_auto_columns": null,
            "grid_auto_flow": null,
            "grid_auto_rows": null,
            "grid_column": null,
            "grid_gap": null,
            "grid_row": null,
            "grid_template_areas": null,
            "grid_template_columns": null,
            "grid_template_rows": null,
            "height": null,
            "justify_content": null,
            "justify_items": null,
            "left": null,
            "margin": null,
            "max_height": null,
            "max_width": null,
            "min_height": null,
            "min_width": null,
            "object_fit": null,
            "object_position": null,
            "order": null,
            "overflow": null,
            "overflow_x": null,
            "overflow_y": null,
            "padding": null,
            "right": null,
            "top": null,
            "visibility": null,
            "width": null
          }
        },
        "ace9ecca299149b09f16b019f259e4e4": {
          "model_module": "@jupyter-widgets/controls",
          "model_name": "DescriptionStyleModel",
          "model_module_version": "1.5.0",
          "state": {
            "_model_module": "@jupyter-widgets/controls",
            "_model_module_version": "1.5.0",
            "_model_name": "DescriptionStyleModel",
            "_view_count": null,
            "_view_module": "@jupyter-widgets/base",
            "_view_module_version": "1.2.0",
            "_view_name": "StyleView",
            "description_width": ""
          }
        },
        "4bc33dae9b704041b2586b30206dc358": {
          "model_module": "@jupyter-widgets/base",
          "model_name": "LayoutModel",
          "model_module_version": "1.2.0",
          "state": {
            "_model_module": "@jupyter-widgets/base",
            "_model_module_version": "1.2.0",
            "_model_name": "LayoutModel",
            "_view_count": null,
            "_view_module": "@jupyter-widgets/base",
            "_view_module_version": "1.2.0",
            "_view_name": "LayoutView",
            "align_content": null,
            "align_items": null,
            "align_self": null,
            "border": null,
            "bottom": null,
            "display": null,
            "flex": null,
            "flex_flow": null,
            "grid_area": null,
            "grid_auto_columns": null,
            "grid_auto_flow": null,
            "grid_auto_rows": null,
            "grid_column": null,
            "grid_gap": null,
            "grid_row": null,
            "grid_template_areas": null,
            "grid_template_columns": null,
            "grid_template_rows": null,
            "height": null,
            "justify_content": null,
            "justify_items": null,
            "left": null,
            "margin": null,
            "max_height": null,
            "max_width": null,
            "min_height": null,
            "min_width": null,
            "object_fit": null,
            "object_position": null,
            "order": null,
            "overflow": null,
            "overflow_x": null,
            "overflow_y": null,
            "padding": null,
            "right": null,
            "top": null,
            "visibility": null,
            "width": null
          }
        },
        "77c6b6c6a6b64032ab68b6afd3d48dd0": {
          "model_module": "@jupyter-widgets/controls",
          "model_name": "ProgressStyleModel",
          "model_module_version": "1.5.0",
          "state": {
            "_model_module": "@jupyter-widgets/controls",
            "_model_module_version": "1.5.0",
            "_model_name": "ProgressStyleModel",
            "_view_count": null,
            "_view_module": "@jupyter-widgets/base",
            "_view_module_version": "1.2.0",
            "_view_name": "StyleView",
            "bar_color": null,
            "description_width": ""
          }
        },
        "800a0ee6233141d0aab3d2e1a0886287": {
          "model_module": "@jupyter-widgets/base",
          "model_name": "LayoutModel",
          "model_module_version": "1.2.0",
          "state": {
            "_model_module": "@jupyter-widgets/base",
            "_model_module_version": "1.2.0",
            "_model_name": "LayoutModel",
            "_view_count": null,
            "_view_module": "@jupyter-widgets/base",
            "_view_module_version": "1.2.0",
            "_view_name": "LayoutView",
            "align_content": null,
            "align_items": null,
            "align_self": null,
            "border": null,
            "bottom": null,
            "display": null,
            "flex": null,
            "flex_flow": null,
            "grid_area": null,
            "grid_auto_columns": null,
            "grid_auto_flow": null,
            "grid_auto_rows": null,
            "grid_column": null,
            "grid_gap": null,
            "grid_row": null,
            "grid_template_areas": null,
            "grid_template_columns": null,
            "grid_template_rows": null,
            "height": null,
            "justify_content": null,
            "justify_items": null,
            "left": null,
            "margin": null,
            "max_height": null,
            "max_width": null,
            "min_height": null,
            "min_width": null,
            "object_fit": null,
            "object_position": null,
            "order": null,
            "overflow": null,
            "overflow_x": null,
            "overflow_y": null,
            "padding": null,
            "right": null,
            "top": null,
            "visibility": null,
            "width": null
          }
        },
        "5ed099c96fc44e5abf4f48379f1acdef": {
          "model_module": "@jupyter-widgets/controls",
          "model_name": "DescriptionStyleModel",
          "model_module_version": "1.5.0",
          "state": {
            "_model_module": "@jupyter-widgets/controls",
            "_model_module_version": "1.5.0",
            "_model_name": "DescriptionStyleModel",
            "_view_count": null,
            "_view_module": "@jupyter-widgets/base",
            "_view_module_version": "1.2.0",
            "_view_name": "StyleView",
            "description_width": ""
          }
        }
      }
    }
  },
  "nbformat": 4,
  "nbformat_minor": 0
}